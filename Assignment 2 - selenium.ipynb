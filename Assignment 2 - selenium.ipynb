{
 "cells": [
  {
   "cell_type": "code",
   "execution_count": 1,
   "metadata": {},
   "outputs": [],
   "source": [
    "import selenium\n",
    "from selenium import webdriver\n",
    "import pandas as pd\n",
    "import time\n",
    "from selenium.common.exceptions import NoSuchElementException"
   ]
  },
  {
   "cell_type": "code",
   "execution_count": 2,
   "metadata": {},
   "outputs": [],
   "source": [
    "driver = webdriver.Chrome('/Users/juhimishra/Downloads/chromedriver')"
   ]
  },
  {
   "cell_type": "code",
   "execution_count": 3,
   "metadata": {},
   "outputs": [],
   "source": [
    "url = 'https://www.naukri.com/'\n",
    "driver.get(url)"
   ]
  },
  {
   "cell_type": "code",
   "execution_count": 4,
   "metadata": {
    "scrolled": true
   },
   "outputs": [
    {
     "data": {
      "text/plain": [
       "<selenium.webdriver.remote.webelement.WebElement (session=\"0a6b7aedc8d9775d13b9edc7388d6b54\", element=\"bd05a8dc-82da-4bd0-9435-744a18879661\")>"
      ]
     },
     "execution_count": 4,
     "metadata": {},
     "output_type": "execute_result"
    }
   ],
   "source": [
    "search_job = driver.find_element_by_id('qsb-keyword-sugg')\n",
    "search_job"
   ]
  },
  {
   "cell_type": "code",
   "execution_count": 5,
   "metadata": {},
   "outputs": [],
   "source": [
    "search_job.send_keys('Data Scientist')"
   ]
  },
  {
   "cell_type": "code",
   "execution_count": 6,
   "metadata": {
    "scrolled": true
   },
   "outputs": [
    {
     "data": {
      "text/plain": [
       "<selenium.webdriver.remote.webelement.WebElement (session=\"0a6b7aedc8d9775d13b9edc7388d6b54\", element=\"57d74039-5c91-47c0-84e2-0afb0ca9b31c\")>"
      ]
     },
     "execution_count": 6,
     "metadata": {},
     "output_type": "execute_result"
    }
   ],
   "source": [
    "search_loc = driver.find_element_by_id('qsb-location-sugg')\n",
    "search_loc"
   ]
  },
  {
   "cell_type": "code",
   "execution_count": 19,
   "metadata": {},
   "outputs": [],
   "source": [
    "search_loc.send_keys('Bangalore')"
   ]
  },
  {
   "cell_type": "code",
   "execution_count": 20,
   "metadata": {
    "scrolled": false
   },
   "outputs": [
    {
     "data": {
      "text/plain": [
       "<selenium.webdriver.remote.webelement.WebElement (session=\"56d4847b34440e5bff8f704f1a9a69ed\", element=\"d8f435e1-23dc-4a05-a8d6-c11dfe7f79f4\")>"
      ]
     },
     "execution_count": 20,
     "metadata": {},
     "output_type": "execute_result"
    }
   ],
   "source": [
    "search_btn = driver.find_element_by_xpath(\"//button[@class='btn']\")\n",
    "search_btn"
   ]
  },
  {
   "cell_type": "code",
   "execution_count": 21,
   "metadata": {
    "scrolled": true
   },
   "outputs": [],
   "source": [
    "search_btn.click()"
   ]
  },
  {
   "cell_type": "code",
   "execution_count": 22,
   "metadata": {
    "collapsed": true
   },
   "outputs": [
    {
     "data": {
      "text/plain": [
       "[<selenium.webdriver.remote.webelement.WebElement (session=\"56d4847b34440e5bff8f704f1a9a69ed\", element=\"379979fa-3041-444b-aac0-3efa4f41abbb\")>,\n",
       " <selenium.webdriver.remote.webelement.WebElement (session=\"56d4847b34440e5bff8f704f1a9a69ed\", element=\"32b4a6e2-374e-48ca-89f4-a4a2aba2be90\")>,\n",
       " <selenium.webdriver.remote.webelement.WebElement (session=\"56d4847b34440e5bff8f704f1a9a69ed\", element=\"aa7a0051-6d53-4c7e-a512-17fef89329cc\")>,\n",
       " <selenium.webdriver.remote.webelement.WebElement (session=\"56d4847b34440e5bff8f704f1a9a69ed\", element=\"b989f0a6-1afa-46a8-b7a2-628505ed2fda\")>,\n",
       " <selenium.webdriver.remote.webelement.WebElement (session=\"56d4847b34440e5bff8f704f1a9a69ed\", element=\"0cf784cc-d288-4d21-90b4-7e92c2c95568\")>,\n",
       " <selenium.webdriver.remote.webelement.WebElement (session=\"56d4847b34440e5bff8f704f1a9a69ed\", element=\"d10a1d76-4db8-4509-b134-11178fcb9889\")>,\n",
       " <selenium.webdriver.remote.webelement.WebElement (session=\"56d4847b34440e5bff8f704f1a9a69ed\", element=\"2723655e-ed65-4857-95cb-4509f6c746a2\")>,\n",
       " <selenium.webdriver.remote.webelement.WebElement (session=\"56d4847b34440e5bff8f704f1a9a69ed\", element=\"aaa63d3a-a325-4c7b-bda2-41bd6d0ef69e\")>,\n",
       " <selenium.webdriver.remote.webelement.WebElement (session=\"56d4847b34440e5bff8f704f1a9a69ed\", element=\"89eb5006-b46a-4b8e-992a-8d5ebdffbc93\")>,\n",
       " <selenium.webdriver.remote.webelement.WebElement (session=\"56d4847b34440e5bff8f704f1a9a69ed\", element=\"1821a4e0-545c-4c99-901c-6da79f282b87\")>,\n",
       " <selenium.webdriver.remote.webelement.WebElement (session=\"56d4847b34440e5bff8f704f1a9a69ed\", element=\"b3e07ee6-d2fa-41c6-912d-136d7c588ed0\")>,\n",
       " <selenium.webdriver.remote.webelement.WebElement (session=\"56d4847b34440e5bff8f704f1a9a69ed\", element=\"a38322ed-940a-4539-97ca-cabf95846858\")>,\n",
       " <selenium.webdriver.remote.webelement.WebElement (session=\"56d4847b34440e5bff8f704f1a9a69ed\", element=\"5733afe6-62c4-4c85-8db7-8918df87b4f6\")>,\n",
       " <selenium.webdriver.remote.webelement.WebElement (session=\"56d4847b34440e5bff8f704f1a9a69ed\", element=\"dd9ff9b6-5ff2-4e50-a8dd-c919abf4b8b8\")>,\n",
       " <selenium.webdriver.remote.webelement.WebElement (session=\"56d4847b34440e5bff8f704f1a9a69ed\", element=\"caaf57b6-7fa5-44bf-a53a-2e9d26aa1fd3\")>,\n",
       " <selenium.webdriver.remote.webelement.WebElement (session=\"56d4847b34440e5bff8f704f1a9a69ed\", element=\"bea2ed2e-2e05-4894-8336-6e5965843f9a\")>,\n",
       " <selenium.webdriver.remote.webelement.WebElement (session=\"56d4847b34440e5bff8f704f1a9a69ed\", element=\"cd689035-6f18-4034-ba7e-ea17a0978714\")>,\n",
       " <selenium.webdriver.remote.webelement.WebElement (session=\"56d4847b34440e5bff8f704f1a9a69ed\", element=\"3922ef16-dd2f-4624-9526-c2bbb21000d6\")>,\n",
       " <selenium.webdriver.remote.webelement.WebElement (session=\"56d4847b34440e5bff8f704f1a9a69ed\", element=\"d6d28fb3-555f-4919-ae94-6e6ecf81e288\")>,\n",
       " <selenium.webdriver.remote.webelement.WebElement (session=\"56d4847b34440e5bff8f704f1a9a69ed\", element=\"1e6a9352-aba5-4390-a76b-10fcdaf8cac8\")>]"
      ]
     },
     "execution_count": 22,
     "metadata": {},
     "output_type": "execute_result"
    }
   ],
   "source": [
    "scrap_title = driver.find_elements_by_xpath(\"//a[@class='title fw500 ellipsis']\")\n",
    "scrap_title"
   ]
  },
  {
   "cell_type": "code",
   "execution_count": 23,
   "metadata": {
    "scrolled": false
   },
   "outputs": [
    {
     "data": {
      "text/plain": [
       "['Data Engineers , Data Scientist and SAP',\n",
       " 'Senior Associate - Data Scientist',\n",
       " 'Senior Data Scientist',\n",
       " 'Senior Data Scientist',\n",
       " 'Senior Analyst/Data Scientist',\n",
       " 'Senior Data Scientist',\n",
       " 'Associate Data Scientist',\n",
       " 'Data Scientist - Senior / Lead',\n",
       " 'Lead Data Scientist - Tensorflow/Machine Learning',\n",
       " 'Data Scientist',\n",
       " 'Data Scientist- Image Processing & Data Scientist',\n",
       " 'Data Scientist',\n",
       " 'Data Scientist - Python/ SQL',\n",
       " 'Data scientist',\n",
       " 'Senior Software Engineer - Data Scientist',\n",
       " 'Hiring For Data Scientist',\n",
       " 'Data Scientist - Python/Pandas/Numpy',\n",
       " 'Data Scientist - R/NLP/Python',\n",
       " 'Data Scientist - Machine Learning',\n",
       " 'Sr . Data Scientist']"
      ]
     },
     "execution_count": 23,
     "metadata": {},
     "output_type": "execute_result"
    }
   ],
   "source": [
    "job_title = []\n",
    "\n",
    "for i in scrap_title:\n",
    "    job_title.append(i.text)\n",
    "job_title"
   ]
  },
  {
   "cell_type": "code",
   "execution_count": 44,
   "metadata": {},
   "outputs": [
    {
     "data": {
      "text/plain": [
       "['Data Engineers , Data Scientist and SAP',\n",
       " 'Senior Associate - Data Scientist',\n",
       " 'Senior Data Scientist',\n",
       " 'Senior Data Scientist',\n",
       " 'Senior Analyst/Data Scientist',\n",
       " 'Senior Data Scientist',\n",
       " 'Associate Data Scientist',\n",
       " 'Data Scientist - Senior / Lead',\n",
       " 'Lead Data Scientist - Tensorflow/Machine Learning',\n",
       " 'Data Scientist']"
      ]
     },
     "execution_count": 44,
     "metadata": {},
     "output_type": "execute_result"
    }
   ],
   "source": [
    "final_title = job_title[:10]\n",
    "final_title"
   ]
  },
  {
   "cell_type": "code",
   "execution_count": 45,
   "metadata": {
    "scrolled": true
   },
   "outputs": [
    {
     "data": {
      "text/plain": [
       "10"
      ]
     },
     "execution_count": 45,
     "metadata": {},
     "output_type": "execute_result"
    }
   ],
   "source": [
    "len(final_title)"
   ]
  },
  {
   "cell_type": "code",
   "execution_count": 25,
   "metadata": {
    "scrolled": true
   },
   "outputs": [
    {
     "data": {
      "text/plain": [
       "[<selenium.webdriver.remote.webelement.WebElement (session=\"56d4847b34440e5bff8f704f1a9a69ed\", element=\"6348af87-bc06-4995-9542-e1e0a24b5592\")>,\n",
       " <selenium.webdriver.remote.webelement.WebElement (session=\"56d4847b34440e5bff8f704f1a9a69ed\", element=\"c791390a-76dc-4964-abd1-51c414baf0a6\")>,\n",
       " <selenium.webdriver.remote.webelement.WebElement (session=\"56d4847b34440e5bff8f704f1a9a69ed\", element=\"1973bba3-8127-434d-a135-53e31e510c5a\")>,\n",
       " <selenium.webdriver.remote.webelement.WebElement (session=\"56d4847b34440e5bff8f704f1a9a69ed\", element=\"a1202a59-1fb5-4249-8d56-6f63512f6c63\")>,\n",
       " <selenium.webdriver.remote.webelement.WebElement (session=\"56d4847b34440e5bff8f704f1a9a69ed\", element=\"b676ec17-201e-4fcb-b6e3-4b1e7a4a6e26\")>,\n",
       " <selenium.webdriver.remote.webelement.WebElement (session=\"56d4847b34440e5bff8f704f1a9a69ed\", element=\"88526766-4d2f-459b-bb7b-7f757e7b2c5d\")>,\n",
       " <selenium.webdriver.remote.webelement.WebElement (session=\"56d4847b34440e5bff8f704f1a9a69ed\", element=\"1383424b-0c4f-448a-8ac0-36690a6b8b56\")>,\n",
       " <selenium.webdriver.remote.webelement.WebElement (session=\"56d4847b34440e5bff8f704f1a9a69ed\", element=\"1ee6399b-7cf5-4616-bdf1-97d655129fd5\")>,\n",
       " <selenium.webdriver.remote.webelement.WebElement (session=\"56d4847b34440e5bff8f704f1a9a69ed\", element=\"1a8a4120-c202-4f5a-8762-cdb37af4a658\")>,\n",
       " <selenium.webdriver.remote.webelement.WebElement (session=\"56d4847b34440e5bff8f704f1a9a69ed\", element=\"19112968-eacc-4c9e-b055-a14fb55f40ea\")>,\n",
       " <selenium.webdriver.remote.webelement.WebElement (session=\"56d4847b34440e5bff8f704f1a9a69ed\", element=\"358e502f-8e39-469c-a804-9737e0d50339\")>,\n",
       " <selenium.webdriver.remote.webelement.WebElement (session=\"56d4847b34440e5bff8f704f1a9a69ed\", element=\"0c67d968-4e70-418d-806d-13158ee89dc7\")>,\n",
       " <selenium.webdriver.remote.webelement.WebElement (session=\"56d4847b34440e5bff8f704f1a9a69ed\", element=\"d0a97b4d-df19-4e69-ab0a-e41a8b8b2479\")>,\n",
       " <selenium.webdriver.remote.webelement.WebElement (session=\"56d4847b34440e5bff8f704f1a9a69ed\", element=\"54d9c556-14d9-4844-a802-d8d9d447e78f\")>,\n",
       " <selenium.webdriver.remote.webelement.WebElement (session=\"56d4847b34440e5bff8f704f1a9a69ed\", element=\"cf413601-f24f-48fa-9877-3c2588d4035a\")>,\n",
       " <selenium.webdriver.remote.webelement.WebElement (session=\"56d4847b34440e5bff8f704f1a9a69ed\", element=\"18638893-5d6f-43f1-b19c-3ca94f621487\")>,\n",
       " <selenium.webdriver.remote.webelement.WebElement (session=\"56d4847b34440e5bff8f704f1a9a69ed\", element=\"01f79899-9b8e-4c0c-9bc0-5b2d4077347a\")>,\n",
       " <selenium.webdriver.remote.webelement.WebElement (session=\"56d4847b34440e5bff8f704f1a9a69ed\", element=\"418013e7-42a6-4148-a4d5-99d007ff89b6\")>,\n",
       " <selenium.webdriver.remote.webelement.WebElement (session=\"56d4847b34440e5bff8f704f1a9a69ed\", element=\"0b3adb6f-bef8-43b8-afc8-97bdc6200fdb\")>,\n",
       " <selenium.webdriver.remote.webelement.WebElement (session=\"56d4847b34440e5bff8f704f1a9a69ed\", element=\"a7432889-0b8b-4368-a944-5cc30bdf9b64\")>,\n",
       " <selenium.webdriver.remote.webelement.WebElement (session=\"56d4847b34440e5bff8f704f1a9a69ed\", element=\"b7eae812-9a94-4837-8f9c-fe26ccf11d24\")>,\n",
       " <selenium.webdriver.remote.webelement.WebElement (session=\"56d4847b34440e5bff8f704f1a9a69ed\", element=\"5d21c857-329f-4cb3-b326-11cd0c615d16\")>,\n",
       " <selenium.webdriver.remote.webelement.WebElement (session=\"56d4847b34440e5bff8f704f1a9a69ed\", element=\"da328b13-2f5b-4940-a59c-56558bf8a7ac\")>,\n",
       " <selenium.webdriver.remote.webelement.WebElement (session=\"56d4847b34440e5bff8f704f1a9a69ed\", element=\"843f9d2f-03d7-4f51-a3b8-0eef279dff51\")>,\n",
       " <selenium.webdriver.remote.webelement.WebElement (session=\"56d4847b34440e5bff8f704f1a9a69ed\", element=\"943b989a-dbcc-4c9a-ab9a-bbf9b54b6c4b\")>,\n",
       " <selenium.webdriver.remote.webelement.WebElement (session=\"56d4847b34440e5bff8f704f1a9a69ed\", element=\"b324942b-4377-4ac8-ab0c-5719b159b57d\")>,\n",
       " <selenium.webdriver.remote.webelement.WebElement (session=\"56d4847b34440e5bff8f704f1a9a69ed\", element=\"8d222f28-e45a-44a6-a921-e4711958a41f\")>,\n",
       " <selenium.webdriver.remote.webelement.WebElement (session=\"56d4847b34440e5bff8f704f1a9a69ed\", element=\"39786fb8-2b80-4d2e-8cd5-3bd9bdfeefaa\")>,\n",
       " <selenium.webdriver.remote.webelement.WebElement (session=\"56d4847b34440e5bff8f704f1a9a69ed\", element=\"405419a2-8d3e-4a92-9ca8-1ae315c27320\")>,\n",
       " <selenium.webdriver.remote.webelement.WebElement (session=\"56d4847b34440e5bff8f704f1a9a69ed\", element=\"af5627dc-e995-44d0-b455-a9f4b8bb7c20\")>,\n",
       " <selenium.webdriver.remote.webelement.WebElement (session=\"56d4847b34440e5bff8f704f1a9a69ed\", element=\"9d28495a-4256-41fa-a564-6838cc577b6e\")>,\n",
       " <selenium.webdriver.remote.webelement.WebElement (session=\"56d4847b34440e5bff8f704f1a9a69ed\", element=\"cfa439d6-2b89-4e85-b61f-1b6156c26b55\")>,\n",
       " <selenium.webdriver.remote.webelement.WebElement (session=\"56d4847b34440e5bff8f704f1a9a69ed\", element=\"6eef5587-a10a-4993-bef0-904678f88e96\")>,\n",
       " <selenium.webdriver.remote.webelement.WebElement (session=\"56d4847b34440e5bff8f704f1a9a69ed\", element=\"8b2262a9-149a-434f-b7d1-486bb316a524\")>,\n",
       " <selenium.webdriver.remote.webelement.WebElement (session=\"56d4847b34440e5bff8f704f1a9a69ed\", element=\"70e8634a-a7dd-4173-9f8b-5128c7719646\")>,\n",
       " <selenium.webdriver.remote.webelement.WebElement (session=\"56d4847b34440e5bff8f704f1a9a69ed\", element=\"380523ae-4bb1-4b86-bbd6-c0d36b27769b\")>,\n",
       " <selenium.webdriver.remote.webelement.WebElement (session=\"56d4847b34440e5bff8f704f1a9a69ed\", element=\"d394be02-def0-481f-b352-de62e36a841e\")>,\n",
       " <selenium.webdriver.remote.webelement.WebElement (session=\"56d4847b34440e5bff8f704f1a9a69ed\", element=\"bd5a18d6-05a2-4e2f-96b9-7b41d3d185b7\")>,\n",
       " <selenium.webdriver.remote.webelement.WebElement (session=\"56d4847b34440e5bff8f704f1a9a69ed\", element=\"c6eab185-75ce-4f0d-9c42-68a7115491a6\")>,\n",
       " <selenium.webdriver.remote.webelement.WebElement (session=\"56d4847b34440e5bff8f704f1a9a69ed\", element=\"544995fe-5ce1-4210-a0dd-b1af35ebc565\")>,\n",
       " <selenium.webdriver.remote.webelement.WebElement (session=\"56d4847b34440e5bff8f704f1a9a69ed\", element=\"880330ee-4291-4ebc-9d12-efa9a1b233ee\")>,\n",
       " <selenium.webdriver.remote.webelement.WebElement (session=\"56d4847b34440e5bff8f704f1a9a69ed\", element=\"949fe4a0-b694-4a15-91f1-034402f34a9e\")>,\n",
       " <selenium.webdriver.remote.webelement.WebElement (session=\"56d4847b34440e5bff8f704f1a9a69ed\", element=\"ab3c14cc-8f13-471a-9ccf-987d6763d0f2\")>,\n",
       " <selenium.webdriver.remote.webelement.WebElement (session=\"56d4847b34440e5bff8f704f1a9a69ed\", element=\"d46bbcaf-fe80-477e-90cd-10a0373a97c7\")>,\n",
       " <selenium.webdriver.remote.webelement.WebElement (session=\"56d4847b34440e5bff8f704f1a9a69ed\", element=\"c9671ef3-1a10-4a6e-850e-d6980bafd7be\")>,\n",
       " <selenium.webdriver.remote.webelement.WebElement (session=\"56d4847b34440e5bff8f704f1a9a69ed\", element=\"73faeb13-11f8-439b-939f-c3b0994cb2dd\")>,\n",
       " <selenium.webdriver.remote.webelement.WebElement (session=\"56d4847b34440e5bff8f704f1a9a69ed\", element=\"1118a323-c64f-4a5a-9816-03511a87c09f\")>,\n",
       " <selenium.webdriver.remote.webelement.WebElement (session=\"56d4847b34440e5bff8f704f1a9a69ed\", element=\"1d99c4d2-6630-41ba-be99-1f16cfff2760\")>,\n",
       " <selenium.webdriver.remote.webelement.WebElement (session=\"56d4847b34440e5bff8f704f1a9a69ed\", element=\"951c8435-16bb-43fc-9a80-3670205b8fae\")>,\n",
       " <selenium.webdriver.remote.webelement.WebElement (session=\"56d4847b34440e5bff8f704f1a9a69ed\", element=\"36badc16-eba8-4fb9-938e-2460f85d1983\")>,\n",
       " <selenium.webdriver.remote.webelement.WebElement (session=\"56d4847b34440e5bff8f704f1a9a69ed\", element=\"b83a1dbe-af30-4f20-b8b2-d59f46c315b8\")>,\n",
       " <selenium.webdriver.remote.webelement.WebElement (session=\"56d4847b34440e5bff8f704f1a9a69ed\", element=\"365e7e26-f599-4b3d-b6a1-c27108ed4856\")>,\n",
       " <selenium.webdriver.remote.webelement.WebElement (session=\"56d4847b34440e5bff8f704f1a9a69ed\", element=\"a03b8d82-ede8-4921-b1c1-d7dd65343163\")>,\n",
       " <selenium.webdriver.remote.webelement.WebElement (session=\"56d4847b34440e5bff8f704f1a9a69ed\", element=\"f039cb71-70b8-4c7c-9de7-59263b50f157\")>,\n",
       " <selenium.webdriver.remote.webelement.WebElement (session=\"56d4847b34440e5bff8f704f1a9a69ed\", element=\"6232778b-118d-40b2-821a-ee5f36f09f48\")>,\n",
       " <selenium.webdriver.remote.webelement.WebElement (session=\"56d4847b34440e5bff8f704f1a9a69ed\", element=\"d497e36a-06d5-480c-a081-772cee1ec749\")>,\n",
       " <selenium.webdriver.remote.webelement.WebElement (session=\"56d4847b34440e5bff8f704f1a9a69ed\", element=\"263105aa-1bb9-4e54-ad76-d6dba44a4d49\")>,\n",
       " <selenium.webdriver.remote.webelement.WebElement (session=\"56d4847b34440e5bff8f704f1a9a69ed\", element=\"365e9336-9f84-4b56-ac11-65913b839a89\")>,\n",
       " <selenium.webdriver.remote.webelement.WebElement (session=\"56d4847b34440e5bff8f704f1a9a69ed\", element=\"cd8b1f40-0b7c-446f-a5b3-3c3375773b56\")>,\n",
       " <selenium.webdriver.remote.webelement.WebElement (session=\"56d4847b34440e5bff8f704f1a9a69ed\", element=\"73661beb-171a-4acf-9929-c59fade60521\")>]"
      ]
     },
     "execution_count": 25,
     "metadata": {},
     "output_type": "execute_result"
    }
   ],
   "source": [
    "scrap_loc = driver.find_elements_by_xpath(\"//span[@class='ellipsis fleft fs12 lh16 ']\")\n",
    "scrap_loc"
   ]
  },
  {
   "cell_type": "code",
   "execution_count": 26,
   "metadata": {
    "scrolled": true
   },
   "outputs": [
    {
     "data": {
      "text/plain": [
       "['7-10 Yrs',\n",
       " 'Not disclosed',\n",
       " 'Bangalore/Bengaluru',\n",
       " '4-7 Yrs',\n",
       " '10,00,000 - 20,00,000 PA.',\n",
       " 'Bangalore/Bengaluru',\n",
       " '5-10 Yrs',\n",
       " 'Not disclosed',\n",
       " 'Bangalore/Bengaluru',\n",
       " '5-9 Yrs',\n",
       " 'Not disclosed',\n",
       " 'Kochi/Cochin, Hyderabad/Secunderabad, Pune, Chennai, Delhi / NCR, Bangalore/Bengaluru',\n",
       " '1-4 Yrs',\n",
       " 'Not disclosed',\n",
       " 'Bangalore/Bengaluru',\n",
       " '4-9 Yrs',\n",
       " 'Not disclosed',\n",
       " 'Bangalore/Bengaluru',\n",
       " '5-10 Yrs',\n",
       " 'Not disclosed',\n",
       " 'Bangalore/Bengaluru',\n",
       " '6-11 Yrs',\n",
       " 'Not disclosed',\n",
       " 'Bangalore/Bengaluru',\n",
       " '7-10 Yrs',\n",
       " 'Not disclosed',\n",
       " 'Mumbai, Hyderabad/Secunderabad, Chennai, Bangalore/Bengaluru',\n",
       " '2-3 Yrs',\n",
       " 'Not disclosed',\n",
       " 'Bangalore/Bengaluru',\n",
       " '4-9 Yrs',\n",
       " '12,00,000 - 17,00,000 PA.',\n",
       " 'Hyderabad/Secunderabad, Bangalore/Bengaluru',\n",
       " '4-7 Yrs',\n",
       " 'Not disclosed',\n",
       " 'Bangalore/Bengaluru',\n",
       " '2-7 Yrs',\n",
       " 'Not disclosed',\n",
       " 'Bangalore/Bengaluru',\n",
       " '4-8 Yrs',\n",
       " 'Not disclosed',\n",
       " 'Bangalore/Bengaluru',\n",
       " '6-10 Yrs',\n",
       " 'Not disclosed',\n",
       " 'Bangalore/Bengaluru',\n",
       " '4-8 Yrs',\n",
       " 'Not disclosed',\n",
       " 'Bangalore/Bengaluru',\n",
       " '3-8 Yrs',\n",
       " 'Not disclosed',\n",
       " 'Bangalore/Bengaluru',\n",
       " '5-10 Yrs',\n",
       " 'Not disclosed',\n",
       " 'Hyderabad/Secunderabad, Bangalore/Bengaluru',\n",
       " '2-7 Yrs',\n",
       " 'Not disclosed',\n",
       " 'Bangalore/Bengaluru',\n",
       " '3-7 Yrs',\n",
       " 'Not disclosed',\n",
       " 'Bangalore/Bengaluru']"
      ]
     },
     "execution_count": 26,
     "metadata": {},
     "output_type": "execute_result"
    }
   ],
   "source": [
    "location =[]\n",
    "for i in scrap_loc:\n",
    "    location.append(i.text)\n",
    "location"
   ]
  },
  {
   "cell_type": "code",
   "execution_count": 27,
   "metadata": {
    "scrolled": true
   },
   "outputs": [
    {
     "data": {
      "text/plain": [
       "['7-10 Yrs',\n",
       " '4-7 Yrs',\n",
       " '5-10 Yrs',\n",
       " '5-9 Yrs',\n",
       " '1-4 Yrs',\n",
       " '4-9 Yrs',\n",
       " '5-10 Yrs',\n",
       " '6-11 Yrs',\n",
       " '7-10 Yrs',\n",
       " '2-3 Yrs',\n",
       " '4-9 Yrs',\n",
       " '4-7 Yrs',\n",
       " '2-7 Yrs',\n",
       " '4-8 Yrs',\n",
       " '6-10 Yrs',\n",
       " '4-8 Yrs',\n",
       " '3-8 Yrs',\n",
       " '5-10 Yrs',\n",
       " '2-7 Yrs',\n",
       " '3-7 Yrs']"
      ]
     },
     "execution_count": 27,
     "metadata": {},
     "output_type": "execute_result"
    }
   ],
   "source": [
    "location_2 =[]\n",
    "for i in range(0,len(location),3):\n",
    "    location_2.append(location[i])\n",
    "location_2"
   ]
  },
  {
   "cell_type": "code",
   "execution_count": 42,
   "metadata": {
    "scrolled": true
   },
   "outputs": [
    {
     "data": {
      "text/plain": [
       "['7-10 Yrs',\n",
       " '4-7 Yrs',\n",
       " '5-10 Yrs',\n",
       " '5-9 Yrs',\n",
       " '1-4 Yrs',\n",
       " '4-9 Yrs',\n",
       " '5-10 Yrs',\n",
       " '6-11 Yrs',\n",
       " '7-10 Yrs',\n",
       " '2-3 Yrs']"
      ]
     },
     "execution_count": 42,
     "metadata": {},
     "output_type": "execute_result"
    }
   ],
   "source": [
    "final_loc = location_2[:10]\n",
    "final_loc"
   ]
  },
  {
   "cell_type": "code",
   "execution_count": 43,
   "metadata": {},
   "outputs": [
    {
     "data": {
      "text/plain": [
       "10"
      ]
     },
     "execution_count": 43,
     "metadata": {},
     "output_type": "execute_result"
    }
   ],
   "source": [
    "len(final_loc)"
   ]
  },
  {
   "cell_type": "code",
   "execution_count": 29,
   "metadata": {
    "scrolled": true
   },
   "outputs": [
    {
     "data": {
      "text/plain": [
       "[<selenium.webdriver.remote.webelement.WebElement (session=\"56d4847b34440e5bff8f704f1a9a69ed\", element=\"7ceb8088-79b9-4c28-a7fb-7d1483b99349\")>,\n",
       " <selenium.webdriver.remote.webelement.WebElement (session=\"56d4847b34440e5bff8f704f1a9a69ed\", element=\"83710dcc-1bd5-4f01-8c90-41419356e26e\")>,\n",
       " <selenium.webdriver.remote.webelement.WebElement (session=\"56d4847b34440e5bff8f704f1a9a69ed\", element=\"714d1a29-aaa7-40f6-a68c-7c0b887cce7c\")>,\n",
       " <selenium.webdriver.remote.webelement.WebElement (session=\"56d4847b34440e5bff8f704f1a9a69ed\", element=\"8e3deafa-d9c5-4654-b69b-9e376af07343\")>,\n",
       " <selenium.webdriver.remote.webelement.WebElement (session=\"56d4847b34440e5bff8f704f1a9a69ed\", element=\"becc8970-0b9c-47e9-9850-4ad5c15288f7\")>,\n",
       " <selenium.webdriver.remote.webelement.WebElement (session=\"56d4847b34440e5bff8f704f1a9a69ed\", element=\"5e68b0f7-ec9a-454e-ba57-6a6bea082453\")>,\n",
       " <selenium.webdriver.remote.webelement.WebElement (session=\"56d4847b34440e5bff8f704f1a9a69ed\", element=\"932c9030-8820-4f3c-8448-4a437412982f\")>,\n",
       " <selenium.webdriver.remote.webelement.WebElement (session=\"56d4847b34440e5bff8f704f1a9a69ed\", element=\"8d29d6e3-7afb-4494-a1df-be4703843fb4\")>,\n",
       " <selenium.webdriver.remote.webelement.WebElement (session=\"56d4847b34440e5bff8f704f1a9a69ed\", element=\"ec08bf7d-920d-4753-8cf2-4125bce8aa28\")>,\n",
       " <selenium.webdriver.remote.webelement.WebElement (session=\"56d4847b34440e5bff8f704f1a9a69ed\", element=\"c946e0e5-ec0d-4b10-bc72-64d2ab85c8f5\")>,\n",
       " <selenium.webdriver.remote.webelement.WebElement (session=\"56d4847b34440e5bff8f704f1a9a69ed\", element=\"70fc8552-6efb-4831-ba2c-1a71dae02a75\")>,\n",
       " <selenium.webdriver.remote.webelement.WebElement (session=\"56d4847b34440e5bff8f704f1a9a69ed\", element=\"4a24ded8-5876-431d-9f03-d4ce53d73ed5\")>,\n",
       " <selenium.webdriver.remote.webelement.WebElement (session=\"56d4847b34440e5bff8f704f1a9a69ed\", element=\"4ecce4c7-3fe4-43c8-9949-9a17974cc7c8\")>,\n",
       " <selenium.webdriver.remote.webelement.WebElement (session=\"56d4847b34440e5bff8f704f1a9a69ed\", element=\"e44e55c2-dcec-4d06-9d7c-993092744aed\")>,\n",
       " <selenium.webdriver.remote.webelement.WebElement (session=\"56d4847b34440e5bff8f704f1a9a69ed\", element=\"e2a006e9-eb9b-4407-8385-54e908fc4ad2\")>,\n",
       " <selenium.webdriver.remote.webelement.WebElement (session=\"56d4847b34440e5bff8f704f1a9a69ed\", element=\"64dc0af0-9bd8-4274-9a2c-edba4ed4cd61\")>,\n",
       " <selenium.webdriver.remote.webelement.WebElement (session=\"56d4847b34440e5bff8f704f1a9a69ed\", element=\"1546491c-4a58-424c-bd35-bf55fcc05356\")>,\n",
       " <selenium.webdriver.remote.webelement.WebElement (session=\"56d4847b34440e5bff8f704f1a9a69ed\", element=\"2ee0aa8f-bb2f-4aef-b2d0-10a69449e1c3\")>,\n",
       " <selenium.webdriver.remote.webelement.WebElement (session=\"56d4847b34440e5bff8f704f1a9a69ed\", element=\"f2840ffa-2ce5-4b6c-9f9f-9a586db443c9\")>,\n",
       " <selenium.webdriver.remote.webelement.WebElement (session=\"56d4847b34440e5bff8f704f1a9a69ed\", element=\"c82dccf9-92a3-4d68-aedf-af7d9f3f5805\")>]"
      ]
     },
     "execution_count": 29,
     "metadata": {},
     "output_type": "execute_result"
    }
   ],
   "source": [
    "scrap_company = driver.find_elements_by_xpath(\"//a[@class='subTitle ellipsis fleft']\")\n",
    "scrap_company"
   ]
  },
  {
   "cell_type": "code",
   "execution_count": 31,
   "metadata": {
    "scrolled": true
   },
   "outputs": [
    {
     "data": {
      "text/plain": [
       "['Teamware Solutions',\n",
       " 'Novotree Minds Consulting Pvt Limited',\n",
       " 'IBM India Pvt. Limited',\n",
       " 'L A Consultancy',\n",
       " 'Naukri Premium - Employer Services',\n",
       " 'RANDSTAD INDIA PVT LTD',\n",
       " 'ExecBoardinAsia',\n",
       " 'Superior Group',\n",
       " 'Getinz Techno Services',\n",
       " 'CropIn Technology Solutions Pvt. Ltd.',\n",
       " 'KY TECHNOLOGIES AND TRAINING SERVICES',\n",
       " 'Pixxel',\n",
       " 'Catalyst',\n",
       " 'Quality Engineering Software Technologies Pvt. Ltd.',\n",
       " 'Ara Resources',\n",
       " 'Tata Consultancy Services Ltd.',\n",
       " 'Catalyst',\n",
       " 'Savantys Solutions',\n",
       " 'Catalyst',\n",
       " 'Perform Group']"
      ]
     },
     "execution_count": 31,
     "metadata": {},
     "output_type": "execute_result"
    }
   ],
   "source": [
    "company=[]\n",
    "for i in scrap_company:\n",
    "    company.append(i.text)\n",
    "company"
   ]
  },
  {
   "cell_type": "code",
   "execution_count": 40,
   "metadata": {
    "scrolled": false
   },
   "outputs": [
    {
     "data": {
      "text/plain": [
       "['Teamware Solutions',\n",
       " 'Novotree Minds Consulting Pvt Limited',\n",
       " 'IBM India Pvt. Limited',\n",
       " 'L A Consultancy',\n",
       " 'Naukri Premium - Employer Services',\n",
       " 'RANDSTAD INDIA PVT LTD',\n",
       " 'ExecBoardinAsia',\n",
       " 'Superior Group',\n",
       " 'Getinz Techno Services',\n",
       " 'CropIn Technology Solutions Pvt. Ltd.']"
      ]
     },
     "execution_count": 40,
     "metadata": {},
     "output_type": "execute_result"
    }
   ],
   "source": [
    "final_co = company[:10]\n",
    "final_co"
   ]
  },
  {
   "cell_type": "code",
   "execution_count": 41,
   "metadata": {},
   "outputs": [
    {
     "data": {
      "text/plain": [
       "10"
      ]
     },
     "execution_count": 41,
     "metadata": {},
     "output_type": "execute_result"
    }
   ],
   "source": [
    "len(final_co)"
   ]
  },
  {
   "cell_type": "code",
   "execution_count": 33,
   "metadata": {
    "scrolled": true
   },
   "outputs": [
    {
     "data": {
      "text/plain": [
       "[<selenium.webdriver.remote.webelement.WebElement (session=\"56d4847b34440e5bff8f704f1a9a69ed\", element=\"6348af87-bc06-4995-9542-e1e0a24b5592\")>,\n",
       " <selenium.webdriver.remote.webelement.WebElement (session=\"56d4847b34440e5bff8f704f1a9a69ed\", element=\"c791390a-76dc-4964-abd1-51c414baf0a6\")>,\n",
       " <selenium.webdriver.remote.webelement.WebElement (session=\"56d4847b34440e5bff8f704f1a9a69ed\", element=\"1973bba3-8127-434d-a135-53e31e510c5a\")>,\n",
       " <selenium.webdriver.remote.webelement.WebElement (session=\"56d4847b34440e5bff8f704f1a9a69ed\", element=\"a1202a59-1fb5-4249-8d56-6f63512f6c63\")>,\n",
       " <selenium.webdriver.remote.webelement.WebElement (session=\"56d4847b34440e5bff8f704f1a9a69ed\", element=\"b676ec17-201e-4fcb-b6e3-4b1e7a4a6e26\")>,\n",
       " <selenium.webdriver.remote.webelement.WebElement (session=\"56d4847b34440e5bff8f704f1a9a69ed\", element=\"88526766-4d2f-459b-bb7b-7f757e7b2c5d\")>,\n",
       " <selenium.webdriver.remote.webelement.WebElement (session=\"56d4847b34440e5bff8f704f1a9a69ed\", element=\"1383424b-0c4f-448a-8ac0-36690a6b8b56\")>,\n",
       " <selenium.webdriver.remote.webelement.WebElement (session=\"56d4847b34440e5bff8f704f1a9a69ed\", element=\"1ee6399b-7cf5-4616-bdf1-97d655129fd5\")>,\n",
       " <selenium.webdriver.remote.webelement.WebElement (session=\"56d4847b34440e5bff8f704f1a9a69ed\", element=\"1a8a4120-c202-4f5a-8762-cdb37af4a658\")>,\n",
       " <selenium.webdriver.remote.webelement.WebElement (session=\"56d4847b34440e5bff8f704f1a9a69ed\", element=\"19112968-eacc-4c9e-b055-a14fb55f40ea\")>,\n",
       " <selenium.webdriver.remote.webelement.WebElement (session=\"56d4847b34440e5bff8f704f1a9a69ed\", element=\"358e502f-8e39-469c-a804-9737e0d50339\")>,\n",
       " <selenium.webdriver.remote.webelement.WebElement (session=\"56d4847b34440e5bff8f704f1a9a69ed\", element=\"0c67d968-4e70-418d-806d-13158ee89dc7\")>,\n",
       " <selenium.webdriver.remote.webelement.WebElement (session=\"56d4847b34440e5bff8f704f1a9a69ed\", element=\"d0a97b4d-df19-4e69-ab0a-e41a8b8b2479\")>,\n",
       " <selenium.webdriver.remote.webelement.WebElement (session=\"56d4847b34440e5bff8f704f1a9a69ed\", element=\"54d9c556-14d9-4844-a802-d8d9d447e78f\")>,\n",
       " <selenium.webdriver.remote.webelement.WebElement (session=\"56d4847b34440e5bff8f704f1a9a69ed\", element=\"cf413601-f24f-48fa-9877-3c2588d4035a\")>,\n",
       " <selenium.webdriver.remote.webelement.WebElement (session=\"56d4847b34440e5bff8f704f1a9a69ed\", element=\"18638893-5d6f-43f1-b19c-3ca94f621487\")>,\n",
       " <selenium.webdriver.remote.webelement.WebElement (session=\"56d4847b34440e5bff8f704f1a9a69ed\", element=\"01f79899-9b8e-4c0c-9bc0-5b2d4077347a\")>,\n",
       " <selenium.webdriver.remote.webelement.WebElement (session=\"56d4847b34440e5bff8f704f1a9a69ed\", element=\"418013e7-42a6-4148-a4d5-99d007ff89b6\")>,\n",
       " <selenium.webdriver.remote.webelement.WebElement (session=\"56d4847b34440e5bff8f704f1a9a69ed\", element=\"0b3adb6f-bef8-43b8-afc8-97bdc6200fdb\")>,\n",
       " <selenium.webdriver.remote.webelement.WebElement (session=\"56d4847b34440e5bff8f704f1a9a69ed\", element=\"a7432889-0b8b-4368-a944-5cc30bdf9b64\")>,\n",
       " <selenium.webdriver.remote.webelement.WebElement (session=\"56d4847b34440e5bff8f704f1a9a69ed\", element=\"b7eae812-9a94-4837-8f9c-fe26ccf11d24\")>,\n",
       " <selenium.webdriver.remote.webelement.WebElement (session=\"56d4847b34440e5bff8f704f1a9a69ed\", element=\"5d21c857-329f-4cb3-b326-11cd0c615d16\")>,\n",
       " <selenium.webdriver.remote.webelement.WebElement (session=\"56d4847b34440e5bff8f704f1a9a69ed\", element=\"da328b13-2f5b-4940-a59c-56558bf8a7ac\")>,\n",
       " <selenium.webdriver.remote.webelement.WebElement (session=\"56d4847b34440e5bff8f704f1a9a69ed\", element=\"843f9d2f-03d7-4f51-a3b8-0eef279dff51\")>,\n",
       " <selenium.webdriver.remote.webelement.WebElement (session=\"56d4847b34440e5bff8f704f1a9a69ed\", element=\"943b989a-dbcc-4c9a-ab9a-bbf9b54b6c4b\")>,\n",
       " <selenium.webdriver.remote.webelement.WebElement (session=\"56d4847b34440e5bff8f704f1a9a69ed\", element=\"b324942b-4377-4ac8-ab0c-5719b159b57d\")>,\n",
       " <selenium.webdriver.remote.webelement.WebElement (session=\"56d4847b34440e5bff8f704f1a9a69ed\", element=\"8d222f28-e45a-44a6-a921-e4711958a41f\")>,\n",
       " <selenium.webdriver.remote.webelement.WebElement (session=\"56d4847b34440e5bff8f704f1a9a69ed\", element=\"39786fb8-2b80-4d2e-8cd5-3bd9bdfeefaa\")>,\n",
       " <selenium.webdriver.remote.webelement.WebElement (session=\"56d4847b34440e5bff8f704f1a9a69ed\", element=\"405419a2-8d3e-4a92-9ca8-1ae315c27320\")>,\n",
       " <selenium.webdriver.remote.webelement.WebElement (session=\"56d4847b34440e5bff8f704f1a9a69ed\", element=\"af5627dc-e995-44d0-b455-a9f4b8bb7c20\")>,\n",
       " <selenium.webdriver.remote.webelement.WebElement (session=\"56d4847b34440e5bff8f704f1a9a69ed\", element=\"9d28495a-4256-41fa-a564-6838cc577b6e\")>,\n",
       " <selenium.webdriver.remote.webelement.WebElement (session=\"56d4847b34440e5bff8f704f1a9a69ed\", element=\"cfa439d6-2b89-4e85-b61f-1b6156c26b55\")>,\n",
       " <selenium.webdriver.remote.webelement.WebElement (session=\"56d4847b34440e5bff8f704f1a9a69ed\", element=\"6eef5587-a10a-4993-bef0-904678f88e96\")>,\n",
       " <selenium.webdriver.remote.webelement.WebElement (session=\"56d4847b34440e5bff8f704f1a9a69ed\", element=\"8b2262a9-149a-434f-b7d1-486bb316a524\")>,\n",
       " <selenium.webdriver.remote.webelement.WebElement (session=\"56d4847b34440e5bff8f704f1a9a69ed\", element=\"70e8634a-a7dd-4173-9f8b-5128c7719646\")>,\n",
       " <selenium.webdriver.remote.webelement.WebElement (session=\"56d4847b34440e5bff8f704f1a9a69ed\", element=\"380523ae-4bb1-4b86-bbd6-c0d36b27769b\")>,\n",
       " <selenium.webdriver.remote.webelement.WebElement (session=\"56d4847b34440e5bff8f704f1a9a69ed\", element=\"d394be02-def0-481f-b352-de62e36a841e\")>,\n",
       " <selenium.webdriver.remote.webelement.WebElement (session=\"56d4847b34440e5bff8f704f1a9a69ed\", element=\"bd5a18d6-05a2-4e2f-96b9-7b41d3d185b7\")>,\n",
       " <selenium.webdriver.remote.webelement.WebElement (session=\"56d4847b34440e5bff8f704f1a9a69ed\", element=\"c6eab185-75ce-4f0d-9c42-68a7115491a6\")>,\n",
       " <selenium.webdriver.remote.webelement.WebElement (session=\"56d4847b34440e5bff8f704f1a9a69ed\", element=\"544995fe-5ce1-4210-a0dd-b1af35ebc565\")>,\n",
       " <selenium.webdriver.remote.webelement.WebElement (session=\"56d4847b34440e5bff8f704f1a9a69ed\", element=\"880330ee-4291-4ebc-9d12-efa9a1b233ee\")>,\n",
       " <selenium.webdriver.remote.webelement.WebElement (session=\"56d4847b34440e5bff8f704f1a9a69ed\", element=\"949fe4a0-b694-4a15-91f1-034402f34a9e\")>,\n",
       " <selenium.webdriver.remote.webelement.WebElement (session=\"56d4847b34440e5bff8f704f1a9a69ed\", element=\"ab3c14cc-8f13-471a-9ccf-987d6763d0f2\")>,\n",
       " <selenium.webdriver.remote.webelement.WebElement (session=\"56d4847b34440e5bff8f704f1a9a69ed\", element=\"d46bbcaf-fe80-477e-90cd-10a0373a97c7\")>,\n",
       " <selenium.webdriver.remote.webelement.WebElement (session=\"56d4847b34440e5bff8f704f1a9a69ed\", element=\"c9671ef3-1a10-4a6e-850e-d6980bafd7be\")>,\n",
       " <selenium.webdriver.remote.webelement.WebElement (session=\"56d4847b34440e5bff8f704f1a9a69ed\", element=\"73faeb13-11f8-439b-939f-c3b0994cb2dd\")>,\n",
       " <selenium.webdriver.remote.webelement.WebElement (session=\"56d4847b34440e5bff8f704f1a9a69ed\", element=\"1118a323-c64f-4a5a-9816-03511a87c09f\")>,\n",
       " <selenium.webdriver.remote.webelement.WebElement (session=\"56d4847b34440e5bff8f704f1a9a69ed\", element=\"1d99c4d2-6630-41ba-be99-1f16cfff2760\")>,\n",
       " <selenium.webdriver.remote.webelement.WebElement (session=\"56d4847b34440e5bff8f704f1a9a69ed\", element=\"951c8435-16bb-43fc-9a80-3670205b8fae\")>,\n",
       " <selenium.webdriver.remote.webelement.WebElement (session=\"56d4847b34440e5bff8f704f1a9a69ed\", element=\"36badc16-eba8-4fb9-938e-2460f85d1983\")>,\n",
       " <selenium.webdriver.remote.webelement.WebElement (session=\"56d4847b34440e5bff8f704f1a9a69ed\", element=\"b83a1dbe-af30-4f20-b8b2-d59f46c315b8\")>,\n",
       " <selenium.webdriver.remote.webelement.WebElement (session=\"56d4847b34440e5bff8f704f1a9a69ed\", element=\"365e7e26-f599-4b3d-b6a1-c27108ed4856\")>,\n",
       " <selenium.webdriver.remote.webelement.WebElement (session=\"56d4847b34440e5bff8f704f1a9a69ed\", element=\"a03b8d82-ede8-4921-b1c1-d7dd65343163\")>,\n",
       " <selenium.webdriver.remote.webelement.WebElement (session=\"56d4847b34440e5bff8f704f1a9a69ed\", element=\"f039cb71-70b8-4c7c-9de7-59263b50f157\")>,\n",
       " <selenium.webdriver.remote.webelement.WebElement (session=\"56d4847b34440e5bff8f704f1a9a69ed\", element=\"6232778b-118d-40b2-821a-ee5f36f09f48\")>,\n",
       " <selenium.webdriver.remote.webelement.WebElement (session=\"56d4847b34440e5bff8f704f1a9a69ed\", element=\"d497e36a-06d5-480c-a081-772cee1ec749\")>,\n",
       " <selenium.webdriver.remote.webelement.WebElement (session=\"56d4847b34440e5bff8f704f1a9a69ed\", element=\"263105aa-1bb9-4e54-ad76-d6dba44a4d49\")>,\n",
       " <selenium.webdriver.remote.webelement.WebElement (session=\"56d4847b34440e5bff8f704f1a9a69ed\", element=\"365e9336-9f84-4b56-ac11-65913b839a89\")>,\n",
       " <selenium.webdriver.remote.webelement.WebElement (session=\"56d4847b34440e5bff8f704f1a9a69ed\", element=\"cd8b1f40-0b7c-446f-a5b3-3c3375773b56\")>,\n",
       " <selenium.webdriver.remote.webelement.WebElement (session=\"56d4847b34440e5bff8f704f1a9a69ed\", element=\"73661beb-171a-4acf-9929-c59fade60521\")>]"
      ]
     },
     "execution_count": 33,
     "metadata": {},
     "output_type": "execute_result"
    }
   ],
   "source": [
    "scrap_experiance = driver.find_elements_by_xpath(\"//span[@class='ellipsis fleft fs12 lh16 ']\")\n",
    "scrap_experiance"
   ]
  },
  {
   "cell_type": "code",
   "execution_count": 34,
   "metadata": {
    "scrolled": true
   },
   "outputs": [
    {
     "data": {
      "text/plain": [
       "['7-10 Yrs',\n",
       " 'Not disclosed',\n",
       " 'Bangalore/Bengaluru',\n",
       " '4-7 Yrs',\n",
       " '10,00,000 - 20,00,000 PA.',\n",
       " 'Bangalore/Bengaluru',\n",
       " '5-10 Yrs',\n",
       " 'Not disclosed',\n",
       " 'Bangalore/Bengaluru',\n",
       " '5-9 Yrs',\n",
       " 'Not disclosed',\n",
       " 'Kochi/Cochin, Hyderabad/Secunderabad, Pune, Chennai, Delhi / NCR, Bangalore/Bengaluru',\n",
       " '1-4 Yrs',\n",
       " 'Not disclosed',\n",
       " 'Bangalore/Bengaluru',\n",
       " '4-9 Yrs',\n",
       " 'Not disclosed',\n",
       " 'Bangalore/Bengaluru',\n",
       " '5-10 Yrs',\n",
       " 'Not disclosed',\n",
       " 'Bangalore/Bengaluru',\n",
       " '6-11 Yrs',\n",
       " 'Not disclosed',\n",
       " 'Bangalore/Bengaluru',\n",
       " '7-10 Yrs',\n",
       " 'Not disclosed',\n",
       " 'Mumbai, Hyderabad/Secunderabad, Chennai, Bangalore/Bengaluru',\n",
       " '2-3 Yrs',\n",
       " 'Not disclosed',\n",
       " 'Bangalore/Bengaluru',\n",
       " '4-9 Yrs',\n",
       " '12,00,000 - 17,00,000 PA.',\n",
       " 'Hyderabad/Secunderabad, Bangalore/Bengaluru',\n",
       " '4-7 Yrs',\n",
       " 'Not disclosed',\n",
       " 'Bangalore/Bengaluru',\n",
       " '2-7 Yrs',\n",
       " 'Not disclosed',\n",
       " 'Bangalore/Bengaluru',\n",
       " '4-8 Yrs',\n",
       " 'Not disclosed',\n",
       " 'Bangalore/Bengaluru',\n",
       " '6-10 Yrs',\n",
       " 'Not disclosed',\n",
       " 'Bangalore/Bengaluru',\n",
       " '4-8 Yrs',\n",
       " 'Not disclosed',\n",
       " 'Bangalore/Bengaluru',\n",
       " '3-8 Yrs',\n",
       " 'Not disclosed',\n",
       " 'Bangalore/Bengaluru',\n",
       " '5-10 Yrs',\n",
       " 'Not disclosed',\n",
       " 'Hyderabad/Secunderabad, Bangalore/Bengaluru',\n",
       " '2-7 Yrs',\n",
       " 'Not disclosed',\n",
       " 'Bangalore/Bengaluru',\n",
       " '3-7 Yrs',\n",
       " 'Not disclosed',\n",
       " 'Bangalore/Bengaluru']"
      ]
     },
     "execution_count": 34,
     "metadata": {},
     "output_type": "execute_result"
    }
   ],
   "source": [
    "experiance = []\n",
    "for i in scrap_experiance:\n",
    "    experiance.append(i.text)\n",
    "experiance"
   ]
  },
  {
   "cell_type": "code",
   "execution_count": 35,
   "metadata": {
    "scrolled": false
   },
   "outputs": [
    {
     "data": {
      "text/plain": [
       "['7-10 Yrs',\n",
       " '4-7 Yrs',\n",
       " '5-10 Yrs',\n",
       " '5-9 Yrs',\n",
       " '1-4 Yrs',\n",
       " '4-9 Yrs',\n",
       " '5-10 Yrs',\n",
       " '6-11 Yrs',\n",
       " '7-10 Yrs',\n",
       " '2-3 Yrs',\n",
       " '4-9 Yrs',\n",
       " '4-7 Yrs',\n",
       " '2-7 Yrs',\n",
       " '4-8 Yrs',\n",
       " '6-10 Yrs',\n",
       " '4-8 Yrs',\n",
       " '3-8 Yrs',\n",
       " '5-10 Yrs',\n",
       " '2-7 Yrs',\n",
       " '3-7 Yrs']"
      ]
     },
     "execution_count": 35,
     "metadata": {},
     "output_type": "execute_result"
    }
   ],
   "source": [
    "experiance_1=[]\n",
    "for i in range(0,len(experiance),3):\n",
    "    experiance_1.append(experiance[i])\n",
    "experiance_1"
   ]
  },
  {
   "cell_type": "code",
   "execution_count": 38,
   "metadata": {
    "scrolled": false
   },
   "outputs": [
    {
     "data": {
      "text/plain": [
       "['7-10 Yrs',\n",
       " '4-7 Yrs',\n",
       " '5-10 Yrs',\n",
       " '5-9 Yrs',\n",
       " '1-4 Yrs',\n",
       " '4-9 Yrs',\n",
       " '5-10 Yrs',\n",
       " '6-11 Yrs',\n",
       " '7-10 Yrs',\n",
       " '2-3 Yrs']"
      ]
     },
     "execution_count": 38,
     "metadata": {},
     "output_type": "execute_result"
    }
   ],
   "source": [
    "final_exp = experiance_1[:10]\n",
    "final_exp"
   ]
  },
  {
   "cell_type": "code",
   "execution_count": 39,
   "metadata": {
    "scrolled": true
   },
   "outputs": [
    {
     "data": {
      "text/plain": [
       "10"
      ]
     },
     "execution_count": 39,
     "metadata": {},
     "output_type": "execute_result"
    }
   ],
   "source": [
    "len(final_exp)"
   ]
  },
  {
   "cell_type": "code",
   "execution_count": 46,
   "metadata": {
    "scrolled": true
   },
   "outputs": [
    {
     "data": {
      "text/html": [
       "<div>\n",
       "<style scoped>\n",
       "    .dataframe tbody tr th:only-of-type {\n",
       "        vertical-align: middle;\n",
       "    }\n",
       "\n",
       "    .dataframe tbody tr th {\n",
       "        vertical-align: top;\n",
       "    }\n",
       "\n",
       "    .dataframe thead th {\n",
       "        text-align: right;\n",
       "    }\n",
       "</style>\n",
       "<table border=\"1\" class=\"dataframe\">\n",
       "  <thead>\n",
       "    <tr style=\"text-align: right;\">\n",
       "      <th></th>\n",
       "      <th>Job_Title</th>\n",
       "      <th>Location</th>\n",
       "      <th>Company</th>\n",
       "      <th>Experiance</th>\n",
       "    </tr>\n",
       "  </thead>\n",
       "  <tbody>\n",
       "    <tr>\n",
       "      <th>0</th>\n",
       "      <td>Data Engineers , Data Scientist and SAP</td>\n",
       "      <td>7-10 Yrs</td>\n",
       "      <td>Teamware Solutions</td>\n",
       "      <td>7-10 Yrs</td>\n",
       "    </tr>\n",
       "    <tr>\n",
       "      <th>1</th>\n",
       "      <td>Senior Associate - Data Scientist</td>\n",
       "      <td>4-7 Yrs</td>\n",
       "      <td>Novotree Minds Consulting Pvt Limited</td>\n",
       "      <td>4-7 Yrs</td>\n",
       "    </tr>\n",
       "    <tr>\n",
       "      <th>2</th>\n",
       "      <td>Senior Data Scientist</td>\n",
       "      <td>5-10 Yrs</td>\n",
       "      <td>IBM India Pvt. Limited</td>\n",
       "      <td>5-10 Yrs</td>\n",
       "    </tr>\n",
       "    <tr>\n",
       "      <th>3</th>\n",
       "      <td>Senior Data Scientist</td>\n",
       "      <td>5-9 Yrs</td>\n",
       "      <td>L A Consultancy</td>\n",
       "      <td>5-9 Yrs</td>\n",
       "    </tr>\n",
       "    <tr>\n",
       "      <th>4</th>\n",
       "      <td>Senior Analyst/Data Scientist</td>\n",
       "      <td>1-4 Yrs</td>\n",
       "      <td>Naukri Premium - Employer Services</td>\n",
       "      <td>1-4 Yrs</td>\n",
       "    </tr>\n",
       "    <tr>\n",
       "      <th>5</th>\n",
       "      <td>Senior Data Scientist</td>\n",
       "      <td>4-9 Yrs</td>\n",
       "      <td>RANDSTAD INDIA PVT LTD</td>\n",
       "      <td>4-9 Yrs</td>\n",
       "    </tr>\n",
       "    <tr>\n",
       "      <th>6</th>\n",
       "      <td>Associate Data Scientist</td>\n",
       "      <td>5-10 Yrs</td>\n",
       "      <td>ExecBoardinAsia</td>\n",
       "      <td>5-10 Yrs</td>\n",
       "    </tr>\n",
       "    <tr>\n",
       "      <th>7</th>\n",
       "      <td>Data Scientist - Senior / Lead</td>\n",
       "      <td>6-11 Yrs</td>\n",
       "      <td>Superior Group</td>\n",
       "      <td>6-11 Yrs</td>\n",
       "    </tr>\n",
       "    <tr>\n",
       "      <th>8</th>\n",
       "      <td>Lead Data Scientist - Tensorflow/Machine Learning</td>\n",
       "      <td>7-10 Yrs</td>\n",
       "      <td>Getinz Techno Services</td>\n",
       "      <td>7-10 Yrs</td>\n",
       "    </tr>\n",
       "    <tr>\n",
       "      <th>9</th>\n",
       "      <td>Data Scientist</td>\n",
       "      <td>2-3 Yrs</td>\n",
       "      <td>CropIn Technology Solutions Pvt. Ltd.</td>\n",
       "      <td>2-3 Yrs</td>\n",
       "    </tr>\n",
       "  </tbody>\n",
       "</table>\n",
       "</div>"
      ],
      "text/plain": [
       "                                           Job_Title  Location  \\\n",
       "0            Data Engineers , Data Scientist and SAP  7-10 Yrs   \n",
       "1                  Senior Associate - Data Scientist   4-7 Yrs   \n",
       "2                              Senior Data Scientist  5-10 Yrs   \n",
       "3                              Senior Data Scientist   5-9 Yrs   \n",
       "4                      Senior Analyst/Data Scientist   1-4 Yrs   \n",
       "5                              Senior Data Scientist   4-9 Yrs   \n",
       "6                           Associate Data Scientist  5-10 Yrs   \n",
       "7                     Data Scientist - Senior / Lead  6-11 Yrs   \n",
       "8  Lead Data Scientist - Tensorflow/Machine Learning  7-10 Yrs   \n",
       "9                                     Data Scientist   2-3 Yrs   \n",
       "\n",
       "                                 Company Experiance  \n",
       "0                     Teamware Solutions   7-10 Yrs  \n",
       "1  Novotree Minds Consulting Pvt Limited    4-7 Yrs  \n",
       "2                 IBM India Pvt. Limited   5-10 Yrs  \n",
       "3                        L A Consultancy    5-9 Yrs  \n",
       "4     Naukri Premium - Employer Services    1-4 Yrs  \n",
       "5                 RANDSTAD INDIA PVT LTD    4-9 Yrs  \n",
       "6                        ExecBoardinAsia   5-10 Yrs  \n",
       "7                         Superior Group   6-11 Yrs  \n",
       "8                 Getinz Techno Services   7-10 Yrs  \n",
       "9  CropIn Technology Solutions Pvt. Ltd.    2-3 Yrs  "
      ]
     },
     "execution_count": 46,
     "metadata": {},
     "output_type": "execute_result"
    }
   ],
   "source": [
    "Data_analyst = pd.DataFrame({'Job_Title':final_title,'Location':final_loc,'Company':final_co,'Experiance':final_exp})\n",
    "Data_analyst"
   ]
  },
  {
   "cell_type": "markdown",
   "metadata": {},
   "source": [
    "## Q2. "
   ]
  },
  {
   "cell_type": "code",
   "execution_count": 52,
   "metadata": {
    "scrolled": true
   },
   "outputs": [
    {
     "data": {
      "text/plain": [
       "[<selenium.webdriver.remote.webelement.WebElement (session=\"56d4847b34440e5bff8f704f1a9a69ed\", element=\"552a24a7-ebe4-44f8-893e-8935dd23faf4\")>,\n",
       " <selenium.webdriver.remote.webelement.WebElement (session=\"56d4847b34440e5bff8f704f1a9a69ed\", element=\"c7a89977-0417-45f4-9a7c-ba80c6f0cd9d\")>,\n",
       " <selenium.webdriver.remote.webelement.WebElement (session=\"56d4847b34440e5bff8f704f1a9a69ed\", element=\"aad8e099-e36b-42a4-b08e-f314bbb6dda4\")>,\n",
       " <selenium.webdriver.remote.webelement.WebElement (session=\"56d4847b34440e5bff8f704f1a9a69ed\", element=\"de559f42-f552-4b78-86e9-0f1af1c42f1a\")>,\n",
       " <selenium.webdriver.remote.webelement.WebElement (session=\"56d4847b34440e5bff8f704f1a9a69ed\", element=\"9eed3614-14c2-44eb-81bb-b7618668b388\")>,\n",
       " <selenium.webdriver.remote.webelement.WebElement (session=\"56d4847b34440e5bff8f704f1a9a69ed\", element=\"8d00dbdb-7451-48e4-89c4-3a8185687a8d\")>,\n",
       " <selenium.webdriver.remote.webelement.WebElement (session=\"56d4847b34440e5bff8f704f1a9a69ed\", element=\"50850ccc-6cb8-433b-a090-8133b9338a6d\")>,\n",
       " <selenium.webdriver.remote.webelement.WebElement (session=\"56d4847b34440e5bff8f704f1a9a69ed\", element=\"7b599598-88c6-4a0a-8d2b-12d1ed484103\")>,\n",
       " <selenium.webdriver.remote.webelement.WebElement (session=\"56d4847b34440e5bff8f704f1a9a69ed\", element=\"db952578-486e-410b-9643-bdbced7f5b93\")>,\n",
       " <selenium.webdriver.remote.webelement.WebElement (session=\"56d4847b34440e5bff8f704f1a9a69ed\", element=\"a11a397f-04d5-447c-9730-84199bbb12b7\")>,\n",
       " <selenium.webdriver.remote.webelement.WebElement (session=\"56d4847b34440e5bff8f704f1a9a69ed\", element=\"f0b124f8-e6de-4bf2-b3d7-39471067c23e\")>,\n",
       " <selenium.webdriver.remote.webelement.WebElement (session=\"56d4847b34440e5bff8f704f1a9a69ed\", element=\"35a3eaef-daf2-456b-926c-296aba7dd8bc\")>,\n",
       " <selenium.webdriver.remote.webelement.WebElement (session=\"56d4847b34440e5bff8f704f1a9a69ed\", element=\"f8fca036-8bb3-45ea-9e4d-13ffa7b98fe0\")>,\n",
       " <selenium.webdriver.remote.webelement.WebElement (session=\"56d4847b34440e5bff8f704f1a9a69ed\", element=\"cb405439-04bf-4f95-94c0-3475bbd3bbb1\")>,\n",
       " <selenium.webdriver.remote.webelement.WebElement (session=\"56d4847b34440e5bff8f704f1a9a69ed\", element=\"32dab9a4-1fda-4547-b9f5-619af514ac0d\")>,\n",
       " <selenium.webdriver.remote.webelement.WebElement (session=\"56d4847b34440e5bff8f704f1a9a69ed\", element=\"b868445c-a1a9-4820-8cab-c30f494f69e8\")>,\n",
       " <selenium.webdriver.remote.webelement.WebElement (session=\"56d4847b34440e5bff8f704f1a9a69ed\", element=\"92dce3dd-61f3-4e0a-aeb0-f5f1786b552f\")>,\n",
       " <selenium.webdriver.remote.webelement.WebElement (session=\"56d4847b34440e5bff8f704f1a9a69ed\", element=\"dcf77a65-c72a-4c27-9f3b-575aed8cd0dc\")>,\n",
       " <selenium.webdriver.remote.webelement.WebElement (session=\"56d4847b34440e5bff8f704f1a9a69ed\", element=\"2b9bbea6-16ee-4d6b-9200-532f780833a9\")>,\n",
       " <selenium.webdriver.remote.webelement.WebElement (session=\"56d4847b34440e5bff8f704f1a9a69ed\", element=\"6d476591-f1ab-4f3c-9311-7f4c25c85dba\")>]"
      ]
     },
     "execution_count": 52,
     "metadata": {},
     "output_type": "execute_result"
    }
   ],
   "source": [
    "scrap_description = driver.find_elements_by_xpath(\"//div[@class='job-description fs12 grey-text']\")\n",
    "scrap_description"
   ]
  },
  {
   "cell_type": "code",
   "execution_count": 48,
   "metadata": {
    "scrolled": true
   },
   "outputs": [
    {
     "data": {
      "text/plain": [
       "['Dynamic recruiting professional with 7 - 10 years of high-performance tech recruiting e...',\n",
       " 'Experience or certifications with visualization tools (Tableau / Qlik/PowerBI etc.)Well...',\n",
       " 'Experience in end-to-end ML engineering / MLOpsDemonstrated experience in understanding...',\n",
       " 'The ideal candidate should constantly stays on top of the industry s trends, in order t...',\n",
       " 'Required Good Communication skills Expert level experience with Analytical Techniques: ...',\n",
       " 'Candidate should be well versed in executing statistical models on Regression, Ancova, ...',\n",
       " 'Should work in inter-disciplinary teams that will include product formulators, process ...',\n",
       " '3 years of experience performing predictive analytics at a large scale enterprise 3 yea...',\n",
       " 'Experience in applied machine learning or artificial intelligence Experience with one o...',\n",
       " 'To discover, develop and deliver innovative data enabled solution and to be preferred p...',\n",
       " 'Required Skills: Must-Have: Experience and exposure on Advanced Computer Vision, Image ...',\n",
       " 'Responsibilities You will train and deliver deep learning models and tools to extract v...',\n",
       " 'Being the first data scientist of the company, you shall be responsible for building ro...',\n",
       " 'Roles Responsibilities: Execute TED (Technology Demonstrator Projects) in the are of Da...',\n",
       " 'Masters (With 5 years of experience) or PhD degree (2 years of experience) in computer ...',\n",
       " 'Be involved and support teams building all required Data Analytics capabilities in orga...',\n",
       " 'Should have an attitude of owning the problem and generating industry standard solution...',\n",
       " 'Experience working with pre-trained models, awareness of state-of-art in embeddings and...',\n",
       " 'Roles and Responsibilities- Implement data-driven solutions based on advanced ML and op...',\n",
       " 'Understanding of deep learning fundamentals including network architectures, training a...']"
      ]
     },
     "execution_count": 48,
     "metadata": {},
     "output_type": "execute_result"
    }
   ],
   "source": [
    "desc = []\n",
    "for i in scrap_description:\n",
    "    desc.append(i.text)\n",
    "desc"
   ]
  },
  {
   "cell_type": "code",
   "execution_count": 49,
   "metadata": {
    "scrolled": true
   },
   "outputs": [
    {
     "data": {
      "text/plain": [
       "['Dynamic recruiting professional with 7 - 10 years of high-performance tech recruiting e...',\n",
       " 'Experience or certifications with visualization tools (Tableau / Qlik/PowerBI etc.)Well...',\n",
       " 'Experience in end-to-end ML engineering / MLOpsDemonstrated experience in understanding...',\n",
       " 'The ideal candidate should constantly stays on top of the industry s trends, in order t...',\n",
       " 'Required Good Communication skills Expert level experience with Analytical Techniques: ...',\n",
       " 'Candidate should be well versed in executing statistical models on Regression, Ancova, ...',\n",
       " 'Should work in inter-disciplinary teams that will include product formulators, process ...',\n",
       " '3 years of experience performing predictive analytics at a large scale enterprise 3 yea...',\n",
       " 'Experience in applied machine learning or artificial intelligence Experience with one o...',\n",
       " 'To discover, develop and deliver innovative data enabled solution and to be preferred p...']"
      ]
     },
     "execution_count": 49,
     "metadata": {},
     "output_type": "execute_result"
    }
   ],
   "source": [
    "final_des = desc[:10]\n",
    "final_des"
   ]
  },
  {
   "cell_type": "code",
   "execution_count": 53,
   "metadata": {
    "scrolled": false
   },
   "outputs": [
    {
     "data": {
      "text/html": [
       "<div>\n",
       "<style scoped>\n",
       "    .dataframe tbody tr th:only-of-type {\n",
       "        vertical-align: middle;\n",
       "    }\n",
       "\n",
       "    .dataframe tbody tr th {\n",
       "        vertical-align: top;\n",
       "    }\n",
       "\n",
       "    .dataframe thead th {\n",
       "        text-align: right;\n",
       "    }\n",
       "</style>\n",
       "<table border=\"1\" class=\"dataframe\">\n",
       "  <thead>\n",
       "    <tr style=\"text-align: right;\">\n",
       "      <th></th>\n",
       "      <th>Job_Title</th>\n",
       "      <th>Location</th>\n",
       "      <th>Company</th>\n",
       "      <th>Description</th>\n",
       "    </tr>\n",
       "  </thead>\n",
       "  <tbody>\n",
       "    <tr>\n",
       "      <th>0</th>\n",
       "      <td>Data Engineers , Data Scientist and SAP</td>\n",
       "      <td>7-10 Yrs</td>\n",
       "      <td>Teamware Solutions</td>\n",
       "      <td>Dynamic recruiting professional with 7 - 10 ye...</td>\n",
       "    </tr>\n",
       "    <tr>\n",
       "      <th>1</th>\n",
       "      <td>Senior Associate - Data Scientist</td>\n",
       "      <td>4-7 Yrs</td>\n",
       "      <td>Novotree Minds Consulting Pvt Limited</td>\n",
       "      <td>Experience or certifications with visualizatio...</td>\n",
       "    </tr>\n",
       "    <tr>\n",
       "      <th>2</th>\n",
       "      <td>Senior Data Scientist</td>\n",
       "      <td>5-10 Yrs</td>\n",
       "      <td>IBM India Pvt. Limited</td>\n",
       "      <td>Experience in end-to-end ML engineering / MLOp...</td>\n",
       "    </tr>\n",
       "    <tr>\n",
       "      <th>3</th>\n",
       "      <td>Senior Data Scientist</td>\n",
       "      <td>5-9 Yrs</td>\n",
       "      <td>L A Consultancy</td>\n",
       "      <td>The ideal candidate should constantly stays on...</td>\n",
       "    </tr>\n",
       "    <tr>\n",
       "      <th>4</th>\n",
       "      <td>Senior Analyst/Data Scientist</td>\n",
       "      <td>1-4 Yrs</td>\n",
       "      <td>Naukri Premium - Employer Services</td>\n",
       "      <td>Required Good Communication skills Expert leve...</td>\n",
       "    </tr>\n",
       "    <tr>\n",
       "      <th>5</th>\n",
       "      <td>Senior Data Scientist</td>\n",
       "      <td>4-9 Yrs</td>\n",
       "      <td>RANDSTAD INDIA PVT LTD</td>\n",
       "      <td>Candidate should be well versed in executing s...</td>\n",
       "    </tr>\n",
       "    <tr>\n",
       "      <th>6</th>\n",
       "      <td>Associate Data Scientist</td>\n",
       "      <td>5-10 Yrs</td>\n",
       "      <td>ExecBoardinAsia</td>\n",
       "      <td>Should work in inter-disciplinary teams that w...</td>\n",
       "    </tr>\n",
       "    <tr>\n",
       "      <th>7</th>\n",
       "      <td>Data Scientist - Senior / Lead</td>\n",
       "      <td>6-11 Yrs</td>\n",
       "      <td>Superior Group</td>\n",
       "      <td>3 years of experience performing predictive an...</td>\n",
       "    </tr>\n",
       "    <tr>\n",
       "      <th>8</th>\n",
       "      <td>Lead Data Scientist - Tensorflow/Machine Learning</td>\n",
       "      <td>7-10 Yrs</td>\n",
       "      <td>Getinz Techno Services</td>\n",
       "      <td>Experience in applied machine learning or arti...</td>\n",
       "    </tr>\n",
       "    <tr>\n",
       "      <th>9</th>\n",
       "      <td>Data Scientist</td>\n",
       "      <td>2-3 Yrs</td>\n",
       "      <td>CropIn Technology Solutions Pvt. Ltd.</td>\n",
       "      <td>To discover, develop and deliver innovative da...</td>\n",
       "    </tr>\n",
       "  </tbody>\n",
       "</table>\n",
       "</div>"
      ],
      "text/plain": [
       "                                           Job_Title  Location  \\\n",
       "0            Data Engineers , Data Scientist and SAP  7-10 Yrs   \n",
       "1                  Senior Associate - Data Scientist   4-7 Yrs   \n",
       "2                              Senior Data Scientist  5-10 Yrs   \n",
       "3                              Senior Data Scientist   5-9 Yrs   \n",
       "4                      Senior Analyst/Data Scientist   1-4 Yrs   \n",
       "5                              Senior Data Scientist   4-9 Yrs   \n",
       "6                           Associate Data Scientist  5-10 Yrs   \n",
       "7                     Data Scientist - Senior / Lead  6-11 Yrs   \n",
       "8  Lead Data Scientist - Tensorflow/Machine Learning  7-10 Yrs   \n",
       "9                                     Data Scientist   2-3 Yrs   \n",
       "\n",
       "                                 Company  \\\n",
       "0                     Teamware Solutions   \n",
       "1  Novotree Minds Consulting Pvt Limited   \n",
       "2                 IBM India Pvt. Limited   \n",
       "3                        L A Consultancy   \n",
       "4     Naukri Premium - Employer Services   \n",
       "5                 RANDSTAD INDIA PVT LTD   \n",
       "6                        ExecBoardinAsia   \n",
       "7                         Superior Group   \n",
       "8                 Getinz Techno Services   \n",
       "9  CropIn Technology Solutions Pvt. Ltd.   \n",
       "\n",
       "                                         Description  \n",
       "0  Dynamic recruiting professional with 7 - 10 ye...  \n",
       "1  Experience or certifications with visualizatio...  \n",
       "2  Experience in end-to-end ML engineering / MLOp...  \n",
       "3  The ideal candidate should constantly stays on...  \n",
       "4  Required Good Communication skills Expert leve...  \n",
       "5  Candidate should be well versed in executing s...  \n",
       "6  Should work in inter-disciplinary teams that w...  \n",
       "7  3 years of experience performing predictive an...  \n",
       "8  Experience in applied machine learning or arti...  \n",
       "9  To discover, develop and deliver innovative da...  "
      ]
     },
     "execution_count": 53,
     "metadata": {},
     "output_type": "execute_result"
    }
   ],
   "source": [
    "Data_analyst = pd.DataFrame({'Job_Title':final_title,'Location':final_loc,'Company':final_co,'Description':final_des})\n",
    "Data_analyst"
   ]
  },
  {
   "cell_type": "markdown",
   "metadata": {},
   "source": [
    "## Q3"
   ]
  },
  {
   "cell_type": "code",
   "execution_count": 74,
   "metadata": {
    "scrolled": true
   },
   "outputs": [],
   "source": [
    "url = 'https://www.naukri.com/'\n",
    "driver.get(url)"
   ]
  },
  {
   "cell_type": "code",
   "execution_count": 75,
   "metadata": {},
   "outputs": [
    {
     "data": {
      "text/plain": [
       "<selenium.webdriver.remote.webelement.WebElement (session=\"d826f128beffb5cffa8f6da7336b0ecc\", element=\"7a3a6fcf-ef32-47a0-a318-d6d015f8923c\")>"
      ]
     },
     "execution_count": 75,
     "metadata": {},
     "output_type": "execute_result"
    }
   ],
   "source": [
    "search_position = driver.find_element_by_id('qsb-keyword-sugg')\n",
    "search_position"
   ]
  },
  {
   "cell_type": "code",
   "execution_count": 76,
   "metadata": {},
   "outputs": [],
   "source": [
    "search_position.send_keys('Data Scientist')"
   ]
  },
  {
   "cell_type": "code",
   "execution_count": 8,
   "metadata": {},
   "outputs": [
    {
     "data": {
      "text/plain": [
       "<selenium.webdriver.remote.webelement.WebElement (session=\"0a6b7aedc8d9775d13b9edc7388d6b54\", element=\"57d74039-5c91-47c0-84e2-0afb0ca9b31c\")>"
      ]
     },
     "execution_count": 8,
     "metadata": {},
     "output_type": "execute_result"
    }
   ],
   "source": [
    "search_location = driver.find_element_by_id(\"qsb-location-sugg\")\n",
    "search_location"
   ]
  },
  {
   "cell_type": "code",
   "execution_count": 9,
   "metadata": {},
   "outputs": [],
   "source": [
    "search_location.send_keys('Delhi/NCR')"
   ]
  },
  {
   "cell_type": "code",
   "execution_count": 10,
   "metadata": {
    "scrolled": true
   },
   "outputs": [
    {
     "data": {
      "text/plain": [
       "<selenium.webdriver.remote.webelement.WebElement (session=\"0a6b7aedc8d9775d13b9edc7388d6b54\", element=\"70a51d55-d386-4130-a9d4-2cb9502f5288\")>"
      ]
     },
     "execution_count": 10,
     "metadata": {},
     "output_type": "execute_result"
    }
   ],
   "source": [
    "search_button = driver.find_element_by_xpath(\"//button[@class='btn']\")\n",
    "search_button"
   ]
  },
  {
   "cell_type": "code",
   "execution_count": 11,
   "metadata": {
    "scrolled": true
   },
   "outputs": [],
   "source": [
    "search_button.click()"
   ]
  },
  {
   "cell_type": "code",
   "execution_count": 14,
   "metadata": {
    "scrolled": true
   },
   "outputs": [
    {
     "data": {
      "text/plain": [
       "[<selenium.webdriver.remote.webelement.WebElement (session=\"0a6b7aedc8d9775d13b9edc7388d6b54\", element=\"41682a1e-017b-4dfb-bfe2-30a113039735\")>,\n",
       " <selenium.webdriver.remote.webelement.WebElement (session=\"0a6b7aedc8d9775d13b9edc7388d6b54\", element=\"f0ad5ea2-1507-4599-b602-9e7090241c17\")>,\n",
       " <selenium.webdriver.remote.webelement.WebElement (session=\"0a6b7aedc8d9775d13b9edc7388d6b54\", element=\"1845ef69-a618-444d-b9a2-41e8dc19dfc5\")>,\n",
       " <selenium.webdriver.remote.webelement.WebElement (session=\"0a6b7aedc8d9775d13b9edc7388d6b54\", element=\"dc6ca87e-d50e-4711-b674-8e2c7ca16610\")>,\n",
       " <selenium.webdriver.remote.webelement.WebElement (session=\"0a6b7aedc8d9775d13b9edc7388d6b54\", element=\"2711a5e7-e16b-4944-8263-76f23bfb9f2e\")>,\n",
       " <selenium.webdriver.remote.webelement.WebElement (session=\"0a6b7aedc8d9775d13b9edc7388d6b54\", element=\"cb15235d-208f-4d78-a20d-05aa671d343c\")>,\n",
       " <selenium.webdriver.remote.webelement.WebElement (session=\"0a6b7aedc8d9775d13b9edc7388d6b54\", element=\"4ea9eed2-6b06-4bb7-aed7-d967ae064e0f\")>,\n",
       " <selenium.webdriver.remote.webelement.WebElement (session=\"0a6b7aedc8d9775d13b9edc7388d6b54\", element=\"aed05017-3238-4410-afb1-220dbc9e49c1\")>,\n",
       " <selenium.webdriver.remote.webelement.WebElement (session=\"0a6b7aedc8d9775d13b9edc7388d6b54\", element=\"32fcf41f-9b76-488e-9e9d-84862a655e87\")>,\n",
       " <selenium.webdriver.remote.webelement.WebElement (session=\"0a6b7aedc8d9775d13b9edc7388d6b54\", element=\"0442e308-5cb4-4755-b994-b495b515243a\")>,\n",
       " <selenium.webdriver.remote.webelement.WebElement (session=\"0a6b7aedc8d9775d13b9edc7388d6b54\", element=\"520c8b87-fb40-4b9e-acdd-89430db9f9bb\")>,\n",
       " <selenium.webdriver.remote.webelement.WebElement (session=\"0a6b7aedc8d9775d13b9edc7388d6b54\", element=\"06bbcee1-23fb-49fc-b1d6-749ea7ee55da\")>,\n",
       " <selenium.webdriver.remote.webelement.WebElement (session=\"0a6b7aedc8d9775d13b9edc7388d6b54\", element=\"b72e7f51-8110-4462-9567-2f4999a3c114\")>,\n",
       " <selenium.webdriver.remote.webelement.WebElement (session=\"0a6b7aedc8d9775d13b9edc7388d6b54\", element=\"b8741dbd-8885-40b4-be01-e85ee95d699e\")>,\n",
       " <selenium.webdriver.remote.webelement.WebElement (session=\"0a6b7aedc8d9775d13b9edc7388d6b54\", element=\"03af7204-4d2d-480f-9413-f18ae92f24b8\")>,\n",
       " <selenium.webdriver.remote.webelement.WebElement (session=\"0a6b7aedc8d9775d13b9edc7388d6b54\", element=\"aab22383-9745-4894-99c9-6ca0dc73fcde\")>,\n",
       " <selenium.webdriver.remote.webelement.WebElement (session=\"0a6b7aedc8d9775d13b9edc7388d6b54\", element=\"26ed3006-39c2-4906-b63b-9a72b5c07f40\")>,\n",
       " <selenium.webdriver.remote.webelement.WebElement (session=\"0a6b7aedc8d9775d13b9edc7388d6b54\", element=\"6135cbf2-16de-4d9f-849f-6546aff51390\")>,\n",
       " <selenium.webdriver.remote.webelement.WebElement (session=\"0a6b7aedc8d9775d13b9edc7388d6b54\", element=\"93e3d402-e20b-425a-946b-328329375544\")>,\n",
       " <selenium.webdriver.remote.webelement.WebElement (session=\"0a6b7aedc8d9775d13b9edc7388d6b54\", element=\"d5e6c1ad-5d3b-4a5b-ae72-04852853d844\")>]"
      ]
     },
     "execution_count": 14,
     "metadata": {},
     "output_type": "execute_result"
    }
   ],
   "source": [
    "scrap_job_title=driver.find_elements_by_xpath(\"//a[@class='title fw500 ellipsis']\")\n",
    "scrap_job_title"
   ]
  },
  {
   "cell_type": "code",
   "execution_count": 15,
   "metadata": {
    "scrolled": false
   },
   "outputs": [
    {
     "data": {
      "text/plain": [
       "['Data Scientist',\n",
       " 'Data Scientist Internship',\n",
       " 'Data Scientist',\n",
       " 'Senior Data Scientist - Noida',\n",
       " 'Data Scientist / Sr. Data Scientist',\n",
       " 'Only Fresher / Data Scientist / Data Analyst / Analytics - MNC Jobs',\n",
       " 'Immediate Openings For DATA Scientist with 6 To 7 yrs of Experience',\n",
       " 'Data Scientist',\n",
       " 'Data Scientist',\n",
       " 'Data Scientist - Machine Learning/NLP']"
      ]
     },
     "execution_count": 15,
     "metadata": {},
     "output_type": "execute_result"
    }
   ],
   "source": [
    "job_title = []\n",
    "for i in scrap_job_title[:10]:\n",
    "    job_title.append(i.text)\n",
    "job_title"
   ]
  },
  {
   "cell_type": "code",
   "execution_count": 24,
   "metadata": {
    "scrolled": true
   },
   "outputs": [
    {
     "data": {
      "text/plain": [
       "[<selenium.webdriver.remote.webelement.WebElement (session=\"0a6b7aedc8d9775d13b9edc7388d6b54\", element=\"cd200637-3267-4202-b881-673030b9a90c\")>,\n",
       " <selenium.webdriver.remote.webelement.WebElement (session=\"0a6b7aedc8d9775d13b9edc7388d6b54\", element=\"628be856-b7bc-4073-941f-fb33fc60488b\")>,\n",
       " <selenium.webdriver.remote.webelement.WebElement (session=\"0a6b7aedc8d9775d13b9edc7388d6b54\", element=\"0986d3d4-dcce-4fff-8f07-d9edebf65a40\")>,\n",
       " <selenium.webdriver.remote.webelement.WebElement (session=\"0a6b7aedc8d9775d13b9edc7388d6b54\", element=\"c7cba087-9494-4cdc-9bd1-3f294e75764a\")>,\n",
       " <selenium.webdriver.remote.webelement.WebElement (session=\"0a6b7aedc8d9775d13b9edc7388d6b54\", element=\"431b4d99-390d-454f-8b3c-50d291d6e65c\")>,\n",
       " <selenium.webdriver.remote.webelement.WebElement (session=\"0a6b7aedc8d9775d13b9edc7388d6b54\", element=\"74727ed9-ca57-405b-b49b-b68fbd2a6b77\")>,\n",
       " <selenium.webdriver.remote.webelement.WebElement (session=\"0a6b7aedc8d9775d13b9edc7388d6b54\", element=\"c72f6420-a3e7-4e47-b113-865399cf1f65\")>,\n",
       " <selenium.webdriver.remote.webelement.WebElement (session=\"0a6b7aedc8d9775d13b9edc7388d6b54\", element=\"342a8bc3-6a5a-400e-874b-3851ca778798\")>,\n",
       " <selenium.webdriver.remote.webelement.WebElement (session=\"0a6b7aedc8d9775d13b9edc7388d6b54\", element=\"ee7e48ef-3723-469a-a699-94828e9a2d21\")>,\n",
       " <selenium.webdriver.remote.webelement.WebElement (session=\"0a6b7aedc8d9775d13b9edc7388d6b54\", element=\"f4023619-2a70-4ab1-8152-5c6a22b5a229\")>,\n",
       " <selenium.webdriver.remote.webelement.WebElement (session=\"0a6b7aedc8d9775d13b9edc7388d6b54\", element=\"27dad1bd-3952-4ceb-afb2-a0dcb4bfb4a1\")>,\n",
       " <selenium.webdriver.remote.webelement.WebElement (session=\"0a6b7aedc8d9775d13b9edc7388d6b54\", element=\"1df0d1f6-d302-42d4-87f6-7d9a2fdbfd7b\")>,\n",
       " <selenium.webdriver.remote.webelement.WebElement (session=\"0a6b7aedc8d9775d13b9edc7388d6b54\", element=\"62c3168e-2331-40d8-9644-a99242538de1\")>,\n",
       " <selenium.webdriver.remote.webelement.WebElement (session=\"0a6b7aedc8d9775d13b9edc7388d6b54\", element=\"a0403630-4e7d-4f8f-b64c-15f7e900c0f8\")>,\n",
       " <selenium.webdriver.remote.webelement.WebElement (session=\"0a6b7aedc8d9775d13b9edc7388d6b54\", element=\"c1734ae4-f395-413a-b9cd-7d55967090e7\")>,\n",
       " <selenium.webdriver.remote.webelement.WebElement (session=\"0a6b7aedc8d9775d13b9edc7388d6b54\", element=\"4d74560d-a301-4213-a663-aa3d61526f2d\")>,\n",
       " <selenium.webdriver.remote.webelement.WebElement (session=\"0a6b7aedc8d9775d13b9edc7388d6b54\", element=\"1d395f3d-f40c-490f-88e9-5386f95a2c76\")>,\n",
       " <selenium.webdriver.remote.webelement.WebElement (session=\"0a6b7aedc8d9775d13b9edc7388d6b54\", element=\"342dac9f-f642-4223-8b9e-2c7f8e069c9d\")>,\n",
       " <selenium.webdriver.remote.webelement.WebElement (session=\"0a6b7aedc8d9775d13b9edc7388d6b54\", element=\"c8770425-a76a-46dc-8597-df6ec191fec4\")>,\n",
       " <selenium.webdriver.remote.webelement.WebElement (session=\"0a6b7aedc8d9775d13b9edc7388d6b54\", element=\"a138a77c-827e-4e3b-b09f-4d65fa128fb8\")>,\n",
       " <selenium.webdriver.remote.webelement.WebElement (session=\"0a6b7aedc8d9775d13b9edc7388d6b54\", element=\"8a514a84-3bf7-4853-a1e2-680fee93413e\")>,\n",
       " <selenium.webdriver.remote.webelement.WebElement (session=\"0a6b7aedc8d9775d13b9edc7388d6b54\", element=\"f1848510-0d8d-4841-baf0-b21702b5e74d\")>,\n",
       " <selenium.webdriver.remote.webelement.WebElement (session=\"0a6b7aedc8d9775d13b9edc7388d6b54\", element=\"d68899c4-39dc-4d08-9c50-20f625e232bf\")>]"
      ]
     },
     "execution_count": 24,
     "metadata": {},
     "output_type": "execute_result"
    }
   ],
   "source": [
    "scrap_location = driver.find_elements_by_xpath(\"//li[@class='fleft grey-text br2 placeHolderLi location']/span\")\n",
    "scrap_location"
   ]
  },
  {
   "cell_type": "code",
   "execution_count": 31,
   "metadata": {
    "scrolled": false
   },
   "outputs": [
    {
     "data": {
      "text/plain": [
       "['Noida, Gurgaon/Gurugram, Delhi / NCR',\n",
       " 'New Delhi',\n",
       " 'Gurgaon/Gurugram',\n",
       " 'Noida',\n",
       " 'Noida, Pune, Mumbai (All Areas)',\n",
       " 'Noida, Gurgaon/Gurugram, Delhi / NCR',\n",
       " 'Kolkata, Hyderabad/Secunderabad, Pune, Ahmedabad, Chennai, Bangalore/Bengaluru, Delhi / NCR, Mumbai (All Areas)',\n",
       " '(WFH during Covid)',\n",
       " 'Noida(Sector-59 Noida)',\n",
       " 'Gurgaon/Gurugram']"
      ]
     },
     "execution_count": 31,
     "metadata": {},
     "output_type": "execute_result"
    }
   ],
   "source": [
    "job_location = []\n",
    "for i in scrap_location[:10]:\n",
    "    job_location.append(i.text)\n",
    "job_location"
   ]
  },
  {
   "cell_type": "code",
   "execution_count": 32,
   "metadata": {},
   "outputs": [
    {
     "data": {
      "text/plain": [
       "10"
      ]
     },
     "execution_count": 32,
     "metadata": {},
     "output_type": "execute_result"
    }
   ],
   "source": [
    "len(job_location)"
   ]
  },
  {
   "cell_type": "code",
   "execution_count": 28,
   "metadata": {
    "scrolled": false
   },
   "outputs": [
    {
     "data": {
      "text/plain": [
       "[<selenium.webdriver.remote.webelement.WebElement (session=\"0a6b7aedc8d9775d13b9edc7388d6b54\", element=\"039813b9-d683-4e1d-ad35-b772cffe3998\")>,\n",
       " <selenium.webdriver.remote.webelement.WebElement (session=\"0a6b7aedc8d9775d13b9edc7388d6b54\", element=\"6bd9b9f7-e14c-4695-a188-81b5f0017027\")>,\n",
       " <selenium.webdriver.remote.webelement.WebElement (session=\"0a6b7aedc8d9775d13b9edc7388d6b54\", element=\"bf6315e3-f2b0-4401-a32d-76f6ac0da830\")>,\n",
       " <selenium.webdriver.remote.webelement.WebElement (session=\"0a6b7aedc8d9775d13b9edc7388d6b54\", element=\"d5b37b25-cee4-4ec0-af16-a9ab66943e46\")>,\n",
       " <selenium.webdriver.remote.webelement.WebElement (session=\"0a6b7aedc8d9775d13b9edc7388d6b54\", element=\"33e06fa1-2d7d-4992-8b74-af19b821d54c\")>,\n",
       " <selenium.webdriver.remote.webelement.WebElement (session=\"0a6b7aedc8d9775d13b9edc7388d6b54\", element=\"1785f3fc-3f85-41d4-95dd-c357a7c27aaa\")>,\n",
       " <selenium.webdriver.remote.webelement.WebElement (session=\"0a6b7aedc8d9775d13b9edc7388d6b54\", element=\"738c8df8-664c-48aa-aca9-04440bd6ecb2\")>,\n",
       " <selenium.webdriver.remote.webelement.WebElement (session=\"0a6b7aedc8d9775d13b9edc7388d6b54\", element=\"ed80b246-90f7-49cb-9b06-4a60c37167c5\")>,\n",
       " <selenium.webdriver.remote.webelement.WebElement (session=\"0a6b7aedc8d9775d13b9edc7388d6b54\", element=\"31134c68-e5e5-4412-b67e-6f653a68a51c\")>,\n",
       " <selenium.webdriver.remote.webelement.WebElement (session=\"0a6b7aedc8d9775d13b9edc7388d6b54\", element=\"bfa4ea6c-26f7-4c7d-8693-93e132956226\")>,\n",
       " <selenium.webdriver.remote.webelement.WebElement (session=\"0a6b7aedc8d9775d13b9edc7388d6b54\", element=\"c8c77839-e642-456b-bcce-351af4de0f6a\")>,\n",
       " <selenium.webdriver.remote.webelement.WebElement (session=\"0a6b7aedc8d9775d13b9edc7388d6b54\", element=\"1b90f766-9dc8-4202-b6a4-f8cde855597a\")>,\n",
       " <selenium.webdriver.remote.webelement.WebElement (session=\"0a6b7aedc8d9775d13b9edc7388d6b54\", element=\"294bf79e-76fb-4209-8494-2c3aabf61640\")>,\n",
       " <selenium.webdriver.remote.webelement.WebElement (session=\"0a6b7aedc8d9775d13b9edc7388d6b54\", element=\"b33470cb-3766-4a4b-bdc2-39cd0277a005\")>,\n",
       " <selenium.webdriver.remote.webelement.WebElement (session=\"0a6b7aedc8d9775d13b9edc7388d6b54\", element=\"45766fff-5496-4743-b9df-3a8e203de9ee\")>,\n",
       " <selenium.webdriver.remote.webelement.WebElement (session=\"0a6b7aedc8d9775d13b9edc7388d6b54\", element=\"2a302df5-4044-4b34-8f03-fa83161a632e\")>,\n",
       " <selenium.webdriver.remote.webelement.WebElement (session=\"0a6b7aedc8d9775d13b9edc7388d6b54\", element=\"7f37d88a-f637-4dea-aeab-8e5ea1acbfe6\")>,\n",
       " <selenium.webdriver.remote.webelement.WebElement (session=\"0a6b7aedc8d9775d13b9edc7388d6b54\", element=\"da933eae-0790-4009-8f68-d9b5ed9f88e1\")>,\n",
       " <selenium.webdriver.remote.webelement.WebElement (session=\"0a6b7aedc8d9775d13b9edc7388d6b54\", element=\"e2b50c3a-2953-468a-af41-60036161d913\")>,\n",
       " <selenium.webdriver.remote.webelement.WebElement (session=\"0a6b7aedc8d9775d13b9edc7388d6b54\", element=\"addcb1b1-ed3f-4b36-bbb9-16b8beb05e81\")>]"
      ]
     },
     "execution_count": 28,
     "metadata": {},
     "output_type": "execute_result"
    }
   ],
   "source": [
    "scrap_company = driver.find_elements_by_xpath(\"//a[@class='subTitle ellipsis fleft']\")\n",
    "scrap_company"
   ]
  },
  {
   "cell_type": "code",
   "execution_count": 29,
   "metadata": {
    "scrolled": false
   },
   "outputs": [
    {
     "data": {
      "text/plain": [
       "['Agreeya',\n",
       " 'iHackers Inc',\n",
       " 'CBRE South Asia Pvt Ltd',\n",
       " 'Optum Global Solutions (India) Private Limited',\n",
       " 'WEGARNER SOLUTIONS PRIVATE LIMITED',\n",
       " 'GABA Consultancy services',\n",
       " 'Entune IT Consulting Private Limited',\n",
       " 'R Systems International Ltd.',\n",
       " 'TalPro',\n",
       " 'TalPro']"
      ]
     },
     "execution_count": 29,
     "metadata": {},
     "output_type": "execute_result"
    }
   ],
   "source": [
    "job_company = []\n",
    "for i in scrap_company[:10]:\n",
    "    job_company.append(i.text)\n",
    "job_company"
   ]
  },
  {
   "cell_type": "code",
   "execution_count": 30,
   "metadata": {
    "scrolled": true
   },
   "outputs": [
    {
     "data": {
      "text/plain": [
       "10"
      ]
     },
     "execution_count": 30,
     "metadata": {},
     "output_type": "execute_result"
    }
   ],
   "source": [
    "len(job_company)"
   ]
  },
  {
   "cell_type": "code",
   "execution_count": 34,
   "metadata": {
    "scrolled": true
   },
   "outputs": [
    {
     "data": {
      "text/plain": [
       "[<selenium.webdriver.remote.webelement.WebElement (session=\"0a6b7aedc8d9775d13b9edc7388d6b54\", element=\"4709c147-6beb-4322-b40a-4fad36a13d1f\")>,\n",
       " <selenium.webdriver.remote.webelement.WebElement (session=\"0a6b7aedc8d9775d13b9edc7388d6b54\", element=\"4fc9701b-7f14-4126-8d4a-1fb179bc554b\")>,\n",
       " <selenium.webdriver.remote.webelement.WebElement (session=\"0a6b7aedc8d9775d13b9edc7388d6b54\", element=\"2a7d6875-f553-4876-930c-611dd9a5fed0\")>,\n",
       " <selenium.webdriver.remote.webelement.WebElement (session=\"0a6b7aedc8d9775d13b9edc7388d6b54\", element=\"6c5a18e6-8430-451e-96d4-de98f83a4bd4\")>,\n",
       " <selenium.webdriver.remote.webelement.WebElement (session=\"0a6b7aedc8d9775d13b9edc7388d6b54\", element=\"8a12f4b3-27f3-425d-b3f6-376a6bb3c2ff\")>,\n",
       " <selenium.webdriver.remote.webelement.WebElement (session=\"0a6b7aedc8d9775d13b9edc7388d6b54\", element=\"849f614c-17c2-488a-bbdf-b461eae03feb\")>,\n",
       " <selenium.webdriver.remote.webelement.WebElement (session=\"0a6b7aedc8d9775d13b9edc7388d6b54\", element=\"2c3aa86c-c97f-403d-a1fe-dde16d1cdb18\")>,\n",
       " <selenium.webdriver.remote.webelement.WebElement (session=\"0a6b7aedc8d9775d13b9edc7388d6b54\", element=\"d2400759-d0d1-4574-a601-9cc5843673ff\")>,\n",
       " <selenium.webdriver.remote.webelement.WebElement (session=\"0a6b7aedc8d9775d13b9edc7388d6b54\", element=\"042d2551-f71b-4eb7-9d8e-ec53f4eefeb9\")>,\n",
       " <selenium.webdriver.remote.webelement.WebElement (session=\"0a6b7aedc8d9775d13b9edc7388d6b54\", element=\"70806a95-333d-4565-a923-5e7ceb3dd197\")>,\n",
       " <selenium.webdriver.remote.webelement.WebElement (session=\"0a6b7aedc8d9775d13b9edc7388d6b54\", element=\"d4a20b26-b338-492c-bf5f-b5ab9ae64872\")>,\n",
       " <selenium.webdriver.remote.webelement.WebElement (session=\"0a6b7aedc8d9775d13b9edc7388d6b54\", element=\"1fb23b2f-e11a-4d8c-92db-63ea240bef5a\")>,\n",
       " <selenium.webdriver.remote.webelement.WebElement (session=\"0a6b7aedc8d9775d13b9edc7388d6b54\", element=\"01bf29e8-5f7f-4059-8dd2-3a5eb4f1e1f5\")>,\n",
       " <selenium.webdriver.remote.webelement.WebElement (session=\"0a6b7aedc8d9775d13b9edc7388d6b54\", element=\"54a9c1c5-d07d-455b-b583-7ab33f462b32\")>,\n",
       " <selenium.webdriver.remote.webelement.WebElement (session=\"0a6b7aedc8d9775d13b9edc7388d6b54\", element=\"c1e1baf3-3cd9-46fa-85ee-51d4b2631bda\")>,\n",
       " <selenium.webdriver.remote.webelement.WebElement (session=\"0a6b7aedc8d9775d13b9edc7388d6b54\", element=\"954578ca-d0f3-4b54-9218-8816a9ec870b\")>,\n",
       " <selenium.webdriver.remote.webelement.WebElement (session=\"0a6b7aedc8d9775d13b9edc7388d6b54\", element=\"44cc61ed-a318-4a0e-b587-6cf6024644ce\")>,\n",
       " <selenium.webdriver.remote.webelement.WebElement (session=\"0a6b7aedc8d9775d13b9edc7388d6b54\", element=\"c6f50a85-b18b-4bc3-aaa3-4d31a6dec748\")>,\n",
       " <selenium.webdriver.remote.webelement.WebElement (session=\"0a6b7aedc8d9775d13b9edc7388d6b54\", element=\"1cf8fdb6-8430-4710-b336-2bdc75480db9\")>,\n",
       " <selenium.webdriver.remote.webelement.WebElement (session=\"0a6b7aedc8d9775d13b9edc7388d6b54\", element=\"0059e265-d7ed-414d-b414-d8cd97516b0a\")>]"
      ]
     },
     "execution_count": 34,
     "metadata": {},
     "output_type": "execute_result"
    }
   ],
   "source": [
    "scrap_experiance = driver.find_elements_by_xpath(\"//li[@class='fleft grey-text br2 placeHolderLi experience']/span\")\n",
    "scrap_experiance"
   ]
  },
  {
   "cell_type": "code",
   "execution_count": 36,
   "metadata": {
    "scrolled": false
   },
   "outputs": [
    {
     "data": {
      "text/plain": [
       "['3-6 Yrs',\n",
       " '0-1 Yrs',\n",
       " '2-4 Yrs',\n",
       " '2-6 Yrs',\n",
       " '0-5 Yrs',\n",
       " '0-0 Yrs',\n",
       " '5-8 Yrs',\n",
       " '5-10 Yrs',\n",
       " '2-6 Yrs',\n",
       " '2-4 Yrs']"
      ]
     },
     "execution_count": 36,
     "metadata": {},
     "output_type": "execute_result"
    }
   ],
   "source": [
    "job_exp = []\n",
    "for i in scrap_experiance[:10]:\n",
    "    job_exp.append(i.text)\n",
    "job_exp"
   ]
  },
  {
   "cell_type": "code",
   "execution_count": 37,
   "metadata": {
    "scrolled": true
   },
   "outputs": [
    {
     "data": {
      "text/plain": [
       "10"
      ]
     },
     "execution_count": 37,
     "metadata": {},
     "output_type": "execute_result"
    }
   ],
   "source": [
    "len(job_exp)"
   ]
  },
  {
   "cell_type": "code",
   "execution_count": 113,
   "metadata": {},
   "outputs": [
    {
     "data": {
      "text/html": [
       "<div>\n",
       "<style scoped>\n",
       "    .dataframe tbody tr th:only-of-type {\n",
       "        vertical-align: middle;\n",
       "    }\n",
       "\n",
       "    .dataframe tbody tr th {\n",
       "        vertical-align: top;\n",
       "    }\n",
       "\n",
       "    .dataframe thead th {\n",
       "        text-align: right;\n",
       "    }\n",
       "</style>\n",
       "<table border=\"1\" class=\"dataframe\">\n",
       "  <thead>\n",
       "    <tr style=\"text-align: right;\">\n",
       "      <th></th>\n",
       "      <th>Title</th>\n",
       "      <th>Location</th>\n",
       "      <th>Company</th>\n",
       "      <th>Experiance</th>\n",
       "    </tr>\n",
       "  </thead>\n",
       "  <tbody>\n",
       "    <tr>\n",
       "      <th>0</th>\n",
       "      <td>Data Scientist</td>\n",
       "      <td>Noida, Gurgaon/Gurugram, Delhi / NCR</td>\n",
       "      <td>Agreeya</td>\n",
       "      <td>3-6 Yrs</td>\n",
       "    </tr>\n",
       "    <tr>\n",
       "      <th>1</th>\n",
       "      <td>Data Scientist Internship</td>\n",
       "      <td>New Delhi</td>\n",
       "      <td>iHackers Inc</td>\n",
       "      <td>0-1 Yrs</td>\n",
       "    </tr>\n",
       "    <tr>\n",
       "      <th>2</th>\n",
       "      <td>Data Scientist</td>\n",
       "      <td>Gurgaon/Gurugram</td>\n",
       "      <td>CBRE South Asia Pvt Ltd</td>\n",
       "      <td>2-4 Yrs</td>\n",
       "    </tr>\n",
       "    <tr>\n",
       "      <th>3</th>\n",
       "      <td>Senior Data Scientist - Noida</td>\n",
       "      <td>Noida</td>\n",
       "      <td>Optum Global Solutions (India) Private Limited</td>\n",
       "      <td>2-6 Yrs</td>\n",
       "    </tr>\n",
       "    <tr>\n",
       "      <th>4</th>\n",
       "      <td>Data Scientist / Sr. Data Scientist</td>\n",
       "      <td>Noida, Pune, Mumbai (All Areas)</td>\n",
       "      <td>WEGARNER SOLUTIONS PRIVATE LIMITED</td>\n",
       "      <td>0-5 Yrs</td>\n",
       "    </tr>\n",
       "    <tr>\n",
       "      <th>5</th>\n",
       "      <td>Only Fresher / Data Scientist / Data Analyst /...</td>\n",
       "      <td>Noida, Gurgaon/Gurugram, Delhi / NCR</td>\n",
       "      <td>GABA Consultancy services</td>\n",
       "      <td>0-0 Yrs</td>\n",
       "    </tr>\n",
       "    <tr>\n",
       "      <th>6</th>\n",
       "      <td>Immediate Openings For DATA Scientist with 6 T...</td>\n",
       "      <td>Kolkata, Hyderabad/Secunderabad, Pune, Ahmedab...</td>\n",
       "      <td>Entune IT Consulting Private Limited</td>\n",
       "      <td>5-8 Yrs</td>\n",
       "    </tr>\n",
       "    <tr>\n",
       "      <th>7</th>\n",
       "      <td>Data Scientist</td>\n",
       "      <td>(WFH during Covid)</td>\n",
       "      <td>R Systems International Ltd.</td>\n",
       "      <td>5-10 Yrs</td>\n",
       "    </tr>\n",
       "    <tr>\n",
       "      <th>8</th>\n",
       "      <td>Data Scientist</td>\n",
       "      <td>Noida(Sector-59 Noida)</td>\n",
       "      <td>TalPro</td>\n",
       "      <td>2-6 Yrs</td>\n",
       "    </tr>\n",
       "    <tr>\n",
       "      <th>9</th>\n",
       "      <td>Data Scientist - Machine Learning/NLP</td>\n",
       "      <td>Gurgaon/Gurugram</td>\n",
       "      <td>TalPro</td>\n",
       "      <td>2-4 Yrs</td>\n",
       "    </tr>\n",
       "  </tbody>\n",
       "</table>\n",
       "</div>"
      ],
      "text/plain": [
       "                                               Title  \\\n",
       "0                                     Data Scientist   \n",
       "1                          Data Scientist Internship   \n",
       "2                                     Data Scientist   \n",
       "3                      Senior Data Scientist - Noida   \n",
       "4                Data Scientist / Sr. Data Scientist   \n",
       "5  Only Fresher / Data Scientist / Data Analyst /...   \n",
       "6  Immediate Openings For DATA Scientist with 6 T...   \n",
       "7                                     Data Scientist   \n",
       "8                                     Data Scientist   \n",
       "9              Data Scientist - Machine Learning/NLP   \n",
       "\n",
       "                                            Location  \\\n",
       "0               Noida, Gurgaon/Gurugram, Delhi / NCR   \n",
       "1                                          New Delhi   \n",
       "2                                   Gurgaon/Gurugram   \n",
       "3                                              Noida   \n",
       "4                    Noida, Pune, Mumbai (All Areas)   \n",
       "5               Noida, Gurgaon/Gurugram, Delhi / NCR   \n",
       "6  Kolkata, Hyderabad/Secunderabad, Pune, Ahmedab...   \n",
       "7                                 (WFH during Covid)   \n",
       "8                             Noida(Sector-59 Noida)   \n",
       "9                                   Gurgaon/Gurugram   \n",
       "\n",
       "                                          Company Experiance  \n",
       "0                                         Agreeya    3-6 Yrs  \n",
       "1                                    iHackers Inc    0-1 Yrs  \n",
       "2                         CBRE South Asia Pvt Ltd    2-4 Yrs  \n",
       "3  Optum Global Solutions (India) Private Limited    2-6 Yrs  \n",
       "4              WEGARNER SOLUTIONS PRIVATE LIMITED    0-5 Yrs  \n",
       "5                       GABA Consultancy services    0-0 Yrs  \n",
       "6            Entune IT Consulting Private Limited    5-8 Yrs  \n",
       "7                    R Systems International Ltd.   5-10 Yrs  \n",
       "8                                          TalPro    2-6 Yrs  \n",
       "9                                          TalPro    2-4 Yrs  "
      ]
     },
     "execution_count": 113,
     "metadata": {},
     "output_type": "execute_result"
    }
   ],
   "source": [
    "job_Delhi = pd.DataFrame({'Title':job_title,'Location':job_location,'Company':job_company,'Experiance':job_exp})\n",
    "job_Delhi"
   ]
  },
  {
   "cell_type": "markdown",
   "metadata": {},
   "source": [
    "# Q4"
   ]
  },
  {
   "cell_type": "code",
   "execution_count": 3,
   "metadata": {},
   "outputs": [],
   "source": [
    "url = \"https://www.glassdoor.co.in/index.htm\"\n",
    "driver.get(url)"
   ]
  },
  {
   "cell_type": "code",
   "execution_count": 11,
   "metadata": {
    "scrolled": false
   },
   "outputs": [
    {
     "data": {
      "text/plain": [
       "<selenium.webdriver.remote.webelement.WebElement (session=\"1018542cb8016d525ed1e3beef134df8\", element=\"4af3fa9b-a125-47d9-92d7-3f5bdf81e802\")>"
      ]
     },
     "execution_count": 11,
     "metadata": {},
     "output_type": "execute_result"
    }
   ],
   "source": [
    "scrap_desig = driver.find_element_by_xpath(\"//div[@class='input-wrapper css-q444d9']\")\n",
    "scrap_desig"
   ]
  },
  {
   "cell_type": "code",
   "execution_count": 13,
   "metadata": {
    "scrolled": true
   },
   "outputs": [
    {
     "ename": "ElementNotInteractableException",
     "evalue": "Message: element not interactable\n  (Session info: chrome=92.0.4515.131)\n",
     "output_type": "error",
     "traceback": [
      "\u001b[0;31m---------------------------------------------------------------------------\u001b[0m",
      "\u001b[0;31mElementNotInteractableException\u001b[0m           Traceback (most recent call last)",
      "\u001b[0;32m<ipython-input-13-cdc3c6642c90>\u001b[0m in \u001b[0;36m<module>\u001b[0;34m\u001b[0m\n\u001b[0;32m----> 1\u001b[0;31m \u001b[0mscrap_desig\u001b[0m\u001b[0;34m.\u001b[0m\u001b[0msend_keys\u001b[0m\u001b[0;34m(\u001b[0m\u001b[0;34m'Data scientist'\u001b[0m\u001b[0;34m)\u001b[0m\u001b[0;34m\u001b[0m\u001b[0;34m\u001b[0m\u001b[0m\n\u001b[0m",
      "\u001b[0;32m~/opt/anaconda3/lib/python3.8/site-packages/selenium/webdriver/remote/webelement.py\u001b[0m in \u001b[0;36msend_keys\u001b[0;34m(self, *value)\u001b[0m\n\u001b[1;32m    475\u001b[0m                 \u001b[0mvalue\u001b[0m \u001b[0;34m=\u001b[0m \u001b[0mself\u001b[0m\u001b[0;34m.\u001b[0m\u001b[0m_upload\u001b[0m\u001b[0;34m(\u001b[0m\u001b[0mlocal_file\u001b[0m\u001b[0;34m)\u001b[0m\u001b[0;34m\u001b[0m\u001b[0;34m\u001b[0m\u001b[0m\n\u001b[1;32m    476\u001b[0m \u001b[0;34m\u001b[0m\u001b[0m\n\u001b[0;32m--> 477\u001b[0;31m         self._execute(Command.SEND_KEYS_TO_ELEMENT,\n\u001b[0m\u001b[1;32m    478\u001b[0m                       {'text': \"\".join(keys_to_typing(value)),\n\u001b[1;32m    479\u001b[0m                        'value': keys_to_typing(value)})\n",
      "\u001b[0;32m~/opt/anaconda3/lib/python3.8/site-packages/selenium/webdriver/remote/webelement.py\u001b[0m in \u001b[0;36m_execute\u001b[0;34m(self, command, params)\u001b[0m\n\u001b[1;32m    631\u001b[0m             \u001b[0mparams\u001b[0m \u001b[0;34m=\u001b[0m \u001b[0;34m{\u001b[0m\u001b[0;34m}\u001b[0m\u001b[0;34m\u001b[0m\u001b[0;34m\u001b[0m\u001b[0m\n\u001b[1;32m    632\u001b[0m         \u001b[0mparams\u001b[0m\u001b[0;34m[\u001b[0m\u001b[0;34m'id'\u001b[0m\u001b[0;34m]\u001b[0m \u001b[0;34m=\u001b[0m \u001b[0mself\u001b[0m\u001b[0;34m.\u001b[0m\u001b[0m_id\u001b[0m\u001b[0;34m\u001b[0m\u001b[0;34m\u001b[0m\u001b[0m\n\u001b[0;32m--> 633\u001b[0;31m         \u001b[0;32mreturn\u001b[0m \u001b[0mself\u001b[0m\u001b[0;34m.\u001b[0m\u001b[0m_parent\u001b[0m\u001b[0;34m.\u001b[0m\u001b[0mexecute\u001b[0m\u001b[0;34m(\u001b[0m\u001b[0mcommand\u001b[0m\u001b[0;34m,\u001b[0m \u001b[0mparams\u001b[0m\u001b[0;34m)\u001b[0m\u001b[0;34m\u001b[0m\u001b[0;34m\u001b[0m\u001b[0m\n\u001b[0m\u001b[1;32m    634\u001b[0m \u001b[0;34m\u001b[0m\u001b[0m\n\u001b[1;32m    635\u001b[0m     \u001b[0;32mdef\u001b[0m \u001b[0mfind_element\u001b[0m\u001b[0;34m(\u001b[0m\u001b[0mself\u001b[0m\u001b[0;34m,\u001b[0m \u001b[0mby\u001b[0m\u001b[0;34m=\u001b[0m\u001b[0mBy\u001b[0m\u001b[0;34m.\u001b[0m\u001b[0mID\u001b[0m\u001b[0;34m,\u001b[0m \u001b[0mvalue\u001b[0m\u001b[0;34m=\u001b[0m\u001b[0;32mNone\u001b[0m\u001b[0;34m)\u001b[0m\u001b[0;34m:\u001b[0m\u001b[0;34m\u001b[0m\u001b[0;34m\u001b[0m\u001b[0m\n",
      "\u001b[0;32m~/opt/anaconda3/lib/python3.8/site-packages/selenium/webdriver/remote/webdriver.py\u001b[0m in \u001b[0;36mexecute\u001b[0;34m(self, driver_command, params)\u001b[0m\n\u001b[1;32m    319\u001b[0m         \u001b[0mresponse\u001b[0m \u001b[0;34m=\u001b[0m \u001b[0mself\u001b[0m\u001b[0;34m.\u001b[0m\u001b[0mcommand_executor\u001b[0m\u001b[0;34m.\u001b[0m\u001b[0mexecute\u001b[0m\u001b[0;34m(\u001b[0m\u001b[0mdriver_command\u001b[0m\u001b[0;34m,\u001b[0m \u001b[0mparams\u001b[0m\u001b[0;34m)\u001b[0m\u001b[0;34m\u001b[0m\u001b[0;34m\u001b[0m\u001b[0m\n\u001b[1;32m    320\u001b[0m         \u001b[0;32mif\u001b[0m \u001b[0mresponse\u001b[0m\u001b[0;34m:\u001b[0m\u001b[0;34m\u001b[0m\u001b[0;34m\u001b[0m\u001b[0m\n\u001b[0;32m--> 321\u001b[0;31m             \u001b[0mself\u001b[0m\u001b[0;34m.\u001b[0m\u001b[0merror_handler\u001b[0m\u001b[0;34m.\u001b[0m\u001b[0mcheck_response\u001b[0m\u001b[0;34m(\u001b[0m\u001b[0mresponse\u001b[0m\u001b[0;34m)\u001b[0m\u001b[0;34m\u001b[0m\u001b[0;34m\u001b[0m\u001b[0m\n\u001b[0m\u001b[1;32m    322\u001b[0m             response['value'] = self._unwrap_value(\n\u001b[1;32m    323\u001b[0m                 response.get('value', None))\n",
      "\u001b[0;32m~/opt/anaconda3/lib/python3.8/site-packages/selenium/webdriver/remote/errorhandler.py\u001b[0m in \u001b[0;36mcheck_response\u001b[0;34m(self, response)\u001b[0m\n\u001b[1;32m    240\u001b[0m                 \u001b[0malert_text\u001b[0m \u001b[0;34m=\u001b[0m \u001b[0mvalue\u001b[0m\u001b[0;34m[\u001b[0m\u001b[0;34m'alert'\u001b[0m\u001b[0;34m]\u001b[0m\u001b[0;34m.\u001b[0m\u001b[0mget\u001b[0m\u001b[0;34m(\u001b[0m\u001b[0;34m'text'\u001b[0m\u001b[0;34m)\u001b[0m\u001b[0;34m\u001b[0m\u001b[0;34m\u001b[0m\u001b[0m\n\u001b[1;32m    241\u001b[0m             \u001b[0;32mraise\u001b[0m \u001b[0mexception_class\u001b[0m\u001b[0;34m(\u001b[0m\u001b[0mmessage\u001b[0m\u001b[0;34m,\u001b[0m \u001b[0mscreen\u001b[0m\u001b[0;34m,\u001b[0m \u001b[0mstacktrace\u001b[0m\u001b[0;34m,\u001b[0m \u001b[0malert_text\u001b[0m\u001b[0;34m)\u001b[0m\u001b[0;34m\u001b[0m\u001b[0;34m\u001b[0m\u001b[0m\n\u001b[0;32m--> 242\u001b[0;31m         \u001b[0;32mraise\u001b[0m \u001b[0mexception_class\u001b[0m\u001b[0;34m(\u001b[0m\u001b[0mmessage\u001b[0m\u001b[0;34m,\u001b[0m \u001b[0mscreen\u001b[0m\u001b[0;34m,\u001b[0m \u001b[0mstacktrace\u001b[0m\u001b[0;34m)\u001b[0m\u001b[0;34m\u001b[0m\u001b[0;34m\u001b[0m\u001b[0m\n\u001b[0m\u001b[1;32m    243\u001b[0m \u001b[0;34m\u001b[0m\u001b[0m\n\u001b[1;32m    244\u001b[0m     \u001b[0;32mdef\u001b[0m \u001b[0m_value_or_default\u001b[0m\u001b[0;34m(\u001b[0m\u001b[0mself\u001b[0m\u001b[0;34m,\u001b[0m \u001b[0mobj\u001b[0m\u001b[0;34m,\u001b[0m \u001b[0mkey\u001b[0m\u001b[0;34m,\u001b[0m \u001b[0mdefault\u001b[0m\u001b[0;34m)\u001b[0m\u001b[0;34m:\u001b[0m\u001b[0;34m\u001b[0m\u001b[0;34m\u001b[0m\u001b[0m\n",
      "\u001b[0;31mElementNotInteractableException\u001b[0m: Message: element not interactable\n  (Session info: chrome=92.0.4515.131)\n"
     ]
    }
   ],
   "source": [
    "scrap_desig.send_keys('Data scientist')"
   ]
  },
  {
   "cell_type": "markdown",
   "metadata": {},
   "source": [
    "# Q6"
   ]
  },
  {
   "cell_type": "code",
   "execution_count": 3,
   "metadata": {},
   "outputs": [],
   "source": [
    "url = 'https://www.flipkart.com/'\n",
    "driver.get(url)"
   ]
  },
  {
   "cell_type": "code",
   "execution_count": 15,
   "metadata": {},
   "outputs": [
    {
     "data": {
      "text/plain": [
       "<selenium.webdriver.remote.webelement.WebElement (session=\"a5c21327edced594eb8f87775b565e68\", element=\"7091f38f-53a9-4c18-80f6-1717957a634c\")>"
      ]
     },
     "execution_count": 15,
     "metadata": {},
     "output_type": "execute_result"
    }
   ],
   "source": [
    "scrap_sunglass = driver.find_element_by_xpath(\"//input[@title='Search for products, brands and more']\")\n",
    "scrap_sunglass"
   ]
  },
  {
   "cell_type": "code",
   "execution_count": 16,
   "metadata": {},
   "outputs": [],
   "source": [
    "scrap_sunglass.send_keys('sunglasses')"
   ]
  },
  {
   "cell_type": "code",
   "execution_count": 17,
   "metadata": {},
   "outputs": [
    {
     "data": {
      "text/plain": [
       "<selenium.webdriver.remote.webelement.WebElement (session=\"a5c21327edced594eb8f87775b565e68\", element=\"5a95e1ae-397a-4eb3-a4b1-d68dbb3b7d78\")>"
      ]
     },
     "execution_count": 17,
     "metadata": {},
     "output_type": "execute_result"
    }
   ],
   "source": [
    "scrap_btn = driver.find_element_by_xpath(\"//button[@class='L0Z3Pu']\")\n",
    "scrap_btn"
   ]
  },
  {
   "cell_type": "code",
   "execution_count": 18,
   "metadata": {},
   "outputs": [],
   "source": [
    "scrap_btn.click()"
   ]
  },
  {
   "cell_type": "code",
   "execution_count": 19,
   "metadata": {
    "scrolled": true
   },
   "outputs": [
    {
     "data": {
      "text/plain": [
       "[<selenium.webdriver.remote.webelement.WebElement (session=\"a5c21327edced594eb8f87775b565e68\", element=\"93a5d424-7239-4f59-808c-e330b07456e1\")>,\n",
       " <selenium.webdriver.remote.webelement.WebElement (session=\"a5c21327edced594eb8f87775b565e68\", element=\"a0ee77c7-2b71-4fbe-95a5-ca34df8f908f\")>,\n",
       " <selenium.webdriver.remote.webelement.WebElement (session=\"a5c21327edced594eb8f87775b565e68\", element=\"1c2cf7f6-e853-43a2-b410-65b091dafed1\")>,\n",
       " <selenium.webdriver.remote.webelement.WebElement (session=\"a5c21327edced594eb8f87775b565e68\", element=\"beced62b-85df-479e-b04c-869a826effbb\")>,\n",
       " <selenium.webdriver.remote.webelement.WebElement (session=\"a5c21327edced594eb8f87775b565e68\", element=\"38306795-c4ea-4530-a684-db1abf72fe57\")>,\n",
       " <selenium.webdriver.remote.webelement.WebElement (session=\"a5c21327edced594eb8f87775b565e68\", element=\"4630b7a9-b1c1-4803-8654-345ac42beaf8\")>,\n",
       " <selenium.webdriver.remote.webelement.WebElement (session=\"a5c21327edced594eb8f87775b565e68\", element=\"d7accb13-dc70-450d-8f1c-4a2d37683bd2\")>,\n",
       " <selenium.webdriver.remote.webelement.WebElement (session=\"a5c21327edced594eb8f87775b565e68\", element=\"48dade57-831a-47d8-82d9-43976ab3b306\")>,\n",
       " <selenium.webdriver.remote.webelement.WebElement (session=\"a5c21327edced594eb8f87775b565e68\", element=\"08985783-d431-477c-b8af-710e0fbbfe1d\")>,\n",
       " <selenium.webdriver.remote.webelement.WebElement (session=\"a5c21327edced594eb8f87775b565e68\", element=\"84efb26a-724e-4aa4-bc60-e91eadbe317e\")>,\n",
       " <selenium.webdriver.remote.webelement.WebElement (session=\"a5c21327edced594eb8f87775b565e68\", element=\"99e5fec8-6aae-4483-95ca-e87f5bb0f5f8\")>,\n",
       " <selenium.webdriver.remote.webelement.WebElement (session=\"a5c21327edced594eb8f87775b565e68\", element=\"794d4fcf-7030-455f-8d4a-d74eb245a401\")>,\n",
       " <selenium.webdriver.remote.webelement.WebElement (session=\"a5c21327edced594eb8f87775b565e68\", element=\"61d4abd4-4c55-493b-bab0-eadde135df33\")>,\n",
       " <selenium.webdriver.remote.webelement.WebElement (session=\"a5c21327edced594eb8f87775b565e68\", element=\"555053fc-486e-4853-b8f9-67bd4365ba05\")>,\n",
       " <selenium.webdriver.remote.webelement.WebElement (session=\"a5c21327edced594eb8f87775b565e68\", element=\"9bb29481-5c9d-4ef0-a351-e1ad2a5cac59\")>,\n",
       " <selenium.webdriver.remote.webelement.WebElement (session=\"a5c21327edced594eb8f87775b565e68\", element=\"d6c7a6e4-b054-423a-a3b2-9a0187ca46cd\")>,\n",
       " <selenium.webdriver.remote.webelement.WebElement (session=\"a5c21327edced594eb8f87775b565e68\", element=\"4f54573f-b016-4d00-90c2-80d86ea44268\")>,\n",
       " <selenium.webdriver.remote.webelement.WebElement (session=\"a5c21327edced594eb8f87775b565e68\", element=\"61e74d2a-4dd3-418b-b916-5eefe32f3912\")>,\n",
       " <selenium.webdriver.remote.webelement.WebElement (session=\"a5c21327edced594eb8f87775b565e68\", element=\"5eea2cb7-1d87-496a-bcdf-53b81db06f26\")>,\n",
       " <selenium.webdriver.remote.webelement.WebElement (session=\"a5c21327edced594eb8f87775b565e68\", element=\"02326c64-feb4-4a01-9e12-c3773da3057d\")>,\n",
       " <selenium.webdriver.remote.webelement.WebElement (session=\"a5c21327edced594eb8f87775b565e68\", element=\"458b0b85-407f-4705-96d2-e06038d2daab\")>,\n",
       " <selenium.webdriver.remote.webelement.WebElement (session=\"a5c21327edced594eb8f87775b565e68\", element=\"23c525fd-51a7-4341-b754-dc7e88dcfc2d\")>,\n",
       " <selenium.webdriver.remote.webelement.WebElement (session=\"a5c21327edced594eb8f87775b565e68\", element=\"c20a2ab2-7fc5-469a-83ba-049c4adb349f\")>,\n",
       " <selenium.webdriver.remote.webelement.WebElement (session=\"a5c21327edced594eb8f87775b565e68\", element=\"5026bd6f-02d4-4cf1-9cc5-d9d78698a459\")>,\n",
       " <selenium.webdriver.remote.webelement.WebElement (session=\"a5c21327edced594eb8f87775b565e68\", element=\"c5ce2aa7-01b9-4ed9-bf4a-dd1fbf5b598e\")>,\n",
       " <selenium.webdriver.remote.webelement.WebElement (session=\"a5c21327edced594eb8f87775b565e68\", element=\"fc2175c9-3186-4c5c-a182-2b4eda180204\")>,\n",
       " <selenium.webdriver.remote.webelement.WebElement (session=\"a5c21327edced594eb8f87775b565e68\", element=\"0378e171-5424-424c-b068-df664ca52037\")>,\n",
       " <selenium.webdriver.remote.webelement.WebElement (session=\"a5c21327edced594eb8f87775b565e68\", element=\"743a1c05-a5aa-49e4-8092-03c4164bb307\")>,\n",
       " <selenium.webdriver.remote.webelement.WebElement (session=\"a5c21327edced594eb8f87775b565e68\", element=\"1e6aedc1-6cb6-47e8-9cc5-60e67fe57d49\")>,\n",
       " <selenium.webdriver.remote.webelement.WebElement (session=\"a5c21327edced594eb8f87775b565e68\", element=\"0b8785b4-5460-46c9-b79c-85291a1e899e\")>,\n",
       " <selenium.webdriver.remote.webelement.WebElement (session=\"a5c21327edced594eb8f87775b565e68\", element=\"6c15833b-befd-491e-b129-16942ea15d33\")>,\n",
       " <selenium.webdriver.remote.webelement.WebElement (session=\"a5c21327edced594eb8f87775b565e68\", element=\"fbc4ba73-c7cd-445b-8c07-b61e5ca1bda5\")>,\n",
       " <selenium.webdriver.remote.webelement.WebElement (session=\"a5c21327edced594eb8f87775b565e68\", element=\"25ea9797-2a5d-4e50-913c-3b19d7ec008f\")>,\n",
       " <selenium.webdriver.remote.webelement.WebElement (session=\"a5c21327edced594eb8f87775b565e68\", element=\"78c9cb19-cf96-45f2-b669-211f74f8f56c\")>,\n",
       " <selenium.webdriver.remote.webelement.WebElement (session=\"a5c21327edced594eb8f87775b565e68\", element=\"ed742994-bcd5-4994-84d2-ab7a32cd7ef1\")>,\n",
       " <selenium.webdriver.remote.webelement.WebElement (session=\"a5c21327edced594eb8f87775b565e68\", element=\"445501b3-a547-4a41-a6ef-a8d10a57dd1b\")>,\n",
       " <selenium.webdriver.remote.webelement.WebElement (session=\"a5c21327edced594eb8f87775b565e68\", element=\"0a4a2ec2-22e9-40cd-b7b5-cd51e8286325\")>,\n",
       " <selenium.webdriver.remote.webelement.WebElement (session=\"a5c21327edced594eb8f87775b565e68\", element=\"6c57bc80-2fe8-4a2a-9b1d-1d4c87520301\")>,\n",
       " <selenium.webdriver.remote.webelement.WebElement (session=\"a5c21327edced594eb8f87775b565e68\", element=\"6e0ccd4c-cbf0-4b0b-876a-da53199c4278\")>,\n",
       " <selenium.webdriver.remote.webelement.WebElement (session=\"a5c21327edced594eb8f87775b565e68\", element=\"03de918a-c6e6-436b-8d6c-1942ce7c7b4c\")>]"
      ]
     },
     "execution_count": 19,
     "metadata": {},
     "output_type": "execute_result"
    }
   ],
   "source": [
    "scrap_brand = driver.find_elements_by_xpath(\"//div[@class='_2WkVRV']\")\n",
    "scrap_brand"
   ]
  },
  {
   "cell_type": "code",
   "execution_count": 20,
   "metadata": {
    "scrolled": true
   },
   "outputs": [
    {
     "data": {
      "text/plain": [
       "['VINCENT CHASE',\n",
       " 'VINCENT CHASE',\n",
       " 'Fastrack',\n",
       " 'PIRASO',\n",
       " 'Elligator',\n",
       " 'kingsunglasses',\n",
       " 'PHENOMENAL',\n",
       " 'ROYAL SON',\n",
       " 'Silver Kartz',\n",
       " 'HIPPON',\n",
       " 'ROZZETTA CRAFT',\n",
       " 'ROYAL SON',\n",
       " 'hipe',\n",
       " 'United Colors of Benetton',\n",
       " 'ROYAL SON',\n",
       " 'ROZZETTA CRAFT',\n",
       " 'Singco India',\n",
       " 'GANSTA',\n",
       " 'SRPM',\n",
       " 'ROYAL SON',\n",
       " 'Fravy',\n",
       " 'Ray-Ban',\n",
       " 'Singco',\n",
       " 'Wrogn',\n",
       " 'Villain',\n",
       " 'Crackers',\n",
       " 'NuVew',\n",
       " 'AISLIN',\n",
       " 'elegante',\n",
       " 'FOSSIL',\n",
       " 'IRUS by IDEE',\n",
       " 'ROYAL SON',\n",
       " 'DEIXELS',\n",
       " 'Badfella',\n",
       " 'KAYFA',\n",
       " 'ROYAL SON',\n",
       " 'Flizz',\n",
       " 'AISLIN',\n",
       " 'VINCENT CHASE',\n",
       " 'ROYAL SON']"
      ]
     },
     "execution_count": 20,
     "metadata": {},
     "output_type": "execute_result"
    }
   ],
   "source": [
    "brand = []\n",
    "for i in scrap_brand:\n",
    "    brand.append(i.text)\n",
    "brand"
   ]
  },
  {
   "cell_type": "code",
   "execution_count": 22,
   "metadata": {
    "scrolled": true
   },
   "outputs": [
    {
     "data": {
      "text/plain": [
       "[<selenium.webdriver.remote.webelement.WebElement (session=\"a5c21327edced594eb8f87775b565e68\", element=\"f0464f97-cf7b-4265-a68d-cc6b5b64b3c1\")>,\n",
       " <selenium.webdriver.remote.webelement.WebElement (session=\"a5c21327edced594eb8f87775b565e68\", element=\"6c4cc1f2-8c55-4504-8341-d9a6402cd008\")>,\n",
       " <selenium.webdriver.remote.webelement.WebElement (session=\"a5c21327edced594eb8f87775b565e68\", element=\"66fb058f-8aa8-4173-828a-46d0c207f944\")>,\n",
       " <selenium.webdriver.remote.webelement.WebElement (session=\"a5c21327edced594eb8f87775b565e68\", element=\"41dd655e-f37d-42e1-8400-c1787934a144\")>,\n",
       " <selenium.webdriver.remote.webelement.WebElement (session=\"a5c21327edced594eb8f87775b565e68\", element=\"623e618f-37bf-4938-ba6e-c8c13fa05f77\")>,\n",
       " <selenium.webdriver.remote.webelement.WebElement (session=\"a5c21327edced594eb8f87775b565e68\", element=\"ce6552d5-f7a1-450f-9219-5f074c3ab958\")>,\n",
       " <selenium.webdriver.remote.webelement.WebElement (session=\"a5c21327edced594eb8f87775b565e68\", element=\"b360faae-a00f-4607-9f04-aa04df36241e\")>,\n",
       " <selenium.webdriver.remote.webelement.WebElement (session=\"a5c21327edced594eb8f87775b565e68\", element=\"d55f5711-ecca-466f-be04-e8f6aa5ea748\")>,\n",
       " <selenium.webdriver.remote.webelement.WebElement (session=\"a5c21327edced594eb8f87775b565e68\", element=\"f3de19b6-5d60-4fa6-bf6f-05ed5bbc4db9\")>,\n",
       " <selenium.webdriver.remote.webelement.WebElement (session=\"a5c21327edced594eb8f87775b565e68\", element=\"24fe88ac-2868-4d39-bd13-cd5ab9e8fbb1\")>,\n",
       " <selenium.webdriver.remote.webelement.WebElement (session=\"a5c21327edced594eb8f87775b565e68\", element=\"fd4a899d-953c-49d1-aad1-9318f92d5af3\")>,\n",
       " <selenium.webdriver.remote.webelement.WebElement (session=\"a5c21327edced594eb8f87775b565e68\", element=\"cd9ca345-4b4e-4813-b2d8-899b390d851a\")>,\n",
       " <selenium.webdriver.remote.webelement.WebElement (session=\"a5c21327edced594eb8f87775b565e68\", element=\"967a8972-066e-44b6-885e-6ccb97cdba2d\")>,\n",
       " <selenium.webdriver.remote.webelement.WebElement (session=\"a5c21327edced594eb8f87775b565e68\", element=\"1764d0e7-0f5c-49e5-9205-f7f1af860f49\")>,\n",
       " <selenium.webdriver.remote.webelement.WebElement (session=\"a5c21327edced594eb8f87775b565e68\", element=\"20573fc9-e4a0-43b8-bc31-c27709f36ef5\")>,\n",
       " <selenium.webdriver.remote.webelement.WebElement (session=\"a5c21327edced594eb8f87775b565e68\", element=\"0cdcea45-1a33-40bb-a657-f9ee2538a3c3\")>,\n",
       " <selenium.webdriver.remote.webelement.WebElement (session=\"a5c21327edced594eb8f87775b565e68\", element=\"d7281a71-a532-418d-802a-734e9081482c\")>,\n",
       " <selenium.webdriver.remote.webelement.WebElement (session=\"a5c21327edced594eb8f87775b565e68\", element=\"b35580d6-ed0d-4d12-a07d-a6e76e2b14b3\")>,\n",
       " <selenium.webdriver.remote.webelement.WebElement (session=\"a5c21327edced594eb8f87775b565e68\", element=\"7d9e5683-1dc7-4c9a-9267-d365cbff90b3\")>,\n",
       " <selenium.webdriver.remote.webelement.WebElement (session=\"a5c21327edced594eb8f87775b565e68\", element=\"1dbefef0-1389-49d3-ae4d-85b98011e738\")>,\n",
       " <selenium.webdriver.remote.webelement.WebElement (session=\"a5c21327edced594eb8f87775b565e68\", element=\"a1b19207-791b-4aaf-b6de-663485065f4c\")>,\n",
       " <selenium.webdriver.remote.webelement.WebElement (session=\"a5c21327edced594eb8f87775b565e68\", element=\"7a11dc68-3880-4125-b72e-d7749969d29d\")>,\n",
       " <selenium.webdriver.remote.webelement.WebElement (session=\"a5c21327edced594eb8f87775b565e68\", element=\"bd1319f3-6042-48dc-9b18-956abf56f763\")>,\n",
       " <selenium.webdriver.remote.webelement.WebElement (session=\"a5c21327edced594eb8f87775b565e68\", element=\"b5af9145-12ff-40ad-832e-d83c7a58b21f\")>,\n",
       " <selenium.webdriver.remote.webelement.WebElement (session=\"a5c21327edced594eb8f87775b565e68\", element=\"608f1a61-fc28-44a9-ba63-4fb4d3737bf2\")>,\n",
       " <selenium.webdriver.remote.webelement.WebElement (session=\"a5c21327edced594eb8f87775b565e68\", element=\"6419e09d-7b33-49ba-8e1e-f8f370e2903c\")>,\n",
       " <selenium.webdriver.remote.webelement.WebElement (session=\"a5c21327edced594eb8f87775b565e68\", element=\"adca0be1-df7c-408c-87f7-23840079a0da\")>,\n",
       " <selenium.webdriver.remote.webelement.WebElement (session=\"a5c21327edced594eb8f87775b565e68\", element=\"3e94f85d-7d28-493b-b27c-9379a0f38eb1\")>,\n",
       " <selenium.webdriver.remote.webelement.WebElement (session=\"a5c21327edced594eb8f87775b565e68\", element=\"03c9bff9-6dc9-454d-9da9-0a051881ea6e\")>,\n",
       " <selenium.webdriver.remote.webelement.WebElement (session=\"a5c21327edced594eb8f87775b565e68\", element=\"0ca5b356-8309-4ed2-96bf-83c2c7a96472\")>,\n",
       " <selenium.webdriver.remote.webelement.WebElement (session=\"a5c21327edced594eb8f87775b565e68\", element=\"2d0c1948-8122-43f1-8918-668786d66bdf\")>,\n",
       " <selenium.webdriver.remote.webelement.WebElement (session=\"a5c21327edced594eb8f87775b565e68\", element=\"239d3864-293e-4fc3-a304-c874cb63ec71\")>,\n",
       " <selenium.webdriver.remote.webelement.WebElement (session=\"a5c21327edced594eb8f87775b565e68\", element=\"eeca1ea5-5781-4fe5-b2ff-04b8a7214fc1\")>,\n",
       " <selenium.webdriver.remote.webelement.WebElement (session=\"a5c21327edced594eb8f87775b565e68\", element=\"07a5d1d5-7894-464a-8863-d5724adcb6a5\")>,\n",
       " <selenium.webdriver.remote.webelement.WebElement (session=\"a5c21327edced594eb8f87775b565e68\", element=\"7103da6d-98e7-466b-9e35-c9ef17f361ab\")>,\n",
       " <selenium.webdriver.remote.webelement.WebElement (session=\"a5c21327edced594eb8f87775b565e68\", element=\"aac9979c-9552-4b85-85c0-243e90e7cc63\")>,\n",
       " <selenium.webdriver.remote.webelement.WebElement (session=\"a5c21327edced594eb8f87775b565e68\", element=\"eed205e4-2c36-4abc-8fd5-4f87a89e093a\")>,\n",
       " <selenium.webdriver.remote.webelement.WebElement (session=\"a5c21327edced594eb8f87775b565e68\", element=\"f3f5d000-5cf5-4566-880a-4fa49a20fc3d\")>,\n",
       " <selenium.webdriver.remote.webelement.WebElement (session=\"a5c21327edced594eb8f87775b565e68\", element=\"c5872365-3458-4666-8c56-c1fe3ed73487\")>,\n",
       " <selenium.webdriver.remote.webelement.WebElement (session=\"a5c21327edced594eb8f87775b565e68\", element=\"f521a704-0d81-47f7-adc4-3e169324fc57\")>]"
      ]
     },
     "execution_count": 22,
     "metadata": {},
     "output_type": "execute_result"
    }
   ],
   "source": [
    "scrap_sunglass41 = driver.find_elements_by_xpath(\"//div[@class='_2WkVRV']\")\n",
    "scrap_sunglass41"
   ]
  },
  {
   "cell_type": "code",
   "execution_count": 23,
   "metadata": {
    "scrolled": true
   },
   "outputs": [
    {
     "data": {
      "text/plain": [
       "['VINCENT CHASE',\n",
       " 'VINCENT CHASE',\n",
       " 'Fastrack',\n",
       " 'PIRASO',\n",
       " 'Elligator',\n",
       " 'kingsunglasses',\n",
       " 'PHENOMENAL',\n",
       " 'ROYAL SON',\n",
       " 'Silver Kartz',\n",
       " 'HIPPON',\n",
       " 'ROZZETTA CRAFT',\n",
       " 'ROYAL SON',\n",
       " 'hipe',\n",
       " 'United Colors of Benetton',\n",
       " 'ROYAL SON',\n",
       " 'ROZZETTA CRAFT',\n",
       " 'Singco India',\n",
       " 'GANSTA',\n",
       " 'SRPM',\n",
       " 'ROYAL SON',\n",
       " 'Fravy',\n",
       " 'Ray-Ban',\n",
       " 'Singco',\n",
       " 'Wrogn',\n",
       " 'Villain',\n",
       " 'Crackers',\n",
       " 'NuVew',\n",
       " 'AISLIN',\n",
       " 'elegante',\n",
       " 'FOSSIL',\n",
       " 'IRUS by IDEE',\n",
       " 'ROYAL SON',\n",
       " 'DEIXELS',\n",
       " 'Badfella',\n",
       " 'KAYFA',\n",
       " 'ROYAL SON',\n",
       " 'Flizz',\n",
       " 'AISLIN',\n",
       " 'VINCENT CHASE',\n",
       " 'ROYAL SON',\n",
       " 'Fastrack',\n",
       " 'PIRASO',\n",
       " 'Elligator',\n",
       " 'VINCENT CHASE',\n",
       " 'kingsunglasses',\n",
       " 'ROZZETTA CRAFT',\n",
       " 'hipe',\n",
       " 'VINCENT CHASE',\n",
       " 'United Colors of Benetton',\n",
       " 'GANSTA',\n",
       " 'ROYAL SON',\n",
       " 'ROYAL SON',\n",
       " 'Wrogn',\n",
       " 'PHENOMENAL',\n",
       " 'Singco India',\n",
       " 'ROZZETTA CRAFT',\n",
       " 'Fravy',\n",
       " 'Ray-Ban',\n",
       " 'Silver Kartz',\n",
       " 'ROYAL SON',\n",
       " 'NuVew',\n",
       " 'IRUS by IDEE',\n",
       " 'AISLIN',\n",
       " 'Wrogn',\n",
       " 'Fastrack',\n",
       " 'Elligator',\n",
       " 'PIRASO',\n",
       " 'AISLIN',\n",
       " 'kingsunglasses',\n",
       " 'ROZZETTA CRAFT',\n",
       " 'hipe',\n",
       " 'VINCENT CHASE',\n",
       " 'United Colors of Benetton',\n",
       " 'GANSTA',\n",
       " 'Wrogn',\n",
       " 'ROYAL SON',\n",
       " 'Singco India',\n",
       " 'ROYAL SON',\n",
       " 'PHENOMENAL',\n",
       " 'ROYAL SON']"
      ]
     },
     "execution_count": 23,
     "metadata": {},
     "output_type": "execute_result"
    }
   ],
   "source": [
    "for i in scrap_sunglass41:\n",
    "    brand.append(i.text)\n",
    "brand"
   ]
  },
  {
   "cell_type": "code",
   "execution_count": 28,
   "metadata": {
    "scrolled": true
   },
   "outputs": [
    {
     "data": {
      "text/plain": [
       "[<selenium.webdriver.remote.webelement.WebElement (session=\"a5c21327edced594eb8f87775b565e68\", element=\"f8ed7c13-8b90-480f-8313-19f4481ba9b2\")>,\n",
       " <selenium.webdriver.remote.webelement.WebElement (session=\"a5c21327edced594eb8f87775b565e68\", element=\"5a6ab189-afe1-4876-a44d-210ec335b986\")>,\n",
       " <selenium.webdriver.remote.webelement.WebElement (session=\"a5c21327edced594eb8f87775b565e68\", element=\"a48eda0c-9254-428d-831b-9c8e91f3c8f0\")>,\n",
       " <selenium.webdriver.remote.webelement.WebElement (session=\"a5c21327edced594eb8f87775b565e68\", element=\"754d94cc-102b-4f00-b207-3d76e8c25e36\")>,\n",
       " <selenium.webdriver.remote.webelement.WebElement (session=\"a5c21327edced594eb8f87775b565e68\", element=\"7327a500-fde4-4e33-a6d4-7143056b31f1\")>,\n",
       " <selenium.webdriver.remote.webelement.WebElement (session=\"a5c21327edced594eb8f87775b565e68\", element=\"78f93502-b386-4a37-82ba-a3e279642386\")>,\n",
       " <selenium.webdriver.remote.webelement.WebElement (session=\"a5c21327edced594eb8f87775b565e68\", element=\"4516e204-6316-4578-b23c-3205f2d2a6d1\")>,\n",
       " <selenium.webdriver.remote.webelement.WebElement (session=\"a5c21327edced594eb8f87775b565e68\", element=\"70309b05-f30a-409f-b6f8-491edeffae77\")>,\n",
       " <selenium.webdriver.remote.webelement.WebElement (session=\"a5c21327edced594eb8f87775b565e68\", element=\"851b6bf0-19b2-4674-abb8-ba2ba0ac63ef\")>,\n",
       " <selenium.webdriver.remote.webelement.WebElement (session=\"a5c21327edced594eb8f87775b565e68\", element=\"73c4f813-614d-46d9-af4c-fc97838023c4\")>,\n",
       " <selenium.webdriver.remote.webelement.WebElement (session=\"a5c21327edced594eb8f87775b565e68\", element=\"f62a50d8-4a32-4ddf-abe7-17351ba6c12e\")>,\n",
       " <selenium.webdriver.remote.webelement.WebElement (session=\"a5c21327edced594eb8f87775b565e68\", element=\"f53fb928-85c2-40ca-82a0-7219ffa1f919\")>,\n",
       " <selenium.webdriver.remote.webelement.WebElement (session=\"a5c21327edced594eb8f87775b565e68\", element=\"87ba78d4-f2a4-4989-b759-584f4280cae2\")>,\n",
       " <selenium.webdriver.remote.webelement.WebElement (session=\"a5c21327edced594eb8f87775b565e68\", element=\"75da170d-39d5-457b-ac21-2b96ff5fcd2b\")>,\n",
       " <selenium.webdriver.remote.webelement.WebElement (session=\"a5c21327edced594eb8f87775b565e68\", element=\"58eb2a62-ab04-4eef-9a02-996c1d6214e2\")>,\n",
       " <selenium.webdriver.remote.webelement.WebElement (session=\"a5c21327edced594eb8f87775b565e68\", element=\"9805bb6e-12d3-40d3-841a-25e26c025dcf\")>,\n",
       " <selenium.webdriver.remote.webelement.WebElement (session=\"a5c21327edced594eb8f87775b565e68\", element=\"3d720173-8cd6-4b39-a0ec-0250e63a177d\")>,\n",
       " <selenium.webdriver.remote.webelement.WebElement (session=\"a5c21327edced594eb8f87775b565e68\", element=\"1d129f32-5476-4ecf-b349-1cf30a09b591\")>,\n",
       " <selenium.webdriver.remote.webelement.WebElement (session=\"a5c21327edced594eb8f87775b565e68\", element=\"33c2ae09-0e28-4a13-b56b-defd63a55f25\")>,\n",
       " <selenium.webdriver.remote.webelement.WebElement (session=\"a5c21327edced594eb8f87775b565e68\", element=\"3c5847a5-ae95-4026-ae4d-1bbbd3f56546\")>,\n",
       " <selenium.webdriver.remote.webelement.WebElement (session=\"a5c21327edced594eb8f87775b565e68\", element=\"776313b9-fb73-462b-814d-0a4074ce0de5\")>,\n",
       " <selenium.webdriver.remote.webelement.WebElement (session=\"a5c21327edced594eb8f87775b565e68\", element=\"9556f85b-64fa-458a-a33e-da1da9d2e1ed\")>,\n",
       " <selenium.webdriver.remote.webelement.WebElement (session=\"a5c21327edced594eb8f87775b565e68\", element=\"8630e53b-84d9-469f-8a3b-1164761b1730\")>,\n",
       " <selenium.webdriver.remote.webelement.WebElement (session=\"a5c21327edced594eb8f87775b565e68\", element=\"b1216cbe-27ef-4313-903c-5cb944561d4b\")>,\n",
       " <selenium.webdriver.remote.webelement.WebElement (session=\"a5c21327edced594eb8f87775b565e68\", element=\"0fa9cf13-bdde-47f9-823b-2ce0fe99a1d5\")>,\n",
       " <selenium.webdriver.remote.webelement.WebElement (session=\"a5c21327edced594eb8f87775b565e68\", element=\"957c61f9-1798-45ee-8180-0dee4052f313\")>,\n",
       " <selenium.webdriver.remote.webelement.WebElement (session=\"a5c21327edced594eb8f87775b565e68\", element=\"90135bd8-4096-4a61-bc43-a26e9a6b5be6\")>,\n",
       " <selenium.webdriver.remote.webelement.WebElement (session=\"a5c21327edced594eb8f87775b565e68\", element=\"c1d49fbe-3b2a-4d00-beda-eafdc98337c0\")>,\n",
       " <selenium.webdriver.remote.webelement.WebElement (session=\"a5c21327edced594eb8f87775b565e68\", element=\"6ed6204d-da39-4c71-9d57-9177a7aad705\")>,\n",
       " <selenium.webdriver.remote.webelement.WebElement (session=\"a5c21327edced594eb8f87775b565e68\", element=\"a5d78b05-df0d-438c-8dac-4a02c2fd47a9\")>,\n",
       " <selenium.webdriver.remote.webelement.WebElement (session=\"a5c21327edced594eb8f87775b565e68\", element=\"43ff511f-e0d6-461c-9062-8275e8590242\")>,\n",
       " <selenium.webdriver.remote.webelement.WebElement (session=\"a5c21327edced594eb8f87775b565e68\", element=\"0b1a5d00-071f-497c-9c1f-7496a195eb54\")>,\n",
       " <selenium.webdriver.remote.webelement.WebElement (session=\"a5c21327edced594eb8f87775b565e68\", element=\"571508a3-db66-4eeb-bdc1-8de70cdfd74f\")>,\n",
       " <selenium.webdriver.remote.webelement.WebElement (session=\"a5c21327edced594eb8f87775b565e68\", element=\"57d29301-1fe5-4f74-8400-4a510c557d05\")>,\n",
       " <selenium.webdriver.remote.webelement.WebElement (session=\"a5c21327edced594eb8f87775b565e68\", element=\"02c1998b-5b2e-47d8-abee-e5dcfb90d711\")>,\n",
       " <selenium.webdriver.remote.webelement.WebElement (session=\"a5c21327edced594eb8f87775b565e68\", element=\"b5ad38f7-fd2d-477c-b9fe-92b927d39ce0\")>,\n",
       " <selenium.webdriver.remote.webelement.WebElement (session=\"a5c21327edced594eb8f87775b565e68\", element=\"c8204366-f495-45d1-a682-aeb08c8cf0ff\")>,\n",
       " <selenium.webdriver.remote.webelement.WebElement (session=\"a5c21327edced594eb8f87775b565e68\", element=\"f4e5cd9f-bb88-4368-8ab6-fbb62003a380\")>,\n",
       " <selenium.webdriver.remote.webelement.WebElement (session=\"a5c21327edced594eb8f87775b565e68\", element=\"c408db40-2b72-45f9-b91f-9ae1b41c5e05\")>,\n",
       " <selenium.webdriver.remote.webelement.WebElement (session=\"a5c21327edced594eb8f87775b565e68\", element=\"139a5a3e-1e6d-4c29-a9fe-19d8dcdc411a\")>]"
      ]
     },
     "execution_count": 28,
     "metadata": {},
     "output_type": "execute_result"
    }
   ],
   "source": [
    "scrap_sunglass81 = driver.find_elements_by_xpath(\"//div[@class='_2WkVRV']\")\n",
    "scrap_sunglass81"
   ]
  },
  {
   "cell_type": "code",
   "execution_count": 29,
   "metadata": {},
   "outputs": [
    {
     "data": {
      "text/plain": [
       "['VINCENT CHASE',\n",
       " 'VINCENT CHASE',\n",
       " 'Fastrack',\n",
       " 'PIRASO',\n",
       " 'Elligator',\n",
       " 'kingsunglasses',\n",
       " 'PHENOMENAL',\n",
       " 'ROYAL SON',\n",
       " 'Silver Kartz',\n",
       " 'HIPPON',\n",
       " 'ROZZETTA CRAFT',\n",
       " 'ROYAL SON',\n",
       " 'hipe',\n",
       " 'United Colors of Benetton',\n",
       " 'ROYAL SON',\n",
       " 'ROZZETTA CRAFT',\n",
       " 'Singco India',\n",
       " 'GANSTA',\n",
       " 'SRPM',\n",
       " 'ROYAL SON',\n",
       " 'Fravy',\n",
       " 'Ray-Ban',\n",
       " 'Singco',\n",
       " 'Wrogn',\n",
       " 'Villain',\n",
       " 'Crackers',\n",
       " 'NuVew',\n",
       " 'AISLIN',\n",
       " 'elegante',\n",
       " 'FOSSIL',\n",
       " 'IRUS by IDEE',\n",
       " 'ROYAL SON',\n",
       " 'DEIXELS',\n",
       " 'Badfella',\n",
       " 'KAYFA',\n",
       " 'ROYAL SON',\n",
       " 'Flizz',\n",
       " 'AISLIN',\n",
       " 'VINCENT CHASE',\n",
       " 'ROYAL SON',\n",
       " 'Fastrack',\n",
       " 'PIRASO',\n",
       " 'Elligator',\n",
       " 'VINCENT CHASE',\n",
       " 'kingsunglasses',\n",
       " 'ROZZETTA CRAFT',\n",
       " 'hipe',\n",
       " 'VINCENT CHASE',\n",
       " 'United Colors of Benetton',\n",
       " 'GANSTA',\n",
       " 'ROYAL SON',\n",
       " 'ROYAL SON',\n",
       " 'Wrogn',\n",
       " 'PHENOMENAL',\n",
       " 'Singco India',\n",
       " 'ROZZETTA CRAFT',\n",
       " 'Fravy',\n",
       " 'Ray-Ban',\n",
       " 'Silver Kartz',\n",
       " 'ROYAL SON',\n",
       " 'NuVew',\n",
       " 'IRUS by IDEE',\n",
       " 'AISLIN',\n",
       " 'Wrogn',\n",
       " 'Fastrack',\n",
       " 'Elligator',\n",
       " 'PIRASO',\n",
       " 'AISLIN',\n",
       " 'kingsunglasses',\n",
       " 'ROZZETTA CRAFT',\n",
       " 'hipe',\n",
       " 'VINCENT CHASE',\n",
       " 'United Colors of Benetton',\n",
       " 'GANSTA',\n",
       " 'Wrogn',\n",
       " 'ROYAL SON',\n",
       " 'Singco India',\n",
       " 'ROYAL SON',\n",
       " 'PHENOMENAL',\n",
       " 'ROYAL SON',\n",
       " 'NuVew',\n",
       " 'Fastrack',\n",
       " 'kingsunglasses',\n",
       " 'LIZA ANGEL',\n",
       " 'Elligator',\n",
       " 'ROZZETTA CRAFT',\n",
       " 'United Colors of Benetton',\n",
       " 'HAMIW COLLECTION',\n",
       " 'PIRASO',\n",
       " 'ROYAL SON',\n",
       " 'hipe',\n",
       " 'PIRASO',\n",
       " 'Wrogn',\n",
       " 'Singco India',\n",
       " 'PHENOMENAL',\n",
       " 'AISLIN',\n",
       " 'Fastrack',\n",
       " 'kingsunglasses',\n",
       " 'Elligator',\n",
       " 'PIRASO',\n",
       " 'United Colors of Benetton',\n",
       " 'ROYAL SON',\n",
       " 'ROZZETTA CRAFT',\n",
       " 'PIRASO',\n",
       " 'Fastrack',\n",
       " 'kingsunglasses',\n",
       " 'Elligator',\n",
       " 'hipe',\n",
       " 'ROYAL SON',\n",
       " 'Fastrack',\n",
       " 'kingsunglasses',\n",
       " 'NuVew',\n",
       " 'Elligator',\n",
       " 'ROYAL SON',\n",
       " 'Fastrack',\n",
       " 'ROZZETTA CRAFT',\n",
       " 'kingsunglasses',\n",
       " 'Fastrack',\n",
       " 'Fastrack',\n",
       " 'ROYAL SON']"
      ]
     },
     "execution_count": 29,
     "metadata": {},
     "output_type": "execute_result"
    }
   ],
   "source": [
    "for i in scrap_sunglass81:\n",
    "    brand.append(i.text)\n",
    "brand"
   ]
  },
  {
   "cell_type": "code",
   "execution_count": 30,
   "metadata": {},
   "outputs": [
    {
     "data": {
      "text/plain": [
       "120"
      ]
     },
     "execution_count": 30,
     "metadata": {},
     "output_type": "execute_result"
    }
   ],
   "source": [
    "len(brand)"
   ]
  },
  {
   "cell_type": "code",
   "execution_count": 31,
   "metadata": {
    "scrolled": true
   },
   "outputs": [
    {
     "data": {
      "text/plain": [
       "['VINCENT CHASE',\n",
       " 'VINCENT CHASE',\n",
       " 'Fastrack',\n",
       " 'PIRASO',\n",
       " 'Elligator',\n",
       " 'kingsunglasses',\n",
       " 'PHENOMENAL',\n",
       " 'ROYAL SON',\n",
       " 'Silver Kartz',\n",
       " 'HIPPON',\n",
       " 'ROZZETTA CRAFT',\n",
       " 'ROYAL SON',\n",
       " 'hipe',\n",
       " 'United Colors of Benetton',\n",
       " 'ROYAL SON',\n",
       " 'ROZZETTA CRAFT',\n",
       " 'Singco India',\n",
       " 'GANSTA',\n",
       " 'SRPM',\n",
       " 'ROYAL SON',\n",
       " 'Fravy',\n",
       " 'Ray-Ban',\n",
       " 'Singco',\n",
       " 'Wrogn',\n",
       " 'Villain',\n",
       " 'Crackers',\n",
       " 'NuVew',\n",
       " 'AISLIN',\n",
       " 'elegante',\n",
       " 'FOSSIL',\n",
       " 'IRUS by IDEE',\n",
       " 'ROYAL SON',\n",
       " 'DEIXELS',\n",
       " 'Badfella',\n",
       " 'KAYFA',\n",
       " 'ROYAL SON',\n",
       " 'Flizz',\n",
       " 'AISLIN',\n",
       " 'VINCENT CHASE',\n",
       " 'ROYAL SON',\n",
       " 'Fastrack',\n",
       " 'PIRASO',\n",
       " 'Elligator',\n",
       " 'VINCENT CHASE',\n",
       " 'kingsunglasses',\n",
       " 'ROZZETTA CRAFT',\n",
       " 'hipe',\n",
       " 'VINCENT CHASE',\n",
       " 'United Colors of Benetton',\n",
       " 'GANSTA',\n",
       " 'ROYAL SON',\n",
       " 'ROYAL SON',\n",
       " 'Wrogn',\n",
       " 'PHENOMENAL',\n",
       " 'Singco India',\n",
       " 'ROZZETTA CRAFT',\n",
       " 'Fravy',\n",
       " 'Ray-Ban',\n",
       " 'Silver Kartz',\n",
       " 'ROYAL SON',\n",
       " 'NuVew',\n",
       " 'IRUS by IDEE',\n",
       " 'AISLIN',\n",
       " 'Wrogn',\n",
       " 'Fastrack',\n",
       " 'Elligator',\n",
       " 'PIRASO',\n",
       " 'AISLIN',\n",
       " 'kingsunglasses',\n",
       " 'ROZZETTA CRAFT',\n",
       " 'hipe',\n",
       " 'VINCENT CHASE',\n",
       " 'United Colors of Benetton',\n",
       " 'GANSTA',\n",
       " 'Wrogn',\n",
       " 'ROYAL SON',\n",
       " 'Singco India',\n",
       " 'ROYAL SON',\n",
       " 'PHENOMENAL',\n",
       " 'ROYAL SON',\n",
       " 'NuVew',\n",
       " 'Fastrack',\n",
       " 'kingsunglasses',\n",
       " 'LIZA ANGEL',\n",
       " 'Elligator',\n",
       " 'ROZZETTA CRAFT',\n",
       " 'United Colors of Benetton',\n",
       " 'HAMIW COLLECTION',\n",
       " 'PIRASO',\n",
       " 'ROYAL SON',\n",
       " 'hipe',\n",
       " 'PIRASO',\n",
       " 'Wrogn',\n",
       " 'Singco India',\n",
       " 'PHENOMENAL',\n",
       " 'AISLIN',\n",
       " 'Fastrack',\n",
       " 'kingsunglasses',\n",
       " 'Elligator',\n",
       " 'PIRASO']"
      ]
     },
     "execution_count": 31,
     "metadata": {},
     "output_type": "execute_result"
    }
   ],
   "source": [
    "final_brand = brand[:100]\n",
    "final_brand"
   ]
  },
  {
   "cell_type": "code",
   "execution_count": 33,
   "metadata": {},
   "outputs": [
    {
     "data": {
      "text/plain": [
       "100"
      ]
     },
     "execution_count": 33,
     "metadata": {},
     "output_type": "execute_result"
    }
   ],
   "source": [
    "len(final_brand)"
   ]
  },
  {
   "cell_type": "code",
   "execution_count": 34,
   "metadata": {
    "scrolled": true
   },
   "outputs": [
    {
     "data": {
      "text/plain": [
       "[<selenium.webdriver.remote.webelement.WebElement (session=\"a5c21327edced594eb8f87775b565e68\", element=\"86ef7805-0016-402e-8484-80e00e302e00\")>,\n",
       " <selenium.webdriver.remote.webelement.WebElement (session=\"a5c21327edced594eb8f87775b565e68\", element=\"dca254fd-85c5-4115-937d-03845eeee7f7\")>,\n",
       " <selenium.webdriver.remote.webelement.WebElement (session=\"a5c21327edced594eb8f87775b565e68\", element=\"0dc6b538-0272-4f34-a58a-3232388db6a2\")>,\n",
       " <selenium.webdriver.remote.webelement.WebElement (session=\"a5c21327edced594eb8f87775b565e68\", element=\"41811980-d3fe-4cb5-ab75-3d5776ec208f\")>,\n",
       " <selenium.webdriver.remote.webelement.WebElement (session=\"a5c21327edced594eb8f87775b565e68\", element=\"da6b0a5c-3f6e-4f15-8562-4c81a064a0c2\")>,\n",
       " <selenium.webdriver.remote.webelement.WebElement (session=\"a5c21327edced594eb8f87775b565e68\", element=\"f270c982-eb98-4654-bcdc-6b072d6c2e23\")>,\n",
       " <selenium.webdriver.remote.webelement.WebElement (session=\"a5c21327edced594eb8f87775b565e68\", element=\"f7a074a1-0932-4431-b910-1ebb6a5a38b9\")>,\n",
       " <selenium.webdriver.remote.webelement.WebElement (session=\"a5c21327edced594eb8f87775b565e68\", element=\"aceabe6e-70b3-4f40-bfdc-6dce1c0d2778\")>,\n",
       " <selenium.webdriver.remote.webelement.WebElement (session=\"a5c21327edced594eb8f87775b565e68\", element=\"2d541596-7cb7-43b1-abff-85e044377f7d\")>,\n",
       " <selenium.webdriver.remote.webelement.WebElement (session=\"a5c21327edced594eb8f87775b565e68\", element=\"53aa20a0-4098-45d5-9b1c-8970f9c6b4f9\")>,\n",
       " <selenium.webdriver.remote.webelement.WebElement (session=\"a5c21327edced594eb8f87775b565e68\", element=\"5dc41c99-2fe0-46f3-b6b4-acdaba47472f\")>,\n",
       " <selenium.webdriver.remote.webelement.WebElement (session=\"a5c21327edced594eb8f87775b565e68\", element=\"88b835f4-6bbc-4309-8095-5aff68b6d307\")>,\n",
       " <selenium.webdriver.remote.webelement.WebElement (session=\"a5c21327edced594eb8f87775b565e68\", element=\"d10c3130-bb1b-4bb6-a9eb-c608e35db5ec\")>,\n",
       " <selenium.webdriver.remote.webelement.WebElement (session=\"a5c21327edced594eb8f87775b565e68\", element=\"e4d5a167-c45d-49e0-a077-f59d25138faf\")>,\n",
       " <selenium.webdriver.remote.webelement.WebElement (session=\"a5c21327edced594eb8f87775b565e68\", element=\"7acef924-1947-4df4-b3d1-947e980bba92\")>,\n",
       " <selenium.webdriver.remote.webelement.WebElement (session=\"a5c21327edced594eb8f87775b565e68\", element=\"199d2fb6-b1f2-4858-a75d-0da7a5d6d9b5\")>,\n",
       " <selenium.webdriver.remote.webelement.WebElement (session=\"a5c21327edced594eb8f87775b565e68\", element=\"259d1c6d-74f5-44f4-b62e-a63192d893f5\")>,\n",
       " <selenium.webdriver.remote.webelement.WebElement (session=\"a5c21327edced594eb8f87775b565e68\", element=\"31ef22a2-a237-4213-b57a-36d46a54dc9e\")>,\n",
       " <selenium.webdriver.remote.webelement.WebElement (session=\"a5c21327edced594eb8f87775b565e68\", element=\"0b1ce3f1-43ff-4412-82e3-3a55098e10e2\")>,\n",
       " <selenium.webdriver.remote.webelement.WebElement (session=\"a5c21327edced594eb8f87775b565e68\", element=\"defafa59-ef1d-47e6-a811-1d04b0892182\")>,\n",
       " <selenium.webdriver.remote.webelement.WebElement (session=\"a5c21327edced594eb8f87775b565e68\", element=\"6ed6ba1d-2680-47b9-b9ff-1cbb425b4f7b\")>,\n",
       " <selenium.webdriver.remote.webelement.WebElement (session=\"a5c21327edced594eb8f87775b565e68\", element=\"a440b86a-69e1-4d71-bcbf-650f3e08b044\")>,\n",
       " <selenium.webdriver.remote.webelement.WebElement (session=\"a5c21327edced594eb8f87775b565e68\", element=\"59dd50b6-dba4-4155-959e-84ac49a94126\")>,\n",
       " <selenium.webdriver.remote.webelement.WebElement (session=\"a5c21327edced594eb8f87775b565e68\", element=\"6de73f0b-ab84-43b6-a378-31d536f1ecac\")>,\n",
       " <selenium.webdriver.remote.webelement.WebElement (session=\"a5c21327edced594eb8f87775b565e68\", element=\"6fe9abbb-b578-48d3-9b3d-42f4f913ac87\")>,\n",
       " <selenium.webdriver.remote.webelement.WebElement (session=\"a5c21327edced594eb8f87775b565e68\", element=\"f0d8515c-d1e1-4036-9e09-3d7a489f32a9\")>,\n",
       " <selenium.webdriver.remote.webelement.WebElement (session=\"a5c21327edced594eb8f87775b565e68\", element=\"b2d920a1-9a66-43df-94c4-87b14e3594fd\")>,\n",
       " <selenium.webdriver.remote.webelement.WebElement (session=\"a5c21327edced594eb8f87775b565e68\", element=\"46e36925-646c-4618-ac3a-cd55e567a9b1\")>,\n",
       " <selenium.webdriver.remote.webelement.WebElement (session=\"a5c21327edced594eb8f87775b565e68\", element=\"44949335-d957-4ef4-beb4-d78111d4a815\")>,\n",
       " <selenium.webdriver.remote.webelement.WebElement (session=\"a5c21327edced594eb8f87775b565e68\", element=\"4f2fc236-9da5-49df-bac4-94b553c13f2f\")>,\n",
       " <selenium.webdriver.remote.webelement.WebElement (session=\"a5c21327edced594eb8f87775b565e68\", element=\"ba56377d-f7ae-42dc-9cf9-d03deaaf8ccc\")>,\n",
       " <selenium.webdriver.remote.webelement.WebElement (session=\"a5c21327edced594eb8f87775b565e68\", element=\"7640fc30-d92d-42e4-818c-0575c3ae536f\")>,\n",
       " <selenium.webdriver.remote.webelement.WebElement (session=\"a5c21327edced594eb8f87775b565e68\", element=\"f67aa4d5-d517-4b58-8706-ac5ab2d27bf2\")>,\n",
       " <selenium.webdriver.remote.webelement.WebElement (session=\"a5c21327edced594eb8f87775b565e68\", element=\"5d7e053c-7c95-449e-985f-8391bcbd0f2e\")>,\n",
       " <selenium.webdriver.remote.webelement.WebElement (session=\"a5c21327edced594eb8f87775b565e68\", element=\"e1c23ece-c683-4611-9584-690f5036b99b\")>,\n",
       " <selenium.webdriver.remote.webelement.WebElement (session=\"a5c21327edced594eb8f87775b565e68\", element=\"2d187547-bf61-4b57-b76d-849e27a7a684\")>,\n",
       " <selenium.webdriver.remote.webelement.WebElement (session=\"a5c21327edced594eb8f87775b565e68\", element=\"34717d2a-20e7-4d46-b069-cca83c4cbfe1\")>,\n",
       " <selenium.webdriver.remote.webelement.WebElement (session=\"a5c21327edced594eb8f87775b565e68\", element=\"4afcfabb-cdc1-492f-aa42-622ade21600c\")>,\n",
       " <selenium.webdriver.remote.webelement.WebElement (session=\"a5c21327edced594eb8f87775b565e68\", element=\"dbb36451-6f39-45e9-a760-867f47da94b3\")>,\n",
       " <selenium.webdriver.remote.webelement.WebElement (session=\"a5c21327edced594eb8f87775b565e68\", element=\"a0caa339-6511-4208-b793-4d34778d4d56\")>]"
      ]
     },
     "execution_count": 34,
     "metadata": {},
     "output_type": "execute_result"
    }
   ],
   "source": [
    "scrap_desc = driver.find_elements_by_xpath(\"//a[@class='IRpwTa']\")\n",
    "scrap_desc"
   ]
  },
  {
   "cell_type": "code",
   "execution_count": 36,
   "metadata": {
    "scrolled": true
   },
   "outputs": [
    {
     "data": {
      "text/plain": [
       "['Mirrored Aviator Sunglasses (58)',\n",
       " 'UV Protection, Gradient Retro Square Sunglasses (Free S...',\n",
       " 'Gradient, UV Protection Wayfarer Sunglasses (Free Size)',\n",
       " 'UV Protection Aviator Sunglasses (54)',\n",
       " 'UV Protection Round Sunglasses (54)',\n",
       " 'Mirrored, UV Protection Wayfarer Sunglasses (Free Size)',\n",
       " 'UV Protection Retro Square Sunglasses (Free Size)',\n",
       " 'Polarized Retro Square Sunglasses (58)',\n",
       " 'UV Protection Wayfarer Sunglasses (Free Size)',\n",
       " 'UV Protection Wayfarer Sunglasses (55)',\n",
       " 'UV Protection Retro Square Sunglasses (Free Size)',\n",
       " 'UV Protection Aviator Sunglasses (60)',\n",
       " 'UV Protection Sports Sunglasses (Free Size)',\n",
       " 'Gradient Retro Square Sunglasses (57)',\n",
       " 'Mirrored Aviator Sunglasses (55)',\n",
       " 'UV Protection, Polarized Aviator Sunglasses (60)',\n",
       " 'UV Protection, Riding Glasses, Others Aviator, Wayfarer...',\n",
       " 'UV Protection, Night Vision, Riding Glasses Aviator Sun...',\n",
       " 'UV Protection Wayfarer Sunglasses (53)',\n",
       " 'Polarized Rectangular Sunglasses (65)',\n",
       " 'UV Protection Retro Square Sunglasses (Free Size)',\n",
       " 'Mirrored Aviator Sunglasses (55)',\n",
       " 'Mirrored Aviator Sunglasses (53)',\n",
       " 'Polarized, UV Protection Wrap-around Sunglasses (60)',\n",
       " 'Others Retro Square Sunglasses (Free Size)',\n",
       " 'UV Protection Aviator Sunglasses (55)',\n",
       " 'UV Protection Aviator Sunglasses (58)',\n",
       " 'Polarized, UV Protection Aviator Sunglasses (58)',\n",
       " 'UV Protection Round Sunglasses (Free Size)',\n",
       " 'Others Rectangular Sunglasses (59)',\n",
       " 'Gradient Rectangular Sunglasses (56)',\n",
       " 'Polarized Sports Sunglasses (68)',\n",
       " 'UV Protection Aviator, Wayfarer Sunglasses (Free Size)',\n",
       " 'Polarized, UV Protection Retro Square Sunglasses (53)',\n",
       " 'UV Protection, Gradient, Mirrored Shield Sunglasses (54...',\n",
       " 'UV Protection Rectangular Sunglasses (55)',\n",
       " 'UV Protection Retro Square Sunglasses (Free Size)',\n",
       " 'UV Protection, Gradient Butterfly, Retro Square Sunglas...',\n",
       " 'by Lenskart Polarized, UV Protection Cat-eye Sunglasses...',\n",
       " 'UV Protection Cat-eye, Wayfarer Sunglasses (63)']"
      ]
     },
     "execution_count": 36,
     "metadata": {},
     "output_type": "execute_result"
    }
   ],
   "source": [
    "product_desc = []\n",
    "for i in scrap_desc:\n",
    "    product_desc.append(i.text)\n",
    "product_desc"
   ]
  },
  {
   "cell_type": "code",
   "execution_count": 37,
   "metadata": {
    "scrolled": true
   },
   "outputs": [
    {
     "data": {
      "text/plain": [
       "[<selenium.webdriver.remote.webelement.WebElement (session=\"a5c21327edced594eb8f87775b565e68\", element=\"96736c7f-3c7b-479e-b8b5-3c246a484464\")>,\n",
       " <selenium.webdriver.remote.webelement.WebElement (session=\"a5c21327edced594eb8f87775b565e68\", element=\"bff7d342-f9e6-4469-8287-df7e3c07c1a2\")>,\n",
       " <selenium.webdriver.remote.webelement.WebElement (session=\"a5c21327edced594eb8f87775b565e68\", element=\"ace98a30-2ecb-4118-8530-0f0c0076dc00\")>,\n",
       " <selenium.webdriver.remote.webelement.WebElement (session=\"a5c21327edced594eb8f87775b565e68\", element=\"3b358f8e-07d8-481d-a384-7bfe11cbbb74\")>,\n",
       " <selenium.webdriver.remote.webelement.WebElement (session=\"a5c21327edced594eb8f87775b565e68\", element=\"f3f7810b-b37c-4e5d-813e-bee38b63c09c\")>,\n",
       " <selenium.webdriver.remote.webelement.WebElement (session=\"a5c21327edced594eb8f87775b565e68\", element=\"3d33400d-7c71-4fae-b0ac-9663e4ffd76f\")>,\n",
       " <selenium.webdriver.remote.webelement.WebElement (session=\"a5c21327edced594eb8f87775b565e68\", element=\"6861280a-d233-405d-be52-ef82f4f51dec\")>,\n",
       " <selenium.webdriver.remote.webelement.WebElement (session=\"a5c21327edced594eb8f87775b565e68\", element=\"6671b85d-b5dd-4761-b172-4af71aaffde4\")>,\n",
       " <selenium.webdriver.remote.webelement.WebElement (session=\"a5c21327edced594eb8f87775b565e68\", element=\"95124f10-a021-4a71-9846-26874bce497e\")>,\n",
       " <selenium.webdriver.remote.webelement.WebElement (session=\"a5c21327edced594eb8f87775b565e68\", element=\"aecd01fd-e7b3-49ef-a106-d4f127a7fe13\")>,\n",
       " <selenium.webdriver.remote.webelement.WebElement (session=\"a5c21327edced594eb8f87775b565e68\", element=\"cabf6f2b-c162-43b3-bf13-fa5ec3a5201f\")>,\n",
       " <selenium.webdriver.remote.webelement.WebElement (session=\"a5c21327edced594eb8f87775b565e68\", element=\"8ff9e6cd-3950-45f6-b00c-40cc34347dc8\")>,\n",
       " <selenium.webdriver.remote.webelement.WebElement (session=\"a5c21327edced594eb8f87775b565e68\", element=\"00e1532e-967c-4beb-9d28-326c95094408\")>,\n",
       " <selenium.webdriver.remote.webelement.WebElement (session=\"a5c21327edced594eb8f87775b565e68\", element=\"de614274-c49d-4c03-b353-f630c55bb477\")>,\n",
       " <selenium.webdriver.remote.webelement.WebElement (session=\"a5c21327edced594eb8f87775b565e68\", element=\"9cc3ed39-52fd-4e8f-be34-572afc2ecec7\")>,\n",
       " <selenium.webdriver.remote.webelement.WebElement (session=\"a5c21327edced594eb8f87775b565e68\", element=\"beca5267-0b4d-44de-b161-690008717b5f\")>,\n",
       " <selenium.webdriver.remote.webelement.WebElement (session=\"a5c21327edced594eb8f87775b565e68\", element=\"5482cb01-cd4c-4a23-b76b-0539c668dfd1\")>,\n",
       " <selenium.webdriver.remote.webelement.WebElement (session=\"a5c21327edced594eb8f87775b565e68\", element=\"8bba562b-7ac9-49ef-b76f-8cf9a641659c\")>,\n",
       " <selenium.webdriver.remote.webelement.WebElement (session=\"a5c21327edced594eb8f87775b565e68\", element=\"54a80468-9b56-485c-9dfe-24f0731e9c54\")>,\n",
       " <selenium.webdriver.remote.webelement.WebElement (session=\"a5c21327edced594eb8f87775b565e68\", element=\"85d72c2b-87c6-43c7-8fba-c6eb788082c1\")>,\n",
       " <selenium.webdriver.remote.webelement.WebElement (session=\"a5c21327edced594eb8f87775b565e68\", element=\"684a2529-c1ce-4cac-99b7-853081a54f63\")>,\n",
       " <selenium.webdriver.remote.webelement.WebElement (session=\"a5c21327edced594eb8f87775b565e68\", element=\"ca5c0646-d84f-4e3d-9ba9-dfc946629d11\")>,\n",
       " <selenium.webdriver.remote.webelement.WebElement (session=\"a5c21327edced594eb8f87775b565e68\", element=\"25434ce7-9bce-4e1b-9787-d70e7b597f91\")>,\n",
       " <selenium.webdriver.remote.webelement.WebElement (session=\"a5c21327edced594eb8f87775b565e68\", element=\"3235fb99-471c-46cf-964c-8ad843bf5a17\")>,\n",
       " <selenium.webdriver.remote.webelement.WebElement (session=\"a5c21327edced594eb8f87775b565e68\", element=\"88f5d94b-355b-4b9f-bb25-4d5ffc1b9ad6\")>,\n",
       " <selenium.webdriver.remote.webelement.WebElement (session=\"a5c21327edced594eb8f87775b565e68\", element=\"49aa18b0-d46e-4909-8008-553dce0982f4\")>,\n",
       " <selenium.webdriver.remote.webelement.WebElement (session=\"a5c21327edced594eb8f87775b565e68\", element=\"d1e91479-ef49-46cf-b040-74219748c509\")>,\n",
       " <selenium.webdriver.remote.webelement.WebElement (session=\"a5c21327edced594eb8f87775b565e68\", element=\"5bc3747d-c87e-4dad-adce-a3fb12231752\")>,\n",
       " <selenium.webdriver.remote.webelement.WebElement (session=\"a5c21327edced594eb8f87775b565e68\", element=\"c140bd7d-ea95-4801-ae4b-ff4fbf89c183\")>,\n",
       " <selenium.webdriver.remote.webelement.WebElement (session=\"a5c21327edced594eb8f87775b565e68\", element=\"0201249d-9e21-45bf-9a93-73a30de56836\")>,\n",
       " <selenium.webdriver.remote.webelement.WebElement (session=\"a5c21327edced594eb8f87775b565e68\", element=\"464175c5-86f3-42d2-854a-934f8c575e04\")>,\n",
       " <selenium.webdriver.remote.webelement.WebElement (session=\"a5c21327edced594eb8f87775b565e68\", element=\"75568e00-35ab-4aa9-a707-32546d455ca6\")>,\n",
       " <selenium.webdriver.remote.webelement.WebElement (session=\"a5c21327edced594eb8f87775b565e68\", element=\"f2ad76e2-9358-45fb-90f1-feaab7097d68\")>,\n",
       " <selenium.webdriver.remote.webelement.WebElement (session=\"a5c21327edced594eb8f87775b565e68\", element=\"4e6fcfab-79c6-4e72-a781-7410cffef7d1\")>,\n",
       " <selenium.webdriver.remote.webelement.WebElement (session=\"a5c21327edced594eb8f87775b565e68\", element=\"54c38c9a-ebf9-4672-9357-604be6b696c5\")>,\n",
       " <selenium.webdriver.remote.webelement.WebElement (session=\"a5c21327edced594eb8f87775b565e68\", element=\"a2d6b5c1-7ff8-477c-867d-e95200fb9b4d\")>,\n",
       " <selenium.webdriver.remote.webelement.WebElement (session=\"a5c21327edced594eb8f87775b565e68\", element=\"cfee4d5b-b638-4e01-9594-0d32d1262569\")>]"
      ]
     },
     "execution_count": 37,
     "metadata": {},
     "output_type": "execute_result"
    }
   ],
   "source": [
    "scrap_desc41 = driver.find_elements_by_xpath(\"//a[@class='IRpwTa']\")\n",
    "scrap_desc41"
   ]
  },
  {
   "cell_type": "code",
   "execution_count": 38,
   "metadata": {
    "scrolled": true
   },
   "outputs": [
    {
     "data": {
      "text/plain": [
       "['Mirrored Aviator Sunglasses (58)',\n",
       " 'UV Protection, Gradient Retro Square Sunglasses (Free S...',\n",
       " 'Gradient, UV Protection Wayfarer Sunglasses (Free Size)',\n",
       " 'UV Protection Aviator Sunglasses (54)',\n",
       " 'UV Protection Round Sunglasses (54)',\n",
       " 'Mirrored, UV Protection Wayfarer Sunglasses (Free Size)',\n",
       " 'UV Protection Retro Square Sunglasses (Free Size)',\n",
       " 'Polarized Retro Square Sunglasses (58)',\n",
       " 'UV Protection Wayfarer Sunglasses (Free Size)',\n",
       " 'UV Protection Wayfarer Sunglasses (55)',\n",
       " 'UV Protection Retro Square Sunglasses (Free Size)',\n",
       " 'UV Protection Aviator Sunglasses (60)',\n",
       " 'UV Protection Sports Sunglasses (Free Size)',\n",
       " 'Gradient Retro Square Sunglasses (57)',\n",
       " 'Mirrored Aviator Sunglasses (55)',\n",
       " 'UV Protection, Polarized Aviator Sunglasses (60)',\n",
       " 'UV Protection, Riding Glasses, Others Aviator, Wayfarer...',\n",
       " 'UV Protection, Night Vision, Riding Glasses Aviator Sun...',\n",
       " 'UV Protection Wayfarer Sunglasses (53)',\n",
       " 'Polarized Rectangular Sunglasses (65)',\n",
       " 'UV Protection Retro Square Sunglasses (Free Size)',\n",
       " 'Mirrored Aviator Sunglasses (55)',\n",
       " 'Mirrored Aviator Sunglasses (53)',\n",
       " 'Polarized, UV Protection Wrap-around Sunglasses (60)',\n",
       " 'Others Retro Square Sunglasses (Free Size)',\n",
       " 'UV Protection Aviator Sunglasses (55)',\n",
       " 'UV Protection Aviator Sunglasses (58)',\n",
       " 'Polarized, UV Protection Aviator Sunglasses (58)',\n",
       " 'UV Protection Round Sunglasses (Free Size)',\n",
       " 'Others Rectangular Sunglasses (59)',\n",
       " 'Gradient Rectangular Sunglasses (56)',\n",
       " 'Polarized Sports Sunglasses (68)',\n",
       " 'UV Protection Aviator, Wayfarer Sunglasses (Free Size)',\n",
       " 'Polarized, UV Protection Retro Square Sunglasses (53)',\n",
       " 'UV Protection, Gradient, Mirrored Shield Sunglasses (54...',\n",
       " 'UV Protection Rectangular Sunglasses (55)',\n",
       " 'UV Protection Retro Square Sunglasses (Free Size)',\n",
       " 'UV Protection, Gradient Butterfly, Retro Square Sunglas...',\n",
       " 'by Lenskart Polarized, UV Protection Cat-eye Sunglasses...',\n",
       " 'UV Protection Cat-eye, Wayfarer Sunglasses (63)',\n",
       " 'UV Protection Rectangular Sunglasses (Free Size)',\n",
       " 'UV Protection Aviator Sunglasses (54)',\n",
       " 'Mirrored Round Sunglasses (53)',\n",
       " 'Mirrored, UV Protection Wayfarer Sunglasses (Free Size)',\n",
       " 'UV Protection Retro Square Sunglasses (Free Size)',\n",
       " 'UV Protection Sports Sunglasses (Free Size)',\n",
       " 'Mirrored, UV Protection Wayfarer Sunglasses (53)',\n",
       " 'UV Protection Aviator Sunglasses (57)',\n",
       " 'UV Protection, Gradient Wayfarer Sunglasses (55)',\n",
       " 'UV Protection Wayfarer, Sports, Shield, Rectangular, Re...',\n",
       " 'UV Protection Wayfarer Sunglasses (56)',\n",
       " 'UV Protection, Mirrored Retro Square Sunglasses (53)',\n",
       " 'UV Protection Aviator Sunglasses (Free Size)',\n",
       " 'UV Protection Wayfarer Sunglasses (32)',\n",
       " 'UV Protection Wayfarer Sunglasses (56)',\n",
       " 'UV Protection Retro Square Sunglasses (55)',\n",
       " 'UV Protection Oval Sunglasses (56)',\n",
       " 'UV Protection Butterfly Sunglasses (60)',\n",
       " 'UV Protection, Riding Glasses Wayfarer Sunglasses (56)',\n",
       " 'Gradient Rectangular Sunglasses (55)',\n",
       " 'Toughened Glass Lens, UV Protection Rectangular, Aviato...',\n",
       " 'UV Protection, Gradient Butterfly, Retro Square Sunglas...',\n",
       " 'UV Protection Wayfarer Sunglasses (Free Size)',\n",
       " 'UV Protection Rectangular Sunglasses (Free Size)',\n",
       " 'UV Protection Aviator Sunglasses (54)',\n",
       " 'UV Protection Round Sunglasses (54)',\n",
       " 'UV Protection, Gradient Rectangular Sunglasses (Free Si...',\n",
       " 'UV Protection, Gradient, Mirrored, Riding Glasses Recta...',\n",
       " 'UV Protection Aviator Sunglasses (58)',\n",
       " 'Gradient Rectangular Sunglasses (56)',\n",
       " 'UV Protection, Mirrored Wayfarer Sunglasses (53)',\n",
       " 'UV Protection Wayfarer Sunglasses (56)',\n",
       " 'UV Protection, Mirrored Aviator Sunglasses (Free Size)',\n",
       " 'Mirrored, Riding Glasses, Others Sports Sunglasses (50)',\n",
       " 'UV Protection Round Sunglasses (50)',\n",
       " 'UV Protection, Mirrored, Gradient Retro Square Sunglass...',\n",
       " 'UV Protection Round Sunglasses (Free Size)']"
      ]
     },
     "execution_count": 38,
     "metadata": {},
     "output_type": "execute_result"
    }
   ],
   "source": [
    "for i in scrap_desc41:\n",
    "    product_desc.append(i.text)\n",
    "product_desc"
   ]
  },
  {
   "cell_type": "code",
   "execution_count": 39,
   "metadata": {
    "scrolled": true
   },
   "outputs": [
    {
     "data": {
      "text/plain": [
       "[<selenium.webdriver.remote.webelement.WebElement (session=\"a5c21327edced594eb8f87775b565e68\", element=\"80aae74d-b738-4963-b571-ee9264b665ca\")>,\n",
       " <selenium.webdriver.remote.webelement.WebElement (session=\"a5c21327edced594eb8f87775b565e68\", element=\"cfbc421a-dd2b-4a63-9f53-154741494289\")>,\n",
       " <selenium.webdriver.remote.webelement.WebElement (session=\"a5c21327edced594eb8f87775b565e68\", element=\"7a60d6ae-e67f-4c71-9781-a8c87bf93fdb\")>,\n",
       " <selenium.webdriver.remote.webelement.WebElement (session=\"a5c21327edced594eb8f87775b565e68\", element=\"7efc7b0d-9cee-48b3-aeab-f0ceafe6e226\")>,\n",
       " <selenium.webdriver.remote.webelement.WebElement (session=\"a5c21327edced594eb8f87775b565e68\", element=\"7327bd2c-75fc-4d01-8246-157bc9f198bc\")>,\n",
       " <selenium.webdriver.remote.webelement.WebElement (session=\"a5c21327edced594eb8f87775b565e68\", element=\"b62787ab-c1a2-462a-9993-214a11d1aa88\")>,\n",
       " <selenium.webdriver.remote.webelement.WebElement (session=\"a5c21327edced594eb8f87775b565e68\", element=\"eb976f4e-138b-476a-9079-c406ff817a05\")>,\n",
       " <selenium.webdriver.remote.webelement.WebElement (session=\"a5c21327edced594eb8f87775b565e68\", element=\"150c1807-ea56-47ab-a54b-7ef01a592ca8\")>,\n",
       " <selenium.webdriver.remote.webelement.WebElement (session=\"a5c21327edced594eb8f87775b565e68\", element=\"c7b8fa29-2d06-4d9f-882b-901f386fd32a\")>,\n",
       " <selenium.webdriver.remote.webelement.WebElement (session=\"a5c21327edced594eb8f87775b565e68\", element=\"43987978-ee73-4ed1-b59a-00139adee065\")>,\n",
       " <selenium.webdriver.remote.webelement.WebElement (session=\"a5c21327edced594eb8f87775b565e68\", element=\"24ec8888-9976-4a5e-8441-d6c1f36915a8\")>,\n",
       " <selenium.webdriver.remote.webelement.WebElement (session=\"a5c21327edced594eb8f87775b565e68\", element=\"0fa3a96b-14c5-43c7-ab2b-266fff6fd10e\")>,\n",
       " <selenium.webdriver.remote.webelement.WebElement (session=\"a5c21327edced594eb8f87775b565e68\", element=\"55e4d8fa-fcc8-4e3b-ac1c-971126915236\")>,\n",
       " <selenium.webdriver.remote.webelement.WebElement (session=\"a5c21327edced594eb8f87775b565e68\", element=\"3feadd20-1666-4d14-a750-f3c9500b02ae\")>,\n",
       " <selenium.webdriver.remote.webelement.WebElement (session=\"a5c21327edced594eb8f87775b565e68\", element=\"f27e7171-cfd0-4b50-91f2-f23f9aea6244\")>,\n",
       " <selenium.webdriver.remote.webelement.WebElement (session=\"a5c21327edced594eb8f87775b565e68\", element=\"64cf5b84-7b15-43e2-a93f-4d6936850053\")>,\n",
       " <selenium.webdriver.remote.webelement.WebElement (session=\"a5c21327edced594eb8f87775b565e68\", element=\"0353052b-6cf9-4236-8196-6f49395394c9\")>,\n",
       " <selenium.webdriver.remote.webelement.WebElement (session=\"a5c21327edced594eb8f87775b565e68\", element=\"69ffe5ce-4985-43cc-ac06-e59497dfba66\")>,\n",
       " <selenium.webdriver.remote.webelement.WebElement (session=\"a5c21327edced594eb8f87775b565e68\", element=\"2ff9ba61-8f3e-4ce4-8a89-4e4090aa8ddd\")>,\n",
       " <selenium.webdriver.remote.webelement.WebElement (session=\"a5c21327edced594eb8f87775b565e68\", element=\"99efa5b1-34dc-48d6-8c51-d790e19f3d43\")>,\n",
       " <selenium.webdriver.remote.webelement.WebElement (session=\"a5c21327edced594eb8f87775b565e68\", element=\"dae19023-37ff-45d2-8c3b-55f2f9c8c2e3\")>,\n",
       " <selenium.webdriver.remote.webelement.WebElement (session=\"a5c21327edced594eb8f87775b565e68\", element=\"fdfc20f2-3451-4bb8-b3db-464b4dae68f0\")>,\n",
       " <selenium.webdriver.remote.webelement.WebElement (session=\"a5c21327edced594eb8f87775b565e68\", element=\"f3f42af3-b846-41c6-b867-f339f6de5583\")>,\n",
       " <selenium.webdriver.remote.webelement.WebElement (session=\"a5c21327edced594eb8f87775b565e68\", element=\"85fa9601-2c95-4382-b3d0-ac7ab4cd1630\")>,\n",
       " <selenium.webdriver.remote.webelement.WebElement (session=\"a5c21327edced594eb8f87775b565e68\", element=\"f7b2ed48-8f61-407a-b06e-af4bc2753e8c\")>,\n",
       " <selenium.webdriver.remote.webelement.WebElement (session=\"a5c21327edced594eb8f87775b565e68\", element=\"271bf50c-b3dc-4373-8996-5c49b1c2156e\")>,\n",
       " <selenium.webdriver.remote.webelement.WebElement (session=\"a5c21327edced594eb8f87775b565e68\", element=\"4cd327ed-aaf7-427c-84d0-c3aeff7b9bb0\")>,\n",
       " <selenium.webdriver.remote.webelement.WebElement (session=\"a5c21327edced594eb8f87775b565e68\", element=\"be5ef473-6719-4e9c-932f-32d3cc495166\")>,\n",
       " <selenium.webdriver.remote.webelement.WebElement (session=\"a5c21327edced594eb8f87775b565e68\", element=\"38718273-53f4-4ae5-8386-9e3ad315891e\")>,\n",
       " <selenium.webdriver.remote.webelement.WebElement (session=\"a5c21327edced594eb8f87775b565e68\", element=\"94e913dc-cce8-4a95-8ff4-66775ceaadf0\")>,\n",
       " <selenium.webdriver.remote.webelement.WebElement (session=\"a5c21327edced594eb8f87775b565e68\", element=\"de3cfc7b-9082-48f6-8090-f5d791f5e0a9\")>,\n",
       " <selenium.webdriver.remote.webelement.WebElement (session=\"a5c21327edced594eb8f87775b565e68\", element=\"ef9c87be-f2d7-4fe6-a91f-f39d7ea0069b\")>,\n",
       " <selenium.webdriver.remote.webelement.WebElement (session=\"a5c21327edced594eb8f87775b565e68\", element=\"1577dab2-57ba-4ffc-b1a0-243712f07c0c\")>,\n",
       " <selenium.webdriver.remote.webelement.WebElement (session=\"a5c21327edced594eb8f87775b565e68\", element=\"7b444d66-5901-4a1b-89cb-13186e971662\")>,\n",
       " <selenium.webdriver.remote.webelement.WebElement (session=\"a5c21327edced594eb8f87775b565e68\", element=\"1358d962-c56f-4bce-ad84-dcd10e4be971\")>,\n",
       " <selenium.webdriver.remote.webelement.WebElement (session=\"a5c21327edced594eb8f87775b565e68\", element=\"72b6cd58-a21c-45c2-86a1-8606e773c314\")>,\n",
       " <selenium.webdriver.remote.webelement.WebElement (session=\"a5c21327edced594eb8f87775b565e68\", element=\"7e28a4b2-ae48-4dcc-89ad-dd9f847c0daa\")>,\n",
       " <selenium.webdriver.remote.webelement.WebElement (session=\"a5c21327edced594eb8f87775b565e68\", element=\"a5c284e4-5c18-4b5c-8eea-4602796e00c2\")>,\n",
       " <selenium.webdriver.remote.webelement.WebElement (session=\"a5c21327edced594eb8f87775b565e68\", element=\"ac41a38c-ffea-4bbf-a992-c3fd993f9013\")>,\n",
       " <selenium.webdriver.remote.webelement.WebElement (session=\"a5c21327edced594eb8f87775b565e68\", element=\"8445d776-00f9-4678-bd88-010d6350ab01\")>]"
      ]
     },
     "execution_count": 39,
     "metadata": {},
     "output_type": "execute_result"
    }
   ],
   "source": [
    "scrap_desc81 = driver.find_elements_by_xpath(\"//a[@class='IRpwTa']\")\n",
    "scrap_desc81"
   ]
  },
  {
   "cell_type": "code",
   "execution_count": 40,
   "metadata": {
    "scrolled": true
   },
   "outputs": [
    {
     "data": {
      "text/plain": [
       "['Mirrored Aviator Sunglasses (58)',\n",
       " 'UV Protection, Gradient Retro Square Sunglasses (Free S...',\n",
       " 'Gradient, UV Protection Wayfarer Sunglasses (Free Size)',\n",
       " 'UV Protection Aviator Sunglasses (54)',\n",
       " 'UV Protection Round Sunglasses (54)',\n",
       " 'Mirrored, UV Protection Wayfarer Sunglasses (Free Size)',\n",
       " 'UV Protection Retro Square Sunglasses (Free Size)',\n",
       " 'Polarized Retro Square Sunglasses (58)',\n",
       " 'UV Protection Wayfarer Sunglasses (Free Size)',\n",
       " 'UV Protection Wayfarer Sunglasses (55)',\n",
       " 'UV Protection Retro Square Sunglasses (Free Size)',\n",
       " 'UV Protection Aviator Sunglasses (60)',\n",
       " 'UV Protection Sports Sunglasses (Free Size)',\n",
       " 'Gradient Retro Square Sunglasses (57)',\n",
       " 'Mirrored Aviator Sunglasses (55)',\n",
       " 'UV Protection, Polarized Aviator Sunglasses (60)',\n",
       " 'UV Protection, Riding Glasses, Others Aviator, Wayfarer...',\n",
       " 'UV Protection, Night Vision, Riding Glasses Aviator Sun...',\n",
       " 'UV Protection Wayfarer Sunglasses (53)',\n",
       " 'Polarized Rectangular Sunglasses (65)',\n",
       " 'UV Protection Retro Square Sunglasses (Free Size)',\n",
       " 'Mirrored Aviator Sunglasses (55)',\n",
       " 'Mirrored Aviator Sunglasses (53)',\n",
       " 'Polarized, UV Protection Wrap-around Sunglasses (60)',\n",
       " 'Others Retro Square Sunglasses (Free Size)',\n",
       " 'UV Protection Aviator Sunglasses (55)',\n",
       " 'UV Protection Aviator Sunglasses (58)',\n",
       " 'Polarized, UV Protection Aviator Sunglasses (58)',\n",
       " 'UV Protection Round Sunglasses (Free Size)',\n",
       " 'Others Rectangular Sunglasses (59)',\n",
       " 'Gradient Rectangular Sunglasses (56)',\n",
       " 'Polarized Sports Sunglasses (68)',\n",
       " 'UV Protection Aviator, Wayfarer Sunglasses (Free Size)',\n",
       " 'Polarized, UV Protection Retro Square Sunglasses (53)',\n",
       " 'UV Protection, Gradient, Mirrored Shield Sunglasses (54...',\n",
       " 'UV Protection Rectangular Sunglasses (55)',\n",
       " 'UV Protection Retro Square Sunglasses (Free Size)',\n",
       " 'UV Protection, Gradient Butterfly, Retro Square Sunglas...',\n",
       " 'by Lenskart Polarized, UV Protection Cat-eye Sunglasses...',\n",
       " 'UV Protection Cat-eye, Wayfarer Sunglasses (63)',\n",
       " 'UV Protection Rectangular Sunglasses (Free Size)',\n",
       " 'UV Protection Aviator Sunglasses (54)',\n",
       " 'Mirrored Round Sunglasses (53)',\n",
       " 'Mirrored, UV Protection Wayfarer Sunglasses (Free Size)',\n",
       " 'UV Protection Retro Square Sunglasses (Free Size)',\n",
       " 'UV Protection Sports Sunglasses (Free Size)',\n",
       " 'Mirrored, UV Protection Wayfarer Sunglasses (53)',\n",
       " 'UV Protection Aviator Sunglasses (57)',\n",
       " 'UV Protection, Gradient Wayfarer Sunglasses (55)',\n",
       " 'UV Protection Wayfarer, Sports, Shield, Rectangular, Re...',\n",
       " 'UV Protection Wayfarer Sunglasses (56)',\n",
       " 'UV Protection, Mirrored Retro Square Sunglasses (53)',\n",
       " 'UV Protection Aviator Sunglasses (Free Size)',\n",
       " 'UV Protection Wayfarer Sunglasses (32)',\n",
       " 'UV Protection Wayfarer Sunglasses (56)',\n",
       " 'UV Protection Retro Square Sunglasses (55)',\n",
       " 'UV Protection Oval Sunglasses (56)',\n",
       " 'UV Protection Butterfly Sunglasses (60)',\n",
       " 'UV Protection, Riding Glasses Wayfarer Sunglasses (56)',\n",
       " 'Gradient Rectangular Sunglasses (55)',\n",
       " 'Toughened Glass Lens, UV Protection Rectangular, Aviato...',\n",
       " 'UV Protection, Gradient Butterfly, Retro Square Sunglas...',\n",
       " 'UV Protection Wayfarer Sunglasses (Free Size)',\n",
       " 'UV Protection Rectangular Sunglasses (Free Size)',\n",
       " 'UV Protection Aviator Sunglasses (54)',\n",
       " 'UV Protection Round Sunglasses (54)',\n",
       " 'UV Protection, Gradient Rectangular Sunglasses (Free Si...',\n",
       " 'UV Protection, Gradient, Mirrored, Riding Glasses Recta...',\n",
       " 'UV Protection Aviator Sunglasses (58)',\n",
       " 'Gradient Rectangular Sunglasses (56)',\n",
       " 'UV Protection, Mirrored Wayfarer Sunglasses (53)',\n",
       " 'UV Protection Wayfarer Sunglasses (56)',\n",
       " 'UV Protection, Mirrored Aviator Sunglasses (Free Size)',\n",
       " 'Mirrored, Riding Glasses, Others Sports Sunglasses (50)',\n",
       " 'UV Protection Round Sunglasses (50)',\n",
       " 'UV Protection, Mirrored, Gradient Retro Square Sunglass...',\n",
       " 'UV Protection Round Sunglasses (Free Size)',\n",
       " 'UV Protection Sports Sunglasses (62)',\n",
       " 'UV Protection Wayfarer Sunglasses (Free Size)',\n",
       " 'UV Protection Round Sunglasses (54)',\n",
       " 'Polarized, UV Protection Rectangular Sunglasses (59)',\n",
       " 'UV Protection Aviator Sunglasses (55)',\n",
       " 'UV Protection, Riding Glasses Rectangular Sunglasses (F...',\n",
       " 'Gradient Cat-eye Sunglasses (57)',\n",
       " 'UV Protection, Gradient Retro Square Sunglasses (Free S...',\n",
       " 'UV Protection Aviator Sunglasses (Free Size)',\n",
       " 'Mirrored Aviator Sunglasses (55)',\n",
       " 'UV Protection, Gradient, Riding Glasses Wayfarer Sungla...',\n",
       " 'UV Protection Oval Sunglasses (63)',\n",
       " 'Mirrored Retro Square Sunglasses (57)',\n",
       " 'Riding Glasses, UV Protection, Others Aviator Sunglasse...',\n",
       " 'UV Protection, Mirrored, Night Vision, Riding Glasses S...',\n",
       " 'Polarized Sports Sunglasses (65)',\n",
       " 'UV Protection, Gradient Wayfarer Sunglasses (53)',\n",
       " 'UV Protection Clubmaster Sunglasses (Free Size)',\n",
       " 'UV Protection, Mirrored Round Sunglasses (54)',\n",
       " 'UV Protection Aviator Sunglasses (Free Size)',\n",
       " 'UV Protection, Riding Glasses Rectangular, Retro Square...',\n",
       " 'Mirrored Rectangular Sunglasses (53)',\n",
       " 'UV Protection Retro Square Sunglasses (88)',\n",
       " 'by Lenskart Polarized, UV Protection Cat-eye Sunglasses...',\n",
       " 'UV Protection Aviator Sunglasses (58)',\n",
       " 'UV Protection, Others Round, Aviator Sunglasses (54)',\n",
       " 'UV Protection Wayfarer Sunglasses (53)',\n",
       " 'by Lenskart UV Protection Wayfarer Sunglasses (49)',\n",
       " 'Gradient, UV Protection Round, Oval, Cat-eye Sunglasses...',\n",
       " 'UV Protection Aviator Sunglasses (58)',\n",
       " 'UV Protection Rectangular Sunglasses (55)',\n",
       " 'Polarized Round Sunglasses (56)',\n",
       " 'UV Protection, Riding Glasses Rectangular, Retro Square...',\n",
       " 'UV Protection Wayfarer Sunglasses (55)',\n",
       " 'UV Protection Aviator Sunglasses (58)',\n",
       " 'Polarized, UV Protection Aviator Sunglasses (58)',\n",
       " 'UV Protection Round Sunglasses (Free Size)',\n",
       " 'UV Protection Wayfarer Sunglasses (Free Size)',\n",
       " 'UV Protection Aviator Sunglasses (Free Size)',\n",
       " 'Mirrored, UV Protection Wayfarer, Wayfarer, Wayfarer, W...']"
      ]
     },
     "execution_count": 40,
     "metadata": {},
     "output_type": "execute_result"
    }
   ],
   "source": [
    "for i in scrap_desc81:\n",
    "    product_desc.append(i.text)\n",
    "product_desc"
   ]
  },
  {
   "cell_type": "code",
   "execution_count": 41,
   "metadata": {},
   "outputs": [
    {
     "data": {
      "text/plain": [
       "117"
      ]
     },
     "execution_count": 41,
     "metadata": {},
     "output_type": "execute_result"
    }
   ],
   "source": [
    "len(product_desc)"
   ]
  },
  {
   "cell_type": "code",
   "execution_count": 42,
   "metadata": {
    "scrolled": true
   },
   "outputs": [
    {
     "data": {
      "text/plain": [
       "['Mirrored Aviator Sunglasses (58)',\n",
       " 'UV Protection, Gradient Retro Square Sunglasses (Free S...',\n",
       " 'Gradient, UV Protection Wayfarer Sunglasses (Free Size)',\n",
       " 'UV Protection Aviator Sunglasses (54)',\n",
       " 'UV Protection Round Sunglasses (54)',\n",
       " 'Mirrored, UV Protection Wayfarer Sunglasses (Free Size)',\n",
       " 'UV Protection Retro Square Sunglasses (Free Size)',\n",
       " 'Polarized Retro Square Sunglasses (58)',\n",
       " 'UV Protection Wayfarer Sunglasses (Free Size)',\n",
       " 'UV Protection Wayfarer Sunglasses (55)',\n",
       " 'UV Protection Retro Square Sunglasses (Free Size)',\n",
       " 'UV Protection Aviator Sunglasses (60)',\n",
       " 'UV Protection Sports Sunglasses (Free Size)',\n",
       " 'Gradient Retro Square Sunglasses (57)',\n",
       " 'Mirrored Aviator Sunglasses (55)',\n",
       " 'UV Protection, Polarized Aviator Sunglasses (60)',\n",
       " 'UV Protection, Riding Glasses, Others Aviator, Wayfarer...',\n",
       " 'UV Protection, Night Vision, Riding Glasses Aviator Sun...',\n",
       " 'UV Protection Wayfarer Sunglasses (53)',\n",
       " 'Polarized Rectangular Sunglasses (65)',\n",
       " 'UV Protection Retro Square Sunglasses (Free Size)',\n",
       " 'Mirrored Aviator Sunglasses (55)',\n",
       " 'Mirrored Aviator Sunglasses (53)',\n",
       " 'Polarized, UV Protection Wrap-around Sunglasses (60)',\n",
       " 'Others Retro Square Sunglasses (Free Size)',\n",
       " 'UV Protection Aviator Sunglasses (55)',\n",
       " 'UV Protection Aviator Sunglasses (58)',\n",
       " 'Polarized, UV Protection Aviator Sunglasses (58)',\n",
       " 'UV Protection Round Sunglasses (Free Size)',\n",
       " 'Others Rectangular Sunglasses (59)',\n",
       " 'Gradient Rectangular Sunglasses (56)',\n",
       " 'Polarized Sports Sunglasses (68)',\n",
       " 'UV Protection Aviator, Wayfarer Sunglasses (Free Size)',\n",
       " 'Polarized, UV Protection Retro Square Sunglasses (53)',\n",
       " 'UV Protection, Gradient, Mirrored Shield Sunglasses (54...',\n",
       " 'UV Protection Rectangular Sunglasses (55)',\n",
       " 'UV Protection Retro Square Sunglasses (Free Size)',\n",
       " 'UV Protection, Gradient Butterfly, Retro Square Sunglas...',\n",
       " 'by Lenskart Polarized, UV Protection Cat-eye Sunglasses...',\n",
       " 'UV Protection Cat-eye, Wayfarer Sunglasses (63)',\n",
       " 'UV Protection Rectangular Sunglasses (Free Size)',\n",
       " 'UV Protection Aviator Sunglasses (54)',\n",
       " 'Mirrored Round Sunglasses (53)',\n",
       " 'Mirrored, UV Protection Wayfarer Sunglasses (Free Size)',\n",
       " 'UV Protection Retro Square Sunglasses (Free Size)',\n",
       " 'UV Protection Sports Sunglasses (Free Size)',\n",
       " 'Mirrored, UV Protection Wayfarer Sunglasses (53)',\n",
       " 'UV Protection Aviator Sunglasses (57)',\n",
       " 'UV Protection, Gradient Wayfarer Sunglasses (55)',\n",
       " 'UV Protection Wayfarer, Sports, Shield, Rectangular, Re...',\n",
       " 'UV Protection Wayfarer Sunglasses (56)',\n",
       " 'UV Protection, Mirrored Retro Square Sunglasses (53)',\n",
       " 'UV Protection Aviator Sunglasses (Free Size)',\n",
       " 'UV Protection Wayfarer Sunglasses (32)',\n",
       " 'UV Protection Wayfarer Sunglasses (56)',\n",
       " 'UV Protection Retro Square Sunglasses (55)',\n",
       " 'UV Protection Oval Sunglasses (56)',\n",
       " 'UV Protection Butterfly Sunglasses (60)',\n",
       " 'UV Protection, Riding Glasses Wayfarer Sunglasses (56)',\n",
       " 'Gradient Rectangular Sunglasses (55)',\n",
       " 'Toughened Glass Lens, UV Protection Rectangular, Aviato...',\n",
       " 'UV Protection, Gradient Butterfly, Retro Square Sunglas...',\n",
       " 'UV Protection Wayfarer Sunglasses (Free Size)',\n",
       " 'UV Protection Rectangular Sunglasses (Free Size)',\n",
       " 'UV Protection Aviator Sunglasses (54)',\n",
       " 'UV Protection Round Sunglasses (54)',\n",
       " 'UV Protection, Gradient Rectangular Sunglasses (Free Si...',\n",
       " 'UV Protection, Gradient, Mirrored, Riding Glasses Recta...',\n",
       " 'UV Protection Aviator Sunglasses (58)',\n",
       " 'Gradient Rectangular Sunglasses (56)',\n",
       " 'UV Protection, Mirrored Wayfarer Sunglasses (53)',\n",
       " 'UV Protection Wayfarer Sunglasses (56)',\n",
       " 'UV Protection, Mirrored Aviator Sunglasses (Free Size)',\n",
       " 'Mirrored, Riding Glasses, Others Sports Sunglasses (50)',\n",
       " 'UV Protection Round Sunglasses (50)',\n",
       " 'UV Protection, Mirrored, Gradient Retro Square Sunglass...',\n",
       " 'UV Protection Round Sunglasses (Free Size)',\n",
       " 'UV Protection Sports Sunglasses (62)',\n",
       " 'UV Protection Wayfarer Sunglasses (Free Size)',\n",
       " 'UV Protection Round Sunglasses (54)',\n",
       " 'Polarized, UV Protection Rectangular Sunglasses (59)',\n",
       " 'UV Protection Aviator Sunglasses (55)',\n",
       " 'UV Protection, Riding Glasses Rectangular Sunglasses (F...',\n",
       " 'Gradient Cat-eye Sunglasses (57)',\n",
       " 'UV Protection, Gradient Retro Square Sunglasses (Free S...',\n",
       " 'UV Protection Aviator Sunglasses (Free Size)',\n",
       " 'Mirrored Aviator Sunglasses (55)',\n",
       " 'UV Protection, Gradient, Riding Glasses Wayfarer Sungla...',\n",
       " 'UV Protection Oval Sunglasses (63)',\n",
       " 'Mirrored Retro Square Sunglasses (57)',\n",
       " 'Riding Glasses, UV Protection, Others Aviator Sunglasse...',\n",
       " 'UV Protection, Mirrored, Night Vision, Riding Glasses S...',\n",
       " 'Polarized Sports Sunglasses (65)',\n",
       " 'UV Protection, Gradient Wayfarer Sunglasses (53)',\n",
       " 'UV Protection Clubmaster Sunglasses (Free Size)',\n",
       " 'UV Protection, Mirrored Round Sunglasses (54)',\n",
       " 'UV Protection Aviator Sunglasses (Free Size)',\n",
       " 'UV Protection, Riding Glasses Rectangular, Retro Square...',\n",
       " 'Mirrored Rectangular Sunglasses (53)',\n",
       " 'UV Protection Retro Square Sunglasses (88)']"
      ]
     },
     "execution_count": 42,
     "metadata": {},
     "output_type": "execute_result"
    }
   ],
   "source": [
    "final_desc = product_desc[:100]\n",
    "final_desc"
   ]
  },
  {
   "cell_type": "code",
   "execution_count": 43,
   "metadata": {},
   "outputs": [
    {
     "data": {
      "text/plain": [
       "100"
      ]
     },
     "execution_count": 43,
     "metadata": {},
     "output_type": "execute_result"
    }
   ],
   "source": [
    "len(final_desc)"
   ]
  },
  {
   "cell_type": "code",
   "execution_count": 45,
   "metadata": {
    "scrolled": true
   },
   "outputs": [
    {
     "data": {
      "text/plain": [
       "[<selenium.webdriver.remote.webelement.WebElement (session=\"a5c21327edced594eb8f87775b565e68\", element=\"a517a3b8-40a1-4e74-84e2-ffb0897aef5e\")>,\n",
       " <selenium.webdriver.remote.webelement.WebElement (session=\"a5c21327edced594eb8f87775b565e68\", element=\"bc1c56a5-e38a-449d-95ef-5599ac7df762\")>,\n",
       " <selenium.webdriver.remote.webelement.WebElement (session=\"a5c21327edced594eb8f87775b565e68\", element=\"0c6b33d6-552d-45c8-b003-aff6c1be51e4\")>,\n",
       " <selenium.webdriver.remote.webelement.WebElement (session=\"a5c21327edced594eb8f87775b565e68\", element=\"72e916d5-c2b2-43f3-818e-99148d1395ab\")>,\n",
       " <selenium.webdriver.remote.webelement.WebElement (session=\"a5c21327edced594eb8f87775b565e68\", element=\"88e146fd-bf4d-44ec-91e2-4dd085059520\")>,\n",
       " <selenium.webdriver.remote.webelement.WebElement (session=\"a5c21327edced594eb8f87775b565e68\", element=\"94efd2a4-c230-47fb-a187-263c8a70e1d4\")>,\n",
       " <selenium.webdriver.remote.webelement.WebElement (session=\"a5c21327edced594eb8f87775b565e68\", element=\"13565ead-b30e-4b84-ac72-4a622681fcfe\")>,\n",
       " <selenium.webdriver.remote.webelement.WebElement (session=\"a5c21327edced594eb8f87775b565e68\", element=\"d7d4fd4b-1f97-43a0-84c8-2dc5767a1cc0\")>,\n",
       " <selenium.webdriver.remote.webelement.WebElement (session=\"a5c21327edced594eb8f87775b565e68\", element=\"f392f8cd-f486-4a1d-9eb8-4a84b72e52da\")>,\n",
       " <selenium.webdriver.remote.webelement.WebElement (session=\"a5c21327edced594eb8f87775b565e68\", element=\"0732073b-dda8-49b5-9e9f-c2f04e9f8fcf\")>,\n",
       " <selenium.webdriver.remote.webelement.WebElement (session=\"a5c21327edced594eb8f87775b565e68\", element=\"1fdd8d83-d7aa-4ea2-87c8-9313c6ca38bf\")>,\n",
       " <selenium.webdriver.remote.webelement.WebElement (session=\"a5c21327edced594eb8f87775b565e68\", element=\"daf0c68a-9ac0-4199-b7c5-7c16ad615144\")>,\n",
       " <selenium.webdriver.remote.webelement.WebElement (session=\"a5c21327edced594eb8f87775b565e68\", element=\"758bf0d9-4c4d-4750-ab26-1ee28aa18a96\")>,\n",
       " <selenium.webdriver.remote.webelement.WebElement (session=\"a5c21327edced594eb8f87775b565e68\", element=\"13b36a3b-24ab-4886-bb10-7c0b930c1567\")>,\n",
       " <selenium.webdriver.remote.webelement.WebElement (session=\"a5c21327edced594eb8f87775b565e68\", element=\"c2ad4acd-7025-4623-b7b8-d3b3de4c9f3b\")>,\n",
       " <selenium.webdriver.remote.webelement.WebElement (session=\"a5c21327edced594eb8f87775b565e68\", element=\"a81765dc-95c5-4e2b-8492-1af3551cd3b2\")>,\n",
       " <selenium.webdriver.remote.webelement.WebElement (session=\"a5c21327edced594eb8f87775b565e68\", element=\"f4aa3859-6158-49cc-ad04-91d11bc1a49c\")>,\n",
       " <selenium.webdriver.remote.webelement.WebElement (session=\"a5c21327edced594eb8f87775b565e68\", element=\"c32426c2-944c-417f-9e59-54ced7304b19\")>,\n",
       " <selenium.webdriver.remote.webelement.WebElement (session=\"a5c21327edced594eb8f87775b565e68\", element=\"7515e639-2d43-4f8f-a78a-cae7f9187a57\")>,\n",
       " <selenium.webdriver.remote.webelement.WebElement (session=\"a5c21327edced594eb8f87775b565e68\", element=\"0eab24b2-fdf0-4aa9-981f-74cc03c6a33e\")>,\n",
       " <selenium.webdriver.remote.webelement.WebElement (session=\"a5c21327edced594eb8f87775b565e68\", element=\"f26f037e-9178-41be-bf62-33b09f9a642d\")>,\n",
       " <selenium.webdriver.remote.webelement.WebElement (session=\"a5c21327edced594eb8f87775b565e68\", element=\"0822270f-3566-41ec-880d-1aabf7b28e0a\")>,\n",
       " <selenium.webdriver.remote.webelement.WebElement (session=\"a5c21327edced594eb8f87775b565e68\", element=\"544669f3-ba0a-4efc-8b3c-8558028b906f\")>,\n",
       " <selenium.webdriver.remote.webelement.WebElement (session=\"a5c21327edced594eb8f87775b565e68\", element=\"80888ed5-5ca3-4380-af4a-448686ad0f98\")>,\n",
       " <selenium.webdriver.remote.webelement.WebElement (session=\"a5c21327edced594eb8f87775b565e68\", element=\"a96001f2-d2b3-4f5f-aeaa-b22e60ced626\")>,\n",
       " <selenium.webdriver.remote.webelement.WebElement (session=\"a5c21327edced594eb8f87775b565e68\", element=\"bd14da48-e5f3-4cd4-9651-9acb052c8466\")>,\n",
       " <selenium.webdriver.remote.webelement.WebElement (session=\"a5c21327edced594eb8f87775b565e68\", element=\"7b18317f-22fe-4316-96b9-bc5deca92893\")>,\n",
       " <selenium.webdriver.remote.webelement.WebElement (session=\"a5c21327edced594eb8f87775b565e68\", element=\"cbedee3a-0fdd-4ffb-8fbe-147a50248fef\")>,\n",
       " <selenium.webdriver.remote.webelement.WebElement (session=\"a5c21327edced594eb8f87775b565e68\", element=\"612cc458-2875-4074-84f2-ebb4e4d39ec9\")>,\n",
       " <selenium.webdriver.remote.webelement.WebElement (session=\"a5c21327edced594eb8f87775b565e68\", element=\"6f33ba1a-9c77-4fb2-b6ea-063a210006f7\")>,\n",
       " <selenium.webdriver.remote.webelement.WebElement (session=\"a5c21327edced594eb8f87775b565e68\", element=\"2978275f-a8d5-4c92-a0ab-d8f2640ec2f6\")>,\n",
       " <selenium.webdriver.remote.webelement.WebElement (session=\"a5c21327edced594eb8f87775b565e68\", element=\"5d084ef6-7a58-46c0-9586-a0429f95dec6\")>,\n",
       " <selenium.webdriver.remote.webelement.WebElement (session=\"a5c21327edced594eb8f87775b565e68\", element=\"b7b10245-deed-4276-9634-88a03f81ac1b\")>,\n",
       " <selenium.webdriver.remote.webelement.WebElement (session=\"a5c21327edced594eb8f87775b565e68\", element=\"88288140-47b6-4729-a944-24409641d26e\")>,\n",
       " <selenium.webdriver.remote.webelement.WebElement (session=\"a5c21327edced594eb8f87775b565e68\", element=\"60b889bb-791e-460a-ab92-ec5d0a24094f\")>,\n",
       " <selenium.webdriver.remote.webelement.WebElement (session=\"a5c21327edced594eb8f87775b565e68\", element=\"57b601b2-5036-4d00-bce3-961097cfb448\")>,\n",
       " <selenium.webdriver.remote.webelement.WebElement (session=\"a5c21327edced594eb8f87775b565e68\", element=\"07b57f91-68bb-46c4-99ef-5bdfe7fda432\")>,\n",
       " <selenium.webdriver.remote.webelement.WebElement (session=\"a5c21327edced594eb8f87775b565e68\", element=\"b5518aa4-879c-443c-8012-4c5d60c9e048\")>,\n",
       " <selenium.webdriver.remote.webelement.WebElement (session=\"a5c21327edced594eb8f87775b565e68\", element=\"100ae7c5-ade2-4eb7-81b0-47ac5612de8b\")>,\n",
       " <selenium.webdriver.remote.webelement.WebElement (session=\"a5c21327edced594eb8f87775b565e68\", element=\"4909a7b8-16a3-4a37-a05e-b8cb7bbbb503\")>]"
      ]
     },
     "execution_count": 45,
     "metadata": {},
     "output_type": "execute_result"
    }
   ],
   "source": [
    "scrap_price = driver.find_elements_by_xpath(\"//div[@class='_30jeq3']\")\n",
    "scrap_price"
   ]
  },
  {
   "cell_type": "code",
   "execution_count": 46,
   "metadata": {
    "scrolled": true
   },
   "outputs": [
    {
     "data": {
      "text/plain": [
       "['₹279',\n",
       " '₹209',\n",
       " '₹455',\n",
       " '₹225',\n",
       " '₹295',\n",
       " '₹299',\n",
       " '₹379',\n",
       " '₹474',\n",
       " '₹246',\n",
       " '₹474',\n",
       " '₹257',\n",
       " '₹424',\n",
       " '₹210',\n",
       " '₹1,179',\n",
       " '₹379',\n",
       " '₹474',\n",
       " '₹203',\n",
       " '₹295',\n",
       " '₹246',\n",
       " '₹487',\n",
       " '₹269',\n",
       " '₹6,651',\n",
       " '₹239',\n",
       " '₹305',\n",
       " '₹599',\n",
       " '₹170',\n",
       " '₹204',\n",
       " '₹739',\n",
       " '₹1,749',\n",
       " '₹589',\n",
       " '₹202',\n",
       " '₹225',\n",
       " '₹189',\n",
       " '₹255',\n",
       " '₹234',\n",
       " '₹316',\n",
       " '₹399',\n",
       " '₹472',\n",
       " '₹799',\n",
       " '₹314']"
      ]
     },
     "execution_count": 46,
     "metadata": {},
     "output_type": "execute_result"
    }
   ],
   "source": [
    "price = []\n",
    "for i in scrap_price:\n",
    "    price.append(i.text)\n",
    "price"
   ]
  },
  {
   "cell_type": "code",
   "execution_count": 48,
   "metadata": {
    "scrolled": true
   },
   "outputs": [
    {
     "data": {
      "text/plain": [
       "[<selenium.webdriver.remote.webelement.WebElement (session=\"a5c21327edced594eb8f87775b565e68\", element=\"54ff34ac-2b0d-4ba6-872c-3fd9b6c33789\")>,\n",
       " <selenium.webdriver.remote.webelement.WebElement (session=\"a5c21327edced594eb8f87775b565e68\", element=\"08d888da-bef6-411f-911e-7408b70632ed\")>,\n",
       " <selenium.webdriver.remote.webelement.WebElement (session=\"a5c21327edced594eb8f87775b565e68\", element=\"cde40165-121c-4dcb-81b7-8d0529bdaab5\")>,\n",
       " <selenium.webdriver.remote.webelement.WebElement (session=\"a5c21327edced594eb8f87775b565e68\", element=\"5a77b3b0-1fbe-42d1-a909-dd2e841f91b4\")>,\n",
       " <selenium.webdriver.remote.webelement.WebElement (session=\"a5c21327edced594eb8f87775b565e68\", element=\"b63b2d82-32f3-47db-90f3-dab2c9ad12bb\")>,\n",
       " <selenium.webdriver.remote.webelement.WebElement (session=\"a5c21327edced594eb8f87775b565e68\", element=\"617b68e1-6259-4347-aaad-e49cfed468d0\")>,\n",
       " <selenium.webdriver.remote.webelement.WebElement (session=\"a5c21327edced594eb8f87775b565e68\", element=\"9eb938bd-fb8e-45c0-9534-232875f19323\")>,\n",
       " <selenium.webdriver.remote.webelement.WebElement (session=\"a5c21327edced594eb8f87775b565e68\", element=\"3ea2129d-c0e9-44bd-9eeb-087a29469c01\")>,\n",
       " <selenium.webdriver.remote.webelement.WebElement (session=\"a5c21327edced594eb8f87775b565e68\", element=\"87f28db3-aef3-4c08-b8d4-d4ce67d801ec\")>,\n",
       " <selenium.webdriver.remote.webelement.WebElement (session=\"a5c21327edced594eb8f87775b565e68\", element=\"b2c96994-a5ea-41d2-aff7-daee9dda9134\")>,\n",
       " <selenium.webdriver.remote.webelement.WebElement (session=\"a5c21327edced594eb8f87775b565e68\", element=\"78120919-bcd6-4f11-bb6c-4c35c5739c77\")>,\n",
       " <selenium.webdriver.remote.webelement.WebElement (session=\"a5c21327edced594eb8f87775b565e68\", element=\"735d58b0-8ae7-4268-9798-6a721a795305\")>,\n",
       " <selenium.webdriver.remote.webelement.WebElement (session=\"a5c21327edced594eb8f87775b565e68\", element=\"fcb6d7b3-0098-43bf-9dc2-137971341139\")>,\n",
       " <selenium.webdriver.remote.webelement.WebElement (session=\"a5c21327edced594eb8f87775b565e68\", element=\"a4d9311d-a287-4b61-ae97-d83b8a0f4ecb\")>,\n",
       " <selenium.webdriver.remote.webelement.WebElement (session=\"a5c21327edced594eb8f87775b565e68\", element=\"5ee05ce8-4614-473b-9eaf-8b682844b5ee\")>,\n",
       " <selenium.webdriver.remote.webelement.WebElement (session=\"a5c21327edced594eb8f87775b565e68\", element=\"fc3fbc9e-9c5a-46fa-9b02-d4db0329cb24\")>,\n",
       " <selenium.webdriver.remote.webelement.WebElement (session=\"a5c21327edced594eb8f87775b565e68\", element=\"973df0a1-c47f-4402-b7c6-0fb37273bc1e\")>,\n",
       " <selenium.webdriver.remote.webelement.WebElement (session=\"a5c21327edced594eb8f87775b565e68\", element=\"e7de16ae-3cd9-459f-bb61-04ed9e98faeb\")>,\n",
       " <selenium.webdriver.remote.webelement.WebElement (session=\"a5c21327edced594eb8f87775b565e68\", element=\"4e9eacdf-7dad-420c-8e7d-d9fffa2356e4\")>,\n",
       " <selenium.webdriver.remote.webelement.WebElement (session=\"a5c21327edced594eb8f87775b565e68\", element=\"e577ce3e-73a8-4f0c-92da-ae95c45a5d5f\")>,\n",
       " <selenium.webdriver.remote.webelement.WebElement (session=\"a5c21327edced594eb8f87775b565e68\", element=\"1f9be796-3e7e-4b94-9ece-f5bdad4bd2d0\")>,\n",
       " <selenium.webdriver.remote.webelement.WebElement (session=\"a5c21327edced594eb8f87775b565e68\", element=\"5c355750-891c-46ef-b257-652dcece5bf4\")>,\n",
       " <selenium.webdriver.remote.webelement.WebElement (session=\"a5c21327edced594eb8f87775b565e68\", element=\"adf874ba-fefe-4423-ac2f-018c81a6a854\")>,\n",
       " <selenium.webdriver.remote.webelement.WebElement (session=\"a5c21327edced594eb8f87775b565e68\", element=\"37bbdd35-311c-4167-829e-a168363061c2\")>,\n",
       " <selenium.webdriver.remote.webelement.WebElement (session=\"a5c21327edced594eb8f87775b565e68\", element=\"8ac4e305-652f-41f0-9a3c-acedd3f40287\")>,\n",
       " <selenium.webdriver.remote.webelement.WebElement (session=\"a5c21327edced594eb8f87775b565e68\", element=\"8a786baf-12eb-468e-9ebe-b5de8f0252c0\")>,\n",
       " <selenium.webdriver.remote.webelement.WebElement (session=\"a5c21327edced594eb8f87775b565e68\", element=\"2a885c8d-d8f5-4d26-b7cc-7254ce1e0d12\")>,\n",
       " <selenium.webdriver.remote.webelement.WebElement (session=\"a5c21327edced594eb8f87775b565e68\", element=\"6b714b3a-1806-4dc8-850d-f01861a54250\")>,\n",
       " <selenium.webdriver.remote.webelement.WebElement (session=\"a5c21327edced594eb8f87775b565e68\", element=\"8510215d-69c4-4968-9924-ca53af8e30cf\")>,\n",
       " <selenium.webdriver.remote.webelement.WebElement (session=\"a5c21327edced594eb8f87775b565e68\", element=\"4d20168f-b991-402f-914b-7db68e54a919\")>,\n",
       " <selenium.webdriver.remote.webelement.WebElement (session=\"a5c21327edced594eb8f87775b565e68\", element=\"e99d6074-4e56-4ce4-9dcc-e1a65e1ad969\")>,\n",
       " <selenium.webdriver.remote.webelement.WebElement (session=\"a5c21327edced594eb8f87775b565e68\", element=\"93221269-379b-478d-9154-9dee232d5539\")>,\n",
       " <selenium.webdriver.remote.webelement.WebElement (session=\"a5c21327edced594eb8f87775b565e68\", element=\"2f167af8-040b-433b-ab30-b699cee5930b\")>,\n",
       " <selenium.webdriver.remote.webelement.WebElement (session=\"a5c21327edced594eb8f87775b565e68\", element=\"6335c56c-db7c-45c0-aa98-56ed002ecd86\")>,\n",
       " <selenium.webdriver.remote.webelement.WebElement (session=\"a5c21327edced594eb8f87775b565e68\", element=\"34788963-672f-4b2b-aab2-8828b42dc86a\")>,\n",
       " <selenium.webdriver.remote.webelement.WebElement (session=\"a5c21327edced594eb8f87775b565e68\", element=\"48f76284-4e57-4181-ba86-e819358d75d8\")>,\n",
       " <selenium.webdriver.remote.webelement.WebElement (session=\"a5c21327edced594eb8f87775b565e68\", element=\"35424b21-6512-4e7f-8725-c414aa3ca050\")>,\n",
       " <selenium.webdriver.remote.webelement.WebElement (session=\"a5c21327edced594eb8f87775b565e68\", element=\"afa11458-76f9-4a8b-b880-7682cb2324f2\")>,\n",
       " <selenium.webdriver.remote.webelement.WebElement (session=\"a5c21327edced594eb8f87775b565e68\", element=\"dc3b89a8-53f3-45ae-92ae-033d6115bae2\")>,\n",
       " <selenium.webdriver.remote.webelement.WebElement (session=\"a5c21327edced594eb8f87775b565e68\", element=\"8166d32b-3b83-4831-98a9-058c4e430444\")>]"
      ]
     },
     "execution_count": 48,
     "metadata": {},
     "output_type": "execute_result"
    }
   ],
   "source": [
    "scrap_price41 = driver.find_elements_by_xpath(\"//div[@class='_30jeq3']\")\n",
    "scrap_price41"
   ]
  },
  {
   "cell_type": "code",
   "execution_count": 49,
   "metadata": {
    "scrolled": true
   },
   "outputs": [
    {
     "data": {
      "text/plain": [
       "['₹279',\n",
       " '₹209',\n",
       " '₹455',\n",
       " '₹225',\n",
       " '₹295',\n",
       " '₹299',\n",
       " '₹379',\n",
       " '₹474',\n",
       " '₹246',\n",
       " '₹474',\n",
       " '₹257',\n",
       " '₹424',\n",
       " '₹210',\n",
       " '₹1,179',\n",
       " '₹379',\n",
       " '₹474',\n",
       " '₹203',\n",
       " '₹295',\n",
       " '₹246',\n",
       " '₹487',\n",
       " '₹269',\n",
       " '₹6,651',\n",
       " '₹239',\n",
       " '₹305',\n",
       " '₹599',\n",
       " '₹170',\n",
       " '₹204',\n",
       " '₹739',\n",
       " '₹1,749',\n",
       " '₹589',\n",
       " '₹202',\n",
       " '₹225',\n",
       " '₹189',\n",
       " '₹255',\n",
       " '₹234',\n",
       " '₹316',\n",
       " '₹399',\n",
       " '₹472',\n",
       " '₹799',\n",
       " '₹314',\n",
       " '₹599',\n",
       " '₹225',\n",
       " '₹210',\n",
       " '₹369',\n",
       " '₹331',\n",
       " '₹499',\n",
       " '₹319',\n",
       " '₹399',\n",
       " '₹1,499',\n",
       " '₹217',\n",
       " '₹284',\n",
       " '₹664',\n",
       " '₹819',\n",
       " '₹379',\n",
       " '₹334',\n",
       " '₹219',\n",
       " '₹169',\n",
       " '₹3,019',\n",
       " '₹284',\n",
       " '₹588',\n",
       " '₹210',\n",
       " '₹519',\n",
       " '₹509',\n",
       " '₹449',\n",
       " '₹225',\n",
       " '₹299',\n",
       " '₹312',\n",
       " '₹426',\n",
       " '₹404',\n",
       " '₹299',\n",
       " '₹211',\n",
       " '₹399',\n",
       " '₹1,249',\n",
       " '₹819',\n",
       " '₹239',\n",
       " '₹213',\n",
       " '₹399',\n",
       " '₹246',\n",
       " '₹310',\n",
       " '₹449']"
      ]
     },
     "execution_count": 49,
     "metadata": {},
     "output_type": "execute_result"
    }
   ],
   "source": [
    "for i in scrap_price41:\n",
    "    price.append(i.text)\n",
    "price"
   ]
  },
  {
   "cell_type": "code",
   "execution_count": 51,
   "metadata": {
    "scrolled": true
   },
   "outputs": [
    {
     "data": {
      "text/plain": [
       "[<selenium.webdriver.remote.webelement.WebElement (session=\"a5c21327edced594eb8f87775b565e68\", element=\"c879425c-ad81-434e-9ed4-42d60e2e9bdd\")>,\n",
       " <selenium.webdriver.remote.webelement.WebElement (session=\"a5c21327edced594eb8f87775b565e68\", element=\"6b062483-220a-4e28-a597-924022240066\")>,\n",
       " <selenium.webdriver.remote.webelement.WebElement (session=\"a5c21327edced594eb8f87775b565e68\", element=\"cf8c34d9-1f46-4990-99e9-1c8b527c51f6\")>,\n",
       " <selenium.webdriver.remote.webelement.WebElement (session=\"a5c21327edced594eb8f87775b565e68\", element=\"576e345c-e501-4493-a1a7-9ec8c8c22868\")>,\n",
       " <selenium.webdriver.remote.webelement.WebElement (session=\"a5c21327edced594eb8f87775b565e68\", element=\"b6cf1e79-db58-4d6f-8021-20e7362fe12c\")>,\n",
       " <selenium.webdriver.remote.webelement.WebElement (session=\"a5c21327edced594eb8f87775b565e68\", element=\"f7fbd896-7631-4493-b4f5-06f50250eee6\")>,\n",
       " <selenium.webdriver.remote.webelement.WebElement (session=\"a5c21327edced594eb8f87775b565e68\", element=\"8ee8a742-ceed-4e96-97f7-c2a7658525a0\")>,\n",
       " <selenium.webdriver.remote.webelement.WebElement (session=\"a5c21327edced594eb8f87775b565e68\", element=\"39b36e53-c787-4643-b9fa-ab23d7b66fda\")>,\n",
       " <selenium.webdriver.remote.webelement.WebElement (session=\"a5c21327edced594eb8f87775b565e68\", element=\"9565bad3-8c64-4cdc-9db5-d6a16f3c9ef3\")>,\n",
       " <selenium.webdriver.remote.webelement.WebElement (session=\"a5c21327edced594eb8f87775b565e68\", element=\"72f92d51-b89c-41fa-af57-61d01551bbcb\")>,\n",
       " <selenium.webdriver.remote.webelement.WebElement (session=\"a5c21327edced594eb8f87775b565e68\", element=\"579ab8ea-d4b6-4054-b6dd-be3398223541\")>,\n",
       " <selenium.webdriver.remote.webelement.WebElement (session=\"a5c21327edced594eb8f87775b565e68\", element=\"f5551c99-b454-4116-b1a5-28a995762a48\")>,\n",
       " <selenium.webdriver.remote.webelement.WebElement (session=\"a5c21327edced594eb8f87775b565e68\", element=\"e9df65ab-258f-450e-b1c8-2f41fac67c33\")>,\n",
       " <selenium.webdriver.remote.webelement.WebElement (session=\"a5c21327edced594eb8f87775b565e68\", element=\"dc83cb2a-7104-428d-b08f-e9a989c1cfa2\")>,\n",
       " <selenium.webdriver.remote.webelement.WebElement (session=\"a5c21327edced594eb8f87775b565e68\", element=\"190e4ddd-9094-46a6-9424-5b8e9a3acc0b\")>,\n",
       " <selenium.webdriver.remote.webelement.WebElement (session=\"a5c21327edced594eb8f87775b565e68\", element=\"53c2988f-1e95-4adf-9d27-1a8680316163\")>,\n",
       " <selenium.webdriver.remote.webelement.WebElement (session=\"a5c21327edced594eb8f87775b565e68\", element=\"d2f1ddee-6cf6-452c-b266-29de5a84d796\")>,\n",
       " <selenium.webdriver.remote.webelement.WebElement (session=\"a5c21327edced594eb8f87775b565e68\", element=\"b652d219-cc7a-42be-b707-c3f7ce279699\")>,\n",
       " <selenium.webdriver.remote.webelement.WebElement (session=\"a5c21327edced594eb8f87775b565e68\", element=\"1d09dab6-e9ef-48de-a0ce-401f7036546c\")>,\n",
       " <selenium.webdriver.remote.webelement.WebElement (session=\"a5c21327edced594eb8f87775b565e68\", element=\"e16adaa3-6cd9-41cb-b35e-d1f62c7039c7\")>,\n",
       " <selenium.webdriver.remote.webelement.WebElement (session=\"a5c21327edced594eb8f87775b565e68\", element=\"2cc7ee87-40e3-4d8a-8f4c-7e4f40542029\")>,\n",
       " <selenium.webdriver.remote.webelement.WebElement (session=\"a5c21327edced594eb8f87775b565e68\", element=\"67b61ebe-c8c5-442e-a024-8ffa8c49c82a\")>,\n",
       " <selenium.webdriver.remote.webelement.WebElement (session=\"a5c21327edced594eb8f87775b565e68\", element=\"d2397ee7-75ff-4022-8fd5-116ae441cd87\")>,\n",
       " <selenium.webdriver.remote.webelement.WebElement (session=\"a5c21327edced594eb8f87775b565e68\", element=\"fd32a2bf-5013-4a1a-a446-283877b31051\")>,\n",
       " <selenium.webdriver.remote.webelement.WebElement (session=\"a5c21327edced594eb8f87775b565e68\", element=\"068fd49e-12ca-4267-b7ee-15d7f7682e8c\")>,\n",
       " <selenium.webdriver.remote.webelement.WebElement (session=\"a5c21327edced594eb8f87775b565e68\", element=\"cad63435-d331-4d30-8d92-bee2bd5cd9ae\")>,\n",
       " <selenium.webdriver.remote.webelement.WebElement (session=\"a5c21327edced594eb8f87775b565e68\", element=\"7e0ee6d1-43e8-4736-af31-adbd069da111\")>,\n",
       " <selenium.webdriver.remote.webelement.WebElement (session=\"a5c21327edced594eb8f87775b565e68\", element=\"5017d3bd-1601-4cd4-996d-00e4604a914d\")>,\n",
       " <selenium.webdriver.remote.webelement.WebElement (session=\"a5c21327edced594eb8f87775b565e68\", element=\"9d6b69bf-daf4-44b4-b27d-a418a21c79df\")>,\n",
       " <selenium.webdriver.remote.webelement.WebElement (session=\"a5c21327edced594eb8f87775b565e68\", element=\"2141a408-c0f9-45ff-9eb8-df5d46579b7d\")>,\n",
       " <selenium.webdriver.remote.webelement.WebElement (session=\"a5c21327edced594eb8f87775b565e68\", element=\"c6cbe611-9c8f-46ec-ae7c-9a3c27895d40\")>,\n",
       " <selenium.webdriver.remote.webelement.WebElement (session=\"a5c21327edced594eb8f87775b565e68\", element=\"e9473b25-913b-4298-bcf3-63a8afcf2d18\")>,\n",
       " <selenium.webdriver.remote.webelement.WebElement (session=\"a5c21327edced594eb8f87775b565e68\", element=\"f6dd755c-3af4-4236-9641-b19abdcf7b33\")>,\n",
       " <selenium.webdriver.remote.webelement.WebElement (session=\"a5c21327edced594eb8f87775b565e68\", element=\"51ae16b1-65d4-4fe4-8ae0-9c71c8859952\")>,\n",
       " <selenium.webdriver.remote.webelement.WebElement (session=\"a5c21327edced594eb8f87775b565e68\", element=\"a54ee954-4fac-45a7-9200-b5212ddca501\")>,\n",
       " <selenium.webdriver.remote.webelement.WebElement (session=\"a5c21327edced594eb8f87775b565e68\", element=\"51daa43f-bac7-4b72-8ba8-369aa64fd55e\")>,\n",
       " <selenium.webdriver.remote.webelement.WebElement (session=\"a5c21327edced594eb8f87775b565e68\", element=\"e30a33a4-70af-4a32-a50f-db459ce7db7c\")>,\n",
       " <selenium.webdriver.remote.webelement.WebElement (session=\"a5c21327edced594eb8f87775b565e68\", element=\"4c02102d-bf61-4310-8c0e-1e95193e6c31\")>,\n",
       " <selenium.webdriver.remote.webelement.WebElement (session=\"a5c21327edced594eb8f87775b565e68\", element=\"d4dc6e4f-353a-44b7-a391-ea1bf5e73aa7\")>,\n",
       " <selenium.webdriver.remote.webelement.WebElement (session=\"a5c21327edced594eb8f87775b565e68\", element=\"4e1ae48c-5732-4135-9029-640461d5e810\")>]"
      ]
     },
     "execution_count": 51,
     "metadata": {},
     "output_type": "execute_result"
    }
   ],
   "source": [
    "scrap_price81 = driver.find_elements_by_xpath(\"//div[@class='_30jeq3']\")\n",
    "scrap_price81"
   ]
  },
  {
   "cell_type": "code",
   "execution_count": 52,
   "metadata": {
    "scrolled": true
   },
   "outputs": [
    {
     "data": {
      "text/plain": [
       "['₹279',\n",
       " '₹209',\n",
       " '₹455',\n",
       " '₹225',\n",
       " '₹295',\n",
       " '₹299',\n",
       " '₹379',\n",
       " '₹474',\n",
       " '₹246',\n",
       " '₹474',\n",
       " '₹257',\n",
       " '₹424',\n",
       " '₹210',\n",
       " '₹1,179',\n",
       " '₹379',\n",
       " '₹474',\n",
       " '₹203',\n",
       " '₹295',\n",
       " '₹246',\n",
       " '₹487',\n",
       " '₹269',\n",
       " '₹6,651',\n",
       " '₹239',\n",
       " '₹305',\n",
       " '₹599',\n",
       " '₹170',\n",
       " '₹204',\n",
       " '₹739',\n",
       " '₹1,749',\n",
       " '₹589',\n",
       " '₹202',\n",
       " '₹225',\n",
       " '₹189',\n",
       " '₹255',\n",
       " '₹234',\n",
       " '₹316',\n",
       " '₹399',\n",
       " '₹472',\n",
       " '₹799',\n",
       " '₹314',\n",
       " '₹599',\n",
       " '₹225',\n",
       " '₹210',\n",
       " '₹369',\n",
       " '₹331',\n",
       " '₹499',\n",
       " '₹319',\n",
       " '₹399',\n",
       " '₹1,499',\n",
       " '₹217',\n",
       " '₹284',\n",
       " '₹664',\n",
       " '₹819',\n",
       " '₹379',\n",
       " '₹334',\n",
       " '₹219',\n",
       " '₹169',\n",
       " '₹3,019',\n",
       " '₹284',\n",
       " '₹588',\n",
       " '₹210',\n",
       " '₹519',\n",
       " '₹509',\n",
       " '₹449',\n",
       " '₹225',\n",
       " '₹299',\n",
       " '₹312',\n",
       " '₹426',\n",
       " '₹404',\n",
       " '₹299',\n",
       " '₹211',\n",
       " '₹399',\n",
       " '₹1,249',\n",
       " '₹819',\n",
       " '₹239',\n",
       " '₹213',\n",
       " '₹399',\n",
       " '₹246',\n",
       " '₹310',\n",
       " '₹449',\n",
       " '₹669',\n",
       " '₹225',\n",
       " '₹328',\n",
       " '₹279',\n",
       " '₹426',\n",
       " '₹314',\n",
       " '₹1,179',\n",
       " '₹209',\n",
       " '₹399',\n",
       " '₹259',\n",
       " '₹819',\n",
       " '₹474',\n",
       " '₹232',\n",
       " '₹309',\n",
       " '₹314',\n",
       " '₹424',\n",
       " '₹249',\n",
       " '₹398',\n",
       " '₹1,499',\n",
       " '₹474',\n",
       " '₹569',\n",
       " '₹449',\n",
       " '₹969',\n",
       " '₹487',\n",
       " '₹225',\n",
       " '₹379',\n",
       " '₹699',\n",
       " '₹739',\n",
       " '₹969',\n",
       " '₹349',\n",
       " '₹349',\n",
       " '₹225',\n",
       " '₹265',\n",
       " '₹949',\n",
       " '₹349',\n",
       " '₹316',\n",
       " '₹669',\n",
       " '₹539',\n",
       " '₹299',\n",
       " '₹314']"
      ]
     },
     "execution_count": 52,
     "metadata": {},
     "output_type": "execute_result"
    }
   ],
   "source": [
    "for i in scrap_price81:\n",
    "    price.append(i.text)\n",
    "price"
   ]
  },
  {
   "cell_type": "code",
   "execution_count": 54,
   "metadata": {
    "scrolled": true
   },
   "outputs": [
    {
     "data": {
      "text/plain": [
       "['₹279',\n",
       " '₹209',\n",
       " '₹455',\n",
       " '₹225',\n",
       " '₹295',\n",
       " '₹299',\n",
       " '₹379',\n",
       " '₹474',\n",
       " '₹246',\n",
       " '₹474',\n",
       " '₹257',\n",
       " '₹424',\n",
       " '₹210',\n",
       " '₹1,179',\n",
       " '₹379',\n",
       " '₹474',\n",
       " '₹203',\n",
       " '₹295',\n",
       " '₹246',\n",
       " '₹487',\n",
       " '₹269',\n",
       " '₹6,651',\n",
       " '₹239',\n",
       " '₹305',\n",
       " '₹599',\n",
       " '₹170',\n",
       " '₹204',\n",
       " '₹739',\n",
       " '₹1,749',\n",
       " '₹589',\n",
       " '₹202',\n",
       " '₹225',\n",
       " '₹189',\n",
       " '₹255',\n",
       " '₹234',\n",
       " '₹316',\n",
       " '₹399',\n",
       " '₹472',\n",
       " '₹799',\n",
       " '₹314',\n",
       " '₹599',\n",
       " '₹225',\n",
       " '₹210',\n",
       " '₹369',\n",
       " '₹331',\n",
       " '₹499',\n",
       " '₹319',\n",
       " '₹399',\n",
       " '₹1,499',\n",
       " '₹217',\n",
       " '₹284',\n",
       " '₹664',\n",
       " '₹819',\n",
       " '₹379',\n",
       " '₹334',\n",
       " '₹219',\n",
       " '₹169',\n",
       " '₹3,019',\n",
       " '₹284',\n",
       " '₹588',\n",
       " '₹210',\n",
       " '₹519',\n",
       " '₹509',\n",
       " '₹449',\n",
       " '₹225',\n",
       " '₹299',\n",
       " '₹312',\n",
       " '₹426',\n",
       " '₹404',\n",
       " '₹299',\n",
       " '₹211',\n",
       " '₹399',\n",
       " '₹1,249',\n",
       " '₹819',\n",
       " '₹239',\n",
       " '₹213',\n",
       " '₹399',\n",
       " '₹246',\n",
       " '₹310',\n",
       " '₹449',\n",
       " '₹669',\n",
       " '₹225',\n",
       " '₹328',\n",
       " '₹279',\n",
       " '₹426',\n",
       " '₹314',\n",
       " '₹1,179',\n",
       " '₹209',\n",
       " '₹399',\n",
       " '₹259',\n",
       " '₹819',\n",
       " '₹474',\n",
       " '₹232',\n",
       " '₹309',\n",
       " '₹314',\n",
       " '₹424',\n",
       " '₹249',\n",
       " '₹398',\n",
       " '₹1,499',\n",
       " '₹474']"
      ]
     },
     "execution_count": 54,
     "metadata": {},
     "output_type": "execute_result"
    }
   ],
   "source": [
    "final_price = price[:100]\n",
    "final_price"
   ]
  },
  {
   "cell_type": "code",
   "execution_count": 55,
   "metadata": {},
   "outputs": [
    {
     "data": {
      "text/plain": [
       "100"
      ]
     },
     "execution_count": 55,
     "metadata": {},
     "output_type": "execute_result"
    }
   ],
   "source": [
    "len(final_price)"
   ]
  },
  {
   "cell_type": "code",
   "execution_count": 60,
   "metadata": {
    "scrolled": true
   },
   "outputs": [
    {
     "data": {
      "text/plain": [
       "[<selenium.webdriver.remote.webelement.WebElement (session=\"a5c21327edced594eb8f87775b565e68\", element=\"7bf0dc03-c7d2-486d-8531-756aa727c329\")>,\n",
       " <selenium.webdriver.remote.webelement.WebElement (session=\"a5c21327edced594eb8f87775b565e68\", element=\"d3bec6f3-fe86-4ada-95d7-7950b764afca\")>,\n",
       " <selenium.webdriver.remote.webelement.WebElement (session=\"a5c21327edced594eb8f87775b565e68\", element=\"65450489-1b74-4939-adc8-12d817545f3f\")>,\n",
       " <selenium.webdriver.remote.webelement.WebElement (session=\"a5c21327edced594eb8f87775b565e68\", element=\"6af433a2-874d-4711-9590-7dbc1cb136f9\")>,\n",
       " <selenium.webdriver.remote.webelement.WebElement (session=\"a5c21327edced594eb8f87775b565e68\", element=\"3312c845-96b6-4a22-b46b-5380b8475ef1\")>,\n",
       " <selenium.webdriver.remote.webelement.WebElement (session=\"a5c21327edced594eb8f87775b565e68\", element=\"f0ba260d-0b94-407f-9281-d0622a4f58fa\")>,\n",
       " <selenium.webdriver.remote.webelement.WebElement (session=\"a5c21327edced594eb8f87775b565e68\", element=\"555d93a4-7618-45fa-8277-18665b64768d\")>,\n",
       " <selenium.webdriver.remote.webelement.WebElement (session=\"a5c21327edced594eb8f87775b565e68\", element=\"ecfe4a23-daa6-411f-a48f-c403446d779a\")>,\n",
       " <selenium.webdriver.remote.webelement.WebElement (session=\"a5c21327edced594eb8f87775b565e68\", element=\"b97620fb-7b65-459d-8547-f63423360043\")>,\n",
       " <selenium.webdriver.remote.webelement.WebElement (session=\"a5c21327edced594eb8f87775b565e68\", element=\"199abb0d-a92a-4449-8a30-1b35bd4f50a9\")>,\n",
       " <selenium.webdriver.remote.webelement.WebElement (session=\"a5c21327edced594eb8f87775b565e68\", element=\"3ebf66a6-1515-4b0b-b4e2-66718ae86e99\")>,\n",
       " <selenium.webdriver.remote.webelement.WebElement (session=\"a5c21327edced594eb8f87775b565e68\", element=\"15c14544-12e6-41cb-b25a-8a9fad5f0441\")>,\n",
       " <selenium.webdriver.remote.webelement.WebElement (session=\"a5c21327edced594eb8f87775b565e68\", element=\"ef5560dc-0ff2-4ec5-9276-acc169c05c03\")>,\n",
       " <selenium.webdriver.remote.webelement.WebElement (session=\"a5c21327edced594eb8f87775b565e68\", element=\"a346a982-e9b4-40d3-9039-a2bd541d101e\")>,\n",
       " <selenium.webdriver.remote.webelement.WebElement (session=\"a5c21327edced594eb8f87775b565e68\", element=\"8d72c36f-8701-4078-ae59-51bf46cf41ec\")>,\n",
       " <selenium.webdriver.remote.webelement.WebElement (session=\"a5c21327edced594eb8f87775b565e68\", element=\"2e58c0c3-c916-41ac-b8ba-89b3f13ec9d0\")>,\n",
       " <selenium.webdriver.remote.webelement.WebElement (session=\"a5c21327edced594eb8f87775b565e68\", element=\"fbf153ca-0630-45c5-9943-c9a7f5fbf47c\")>,\n",
       " <selenium.webdriver.remote.webelement.WebElement (session=\"a5c21327edced594eb8f87775b565e68\", element=\"9f5de55e-8ac5-484f-b0ed-bf0d87037642\")>,\n",
       " <selenium.webdriver.remote.webelement.WebElement (session=\"a5c21327edced594eb8f87775b565e68\", element=\"977ac5f1-0a55-4b32-895c-2ade714d4221\")>,\n",
       " <selenium.webdriver.remote.webelement.WebElement (session=\"a5c21327edced594eb8f87775b565e68\", element=\"7a548258-416c-45ed-b480-46f8740f975b\")>,\n",
       " <selenium.webdriver.remote.webelement.WebElement (session=\"a5c21327edced594eb8f87775b565e68\", element=\"6565da20-f633-4573-991e-74428da59bf5\")>,\n",
       " <selenium.webdriver.remote.webelement.WebElement (session=\"a5c21327edced594eb8f87775b565e68\", element=\"1c99bb06-fd51-4ec4-a015-8d5c77604a50\")>,\n",
       " <selenium.webdriver.remote.webelement.WebElement (session=\"a5c21327edced594eb8f87775b565e68\", element=\"64831b06-d484-48fb-a599-2714198f1db2\")>,\n",
       " <selenium.webdriver.remote.webelement.WebElement (session=\"a5c21327edced594eb8f87775b565e68\", element=\"c29f0578-db3c-450b-89cc-4ac6df06e650\")>,\n",
       " <selenium.webdriver.remote.webelement.WebElement (session=\"a5c21327edced594eb8f87775b565e68\", element=\"f10d35d1-c646-46d4-a601-25b2f41f16cc\")>,\n",
       " <selenium.webdriver.remote.webelement.WebElement (session=\"a5c21327edced594eb8f87775b565e68\", element=\"6df26ba6-a7e1-43c2-9b09-dce4ed4e6430\")>,\n",
       " <selenium.webdriver.remote.webelement.WebElement (session=\"a5c21327edced594eb8f87775b565e68\", element=\"6adcd780-fe83-47fb-8ab2-4df07d0ea8be\")>,\n",
       " <selenium.webdriver.remote.webelement.WebElement (session=\"a5c21327edced594eb8f87775b565e68\", element=\"38c2efba-fdd7-4dc2-af45-ddfe26ebd018\")>,\n",
       " <selenium.webdriver.remote.webelement.WebElement (session=\"a5c21327edced594eb8f87775b565e68\", element=\"9073d52b-c87d-4732-aa08-96e4f4b97317\")>,\n",
       " <selenium.webdriver.remote.webelement.WebElement (session=\"a5c21327edced594eb8f87775b565e68\", element=\"873d0ac3-40a5-4129-8d7d-cfda97f2c380\")>,\n",
       " <selenium.webdriver.remote.webelement.WebElement (session=\"a5c21327edced594eb8f87775b565e68\", element=\"b1406bad-3620-4108-806a-0f4d5f7431d9\")>,\n",
       " <selenium.webdriver.remote.webelement.WebElement (session=\"a5c21327edced594eb8f87775b565e68\", element=\"fedf09c8-546e-4dc5-a717-f099011f4ba9\")>,\n",
       " <selenium.webdriver.remote.webelement.WebElement (session=\"a5c21327edced594eb8f87775b565e68\", element=\"e0c0b527-e011-45fb-b654-2193c832d3e0\")>,\n",
       " <selenium.webdriver.remote.webelement.WebElement (session=\"a5c21327edced594eb8f87775b565e68\", element=\"1fb1c5c3-7495-466f-93cf-061047319fd9\")>,\n",
       " <selenium.webdriver.remote.webelement.WebElement (session=\"a5c21327edced594eb8f87775b565e68\", element=\"41c0f306-ac25-4b1d-bd8c-28d8415ef05c\")>,\n",
       " <selenium.webdriver.remote.webelement.WebElement (session=\"a5c21327edced594eb8f87775b565e68\", element=\"bb7bad6d-5233-4a2d-bde2-efaf3b009a25\")>,\n",
       " <selenium.webdriver.remote.webelement.WebElement (session=\"a5c21327edced594eb8f87775b565e68\", element=\"7f1812a4-99be-4a09-bc70-f362e43708f9\")>,\n",
       " <selenium.webdriver.remote.webelement.WebElement (session=\"a5c21327edced594eb8f87775b565e68\", element=\"e099a4d7-49e5-49f1-8a3b-de01608f1d71\")>,\n",
       " <selenium.webdriver.remote.webelement.WebElement (session=\"a5c21327edced594eb8f87775b565e68\", element=\"3ccfac38-6c01-4746-9189-586dd3edd485\")>,\n",
       " <selenium.webdriver.remote.webelement.WebElement (session=\"a5c21327edced594eb8f87775b565e68\", element=\"9a1890a1-b591-485e-88e4-1bcce407d763\")>]"
      ]
     },
     "execution_count": 60,
     "metadata": {},
     "output_type": "execute_result"
    }
   ],
   "source": [
    "scrap_discount = driver.find_elements_by_xpath(\"//div[@class='_3Ay6Sb']\")\n",
    "scrap_discount"
   ]
  },
  {
   "cell_type": "code",
   "execution_count": 61,
   "metadata": {
    "scrolled": true
   },
   "outputs": [
    {
     "data": {
      "text/plain": [
       "['65% off',\n",
       " '86% off',\n",
       " '43% off',\n",
       " '85% off',\n",
       " '88% off',\n",
       " '88% off',\n",
       " '81% off',\n",
       " '68% off',\n",
       " '83% off',\n",
       " '78% off',\n",
       " '78% off',\n",
       " '83% off',\n",
       " '85% off',\n",
       " '69% off',\n",
       " '74% off',\n",
       " '68% off',\n",
       " '70% off',\n",
       " '85% off',\n",
       " '75% off',\n",
       " '71% off',\n",
       " '82% off',\n",
       " '10% off',\n",
       " '76% off',\n",
       " '85% off',\n",
       " '20% off',\n",
       " '82% off',\n",
       " '74% off',\n",
       " '80% off',\n",
       " '70% off',\n",
       " '54% off',\n",
       " '83% off',\n",
       " '68% off',\n",
       " '81% off',\n",
       " '74% off',\n",
       " '70% off',\n",
       " '69% off',\n",
       " '81% off',\n",
       " '60% off',\n",
       " '81% off',\n",
       " '84% off']"
      ]
     },
     "execution_count": 61,
     "metadata": {},
     "output_type": "execute_result"
    }
   ],
   "source": [
    "discount = []\n",
    "for i in scrap_discount:\n",
    "    discount.append(i.text)\n",
    "discount"
   ]
  },
  {
   "cell_type": "code",
   "execution_count": 63,
   "metadata": {
    "scrolled": true
   },
   "outputs": [
    {
     "data": {
      "text/plain": [
       "[<selenium.webdriver.remote.webelement.WebElement (session=\"a5c21327edced594eb8f87775b565e68\", element=\"dec61dc5-8618-49f8-8fdc-b68828c65c6e\")>,\n",
       " <selenium.webdriver.remote.webelement.WebElement (session=\"a5c21327edced594eb8f87775b565e68\", element=\"86703f53-e61f-4b5d-8f5a-54c23656d268\")>,\n",
       " <selenium.webdriver.remote.webelement.WebElement (session=\"a5c21327edced594eb8f87775b565e68\", element=\"d64fd012-923b-4e08-aa26-fac244096dde\")>,\n",
       " <selenium.webdriver.remote.webelement.WebElement (session=\"a5c21327edced594eb8f87775b565e68\", element=\"dcfb155f-591a-4161-be33-76123add8c0b\")>,\n",
       " <selenium.webdriver.remote.webelement.WebElement (session=\"a5c21327edced594eb8f87775b565e68\", element=\"89e1a752-130a-4e0a-91bb-a2ed6cda5536\")>,\n",
       " <selenium.webdriver.remote.webelement.WebElement (session=\"a5c21327edced594eb8f87775b565e68\", element=\"f2069fdc-ea9b-4ab7-86b6-2fc8b5e8eca2\")>,\n",
       " <selenium.webdriver.remote.webelement.WebElement (session=\"a5c21327edced594eb8f87775b565e68\", element=\"638c92d3-af79-494f-b3e7-e5ae0141aeb9\")>,\n",
       " <selenium.webdriver.remote.webelement.WebElement (session=\"a5c21327edced594eb8f87775b565e68\", element=\"68d56da0-dbf5-42ac-a31b-fc40f54ccc0a\")>,\n",
       " <selenium.webdriver.remote.webelement.WebElement (session=\"a5c21327edced594eb8f87775b565e68\", element=\"a0bc93da-29a6-42cb-a818-8db41d88e884\")>,\n",
       " <selenium.webdriver.remote.webelement.WebElement (session=\"a5c21327edced594eb8f87775b565e68\", element=\"1a261396-c546-4410-8b9e-b4d37e8dfb4f\")>,\n",
       " <selenium.webdriver.remote.webelement.WebElement (session=\"a5c21327edced594eb8f87775b565e68\", element=\"cd54f777-87ba-4e48-956f-f7bada2f131a\")>,\n",
       " <selenium.webdriver.remote.webelement.WebElement (session=\"a5c21327edced594eb8f87775b565e68\", element=\"77f77c23-ae12-4639-8c1e-cb2e28b0189e\")>,\n",
       " <selenium.webdriver.remote.webelement.WebElement (session=\"a5c21327edced594eb8f87775b565e68\", element=\"9366f28b-eca8-47df-9ad6-b76fde75a4af\")>,\n",
       " <selenium.webdriver.remote.webelement.WebElement (session=\"a5c21327edced594eb8f87775b565e68\", element=\"14b6af37-67a0-4a83-b217-341bd7aa5ba5\")>,\n",
       " <selenium.webdriver.remote.webelement.WebElement (session=\"a5c21327edced594eb8f87775b565e68\", element=\"1451ba35-d573-4474-b9a4-293cbb725c5c\")>,\n",
       " <selenium.webdriver.remote.webelement.WebElement (session=\"a5c21327edced594eb8f87775b565e68\", element=\"92a78b3b-0b04-4d14-a6e3-24480175fbed\")>,\n",
       " <selenium.webdriver.remote.webelement.WebElement (session=\"a5c21327edced594eb8f87775b565e68\", element=\"e6aca9eb-866e-42ec-9501-8346263793c3\")>,\n",
       " <selenium.webdriver.remote.webelement.WebElement (session=\"a5c21327edced594eb8f87775b565e68\", element=\"a9ba8990-9391-4656-a278-05f610ab1d70\")>,\n",
       " <selenium.webdriver.remote.webelement.WebElement (session=\"a5c21327edced594eb8f87775b565e68\", element=\"1cf1ddab-20af-4800-9c17-eea8f297180a\")>,\n",
       " <selenium.webdriver.remote.webelement.WebElement (session=\"a5c21327edced594eb8f87775b565e68\", element=\"21013602-a7df-4964-a8f2-26adf501b901\")>,\n",
       " <selenium.webdriver.remote.webelement.WebElement (session=\"a5c21327edced594eb8f87775b565e68\", element=\"ae7dcb7e-d962-4b16-bb99-0b4805ea0504\")>,\n",
       " <selenium.webdriver.remote.webelement.WebElement (session=\"a5c21327edced594eb8f87775b565e68\", element=\"e92c9a11-1057-43a1-a58f-fef5b8e491e0\")>,\n",
       " <selenium.webdriver.remote.webelement.WebElement (session=\"a5c21327edced594eb8f87775b565e68\", element=\"97457af2-dc2d-43d5-9ad2-e9897927a5e9\")>,\n",
       " <selenium.webdriver.remote.webelement.WebElement (session=\"a5c21327edced594eb8f87775b565e68\", element=\"d2ce6985-45cf-482f-928a-f55cad87695e\")>,\n",
       " <selenium.webdriver.remote.webelement.WebElement (session=\"a5c21327edced594eb8f87775b565e68\", element=\"f60f1ac6-f9d1-44ad-bbbf-a3cf82b79ea7\")>,\n",
       " <selenium.webdriver.remote.webelement.WebElement (session=\"a5c21327edced594eb8f87775b565e68\", element=\"f1824c35-d1d6-47aa-bcef-4b3fc1c29308\")>,\n",
       " <selenium.webdriver.remote.webelement.WebElement (session=\"a5c21327edced594eb8f87775b565e68\", element=\"5e9464e5-be2b-48a7-94ea-7c9998ccfbc3\")>,\n",
       " <selenium.webdriver.remote.webelement.WebElement (session=\"a5c21327edced594eb8f87775b565e68\", element=\"9b2763ca-675c-40fb-be2d-627e1db6eb16\")>,\n",
       " <selenium.webdriver.remote.webelement.WebElement (session=\"a5c21327edced594eb8f87775b565e68\", element=\"cf964bd7-a799-4f07-a755-d9508b48bcf0\")>,\n",
       " <selenium.webdriver.remote.webelement.WebElement (session=\"a5c21327edced594eb8f87775b565e68\", element=\"cce56418-ea64-49de-a458-927b51a88fba\")>,\n",
       " <selenium.webdriver.remote.webelement.WebElement (session=\"a5c21327edced594eb8f87775b565e68\", element=\"562f0163-eaaa-4e0c-8a08-a40cda6429da\")>,\n",
       " <selenium.webdriver.remote.webelement.WebElement (session=\"a5c21327edced594eb8f87775b565e68\", element=\"8a2106b0-53a8-470f-8cae-d55f3604e48a\")>,\n",
       " <selenium.webdriver.remote.webelement.WebElement (session=\"a5c21327edced594eb8f87775b565e68\", element=\"d420bfaa-f643-49be-b633-ef8e57b8021b\")>,\n",
       " <selenium.webdriver.remote.webelement.WebElement (session=\"a5c21327edced594eb8f87775b565e68\", element=\"0f841b5d-16d6-4c0e-8365-67de4215a9b7\")>,\n",
       " <selenium.webdriver.remote.webelement.WebElement (session=\"a5c21327edced594eb8f87775b565e68\", element=\"ae9e087a-a023-4e0c-875d-875e16334a65\")>,\n",
       " <selenium.webdriver.remote.webelement.WebElement (session=\"a5c21327edced594eb8f87775b565e68\", element=\"b4947d3a-7992-4ce7-af1e-072e2c349dc1\")>,\n",
       " <selenium.webdriver.remote.webelement.WebElement (session=\"a5c21327edced594eb8f87775b565e68\", element=\"3b894387-fdb6-48e2-a853-6f64fdf7fad0\")>,\n",
       " <selenium.webdriver.remote.webelement.WebElement (session=\"a5c21327edced594eb8f87775b565e68\", element=\"7a81c5ed-f036-4c01-9a57-beff53303866\")>,\n",
       " <selenium.webdriver.remote.webelement.WebElement (session=\"a5c21327edced594eb8f87775b565e68\", element=\"d909ed60-ad16-4ddf-8a1e-2426189a6bc0\")>,\n",
       " <selenium.webdriver.remote.webelement.WebElement (session=\"a5c21327edced594eb8f87775b565e68\", element=\"57a1b352-f00e-4688-96c5-92e54f2c18d6\")>]"
      ]
     },
     "execution_count": 63,
     "metadata": {},
     "output_type": "execute_result"
    }
   ],
   "source": [
    "scrap_discount41 = driver.find_elements_by_xpath(\"//div[@class='_3Ay6Sb']\")\n",
    "scrap_discount41"
   ]
  },
  {
   "cell_type": "code",
   "execution_count": 64,
   "metadata": {
    "scrolled": true
   },
   "outputs": [
    {
     "data": {
      "text/plain": [
       "['65% off',\n",
       " '86% off',\n",
       " '43% off',\n",
       " '85% off',\n",
       " '88% off',\n",
       " '88% off',\n",
       " '81% off',\n",
       " '68% off',\n",
       " '83% off',\n",
       " '78% off',\n",
       " '78% off',\n",
       " '83% off',\n",
       " '85% off',\n",
       " '69% off',\n",
       " '74% off',\n",
       " '68% off',\n",
       " '70% off',\n",
       " '85% off',\n",
       " '75% off',\n",
       " '71% off',\n",
       " '82% off',\n",
       " '10% off',\n",
       " '76% off',\n",
       " '85% off',\n",
       " '20% off',\n",
       " '82% off',\n",
       " '74% off',\n",
       " '80% off',\n",
       " '70% off',\n",
       " '54% off',\n",
       " '83% off',\n",
       " '68% off',\n",
       " '81% off',\n",
       " '74% off',\n",
       " '70% off',\n",
       " '69% off',\n",
       " '81% off',\n",
       " '60% off',\n",
       " '81% off',\n",
       " '84% off',\n",
       " '33% off',\n",
       " '85% off',\n",
       " '82% off',\n",
       " '84% off',\n",
       " '74% off',\n",
       " '77% off',\n",
       " '83% off',\n",
       " '55% off',\n",
       " '68% off',\n",
       " '78% off',\n",
       " '85% off',\n",
       " '82% off',\n",
       " '67% off',\n",
       " '81% off',\n",
       " '72% off',\n",
       " '78% off',\n",
       " '81% off',\n",
       " '45% off',\n",
       " '76% off',\n",
       " '78% off',\n",
       " '78% off',\n",
       " '54% off',\n",
       " '36% off',\n",
       " '73% off',\n",
       " '85% off',\n",
       " '88% off',\n",
       " '87% off',\n",
       " '87% off',\n",
       " '79% off',\n",
       " '76% off',\n",
       " '78% off',\n",
       " '70% off',\n",
       " '69% off',\n",
       " '67% off',\n",
       " '84% off',\n",
       " '82% off',\n",
       " '73% off',\n",
       " '87% off',\n",
       " '75% off',\n",
       " '72% off']"
      ]
     },
     "execution_count": 64,
     "metadata": {},
     "output_type": "execute_result"
    }
   ],
   "source": [
    "for i in scrap_discount41:\n",
    "    discount.append(i.text)\n",
    "discount"
   ]
  },
  {
   "cell_type": "code",
   "execution_count": 66,
   "metadata": {
    "scrolled": true
   },
   "outputs": [
    {
     "data": {
      "text/plain": [
       "[<selenium.webdriver.remote.webelement.WebElement (session=\"a5c21327edced594eb8f87775b565e68\", element=\"1474360d-5cdd-4220-a6d1-b979e67dab7c\")>,\n",
       " <selenium.webdriver.remote.webelement.WebElement (session=\"a5c21327edced594eb8f87775b565e68\", element=\"ef2f4e40-9083-4902-92e1-cb213dbda350\")>,\n",
       " <selenium.webdriver.remote.webelement.WebElement (session=\"a5c21327edced594eb8f87775b565e68\", element=\"6b307a83-2b30-4fe9-bcef-270e4c7aec0c\")>,\n",
       " <selenium.webdriver.remote.webelement.WebElement (session=\"a5c21327edced594eb8f87775b565e68\", element=\"222920d9-d75a-43c9-a233-c599c7c41380\")>,\n",
       " <selenium.webdriver.remote.webelement.WebElement (session=\"a5c21327edced594eb8f87775b565e68\", element=\"1d782c63-f281-4bad-ac1f-662df0e39c5b\")>,\n",
       " <selenium.webdriver.remote.webelement.WebElement (session=\"a5c21327edced594eb8f87775b565e68\", element=\"c019f52e-15ba-4b52-a853-3057b88aebcf\")>,\n",
       " <selenium.webdriver.remote.webelement.WebElement (session=\"a5c21327edced594eb8f87775b565e68\", element=\"84ab2d61-df9e-4a6c-b4ec-f7266b60389e\")>,\n",
       " <selenium.webdriver.remote.webelement.WebElement (session=\"a5c21327edced594eb8f87775b565e68\", element=\"2615bb1a-e706-44ff-9c4c-0fae5091ddb4\")>,\n",
       " <selenium.webdriver.remote.webelement.WebElement (session=\"a5c21327edced594eb8f87775b565e68\", element=\"5b607784-b9e0-4425-a033-5ff63cf94d8c\")>,\n",
       " <selenium.webdriver.remote.webelement.WebElement (session=\"a5c21327edced594eb8f87775b565e68\", element=\"5e6497a2-c21f-40e7-a47a-ca15d9b04d28\")>,\n",
       " <selenium.webdriver.remote.webelement.WebElement (session=\"a5c21327edced594eb8f87775b565e68\", element=\"2382d87f-83a4-4d41-9d4a-facfe8b5fd81\")>,\n",
       " <selenium.webdriver.remote.webelement.WebElement (session=\"a5c21327edced594eb8f87775b565e68\", element=\"40333335-d8c9-4162-b360-f1e8d42aa808\")>,\n",
       " <selenium.webdriver.remote.webelement.WebElement (session=\"a5c21327edced594eb8f87775b565e68\", element=\"1c1aa9df-22a4-4b44-95c7-a6eec31614da\")>,\n",
       " <selenium.webdriver.remote.webelement.WebElement (session=\"a5c21327edced594eb8f87775b565e68\", element=\"c824c9c0-d5f5-4f14-93e3-a747a8c628e1\")>,\n",
       " <selenium.webdriver.remote.webelement.WebElement (session=\"a5c21327edced594eb8f87775b565e68\", element=\"06f6c390-6396-4b0c-9a4a-b16783b6f63e\")>,\n",
       " <selenium.webdriver.remote.webelement.WebElement (session=\"a5c21327edced594eb8f87775b565e68\", element=\"4823fa38-4010-4242-8a96-3216032631e1\")>,\n",
       " <selenium.webdriver.remote.webelement.WebElement (session=\"a5c21327edced594eb8f87775b565e68\", element=\"e721399f-6714-4ee2-9471-2c888529752f\")>,\n",
       " <selenium.webdriver.remote.webelement.WebElement (session=\"a5c21327edced594eb8f87775b565e68\", element=\"52ccfe43-30be-40e6-8362-df4a23a9e178\")>,\n",
       " <selenium.webdriver.remote.webelement.WebElement (session=\"a5c21327edced594eb8f87775b565e68\", element=\"2fd0b290-df20-4fe9-888e-f2866a0f92b2\")>,\n",
       " <selenium.webdriver.remote.webelement.WebElement (session=\"a5c21327edced594eb8f87775b565e68\", element=\"9ebce4d4-42c6-40ee-b203-d8259be4d7fc\")>,\n",
       " <selenium.webdriver.remote.webelement.WebElement (session=\"a5c21327edced594eb8f87775b565e68\", element=\"a54d4a50-9972-44a5-bb54-6ecce4d7914b\")>,\n",
       " <selenium.webdriver.remote.webelement.WebElement (session=\"a5c21327edced594eb8f87775b565e68\", element=\"f78af1d9-1bda-4c35-8741-ac9f7f05ec9b\")>,\n",
       " <selenium.webdriver.remote.webelement.WebElement (session=\"a5c21327edced594eb8f87775b565e68\", element=\"09f3c2b9-66c9-43f6-ac04-0eec1897bcbe\")>,\n",
       " <selenium.webdriver.remote.webelement.WebElement (session=\"a5c21327edced594eb8f87775b565e68\", element=\"ac5618ce-2472-49be-be73-a99c6d3cf1de\")>,\n",
       " <selenium.webdriver.remote.webelement.WebElement (session=\"a5c21327edced594eb8f87775b565e68\", element=\"9dfa32ce-4ff4-4caf-8379-7f0eb82712c3\")>,\n",
       " <selenium.webdriver.remote.webelement.WebElement (session=\"a5c21327edced594eb8f87775b565e68\", element=\"fadc097c-f401-4c27-824e-1d197bf5bfe9\")>,\n",
       " <selenium.webdriver.remote.webelement.WebElement (session=\"a5c21327edced594eb8f87775b565e68\", element=\"25ae4707-ee55-4391-ac97-f847d047624b\")>,\n",
       " <selenium.webdriver.remote.webelement.WebElement (session=\"a5c21327edced594eb8f87775b565e68\", element=\"f38a54af-a20e-4325-9a7b-f2eb9ed72400\")>,\n",
       " <selenium.webdriver.remote.webelement.WebElement (session=\"a5c21327edced594eb8f87775b565e68\", element=\"a7d39d9d-c6c9-4cf8-8e24-0c71dbd4722d\")>,\n",
       " <selenium.webdriver.remote.webelement.WebElement (session=\"a5c21327edced594eb8f87775b565e68\", element=\"38750aae-f542-4760-9c05-b2a5d9dde8dc\")>,\n",
       " <selenium.webdriver.remote.webelement.WebElement (session=\"a5c21327edced594eb8f87775b565e68\", element=\"362495d1-febb-4fe6-ae00-77e9266b15e6\")>,\n",
       " <selenium.webdriver.remote.webelement.WebElement (session=\"a5c21327edced594eb8f87775b565e68\", element=\"118fced4-7d4d-4be8-985e-9f0a6587d48a\")>,\n",
       " <selenium.webdriver.remote.webelement.WebElement (session=\"a5c21327edced594eb8f87775b565e68\", element=\"945011ec-d698-47d2-8953-6ba6f250d049\")>,\n",
       " <selenium.webdriver.remote.webelement.WebElement (session=\"a5c21327edced594eb8f87775b565e68\", element=\"0afc0584-6a1e-4963-950c-11ca805507b6\")>,\n",
       " <selenium.webdriver.remote.webelement.WebElement (session=\"a5c21327edced594eb8f87775b565e68\", element=\"39d7d0a1-c2a1-48c8-be69-46c84d483acd\")>,\n",
       " <selenium.webdriver.remote.webelement.WebElement (session=\"a5c21327edced594eb8f87775b565e68\", element=\"806f7fdb-3dfd-4073-b57d-352a609e6c40\")>,\n",
       " <selenium.webdriver.remote.webelement.WebElement (session=\"a5c21327edced594eb8f87775b565e68\", element=\"5792956b-a536-4c11-bca1-8b43ffdf1c42\")>,\n",
       " <selenium.webdriver.remote.webelement.WebElement (session=\"a5c21327edced594eb8f87775b565e68\", element=\"d1f37cc1-d709-4fbe-9d78-139ff0f6c294\")>,\n",
       " <selenium.webdriver.remote.webelement.WebElement (session=\"a5c21327edced594eb8f87775b565e68\", element=\"c94dca0f-ec4c-4d6a-98d5-19872e8ff733\")>,\n",
       " <selenium.webdriver.remote.webelement.WebElement (session=\"a5c21327edced594eb8f87775b565e68\", element=\"e9865445-58c6-40c7-b34e-3496a1f35d4a\")>]"
      ]
     },
     "execution_count": 66,
     "metadata": {},
     "output_type": "execute_result"
    }
   ],
   "source": [
    "scrap_discount81 = driver.find_elements_by_xpath(\"//div[@class='_3Ay6Sb']\")\n",
    "scrap_discount81"
   ]
  },
  {
   "cell_type": "code",
   "execution_count": 67,
   "metadata": {
    "scrolled": true
   },
   "outputs": [
    {
     "data": {
      "text/plain": [
       "['65% off',\n",
       " '86% off',\n",
       " '43% off',\n",
       " '85% off',\n",
       " '88% off',\n",
       " '88% off',\n",
       " '81% off',\n",
       " '68% off',\n",
       " '83% off',\n",
       " '78% off',\n",
       " '78% off',\n",
       " '83% off',\n",
       " '85% off',\n",
       " '69% off',\n",
       " '74% off',\n",
       " '68% off',\n",
       " '70% off',\n",
       " '85% off',\n",
       " '75% off',\n",
       " '71% off',\n",
       " '82% off',\n",
       " '10% off',\n",
       " '76% off',\n",
       " '85% off',\n",
       " '20% off',\n",
       " '82% off',\n",
       " '74% off',\n",
       " '80% off',\n",
       " '70% off',\n",
       " '54% off',\n",
       " '83% off',\n",
       " '68% off',\n",
       " '81% off',\n",
       " '74% off',\n",
       " '70% off',\n",
       " '69% off',\n",
       " '81% off',\n",
       " '60% off',\n",
       " '81% off',\n",
       " '84% off',\n",
       " '33% off',\n",
       " '85% off',\n",
       " '82% off',\n",
       " '84% off',\n",
       " '74% off',\n",
       " '77% off',\n",
       " '83% off',\n",
       " '55% off',\n",
       " '68% off',\n",
       " '78% off',\n",
       " '85% off',\n",
       " '82% off',\n",
       " '67% off',\n",
       " '81% off',\n",
       " '72% off',\n",
       " '78% off',\n",
       " '81% off',\n",
       " '45% off',\n",
       " '76% off',\n",
       " '78% off',\n",
       " '78% off',\n",
       " '54% off',\n",
       " '36% off',\n",
       " '73% off',\n",
       " '85% off',\n",
       " '88% off',\n",
       " '87% off',\n",
       " '87% off',\n",
       " '79% off',\n",
       " '76% off',\n",
       " '78% off',\n",
       " '70% off',\n",
       " '69% off',\n",
       " '67% off',\n",
       " '84% off',\n",
       " '82% off',\n",
       " '73% off',\n",
       " '87% off',\n",
       " '75% off',\n",
       " '72% off',\n",
       " '25% off',\n",
       " '79% off',\n",
       " '86% off',\n",
       " '71% off',\n",
       " '80% off',\n",
       " '80% off',\n",
       " '68% off',\n",
       " '66% off',\n",
       " '73% off',\n",
       " '74% off',\n",
       " '67% off',\n",
       " '66% off',\n",
       " '84% off',\n",
       " '66% off',\n",
       " '84% off',\n",
       " '70% off',\n",
       " '79% off',\n",
       " '73% off',\n",
       " '68% off',\n",
       " '66% off',\n",
       " '71% off',\n",
       " '77% off',\n",
       " '25% off',\n",
       " '60% off',\n",
       " '77% off',\n",
       " '89% off',\n",
       " '53% off',\n",
       " '66% off',\n",
       " '25% off',\n",
       " '76% off',\n",
       " '76% off',\n",
       " '66% off',\n",
       " '79% off',\n",
       " '26% off',\n",
       " '78% off',\n",
       " '66% off',\n",
       " '25% off',\n",
       " '32% off',\n",
       " '80% off',\n",
       " '65% off']"
      ]
     },
     "execution_count": 67,
     "metadata": {},
     "output_type": "execute_result"
    }
   ],
   "source": [
    "for i in scrap_discount81:\n",
    "    discount.append(i.text)\n",
    "discount"
   ]
  },
  {
   "cell_type": "code",
   "execution_count": 69,
   "metadata": {
    "scrolled": true
   },
   "outputs": [
    {
     "data": {
      "text/plain": [
       "['65% off',\n",
       " '86% off',\n",
       " '43% off',\n",
       " '85% off',\n",
       " '88% off',\n",
       " '88% off',\n",
       " '81% off',\n",
       " '68% off',\n",
       " '83% off',\n",
       " '78% off',\n",
       " '78% off',\n",
       " '83% off',\n",
       " '85% off',\n",
       " '69% off',\n",
       " '74% off',\n",
       " '68% off',\n",
       " '70% off',\n",
       " '85% off',\n",
       " '75% off',\n",
       " '71% off',\n",
       " '82% off',\n",
       " '10% off',\n",
       " '76% off',\n",
       " '85% off',\n",
       " '20% off',\n",
       " '82% off',\n",
       " '74% off',\n",
       " '80% off',\n",
       " '70% off',\n",
       " '54% off',\n",
       " '83% off',\n",
       " '68% off',\n",
       " '81% off',\n",
       " '74% off',\n",
       " '70% off',\n",
       " '69% off',\n",
       " '81% off',\n",
       " '60% off',\n",
       " '81% off',\n",
       " '84% off',\n",
       " '33% off',\n",
       " '85% off',\n",
       " '82% off',\n",
       " '84% off',\n",
       " '74% off',\n",
       " '77% off',\n",
       " '83% off',\n",
       " '55% off',\n",
       " '68% off',\n",
       " '78% off',\n",
       " '85% off',\n",
       " '82% off',\n",
       " '67% off',\n",
       " '81% off',\n",
       " '72% off',\n",
       " '78% off',\n",
       " '81% off',\n",
       " '45% off',\n",
       " '76% off',\n",
       " '78% off',\n",
       " '78% off',\n",
       " '54% off',\n",
       " '36% off',\n",
       " '73% off',\n",
       " '85% off',\n",
       " '88% off',\n",
       " '87% off',\n",
       " '87% off',\n",
       " '79% off',\n",
       " '76% off',\n",
       " '78% off',\n",
       " '70% off',\n",
       " '69% off',\n",
       " '67% off',\n",
       " '84% off',\n",
       " '82% off',\n",
       " '73% off',\n",
       " '87% off',\n",
       " '75% off',\n",
       " '72% off',\n",
       " '25% off',\n",
       " '79% off',\n",
       " '86% off',\n",
       " '71% off',\n",
       " '80% off',\n",
       " '80% off',\n",
       " '68% off',\n",
       " '66% off',\n",
       " '73% off',\n",
       " '74% off',\n",
       " '67% off',\n",
       " '66% off',\n",
       " '84% off',\n",
       " '66% off',\n",
       " '84% off',\n",
       " '70% off',\n",
       " '79% off',\n",
       " '73% off',\n",
       " '68% off',\n",
       " '66% off']"
      ]
     },
     "execution_count": 69,
     "metadata": {},
     "output_type": "execute_result"
    }
   ],
   "source": [
    "final_discount = discount[:100]\n",
    "final_discount"
   ]
  },
  {
   "cell_type": "code",
   "execution_count": 70,
   "metadata": {},
   "outputs": [
    {
     "data": {
      "text/plain": [
       "100"
      ]
     },
     "execution_count": 70,
     "metadata": {},
     "output_type": "execute_result"
    }
   ],
   "source": [
    "len(final_discount)"
   ]
  },
  {
   "cell_type": "code",
   "execution_count": 71,
   "metadata": {
    "scrolled": true
   },
   "outputs": [
    {
     "data": {
      "text/html": [
       "<div>\n",
       "<style scoped>\n",
       "    .dataframe tbody tr th:only-of-type {\n",
       "        vertical-align: middle;\n",
       "    }\n",
       "\n",
       "    .dataframe tbody tr th {\n",
       "        vertical-align: top;\n",
       "    }\n",
       "\n",
       "    .dataframe thead th {\n",
       "        text-align: right;\n",
       "    }\n",
       "</style>\n",
       "<table border=\"1\" class=\"dataframe\">\n",
       "  <thead>\n",
       "    <tr style=\"text-align: right;\">\n",
       "      <th></th>\n",
       "      <th>Brand</th>\n",
       "      <th>Product Description</th>\n",
       "      <th>Price</th>\n",
       "      <th>Discount</th>\n",
       "    </tr>\n",
       "  </thead>\n",
       "  <tbody>\n",
       "    <tr>\n",
       "      <th>0</th>\n",
       "      <td>VINCENT CHASE</td>\n",
       "      <td>Mirrored Aviator Sunglasses (58)</td>\n",
       "      <td>₹279</td>\n",
       "      <td>65% off</td>\n",
       "    </tr>\n",
       "    <tr>\n",
       "      <th>1</th>\n",
       "      <td>VINCENT CHASE</td>\n",
       "      <td>UV Protection, Gradient Retro Square Sunglasse...</td>\n",
       "      <td>₹209</td>\n",
       "      <td>86% off</td>\n",
       "    </tr>\n",
       "    <tr>\n",
       "      <th>2</th>\n",
       "      <td>Fastrack</td>\n",
       "      <td>Gradient, UV Protection Wayfarer Sunglasses (F...</td>\n",
       "      <td>₹455</td>\n",
       "      <td>43% off</td>\n",
       "    </tr>\n",
       "    <tr>\n",
       "      <th>3</th>\n",
       "      <td>PIRASO</td>\n",
       "      <td>UV Protection Aviator Sunglasses (54)</td>\n",
       "      <td>₹225</td>\n",
       "      <td>85% off</td>\n",
       "    </tr>\n",
       "    <tr>\n",
       "      <th>4</th>\n",
       "      <td>Elligator</td>\n",
       "      <td>UV Protection Round Sunglasses (54)</td>\n",
       "      <td>₹295</td>\n",
       "      <td>88% off</td>\n",
       "    </tr>\n",
       "    <tr>\n",
       "      <th>...</th>\n",
       "      <td>...</td>\n",
       "      <td>...</td>\n",
       "      <td>...</td>\n",
       "      <td>...</td>\n",
       "    </tr>\n",
       "    <tr>\n",
       "      <th>95</th>\n",
       "      <td>AISLIN</td>\n",
       "      <td>UV Protection, Mirrored Round Sunglasses (54)</td>\n",
       "      <td>₹424</td>\n",
       "      <td>70% off</td>\n",
       "    </tr>\n",
       "    <tr>\n",
       "      <th>96</th>\n",
       "      <td>Fastrack</td>\n",
       "      <td>UV Protection Aviator Sunglasses (Free Size)</td>\n",
       "      <td>₹249</td>\n",
       "      <td>79% off</td>\n",
       "    </tr>\n",
       "    <tr>\n",
       "      <th>97</th>\n",
       "      <td>kingsunglasses</td>\n",
       "      <td>UV Protection, Riding Glasses Rectangular, Ret...</td>\n",
       "      <td>₹398</td>\n",
       "      <td>73% off</td>\n",
       "    </tr>\n",
       "    <tr>\n",
       "      <th>98</th>\n",
       "      <td>Elligator</td>\n",
       "      <td>Mirrored Rectangular Sunglasses (53)</td>\n",
       "      <td>₹1,499</td>\n",
       "      <td>68% off</td>\n",
       "    </tr>\n",
       "    <tr>\n",
       "      <th>99</th>\n",
       "      <td>PIRASO</td>\n",
       "      <td>UV Protection Retro Square Sunglasses (88)</td>\n",
       "      <td>₹474</td>\n",
       "      <td>66% off</td>\n",
       "    </tr>\n",
       "  </tbody>\n",
       "</table>\n",
       "<p>100 rows × 4 columns</p>\n",
       "</div>"
      ],
      "text/plain": [
       "             Brand                                Product Description   Price  \\\n",
       "0    VINCENT CHASE                   Mirrored Aviator Sunglasses (58)    ₹279   \n",
       "1    VINCENT CHASE  UV Protection, Gradient Retro Square Sunglasse...    ₹209   \n",
       "2         Fastrack  Gradient, UV Protection Wayfarer Sunglasses (F...    ₹455   \n",
       "3           PIRASO              UV Protection Aviator Sunglasses (54)    ₹225   \n",
       "4        Elligator                UV Protection Round Sunglasses (54)    ₹295   \n",
       "..             ...                                                ...     ...   \n",
       "95          AISLIN      UV Protection, Mirrored Round Sunglasses (54)    ₹424   \n",
       "96        Fastrack       UV Protection Aviator Sunglasses (Free Size)    ₹249   \n",
       "97  kingsunglasses  UV Protection, Riding Glasses Rectangular, Ret...    ₹398   \n",
       "98       Elligator               Mirrored Rectangular Sunglasses (53)  ₹1,499   \n",
       "99          PIRASO         UV Protection Retro Square Sunglasses (88)    ₹474   \n",
       "\n",
       "   Discount  \n",
       "0   65% off  \n",
       "1   86% off  \n",
       "2   43% off  \n",
       "3   85% off  \n",
       "4   88% off  \n",
       "..      ...  \n",
       "95  70% off  \n",
       "96  79% off  \n",
       "97  73% off  \n",
       "98  68% off  \n",
       "99  66% off  \n",
       "\n",
       "[100 rows x 4 columns]"
      ]
     },
     "execution_count": 71,
     "metadata": {},
     "output_type": "execute_result"
    }
   ],
   "source": [
    "Sunglasses = pd.DataFrame({'Brand':final_brand,'Product Description':final_desc,'Price':final_price,'Discount':final_discount})\n",
    "Sunglasses"
   ]
  },
  {
   "cell_type": "markdown",
   "metadata": {},
   "source": [
    "# Q7"
   ]
  },
  {
   "cell_type": "code",
   "execution_count": 3,
   "metadata": {},
   "outputs": [],
   "source": [
    "url =' https://www.flipkart.com/apple-iphone-11-black-64-gb-includes- earpods-power- adapter/p/itm0f37c2240b217?pid=MOBFKCTSVZAXUHGR&lid=LSTMOBFKC TSVZAXUHGREPBFGI&marketplace'\n",
    "driver.get(url)"
   ]
  },
  {
   "cell_type": "code",
   "execution_count": 4,
   "metadata": {},
   "outputs": [],
   "source": [
    "url1 = 'https://www.flipkart.com/apple-iphone-11-black-64-gb-includes-earpods-power-adapter/product-reviews/itm0f37c2240b217?pid=MOBFKCTSVZAXUHGR&lid=LSTMOBFKCTSVZAXUHGREPBFGI&marketplace=FLIPKART'\n",
    "driver.get(url1)"
   ]
  },
  {
   "cell_type": "code",
   "execution_count": 5,
   "metadata": {
    "scrolled": false
   },
   "outputs": [
    {
     "data": {
      "text/plain": [
       "[<selenium.webdriver.remote.webelement.WebElement (session=\"ec87b271ce103b9c0eb72458b9b3bc32\", element=\"b88a1707-07a0-4eea-856f-7a4065c2d6ec\")>,\n",
       " <selenium.webdriver.remote.webelement.WebElement (session=\"ec87b271ce103b9c0eb72458b9b3bc32\", element=\"789537c0-f332-4f2b-9c45-50dcf27a3666\")>,\n",
       " <selenium.webdriver.remote.webelement.WebElement (session=\"ec87b271ce103b9c0eb72458b9b3bc32\", element=\"b7139123-dfc2-4cae-89c2-f51eef2ee713\")>,\n",
       " <selenium.webdriver.remote.webelement.WebElement (session=\"ec87b271ce103b9c0eb72458b9b3bc32\", element=\"767e532b-1b5a-46bb-82e6-081285f03eca\")>,\n",
       " <selenium.webdriver.remote.webelement.WebElement (session=\"ec87b271ce103b9c0eb72458b9b3bc32\", element=\"f4314cd8-7a29-412b-89be-14e71c7fd594\")>,\n",
       " <selenium.webdriver.remote.webelement.WebElement (session=\"ec87b271ce103b9c0eb72458b9b3bc32\", element=\"6951d163-3903-4424-bb8f-108062f0e968\")>,\n",
       " <selenium.webdriver.remote.webelement.WebElement (session=\"ec87b271ce103b9c0eb72458b9b3bc32\", element=\"ba614b96-7506-40fd-b256-9ee4e52a4e9e\")>,\n",
       " <selenium.webdriver.remote.webelement.WebElement (session=\"ec87b271ce103b9c0eb72458b9b3bc32\", element=\"5b9bded7-0857-4ae7-bafd-c446eab7c230\")>,\n",
       " <selenium.webdriver.remote.webelement.WebElement (session=\"ec87b271ce103b9c0eb72458b9b3bc32\", element=\"9d8f5ff8-6dbe-48b0-8e6d-f8602c0df77e\")>,\n",
       " <selenium.webdriver.remote.webelement.WebElement (session=\"ec87b271ce103b9c0eb72458b9b3bc32\", element=\"1f4f3494-16d2-451d-9779-2751c37bc0db\")>]"
      ]
     },
     "execution_count": 5,
     "metadata": {},
     "output_type": "execute_result"
    }
   ],
   "source": [
    "rating1 = driver.find_elements_by_xpath(\"//div[@class='_3LWZlK _1BLPMq']\")\n",
    "rating1"
   ]
  },
  {
   "cell_type": "code",
   "execution_count": 6,
   "metadata": {},
   "outputs": [
    {
     "data": {
      "text/plain": [
       "['5', '5', '5', '5', '5', '5', '4', '5', '5', '5']"
      ]
     },
     "execution_count": 6,
     "metadata": {},
     "output_type": "execute_result"
    }
   ],
   "source": [
    "rating_file= []\n",
    "\n",
    "for i in rating1:\n",
    "    rating_file.append(i.text)\n",
    "rating_file"
   ]
  },
  {
   "cell_type": "code",
   "execution_count": 7,
   "metadata": {
    "scrolled": true
   },
   "outputs": [
    {
     "data": {
      "text/plain": [
       "[<selenium.webdriver.remote.webelement.WebElement (session=\"ec87b271ce103b9c0eb72458b9b3bc32\", element=\"b4a37be1-b0f2-45d9-8d88-4355790d8cdf\")>,\n",
       " <selenium.webdriver.remote.webelement.WebElement (session=\"ec87b271ce103b9c0eb72458b9b3bc32\", element=\"2e3359c3-7ea8-4022-9619-0b6a55717a14\")>,\n",
       " <selenium.webdriver.remote.webelement.WebElement (session=\"ec87b271ce103b9c0eb72458b9b3bc32\", element=\"22ac47e8-f0fb-4f90-84bc-8b387913617c\")>,\n",
       " <selenium.webdriver.remote.webelement.WebElement (session=\"ec87b271ce103b9c0eb72458b9b3bc32\", element=\"24ccf28e-f2aa-46ba-b1a6-dd2505ec6a80\")>,\n",
       " <selenium.webdriver.remote.webelement.WebElement (session=\"ec87b271ce103b9c0eb72458b9b3bc32\", element=\"9152e98f-fabb-4428-aee5-14a8c8e51001\")>,\n",
       " <selenium.webdriver.remote.webelement.WebElement (session=\"ec87b271ce103b9c0eb72458b9b3bc32\", element=\"a0797590-ec79-4e88-ae33-1801af818369\")>,\n",
       " <selenium.webdriver.remote.webelement.WebElement (session=\"ec87b271ce103b9c0eb72458b9b3bc32\", element=\"04954aa5-1227-424e-b44b-d731c6d2a0e6\")>,\n",
       " <selenium.webdriver.remote.webelement.WebElement (session=\"ec87b271ce103b9c0eb72458b9b3bc32\", element=\"cfd6fb86-e7d7-4c91-ae5e-f8d73fb378cf\")>,\n",
       " <selenium.webdriver.remote.webelement.WebElement (session=\"ec87b271ce103b9c0eb72458b9b3bc32\", element=\"ae217882-a5fe-47f6-b278-cc638a881ed6\")>,\n",
       " <selenium.webdriver.remote.webelement.WebElement (session=\"ec87b271ce103b9c0eb72458b9b3bc32\", element=\"549d4728-6330-4417-bb7c-39ec8e95fdac\")>]"
      ]
     },
     "execution_count": 7,
     "metadata": {},
     "output_type": "execute_result"
    }
   ],
   "source": [
    "summary1 = driver.find_elements_by_class_name(\"_2-N8zT\")\n",
    "summary1"
   ]
  },
  {
   "cell_type": "code",
   "execution_count": 8,
   "metadata": {},
   "outputs": [
    {
     "data": {
      "text/plain": [
       "['Brilliant',\n",
       " 'Simply awesome',\n",
       " 'Perfect product!',\n",
       " 'Fabulous!',\n",
       " 'Worth every penny',\n",
       " 'Great product',\n",
       " 'Good choice',\n",
       " 'Worth every penny',\n",
       " 'Highly recommended',\n",
       " 'Best in the market!']"
      ]
     },
     "execution_count": 8,
     "metadata": {},
     "output_type": "execute_result"
    }
   ],
   "source": [
    "summary_scrap1 = []\n",
    "for i in summary1:\n",
    "    summary_scrap1.append(i.text)\n",
    "summary_scrap1"
   ]
  },
  {
   "cell_type": "code",
   "execution_count": 9,
   "metadata": {
    "scrolled": false
   },
   "outputs": [
    {
     "data": {
      "text/plain": [
       "[<selenium.webdriver.remote.webelement.WebElement (session=\"ec87b271ce103b9c0eb72458b9b3bc32\", element=\"de1a8c0a-b658-4163-8e43-1130cd5416d6\")>,\n",
       " <selenium.webdriver.remote.webelement.WebElement (session=\"ec87b271ce103b9c0eb72458b9b3bc32\", element=\"35758b73-2cf2-4838-8cd1-4fcafa340549\")>,\n",
       " <selenium.webdriver.remote.webelement.WebElement (session=\"ec87b271ce103b9c0eb72458b9b3bc32\", element=\"0d91db63-5246-4f7b-bd9a-f17b7190171e\")>,\n",
       " <selenium.webdriver.remote.webelement.WebElement (session=\"ec87b271ce103b9c0eb72458b9b3bc32\", element=\"a9c30ebf-3630-4eb3-9ee1-958f13c3cd3d\")>,\n",
       " <selenium.webdriver.remote.webelement.WebElement (session=\"ec87b271ce103b9c0eb72458b9b3bc32\", element=\"9a9fcc8a-39a7-4a57-9f6c-745e3eba9656\")>,\n",
       " <selenium.webdriver.remote.webelement.WebElement (session=\"ec87b271ce103b9c0eb72458b9b3bc32\", element=\"1d12a5d4-774e-4547-a657-a6eb69e10986\")>,\n",
       " <selenium.webdriver.remote.webelement.WebElement (session=\"ec87b271ce103b9c0eb72458b9b3bc32\", element=\"78052572-df23-4eb0-9d5a-2c2ba37367bc\")>,\n",
       " <selenium.webdriver.remote.webelement.WebElement (session=\"ec87b271ce103b9c0eb72458b9b3bc32\", element=\"3b964c0d-812c-4850-8c6e-ec59ade3535d\")>,\n",
       " <selenium.webdriver.remote.webelement.WebElement (session=\"ec87b271ce103b9c0eb72458b9b3bc32\", element=\"715868c6-b8d3-4a9a-841e-9403b0fd305b\")>,\n",
       " <selenium.webdriver.remote.webelement.WebElement (session=\"ec87b271ce103b9c0eb72458b9b3bc32\", element=\"c5fb192c-272b-4d87-aaea-57256b02a293\")>]"
      ]
     },
     "execution_count": 9,
     "metadata": {},
     "output_type": "execute_result"
    }
   ],
   "source": [
    "review1=driver.find_elements_by_class_name('t-ZTKy')\n",
    "review1"
   ]
  },
  {
   "cell_type": "code",
   "execution_count": 10,
   "metadata": {
    "scrolled": true
   },
   "outputs": [
    {
     "data": {
      "text/plain": [
       "['The Best Phone for the Money\\n\\nThe iPhone 11 offers superb cameras, a more durable design and excellent battery life for an affordable price.\\n\\nCompelling ultra-wide camera\\nNew Night mode is excellent\\nLong battery life',\n",
       " 'Really satisfied with the Product I received... It’s totally genuine and the packaging was also really good so if ur planning to buy just go for it.',\n",
       " 'Amazing phone with great cameras and better battery which gives you the best performance. I just love the camera .',\n",
       " 'This is my first iOS phone. I am very happy with this product. Very much satisfied with this. I love this phone.',\n",
       " 'Previously I was using one plus 3t it was a great phone\\nAnd then I decided to upgrade I am stuck between Samsung s10 plus or iPhone 11\\nI have seen the specs and everything were good except the display it’s somewhere between 720-1080 and it’s not even an amoled it’s an LCD display\\nBut I decided to go with iPhone because I have never used an IOS device I have Been an android user from the past 9 years I ordered IPhone 11 (128gb) product red\\nMy experience after using 3 weeks\\n1. The delivery ...\\nREAD MORE',\n",
       " 'Amazing Powerful and Durable Gadget.\\n\\nI’m am very happy with the camera picture quality, Amazing face id unlocked in dark room, Strong battery with perfect screen size as you can carry easily in pocket. This is my third iPhone.\\n\\nI shifted from android Samsung Note series to iPhone because of the strong build quality and peace of mind for next 3-4 years.\\n\\nDon’t think to much just go for it and I suggest you to go for minimum 128gb variant or more 256gb.\\n\\nI’ve attached my puppy pics and no fi...\\nREAD MORE',\n",
       " 'So far it’s been an AMAZING experience coming back to iOS after nearly a decade but it’s not as versatile as android though phone is sturdy dropped it accidentally a couple of times and nothing happened fortunately camera is awesome',\n",
       " 'i11 is worthy to buy, too much happy with the product. Thank u flipkart I received the item on time..loved it..',\n",
       " 'iphone 11 is a very good phone to buy only if you can compromise for the display. The display on this is device is pretty good but you can get other options with better displays in this price segment.\\nIf you can survive with an HD+ LCD panel with thicker bezels and a notch up top then this is a very good phone for you.\\nCameras are awesome, battery backup excellent, great performance and a decent premium look. Good job Apple !',\n",
       " 'Great iPhone very snappy experience as apple kind. Upgraded from iPhone 7.\\nPros\\n-Camera top class\\n- Battery top performed\\n-Chipset no need to say as apple kind\\n-Security as you expect from apple\\n- Display super bright industry leading colour\\naccuracy and super responsive\\n-Build quality as expect from apple sturdy\\npremium durable beautiful stylish.\\n-Os most stable os in smartphone industry\\n\\nCons\\n-No 5G\\n-Display is not based on OLED technology\\n-Charger headphones and 1 apple stic...\\nREAD MORE']"
      ]
     },
     "execution_count": 10,
     "metadata": {},
     "output_type": "execute_result"
    }
   ],
   "source": [
    "review_flip = []\n",
    "for i in review1:\n",
    "    review_flip.append(i.text)\n",
    "review_flip"
   ]
  },
  {
   "cell_type": "code",
   "execution_count": 12,
   "metadata": {},
   "outputs": [
    {
     "name": "stdout",
     "output_type": "stream",
     "text": [
      "10 10 10\n"
     ]
    }
   ],
   "source": [
    "print(len(rating_file),len(summary_scrap1),len(review_flip))"
   ]
  },
  {
   "cell_type": "code",
   "execution_count": 13,
   "metadata": {},
   "outputs": [],
   "source": [
    "url = 'https://www.flipkart.com/apple-iphone-11-black-64-gb-includes-earpods-power-adapter/product-reviews/itm0f37c2240b217?pid=MOBFKCTSVZAXUHGR&lid=LSTMOBFKCTSVZAXUHGREPBFGI&marketplace=FLIPKART&page=2'\n",
    "driver.get(url)"
   ]
  },
  {
   "cell_type": "code",
   "execution_count": 14,
   "metadata": {
    "scrolled": true
   },
   "outputs": [
    {
     "data": {
      "text/plain": [
       "[<selenium.webdriver.remote.webelement.WebElement (session=\"ec87b271ce103b9c0eb72458b9b3bc32\", element=\"3718b307-58da-4af9-8de8-a9dbf7ef2abc\")>,\n",
       " <selenium.webdriver.remote.webelement.WebElement (session=\"ec87b271ce103b9c0eb72458b9b3bc32\", element=\"eaf28776-f6c9-499e-998f-552b08074535\")>,\n",
       " <selenium.webdriver.remote.webelement.WebElement (session=\"ec87b271ce103b9c0eb72458b9b3bc32\", element=\"13ed271c-a704-48d4-8339-566b04fcee20\")>,\n",
       " <selenium.webdriver.remote.webelement.WebElement (session=\"ec87b271ce103b9c0eb72458b9b3bc32\", element=\"9fbcc246-55a3-4d40-9a37-0ff97223eebb\")>,\n",
       " <selenium.webdriver.remote.webelement.WebElement (session=\"ec87b271ce103b9c0eb72458b9b3bc32\", element=\"d1ccfc65-fce6-4232-bff3-976f083f74f3\")>,\n",
       " <selenium.webdriver.remote.webelement.WebElement (session=\"ec87b271ce103b9c0eb72458b9b3bc32\", element=\"4f99f7f2-fbed-4c14-bcf0-f1134e40a236\")>,\n",
       " <selenium.webdriver.remote.webelement.WebElement (session=\"ec87b271ce103b9c0eb72458b9b3bc32\", element=\"5eca645c-4c76-47aa-91f0-99b455607df9\")>,\n",
       " <selenium.webdriver.remote.webelement.WebElement (session=\"ec87b271ce103b9c0eb72458b9b3bc32\", element=\"a9e02ea8-8a29-4ac4-8e2a-9fee4604255f\")>,\n",
       " <selenium.webdriver.remote.webelement.WebElement (session=\"ec87b271ce103b9c0eb72458b9b3bc32\", element=\"a5dbbfd8-89d8-4be2-923e-30600095e7d5\")>,\n",
       " <selenium.webdriver.remote.webelement.WebElement (session=\"ec87b271ce103b9c0eb72458b9b3bc32\", element=\"3541c881-3ab1-4557-a86b-0d38d6bdc455\")>]"
      ]
     },
     "execution_count": 14,
     "metadata": {},
     "output_type": "execute_result"
    }
   ],
   "source": [
    "rating2 = driver.find_elements_by_xpath(\"//div[@class='_3LWZlK _1BLPMq']\")\n",
    "rating2"
   ]
  },
  {
   "cell_type": "code",
   "execution_count": 15,
   "metadata": {
    "scrolled": true
   },
   "outputs": [
    {
     "data": {
      "text/plain": [
       "['5',\n",
       " '5',\n",
       " '5',\n",
       " '5',\n",
       " '5',\n",
       " '5',\n",
       " '4',\n",
       " '5',\n",
       " '5',\n",
       " '5',\n",
       " '5',\n",
       " '5',\n",
       " '5',\n",
       " '5',\n",
       " '5',\n",
       " '5',\n",
       " '5',\n",
       " '5',\n",
       " '5',\n",
       " '5']"
      ]
     },
     "execution_count": 15,
     "metadata": {},
     "output_type": "execute_result"
    }
   ],
   "source": [
    "for i in rating2:\n",
    "    rating_file.append(i.text)\n",
    "rating_file"
   ]
  },
  {
   "cell_type": "code",
   "execution_count": 16,
   "metadata": {},
   "outputs": [
    {
     "data": {
      "text/plain": [
       "[<selenium.webdriver.remote.webelement.WebElement (session=\"ec87b271ce103b9c0eb72458b9b3bc32\", element=\"c42d8523-5c39-431e-b58a-674a2cc175df\")>,\n",
       " <selenium.webdriver.remote.webelement.WebElement (session=\"ec87b271ce103b9c0eb72458b9b3bc32\", element=\"a691904a-9b7d-4ef3-b2de-2b8517cd6455\")>,\n",
       " <selenium.webdriver.remote.webelement.WebElement (session=\"ec87b271ce103b9c0eb72458b9b3bc32\", element=\"25137a70-6cd2-4faf-95c6-a77b30540d80\")>,\n",
       " <selenium.webdriver.remote.webelement.WebElement (session=\"ec87b271ce103b9c0eb72458b9b3bc32\", element=\"93fd2dbc-50e8-48a9-b9aa-30094d3fba06\")>,\n",
       " <selenium.webdriver.remote.webelement.WebElement (session=\"ec87b271ce103b9c0eb72458b9b3bc32\", element=\"f7221aa8-f45e-4cb4-b3d6-763f1b86d35b\")>,\n",
       " <selenium.webdriver.remote.webelement.WebElement (session=\"ec87b271ce103b9c0eb72458b9b3bc32\", element=\"bc0a72dd-8798-4019-8cb9-252419f1eb05\")>,\n",
       " <selenium.webdriver.remote.webelement.WebElement (session=\"ec87b271ce103b9c0eb72458b9b3bc32\", element=\"cd418dfe-4e0f-4bb9-aa63-58f5ed46fc92\")>,\n",
       " <selenium.webdriver.remote.webelement.WebElement (session=\"ec87b271ce103b9c0eb72458b9b3bc32\", element=\"03c9c151-e87d-490c-9cfd-3c54040f49e5\")>,\n",
       " <selenium.webdriver.remote.webelement.WebElement (session=\"ec87b271ce103b9c0eb72458b9b3bc32\", element=\"f7ca5e8f-eba1-414e-b32f-7598570c5d72\")>,\n",
       " <selenium.webdriver.remote.webelement.WebElement (session=\"ec87b271ce103b9c0eb72458b9b3bc32\", element=\"20e93e93-df2a-45dc-8067-5e90c9b6accf\")>]"
      ]
     },
     "execution_count": 16,
     "metadata": {},
     "output_type": "execute_result"
    }
   ],
   "source": [
    "summary2 = driver.find_elements_by_class_name(\"_2-N8zT\")\n",
    "summary2"
   ]
  },
  {
   "cell_type": "code",
   "execution_count": 17,
   "metadata": {
    "scrolled": true
   },
   "outputs": [
    {
     "data": {
      "text/plain": [
       "['Brilliant',\n",
       " 'Simply awesome',\n",
       " 'Perfect product!',\n",
       " 'Fabulous!',\n",
       " 'Worth every penny',\n",
       " 'Great product',\n",
       " 'Good choice',\n",
       " 'Worth every penny',\n",
       " 'Highly recommended',\n",
       " 'Best in the market!',\n",
       " 'Perfect product!',\n",
       " 'Highly recommended',\n",
       " 'Perfect product!',\n",
       " 'Classy product',\n",
       " 'Worth every penny',\n",
       " 'Perfect product!',\n",
       " 'Simply awesome',\n",
       " 'Highly recommended',\n",
       " 'Worth every penny',\n",
       " 'Terrific']"
      ]
     },
     "execution_count": 17,
     "metadata": {},
     "output_type": "execute_result"
    }
   ],
   "source": [
    "\n",
    "for i in summary2:\n",
    "    summary_scrap1.append(i.text)\n",
    "summary_scrap1"
   ]
  },
  {
   "cell_type": "code",
   "execution_count": 18,
   "metadata": {
    "scrolled": false
   },
   "outputs": [
    {
     "data": {
      "text/plain": [
       "[<selenium.webdriver.remote.webelement.WebElement (session=\"ec87b271ce103b9c0eb72458b9b3bc32\", element=\"e6a16cc7-e06c-446d-9d39-a616bc4152d5\")>,\n",
       " <selenium.webdriver.remote.webelement.WebElement (session=\"ec87b271ce103b9c0eb72458b9b3bc32\", element=\"c419c064-58f0-42cb-96f5-5c02f49ab742\")>,\n",
       " <selenium.webdriver.remote.webelement.WebElement (session=\"ec87b271ce103b9c0eb72458b9b3bc32\", element=\"0ae207a2-195d-4036-84c9-2f78ae51eb53\")>,\n",
       " <selenium.webdriver.remote.webelement.WebElement (session=\"ec87b271ce103b9c0eb72458b9b3bc32\", element=\"2f49d0e4-79ed-4bf8-8344-3ae3fd1e1d2f\")>,\n",
       " <selenium.webdriver.remote.webelement.WebElement (session=\"ec87b271ce103b9c0eb72458b9b3bc32\", element=\"c0cc5a26-3638-4b12-a1fa-71ca2cf98b7a\")>,\n",
       " <selenium.webdriver.remote.webelement.WebElement (session=\"ec87b271ce103b9c0eb72458b9b3bc32\", element=\"2386ac46-65be-48d1-aa66-6e95b0659b3c\")>,\n",
       " <selenium.webdriver.remote.webelement.WebElement (session=\"ec87b271ce103b9c0eb72458b9b3bc32\", element=\"8999a277-905a-4467-9a5c-c4d71a49310a\")>,\n",
       " <selenium.webdriver.remote.webelement.WebElement (session=\"ec87b271ce103b9c0eb72458b9b3bc32\", element=\"9c9399e9-6ef4-4f9e-8b88-a2b39e35769c\")>,\n",
       " <selenium.webdriver.remote.webelement.WebElement (session=\"ec87b271ce103b9c0eb72458b9b3bc32\", element=\"aec16d0b-4a0a-4a87-966a-976612b4d458\")>,\n",
       " <selenium.webdriver.remote.webelement.WebElement (session=\"ec87b271ce103b9c0eb72458b9b3bc32\", element=\"98202e03-f9d4-40ee-b09d-4bfbccdc8cf2\")>]"
      ]
     },
     "execution_count": 18,
     "metadata": {},
     "output_type": "execute_result"
    }
   ],
   "source": [
    "review2=driver.find_elements_by_class_name('t-ZTKy')\n",
    "review2"
   ]
  },
  {
   "cell_type": "code",
   "execution_count": 19,
   "metadata": {
    "scrolled": true
   },
   "outputs": [
    {
     "data": {
      "text/plain": [
       "['The Best Phone for the Money\\n\\nThe iPhone 11 offers superb cameras, a more durable design and excellent battery life for an affordable price.\\n\\nCompelling ultra-wide camera\\nNew Night mode is excellent\\nLong battery life',\n",
       " 'Really satisfied with the Product I received... It’s totally genuine and the packaging was also really good so if ur planning to buy just go for it.',\n",
       " 'Amazing phone with great cameras and better battery which gives you the best performance. I just love the camera .',\n",
       " 'This is my first iOS phone. I am very happy with this product. Very much satisfied with this. I love this phone.',\n",
       " 'Previously I was using one plus 3t it was a great phone\\nAnd then I decided to upgrade I am stuck between Samsung s10 plus or iPhone 11\\nI have seen the specs and everything were good except the display it’s somewhere between 720-1080 and it’s not even an amoled it’s an LCD display\\nBut I decided to go with iPhone because I have never used an IOS device I have Been an android user from the past 9 years I ordered IPhone 11 (128gb) product red\\nMy experience after using 3 weeks\\n1. The delivery ...\\nREAD MORE',\n",
       " 'Amazing Powerful and Durable Gadget.\\n\\nI’m am very happy with the camera picture quality, Amazing face id unlocked in dark room, Strong battery with perfect screen size as you can carry easily in pocket. This is my third iPhone.\\n\\nI shifted from android Samsung Note series to iPhone because of the strong build quality and peace of mind for next 3-4 years.\\n\\nDon’t think to much just go for it and I suggest you to go for minimum 128gb variant or more 256gb.\\n\\nI’ve attached my puppy pics and no fi...\\nREAD MORE',\n",
       " 'So far it’s been an AMAZING experience coming back to iOS after nearly a decade but it’s not as versatile as android though phone is sturdy dropped it accidentally a couple of times and nothing happened fortunately camera is awesome',\n",
       " 'i11 is worthy to buy, too much happy with the product. Thank u flipkart I received the item on time..loved it..',\n",
       " 'iphone 11 is a very good phone to buy only if you can compromise for the display. The display on this is device is pretty good but you can get other options with better displays in this price segment.\\nIf you can survive with an HD+ LCD panel with thicker bezels and a notch up top then this is a very good phone for you.\\nCameras are awesome, battery backup excellent, great performance and a decent premium look. Good job Apple !',\n",
       " 'Great iPhone very snappy experience as apple kind. Upgraded from iPhone 7.\\nPros\\n-Camera top class\\n- Battery top performed\\n-Chipset no need to say as apple kind\\n-Security as you expect from apple\\n- Display super bright industry leading colour\\naccuracy and super responsive\\n-Build quality as expect from apple sturdy\\npremium durable beautiful stylish.\\n-Os most stable os in smartphone industry\\n\\nCons\\n-No 5G\\n-Display is not based on OLED technology\\n-Charger headphones and 1 apple stic...\\nREAD MORE',\n",
       " 'It’s a must buy who is looking for an upgrade from previous generation of iPhones. If you are using XR then still you can hold on for sometime and upgrade to 2020 model else this phone is a must buy . Camera quality is amazing and wide angle is something to count upon. Performance wise it’s amazing and feels premium while holding in hand. So a big YES for this device. Go for 128 GB variant as the 4K videos will occupy lots of space and the storage can get over very quickly. Try to buy it with...\\nREAD MORE',\n",
       " 'What a camera .....just awesome ..you can feel this iPhone just awesome . Good for gaming also ...try pubg in hd it’s just wow',\n",
       " 'Value for money❤️❤️\\nIts awesome mobile phone in the world ...\\nDisplay was very good and bright ..\\nTrust me freinds you r never regret after Buying..\\nJust go for it....\\nI love this phone and i switch to iphone x to 11',\n",
       " 'Totally in love with this ❤ the camera quality is amazing just love it 😘😘😘 itsss dammnnnnnn amazing... Must buy iPhone 11 this is my best experience ever ☀👌👌🧡🧡🧡🧡🧡 thanku apple ❤',\n",
       " 'Best budget Iphone till date ❤️ go for it guys without second thought. Let me explain you guys about Camera, Display, battery, and performance.\\n\\nCamera: at this price range there is no comparison of camera, you’ll love the picture quality as well as video quality. I am a Vlogger I wanted an iPhone with 4k video by front camera and I got this phone and I am more than happy 😃\\n\\nBattery: I use this phone roughly as I am active social media person and I have a youtube channel. so the battery ba...\\nREAD MORE',\n",
       " \"Iphone is just awesome.. battery backup is very very nice.. continuously for 10 hours we can use it.camera is just awesome.. display is just fab.i love it alot..i had to wait 15 days for it as i pre ordered it..overalll it's worth the price..these all images are clicked by my iPhone..and i love it.\",\n",
       " 'Excellent camera, good performance, no lag. The lcd display is also good.. but difference come when we watch movie in prime and Netflix, the colours are not vibrant.. as we see in amoled display.. and the charger in box is of 5 watts.. takes more than 3 hours to charge from 0 to 100.. so guys be prepare to buy 18 watts charger . Finally I am an android user, it was my first Iapple phone, I promise u guys the iOS is so smooth.. overall the phone is damn good.... close eyes to buy it.. thanks t...\\nREAD MORE',\n",
       " \"It's my first time to use iOS phone and I am loving my upgradation 😍😍 I love the color, I love the assebility of the phone....I need to learn more about its functionality, but as far as I have seen, it's quite easy and it has a lot of functions to work on, specially if you are a content writer or a blogger you get a lot of content creation platforms and they are really amazing.\\n\\nThis phone not only for good quality photography but a lot of other task too.😍💯\",\n",
       " 'It’s been almost a month since I have been using this phone. I upgraded from an iPhone 8. The main issue with my 8 was battery and this phone is just awesome when it comes to battery. It lasts a day and a half for me with my regular use , internet connected always with 4g\\nCan’t move forward without saying this. Battery of this phone is a life saver when I am traveling or at work when I don’t get the option to charge\\nCamera is superb. Front cam selfies and back cam photos are just awesome.\\n...\\nREAD MORE',\n",
       " 'Really worth of money. i just love it. It is the best phone ever.']"
      ]
     },
     "execution_count": 19,
     "metadata": {},
     "output_type": "execute_result"
    }
   ],
   "source": [
    "for i in review2:\n",
    "    review_flip.append(i.text)\n",
    "review_flip"
   ]
  },
  {
   "cell_type": "code",
   "execution_count": 21,
   "metadata": {},
   "outputs": [
    {
     "name": "stdout",
     "output_type": "stream",
     "text": [
      "20 20 20\n"
     ]
    }
   ],
   "source": [
    "print(len(rating_file),len(summary_scrap1),len(review_flip))"
   ]
  },
  {
   "cell_type": "code",
   "execution_count": 23,
   "metadata": {},
   "outputs": [],
   "source": [
    "url3 = 'https://www.flipkart.com/apple-iphone-11-black-64-gb-includes-earpods-power-adapter/product-reviews/itm0f37c2240b217?pid=MOBFKCTSVZAXUHGR&lid=LSTMOBFKCTSVZAXUHGREPBFGI&marketplace=FLIPKART&page=3'\n",
    "driver.get(url3)"
   ]
  },
  {
   "cell_type": "code",
   "execution_count": 24,
   "metadata": {
    "scrolled": true
   },
   "outputs": [
    {
     "data": {
      "text/plain": [
       "[<selenium.webdriver.remote.webelement.WebElement (session=\"ec87b271ce103b9c0eb72458b9b3bc32\", element=\"3eed7c90-11bb-4dc9-9b7e-02bc821860b9\")>,\n",
       " <selenium.webdriver.remote.webelement.WebElement (session=\"ec87b271ce103b9c0eb72458b9b3bc32\", element=\"a90cf807-bdb0-44fe-9263-0dd409aacd08\")>,\n",
       " <selenium.webdriver.remote.webelement.WebElement (session=\"ec87b271ce103b9c0eb72458b9b3bc32\", element=\"63557b60-8bb2-4391-986a-088f297b6199\")>,\n",
       " <selenium.webdriver.remote.webelement.WebElement (session=\"ec87b271ce103b9c0eb72458b9b3bc32\", element=\"cfc297b8-34ff-475a-99f9-85a85b0e0667\")>,\n",
       " <selenium.webdriver.remote.webelement.WebElement (session=\"ec87b271ce103b9c0eb72458b9b3bc32\", element=\"dd578c02-5a5b-4d98-8ba3-1d583042eade\")>,\n",
       " <selenium.webdriver.remote.webelement.WebElement (session=\"ec87b271ce103b9c0eb72458b9b3bc32\", element=\"92ddaeb2-cbda-4009-831e-f44970c5fecb\")>,\n",
       " <selenium.webdriver.remote.webelement.WebElement (session=\"ec87b271ce103b9c0eb72458b9b3bc32\", element=\"81488ff5-773e-48f7-bf7c-94602d598ba0\")>,\n",
       " <selenium.webdriver.remote.webelement.WebElement (session=\"ec87b271ce103b9c0eb72458b9b3bc32\", element=\"82f20768-f92d-435d-bf45-f5e875fea99c\")>,\n",
       " <selenium.webdriver.remote.webelement.WebElement (session=\"ec87b271ce103b9c0eb72458b9b3bc32\", element=\"b0d87bbc-1863-4b58-8a3d-5099c6058020\")>,\n",
       " <selenium.webdriver.remote.webelement.WebElement (session=\"ec87b271ce103b9c0eb72458b9b3bc32\", element=\"fd3e77c3-5971-416b-813d-1aad499ff49a\")>]"
      ]
     },
     "execution_count": 24,
     "metadata": {},
     "output_type": "execute_result"
    }
   ],
   "source": [
    "rating3 = driver.find_elements_by_xpath(\"//div[@class='_3LWZlK _1BLPMq']\")\n",
    "rating3"
   ]
  },
  {
   "cell_type": "code",
   "execution_count": 25,
   "metadata": {
    "scrolled": true
   },
   "outputs": [
    {
     "data": {
      "text/plain": [
       "['5',\n",
       " '5',\n",
       " '5',\n",
       " '5',\n",
       " '5',\n",
       " '5',\n",
       " '4',\n",
       " '5',\n",
       " '5',\n",
       " '5',\n",
       " '5',\n",
       " '5',\n",
       " '5',\n",
       " '5',\n",
       " '5',\n",
       " '5',\n",
       " '5',\n",
       " '5',\n",
       " '5',\n",
       " '5',\n",
       " '4',\n",
       " '5',\n",
       " '5',\n",
       " '5',\n",
       " '5',\n",
       " '4',\n",
       " '5',\n",
       " '5',\n",
       " '5',\n",
       " '5']"
      ]
     },
     "execution_count": 25,
     "metadata": {},
     "output_type": "execute_result"
    }
   ],
   "source": [
    "for i in rating3:\n",
    "    rating_file.append(i.text)\n",
    "rating_file"
   ]
  },
  {
   "cell_type": "code",
   "execution_count": 26,
   "metadata": {},
   "outputs": [
    {
     "data": {
      "text/plain": [
       "[<selenium.webdriver.remote.webelement.WebElement (session=\"ec87b271ce103b9c0eb72458b9b3bc32\", element=\"50f84d5c-e614-4345-b56e-66db65fe0977\")>,\n",
       " <selenium.webdriver.remote.webelement.WebElement (session=\"ec87b271ce103b9c0eb72458b9b3bc32\", element=\"e21647e0-5269-4d7e-bbd4-75cd843ce9f6\")>,\n",
       " <selenium.webdriver.remote.webelement.WebElement (session=\"ec87b271ce103b9c0eb72458b9b3bc32\", element=\"bba07d78-5341-42e2-9b67-7f5889f90608\")>,\n",
       " <selenium.webdriver.remote.webelement.WebElement (session=\"ec87b271ce103b9c0eb72458b9b3bc32\", element=\"c8bf849f-2770-4599-8325-22df39a92ab8\")>,\n",
       " <selenium.webdriver.remote.webelement.WebElement (session=\"ec87b271ce103b9c0eb72458b9b3bc32\", element=\"6611bbbb-6416-4864-a699-e717ff78072e\")>,\n",
       " <selenium.webdriver.remote.webelement.WebElement (session=\"ec87b271ce103b9c0eb72458b9b3bc32\", element=\"5f3a9300-d031-47f2-9151-defb8fe57745\")>,\n",
       " <selenium.webdriver.remote.webelement.WebElement (session=\"ec87b271ce103b9c0eb72458b9b3bc32\", element=\"d0030976-157f-41e8-a00c-00a186f7f523\")>,\n",
       " <selenium.webdriver.remote.webelement.WebElement (session=\"ec87b271ce103b9c0eb72458b9b3bc32\", element=\"e5f66014-dd08-4590-beb0-4e031c805872\")>,\n",
       " <selenium.webdriver.remote.webelement.WebElement (session=\"ec87b271ce103b9c0eb72458b9b3bc32\", element=\"99dd8bc1-a005-4fcf-a9ba-759bffaf1017\")>,\n",
       " <selenium.webdriver.remote.webelement.WebElement (session=\"ec87b271ce103b9c0eb72458b9b3bc32\", element=\"3c722e40-c0a7-4f7b-9b97-e3d19239d40d\")>]"
      ]
     },
     "execution_count": 26,
     "metadata": {},
     "output_type": "execute_result"
    }
   ],
   "source": [
    "summary3 = driver.find_elements_by_class_name(\"_2-N8zT\")\n",
    "summary3"
   ]
  },
  {
   "cell_type": "code",
   "execution_count": 27,
   "metadata": {
    "scrolled": true
   },
   "outputs": [
    {
     "data": {
      "text/plain": [
       "['Brilliant',\n",
       " 'Simply awesome',\n",
       " 'Perfect product!',\n",
       " 'Fabulous!',\n",
       " 'Worth every penny',\n",
       " 'Great product',\n",
       " 'Good choice',\n",
       " 'Worth every penny',\n",
       " 'Highly recommended',\n",
       " 'Best in the market!',\n",
       " 'Perfect product!',\n",
       " 'Highly recommended',\n",
       " 'Perfect product!',\n",
       " 'Classy product',\n",
       " 'Worth every penny',\n",
       " 'Perfect product!',\n",
       " 'Simply awesome',\n",
       " 'Highly recommended',\n",
       " 'Worth every penny',\n",
       " 'Terrific',\n",
       " 'Nice product',\n",
       " 'Wonderful',\n",
       " 'Classy product',\n",
       " 'Brilliant',\n",
       " 'Must buy!',\n",
       " 'Good choice',\n",
       " 'Perfect product!',\n",
       " 'Wonderful',\n",
       " 'Terrific purchase',\n",
       " 'Great product']"
      ]
     },
     "execution_count": 27,
     "metadata": {},
     "output_type": "execute_result"
    }
   ],
   "source": [
    "for i in summary3:\n",
    "    summary_scrap1.append(i.text)\n",
    "summary_scrap1"
   ]
  },
  {
   "cell_type": "code",
   "execution_count": 28,
   "metadata": {},
   "outputs": [
    {
     "data": {
      "text/plain": [
       "[<selenium.webdriver.remote.webelement.WebElement (session=\"ec87b271ce103b9c0eb72458b9b3bc32\", element=\"d5f89284-0bf5-4ef8-b019-795e6db3a213\")>,\n",
       " <selenium.webdriver.remote.webelement.WebElement (session=\"ec87b271ce103b9c0eb72458b9b3bc32\", element=\"18e3dbfd-671e-47b8-847e-415b698e9e68\")>,\n",
       " <selenium.webdriver.remote.webelement.WebElement (session=\"ec87b271ce103b9c0eb72458b9b3bc32\", element=\"936d6904-3b9c-4d95-a6f3-eccb7d12736e\")>,\n",
       " <selenium.webdriver.remote.webelement.WebElement (session=\"ec87b271ce103b9c0eb72458b9b3bc32\", element=\"2e86a05f-66af-4287-b070-cec336ba5378\")>,\n",
       " <selenium.webdriver.remote.webelement.WebElement (session=\"ec87b271ce103b9c0eb72458b9b3bc32\", element=\"ed193f4f-1e92-4f61-bf9a-f4352bc5185e\")>,\n",
       " <selenium.webdriver.remote.webelement.WebElement (session=\"ec87b271ce103b9c0eb72458b9b3bc32\", element=\"5cf8ccbe-0727-4e7a-ac4e-49f15b5b9231\")>,\n",
       " <selenium.webdriver.remote.webelement.WebElement (session=\"ec87b271ce103b9c0eb72458b9b3bc32\", element=\"433a34d8-42ba-40d2-a6b8-4828dad1f0cb\")>,\n",
       " <selenium.webdriver.remote.webelement.WebElement (session=\"ec87b271ce103b9c0eb72458b9b3bc32\", element=\"474318d1-5e0a-4028-a6c2-6cea955e84ff\")>,\n",
       " <selenium.webdriver.remote.webelement.WebElement (session=\"ec87b271ce103b9c0eb72458b9b3bc32\", element=\"f453dd8a-df44-4847-8410-0b49fca0a9b3\")>,\n",
       " <selenium.webdriver.remote.webelement.WebElement (session=\"ec87b271ce103b9c0eb72458b9b3bc32\", element=\"ebcfff5b-6e22-4bbf-be1f-cc56bca8a80c\")>]"
      ]
     },
     "execution_count": 28,
     "metadata": {},
     "output_type": "execute_result"
    }
   ],
   "source": [
    "review3=driver.find_elements_by_class_name('t-ZTKy')\n",
    "review3"
   ]
  },
  {
   "cell_type": "code",
   "execution_count": 29,
   "metadata": {
    "scrolled": true
   },
   "outputs": [
    {
     "data": {
      "text/plain": [
       "['The Best Phone for the Money\\n\\nThe iPhone 11 offers superb cameras, a more durable design and excellent battery life for an affordable price.\\n\\nCompelling ultra-wide camera\\nNew Night mode is excellent\\nLong battery life',\n",
       " 'Really satisfied with the Product I received... It’s totally genuine and the packaging was also really good so if ur planning to buy just go for it.',\n",
       " 'Amazing phone with great cameras and better battery which gives you the best performance. I just love the camera .',\n",
       " 'This is my first iOS phone. I am very happy with this product. Very much satisfied with this. I love this phone.',\n",
       " 'Previously I was using one plus 3t it was a great phone\\nAnd then I decided to upgrade I am stuck between Samsung s10 plus or iPhone 11\\nI have seen the specs and everything were good except the display it’s somewhere between 720-1080 and it’s not even an amoled it’s an LCD display\\nBut I decided to go with iPhone because I have never used an IOS device I have Been an android user from the past 9 years I ordered IPhone 11 (128gb) product red\\nMy experience after using 3 weeks\\n1. The delivery ...\\nREAD MORE',\n",
       " 'Amazing Powerful and Durable Gadget.\\n\\nI’m am very happy with the camera picture quality, Amazing face id unlocked in dark room, Strong battery with perfect screen size as you can carry easily in pocket. This is my third iPhone.\\n\\nI shifted from android Samsung Note series to iPhone because of the strong build quality and peace of mind for next 3-4 years.\\n\\nDon’t think to much just go for it and I suggest you to go for minimum 128gb variant or more 256gb.\\n\\nI’ve attached my puppy pics and no fi...\\nREAD MORE',\n",
       " 'So far it’s been an AMAZING experience coming back to iOS after nearly a decade but it’s not as versatile as android though phone is sturdy dropped it accidentally a couple of times and nothing happened fortunately camera is awesome',\n",
       " 'i11 is worthy to buy, too much happy with the product. Thank u flipkart I received the item on time..loved it..',\n",
       " 'iphone 11 is a very good phone to buy only if you can compromise for the display. The display on this is device is pretty good but you can get other options with better displays in this price segment.\\nIf you can survive with an HD+ LCD panel with thicker bezels and a notch up top then this is a very good phone for you.\\nCameras are awesome, battery backup excellent, great performance and a decent premium look. Good job Apple !',\n",
       " 'Great iPhone very snappy experience as apple kind. Upgraded from iPhone 7.\\nPros\\n-Camera top class\\n- Battery top performed\\n-Chipset no need to say as apple kind\\n-Security as you expect from apple\\n- Display super bright industry leading colour\\naccuracy and super responsive\\n-Build quality as expect from apple sturdy\\npremium durable beautiful stylish.\\n-Os most stable os in smartphone industry\\n\\nCons\\n-No 5G\\n-Display is not based on OLED technology\\n-Charger headphones and 1 apple stic...\\nREAD MORE',\n",
       " 'It’s a must buy who is looking for an upgrade from previous generation of iPhones. If you are using XR then still you can hold on for sometime and upgrade to 2020 model else this phone is a must buy . Camera quality is amazing and wide angle is something to count upon. Performance wise it’s amazing and feels premium while holding in hand. So a big YES for this device. Go for 128 GB variant as the 4K videos will occupy lots of space and the storage can get over very quickly. Try to buy it with...\\nREAD MORE',\n",
       " 'What a camera .....just awesome ..you can feel this iPhone just awesome . Good for gaming also ...try pubg in hd it’s just wow',\n",
       " 'Value for money❤️❤️\\nIts awesome mobile phone in the world ...\\nDisplay was very good and bright ..\\nTrust me freinds you r never regret after Buying..\\nJust go for it....\\nI love this phone and i switch to iphone x to 11',\n",
       " 'Totally in love with this ❤ the camera quality is amazing just love it 😘😘😘 itsss dammnnnnnn amazing... Must buy iPhone 11 this is my best experience ever ☀👌👌🧡🧡🧡🧡🧡 thanku apple ❤',\n",
       " 'Best budget Iphone till date ❤️ go for it guys without second thought. Let me explain you guys about Camera, Display, battery, and performance.\\n\\nCamera: at this price range there is no comparison of camera, you’ll love the picture quality as well as video quality. I am a Vlogger I wanted an iPhone with 4k video by front camera and I got this phone and I am more than happy 😃\\n\\nBattery: I use this phone roughly as I am active social media person and I have a youtube channel. so the battery ba...\\nREAD MORE',\n",
       " \"Iphone is just awesome.. battery backup is very very nice.. continuously for 10 hours we can use it.camera is just awesome.. display is just fab.i love it alot..i had to wait 15 days for it as i pre ordered it..overalll it's worth the price..these all images are clicked by my iPhone..and i love it.\",\n",
       " 'Excellent camera, good performance, no lag. The lcd display is also good.. but difference come when we watch movie in prime and Netflix, the colours are not vibrant.. as we see in amoled display.. and the charger in box is of 5 watts.. takes more than 3 hours to charge from 0 to 100.. so guys be prepare to buy 18 watts charger . Finally I am an android user, it was my first Iapple phone, I promise u guys the iOS is so smooth.. overall the phone is damn good.... close eyes to buy it.. thanks t...\\nREAD MORE',\n",
       " \"It's my first time to use iOS phone and I am loving my upgradation 😍😍 I love the color, I love the assebility of the phone....I need to learn more about its functionality, but as far as I have seen, it's quite easy and it has a lot of functions to work on, specially if you are a content writer or a blogger you get a lot of content creation platforms and they are really amazing.\\n\\nThis phone not only for good quality photography but a lot of other task too.😍💯\",\n",
       " 'It’s been almost a month since I have been using this phone. I upgraded from an iPhone 8. The main issue with my 8 was battery and this phone is just awesome when it comes to battery. It lasts a day and a half for me with my regular use , internet connected always with 4g\\nCan’t move forward without saying this. Battery of this phone is a life saver when I am traveling or at work when I don’t get the option to charge\\nCamera is superb. Front cam selfies and back cam photos are just awesome.\\n...\\nREAD MORE',\n",
       " 'Really worth of money. i just love it. It is the best phone ever.',\n",
       " 'Awesome Phone. Slightly high price but worth. Better than iPhone XR.\\nCamera is superb and wide angle camera is very clear.\\n12MP selfie camera is also very good.\\nA13 Chip gives a very good and smooth performance.',\n",
       " 'This is my first ever I phone. Before this I was using my google nexus 5. But moving from android to iOS is a great experience. It’s worth at this price. I will highly recommend it if you want to move to iOS. The best part of this phone is it’s camera and it’s battery life. This two things have won my heart. I loved it. Happy to have it in my hand. Still exploring its features. And can’t forget to mention Flipkart service. Very prompt service and fast delivery.',\n",
       " 'Superb Product !!!\\nA big and worthy upgrade from mi 3S to iphone 11 .\\nTotally loved it !',\n",
       " 'I have migrated from OP 7pro... and trust me, iPhone 11 is totally worth it.. following are the reasons:-\\n1)there is ABSOLUTELY NO ISSUE WITH THE DISPLAY... its crisp, sharp and I found it to be much much better than OP7 pro. Netflix, Prime video all run crisply... you won’t miss a thing. True Tone works flawlessly...the display brightness is perfect. OP have not calibrated their screens properly.\\n2) iPhone 11 series have really good cameras... others have spoken in depth about them.\\n3) bat...\\nREAD MORE',\n",
       " 'It’s an amazing product from apple and the camera is simply superb. Phone is faster.Night shot is simply superb and detailing and colour differentiation from camera is an added advantage\\n\\nThis review I have written from iPhone 11 only and I am glad to say outside.\\n\\nCons wise if we see HD+ display only, no battery percentage indicator as in older iPhone 8.\\nNo assistive touch control button in it\\nNo oleophobic coating on back panel glass and finger prints are visible but since I bought mint gr...\\nREAD MORE',\n",
       " 'Looking so good 👍 😍 super 👌 stylish 😎 phone\\nClean box 📦 good 👍 delivery 👌 fast delivery\\nOriginal box Original iphone 📱 👌 😍😍😍',\n",
       " 'After 1 month use I found camera quality best compared to my previous Samsung note 10+.Display not good as note 10 also charging too slow.Apple should add fast charger like 11 plus and pro.Best phone for daily use',\n",
       " 'I just directly switch from iphone 6s to iphone 11 .The best premium smartphone I recommend to everyone. Excellent quality and colors the iphone have in 11 series.\\nCamera quality is just awesome and the major feel when we hold in our hands. The sound quality and volume is also higher then the previous models.\\nI will recommend to buy iphone 11 instead of pro models , there is nothing much difference as this model contains everything which fulfill our needs.\\n\\nOnly one thing that I dislike abo...\\nREAD MORE',\n",
       " 'Upgraded from iphone 6 to 11 best phone for iphone users battery is much better than other iphones camera is awesome love to use it.camera is so clear in night.',\n",
       " 'Well you all know the specifications . One of a kind. Best iPhone till date. Many enhancements to the camera app with many options. Love the glass body with matte finish in the lens area on the back. Lovely colours to choose from. Best battery in an iPhone till date, enough to last more than a day in normal usage. I tested my iPhone 11 battery and lasted for than 24 hours after full charge still with 30% battery charge left. Watched movies for some time. Normal usage on calls, browsing, musi...\\nREAD MORE']"
      ]
     },
     "execution_count": 29,
     "metadata": {},
     "output_type": "execute_result"
    }
   ],
   "source": [
    "for i in review3:\n",
    "    review_flip.append(i.text)\n",
    "review_flip"
   ]
  },
  {
   "cell_type": "code",
   "execution_count": 30,
   "metadata": {
    "scrolled": true
   },
   "outputs": [
    {
     "name": "stdout",
     "output_type": "stream",
     "text": [
      "30 30 30\n"
     ]
    }
   ],
   "source": [
    "print(len(rating_file),len(summary_scrap1),len(review_flip))"
   ]
  },
  {
   "cell_type": "code",
   "execution_count": 32,
   "metadata": {},
   "outputs": [],
   "source": [
    "url4 = 'https://www.flipkart.com/apple-iphone-11-black-64-gb-includes-earpods-power-adapter/product-reviews/itm0f37c2240b217?pid=MOBFKCTSVZAXUHGR&lid=LSTMOBFKCTSVZAXUHGREPBFGI&marketplace=FLIPKART&page=4'\n",
    "driver.get(url4)"
   ]
  },
  {
   "cell_type": "code",
   "execution_count": 33,
   "metadata": {
    "scrolled": true
   },
   "outputs": [
    {
     "data": {
      "text/plain": [
       "[<selenium.webdriver.remote.webelement.WebElement (session=\"ec87b271ce103b9c0eb72458b9b3bc32\", element=\"8f45f583-3dd3-4415-85f9-a23997369225\")>,\n",
       " <selenium.webdriver.remote.webelement.WebElement (session=\"ec87b271ce103b9c0eb72458b9b3bc32\", element=\"2e6abe97-17b1-4df9-a763-e6e6dfdf182f\")>,\n",
       " <selenium.webdriver.remote.webelement.WebElement (session=\"ec87b271ce103b9c0eb72458b9b3bc32\", element=\"c95ebb64-09c1-404d-82f6-e38d4a157fd0\")>,\n",
       " <selenium.webdriver.remote.webelement.WebElement (session=\"ec87b271ce103b9c0eb72458b9b3bc32\", element=\"f0f31e68-f958-4e9a-b4fc-a66aa92a62b7\")>,\n",
       " <selenium.webdriver.remote.webelement.WebElement (session=\"ec87b271ce103b9c0eb72458b9b3bc32\", element=\"0ed1b660-9a5e-45d5-913c-1f59663d91d0\")>,\n",
       " <selenium.webdriver.remote.webelement.WebElement (session=\"ec87b271ce103b9c0eb72458b9b3bc32\", element=\"1cb13d85-8b71-466d-9cec-2cfbf22ea5fb\")>,\n",
       " <selenium.webdriver.remote.webelement.WebElement (session=\"ec87b271ce103b9c0eb72458b9b3bc32\", element=\"a8b81000-ece5-45dd-bad4-050add1d6fb1\")>,\n",
       " <selenium.webdriver.remote.webelement.WebElement (session=\"ec87b271ce103b9c0eb72458b9b3bc32\", element=\"931017ce-6dc6-493d-9df7-343d240a7090\")>,\n",
       " <selenium.webdriver.remote.webelement.WebElement (session=\"ec87b271ce103b9c0eb72458b9b3bc32\", element=\"fe14e201-2902-409b-a73b-0f55259313cc\")>]"
      ]
     },
     "execution_count": 33,
     "metadata": {},
     "output_type": "execute_result"
    }
   ],
   "source": [
    "rating4 = driver.find_elements_by_xpath(\"//div[@class='_3LWZlK _1BLPMq']\")\n",
    "rating4"
   ]
  },
  {
   "cell_type": "code",
   "execution_count": 34,
   "metadata": {
    "scrolled": true
   },
   "outputs": [
    {
     "data": {
      "text/plain": [
       "['5',\n",
       " '5',\n",
       " '5',\n",
       " '5',\n",
       " '5',\n",
       " '5',\n",
       " '4',\n",
       " '5',\n",
       " '5',\n",
       " '5',\n",
       " '5',\n",
       " '5',\n",
       " '5',\n",
       " '5',\n",
       " '5',\n",
       " '5',\n",
       " '5',\n",
       " '5',\n",
       " '5',\n",
       " '5',\n",
       " '4',\n",
       " '5',\n",
       " '5',\n",
       " '5',\n",
       " '5',\n",
       " '4',\n",
       " '5',\n",
       " '5',\n",
       " '5',\n",
       " '5',\n",
       " '5',\n",
       " '5',\n",
       " '5',\n",
       " '5',\n",
       " '5',\n",
       " '4',\n",
       " '5',\n",
       " '5',\n",
       " '5']"
      ]
     },
     "execution_count": 34,
     "metadata": {},
     "output_type": "execute_result"
    }
   ],
   "source": [
    "for i in rating4:\n",
    "    rating_file.append(i.text)\n",
    "rating_file"
   ]
  },
  {
   "cell_type": "code",
   "execution_count": 35,
   "metadata": {
    "scrolled": true
   },
   "outputs": [
    {
     "data": {
      "text/plain": [
       "39"
      ]
     },
     "execution_count": 35,
     "metadata": {},
     "output_type": "execute_result"
    }
   ],
   "source": [
    "len(rating_file)"
   ]
  },
  {
   "cell_type": "code",
   "execution_count": 36,
   "metadata": {},
   "outputs": [
    {
     "data": {
      "text/plain": [
       "[<selenium.webdriver.remote.webelement.WebElement (session=\"ec87b271ce103b9c0eb72458b9b3bc32\", element=\"1be1a8bd-f79c-46eb-817b-ffdca7d2f48d\")>]"
      ]
     },
     "execution_count": 36,
     "metadata": {},
     "output_type": "execute_result"
    }
   ],
   "source": [
    "scrap_left = driver.find_elements_by_xpath(\"//div[@class='_3LWZlK _1rdVr6 _1BLPMq']\")\n",
    "scrap_left"
   ]
  },
  {
   "cell_type": "code",
   "execution_count": 37,
   "metadata": {},
   "outputs": [
    {
     "data": {
      "text/plain": [
       "['1']"
      ]
     },
     "execution_count": 37,
     "metadata": {},
     "output_type": "execute_result"
    }
   ],
   "source": [
    "poor = []\n",
    "for i in scrap_left:\n",
    "    poor.append(i.text)\n",
    "poor"
   ]
  },
  {
   "cell_type": "code",
   "execution_count": 39,
   "metadata": {},
   "outputs": [],
   "source": [
    "rating_file.insert(36,1)"
   ]
  },
  {
   "cell_type": "code",
   "execution_count": 40,
   "metadata": {
    "scrolled": true
   },
   "outputs": [
    {
     "data": {
      "text/plain": [
       "['5',\n",
       " '5',\n",
       " '5',\n",
       " '5',\n",
       " '5',\n",
       " '5',\n",
       " '4',\n",
       " '5',\n",
       " '5',\n",
       " '5',\n",
       " '5',\n",
       " '5',\n",
       " '5',\n",
       " '5',\n",
       " '5',\n",
       " '5',\n",
       " '5',\n",
       " '5',\n",
       " '5',\n",
       " '5',\n",
       " '4',\n",
       " '5',\n",
       " '5',\n",
       " '5',\n",
       " '5',\n",
       " '4',\n",
       " '5',\n",
       " '5',\n",
       " '5',\n",
       " '5',\n",
       " '5',\n",
       " '5',\n",
       " '5',\n",
       " '5',\n",
       " '5',\n",
       " '4',\n",
       " 1,\n",
       " '5',\n",
       " '5',\n",
       " '5']"
      ]
     },
     "execution_count": 40,
     "metadata": {},
     "output_type": "execute_result"
    }
   ],
   "source": [
    "rating_file"
   ]
  },
  {
   "cell_type": "code",
   "execution_count": 42,
   "metadata": {},
   "outputs": [
    {
     "data": {
      "text/plain": [
       "40"
      ]
     },
     "execution_count": 42,
     "metadata": {},
     "output_type": "execute_result"
    }
   ],
   "source": [
    "len(rating_file)"
   ]
  },
  {
   "cell_type": "code",
   "execution_count": 43,
   "metadata": {
    "scrolled": true
   },
   "outputs": [
    {
     "data": {
      "text/plain": [
       "[<selenium.webdriver.remote.webelement.WebElement (session=\"ec87b271ce103b9c0eb72458b9b3bc32\", element=\"ef442ee2-33e7-4db8-9ca4-e8064c96c08d\")>,\n",
       " <selenium.webdriver.remote.webelement.WebElement (session=\"ec87b271ce103b9c0eb72458b9b3bc32\", element=\"739fae56-25d3-49c2-aae0-49c68e27ed86\")>,\n",
       " <selenium.webdriver.remote.webelement.WebElement (session=\"ec87b271ce103b9c0eb72458b9b3bc32\", element=\"6103de32-eff5-4591-a541-9bc537722027\")>,\n",
       " <selenium.webdriver.remote.webelement.WebElement (session=\"ec87b271ce103b9c0eb72458b9b3bc32\", element=\"61195f0d-6858-42d5-b00d-184469a2db38\")>,\n",
       " <selenium.webdriver.remote.webelement.WebElement (session=\"ec87b271ce103b9c0eb72458b9b3bc32\", element=\"16e6c61b-15d9-4a5d-9ad7-99b1c385aa3c\")>,\n",
       " <selenium.webdriver.remote.webelement.WebElement (session=\"ec87b271ce103b9c0eb72458b9b3bc32\", element=\"ea273a91-2ade-4bd2-b68a-f35eeef86029\")>,\n",
       " <selenium.webdriver.remote.webelement.WebElement (session=\"ec87b271ce103b9c0eb72458b9b3bc32\", element=\"9d9e96da-3799-4d23-a67a-65f63127e0ad\")>,\n",
       " <selenium.webdriver.remote.webelement.WebElement (session=\"ec87b271ce103b9c0eb72458b9b3bc32\", element=\"bf002c3c-9a4f-404d-95cd-a15fdeac25f2\")>,\n",
       " <selenium.webdriver.remote.webelement.WebElement (session=\"ec87b271ce103b9c0eb72458b9b3bc32\", element=\"753ad445-55d0-4496-8b9c-8d78aa2f35b1\")>,\n",
       " <selenium.webdriver.remote.webelement.WebElement (session=\"ec87b271ce103b9c0eb72458b9b3bc32\", element=\"255ffeb9-7718-4936-ab94-ad2a75c332e1\")>]"
      ]
     },
     "execution_count": 43,
     "metadata": {},
     "output_type": "execute_result"
    }
   ],
   "source": [
    "summary4 = driver.find_elements_by_class_name(\"_2-N8zT\")\n",
    "summary4"
   ]
  },
  {
   "cell_type": "code",
   "execution_count": 44,
   "metadata": {
    "scrolled": true
   },
   "outputs": [
    {
     "data": {
      "text/plain": [
       "['Brilliant',\n",
       " 'Simply awesome',\n",
       " 'Perfect product!',\n",
       " 'Fabulous!',\n",
       " 'Worth every penny',\n",
       " 'Great product',\n",
       " 'Good choice',\n",
       " 'Worth every penny',\n",
       " 'Highly recommended',\n",
       " 'Best in the market!',\n",
       " 'Perfect product!',\n",
       " 'Highly recommended',\n",
       " 'Perfect product!',\n",
       " 'Classy product',\n",
       " 'Worth every penny',\n",
       " 'Perfect product!',\n",
       " 'Simply awesome',\n",
       " 'Highly recommended',\n",
       " 'Worth every penny',\n",
       " 'Terrific',\n",
       " 'Nice product',\n",
       " 'Wonderful',\n",
       " 'Classy product',\n",
       " 'Brilliant',\n",
       " 'Must buy!',\n",
       " 'Good choice',\n",
       " 'Perfect product!',\n",
       " 'Wonderful',\n",
       " 'Terrific purchase',\n",
       " 'Great product',\n",
       " 'Simply awesome',\n",
       " 'Mind-blowing purchase',\n",
       " 'Terrific purchase',\n",
       " 'Excellent',\n",
       " 'Simply awesome',\n",
       " 'Good quality product',\n",
       " 'Very poor',\n",
       " 'Perfect product!',\n",
       " 'Must buy!',\n",
       " 'Fabulous!']"
      ]
     },
     "execution_count": 44,
     "metadata": {},
     "output_type": "execute_result"
    }
   ],
   "source": [
    "for i in summary4:\n",
    "    summary_scrap1.append(i.text)\n",
    "summary_scrap1"
   ]
  },
  {
   "cell_type": "code",
   "execution_count": 45,
   "metadata": {},
   "outputs": [
    {
     "data": {
      "text/plain": [
       "[<selenium.webdriver.remote.webelement.WebElement (session=\"ec87b271ce103b9c0eb72458b9b3bc32\", element=\"a678dcb9-7955-4c45-88f2-a8b9321bad38\")>,\n",
       " <selenium.webdriver.remote.webelement.WebElement (session=\"ec87b271ce103b9c0eb72458b9b3bc32\", element=\"e40e733c-153f-48f5-8bc6-4664b467af34\")>,\n",
       " <selenium.webdriver.remote.webelement.WebElement (session=\"ec87b271ce103b9c0eb72458b9b3bc32\", element=\"f82678be-648f-46f4-bd17-d3932e0c951e\")>,\n",
       " <selenium.webdriver.remote.webelement.WebElement (session=\"ec87b271ce103b9c0eb72458b9b3bc32\", element=\"e5cc7104-d760-4ad5-90f0-b4913a292594\")>,\n",
       " <selenium.webdriver.remote.webelement.WebElement (session=\"ec87b271ce103b9c0eb72458b9b3bc32\", element=\"855a4ce0-a78a-42f0-b0f4-24a9117da8b4\")>,\n",
       " <selenium.webdriver.remote.webelement.WebElement (session=\"ec87b271ce103b9c0eb72458b9b3bc32\", element=\"382c4031-b035-4d38-ac80-0fa1116507f5\")>,\n",
       " <selenium.webdriver.remote.webelement.WebElement (session=\"ec87b271ce103b9c0eb72458b9b3bc32\", element=\"f1c77780-1477-4f9d-ac07-a19aca1a8fcc\")>,\n",
       " <selenium.webdriver.remote.webelement.WebElement (session=\"ec87b271ce103b9c0eb72458b9b3bc32\", element=\"00fec4f6-498d-47c7-8225-c1f2d00d9574\")>,\n",
       " <selenium.webdriver.remote.webelement.WebElement (session=\"ec87b271ce103b9c0eb72458b9b3bc32\", element=\"0343cab6-1e9f-434b-a0b3-f0e5ad40b3e4\")>,\n",
       " <selenium.webdriver.remote.webelement.WebElement (session=\"ec87b271ce103b9c0eb72458b9b3bc32\", element=\"8d6e7e7b-e084-49bc-8ea0-3053757b65cd\")>]"
      ]
     },
     "execution_count": 45,
     "metadata": {},
     "output_type": "execute_result"
    }
   ],
   "source": [
    "review4=driver.find_elements_by_class_name('t-ZTKy')\n",
    "review4"
   ]
  },
  {
   "cell_type": "code",
   "execution_count": 46,
   "metadata": {
    "scrolled": true
   },
   "outputs": [
    {
     "data": {
      "text/plain": [
       "['The Best Phone for the Money\\n\\nThe iPhone 11 offers superb cameras, a more durable design and excellent battery life for an affordable price.\\n\\nCompelling ultra-wide camera\\nNew Night mode is excellent\\nLong battery life',\n",
       " 'Really satisfied with the Product I received... It’s totally genuine and the packaging was also really good so if ur planning to buy just go for it.',\n",
       " 'Amazing phone with great cameras and better battery which gives you the best performance. I just love the camera .',\n",
       " 'This is my first iOS phone. I am very happy with this product. Very much satisfied with this. I love this phone.',\n",
       " 'Previously I was using one plus 3t it was a great phone\\nAnd then I decided to upgrade I am stuck between Samsung s10 plus or iPhone 11\\nI have seen the specs and everything were good except the display it’s somewhere between 720-1080 and it’s not even an amoled it’s an LCD display\\nBut I decided to go with iPhone because I have never used an IOS device I have Been an android user from the past 9 years I ordered IPhone 11 (128gb) product red\\nMy experience after using 3 weeks\\n1. The delivery ...\\nREAD MORE',\n",
       " 'Amazing Powerful and Durable Gadget.\\n\\nI’m am very happy with the camera picture quality, Amazing face id unlocked in dark room, Strong battery with perfect screen size as you can carry easily in pocket. This is my third iPhone.\\n\\nI shifted from android Samsung Note series to iPhone because of the strong build quality and peace of mind for next 3-4 years.\\n\\nDon’t think to much just go for it and I suggest you to go for minimum 128gb variant or more 256gb.\\n\\nI’ve attached my puppy pics and no fi...\\nREAD MORE',\n",
       " 'So far it’s been an AMAZING experience coming back to iOS after nearly a decade but it’s not as versatile as android though phone is sturdy dropped it accidentally a couple of times and nothing happened fortunately camera is awesome',\n",
       " 'i11 is worthy to buy, too much happy with the product. Thank u flipkart I received the item on time..loved it..',\n",
       " 'iphone 11 is a very good phone to buy only if you can compromise for the display. The display on this is device is pretty good but you can get other options with better displays in this price segment.\\nIf you can survive with an HD+ LCD panel with thicker bezels and a notch up top then this is a very good phone for you.\\nCameras are awesome, battery backup excellent, great performance and a decent premium look. Good job Apple !',\n",
       " 'Great iPhone very snappy experience as apple kind. Upgraded from iPhone 7.\\nPros\\n-Camera top class\\n- Battery top performed\\n-Chipset no need to say as apple kind\\n-Security as you expect from apple\\n- Display super bright industry leading colour\\naccuracy and super responsive\\n-Build quality as expect from apple sturdy\\npremium durable beautiful stylish.\\n-Os most stable os in smartphone industry\\n\\nCons\\n-No 5G\\n-Display is not based on OLED technology\\n-Charger headphones and 1 apple stic...\\nREAD MORE',\n",
       " 'It’s a must buy who is looking for an upgrade from previous generation of iPhones. If you are using XR then still you can hold on for sometime and upgrade to 2020 model else this phone is a must buy . Camera quality is amazing and wide angle is something to count upon. Performance wise it’s amazing and feels premium while holding in hand. So a big YES for this device. Go for 128 GB variant as the 4K videos will occupy lots of space and the storage can get over very quickly. Try to buy it with...\\nREAD MORE',\n",
       " 'What a camera .....just awesome ..you can feel this iPhone just awesome . Good for gaming also ...try pubg in hd it’s just wow',\n",
       " 'Value for money❤️❤️\\nIts awesome mobile phone in the world ...\\nDisplay was very good and bright ..\\nTrust me freinds you r never regret after Buying..\\nJust go for it....\\nI love this phone and i switch to iphone x to 11',\n",
       " 'Totally in love with this ❤ the camera quality is amazing just love it 😘😘😘 itsss dammnnnnnn amazing... Must buy iPhone 11 this is my best experience ever ☀👌👌🧡🧡🧡🧡🧡 thanku apple ❤',\n",
       " 'Best budget Iphone till date ❤️ go for it guys without second thought. Let me explain you guys about Camera, Display, battery, and performance.\\n\\nCamera: at this price range there is no comparison of camera, you’ll love the picture quality as well as video quality. I am a Vlogger I wanted an iPhone with 4k video by front camera and I got this phone and I am more than happy 😃\\n\\nBattery: I use this phone roughly as I am active social media person and I have a youtube channel. so the battery ba...\\nREAD MORE',\n",
       " \"Iphone is just awesome.. battery backup is very very nice.. continuously for 10 hours we can use it.camera is just awesome.. display is just fab.i love it alot..i had to wait 15 days for it as i pre ordered it..overalll it's worth the price..these all images are clicked by my iPhone..and i love it.\",\n",
       " 'Excellent camera, good performance, no lag. The lcd display is also good.. but difference come when we watch movie in prime and Netflix, the colours are not vibrant.. as we see in amoled display.. and the charger in box is of 5 watts.. takes more than 3 hours to charge from 0 to 100.. so guys be prepare to buy 18 watts charger . Finally I am an android user, it was my first Iapple phone, I promise u guys the iOS is so smooth.. overall the phone is damn good.... close eyes to buy it.. thanks t...\\nREAD MORE',\n",
       " \"It's my first time to use iOS phone and I am loving my upgradation 😍😍 I love the color, I love the assebility of the phone....I need to learn more about its functionality, but as far as I have seen, it's quite easy and it has a lot of functions to work on, specially if you are a content writer or a blogger you get a lot of content creation platforms and they are really amazing.\\n\\nThis phone not only for good quality photography but a lot of other task too.😍💯\",\n",
       " 'It’s been almost a month since I have been using this phone. I upgraded from an iPhone 8. The main issue with my 8 was battery and this phone is just awesome when it comes to battery. It lasts a day and a half for me with my regular use , internet connected always with 4g\\nCan’t move forward without saying this. Battery of this phone is a life saver when I am traveling or at work when I don’t get the option to charge\\nCamera is superb. Front cam selfies and back cam photos are just awesome.\\n...\\nREAD MORE',\n",
       " 'Really worth of money. i just love it. It is the best phone ever.',\n",
       " 'Awesome Phone. Slightly high price but worth. Better than iPhone XR.\\nCamera is superb and wide angle camera is very clear.\\n12MP selfie camera is also very good.\\nA13 Chip gives a very good and smooth performance.',\n",
       " 'This is my first ever I phone. Before this I was using my google nexus 5. But moving from android to iOS is a great experience. It’s worth at this price. I will highly recommend it if you want to move to iOS. The best part of this phone is it’s camera and it’s battery life. This two things have won my heart. I loved it. Happy to have it in my hand. Still exploring its features. And can’t forget to mention Flipkart service. Very prompt service and fast delivery.',\n",
       " 'Superb Product !!!\\nA big and worthy upgrade from mi 3S to iphone 11 .\\nTotally loved it !',\n",
       " 'I have migrated from OP 7pro... and trust me, iPhone 11 is totally worth it.. following are the reasons:-\\n1)there is ABSOLUTELY NO ISSUE WITH THE DISPLAY... its crisp, sharp and I found it to be much much better than OP7 pro. Netflix, Prime video all run crisply... you won’t miss a thing. True Tone works flawlessly...the display brightness is perfect. OP have not calibrated their screens properly.\\n2) iPhone 11 series have really good cameras... others have spoken in depth about them.\\n3) bat...\\nREAD MORE',\n",
       " 'It’s an amazing product from apple and the camera is simply superb. Phone is faster.Night shot is simply superb and detailing and colour differentiation from camera is an added advantage\\n\\nThis review I have written from iPhone 11 only and I am glad to say outside.\\n\\nCons wise if we see HD+ display only, no battery percentage indicator as in older iPhone 8.\\nNo assistive touch control button in it\\nNo oleophobic coating on back panel glass and finger prints are visible but since I bought mint gr...\\nREAD MORE',\n",
       " 'Looking so good 👍 😍 super 👌 stylish 😎 phone\\nClean box 📦 good 👍 delivery 👌 fast delivery\\nOriginal box Original iphone 📱 👌 😍😍😍',\n",
       " 'After 1 month use I found camera quality best compared to my previous Samsung note 10+.Display not good as note 10 also charging too slow.Apple should add fast charger like 11 plus and pro.Best phone for daily use',\n",
       " 'I just directly switch from iphone 6s to iphone 11 .The best premium smartphone I recommend to everyone. Excellent quality and colors the iphone have in 11 series.\\nCamera quality is just awesome and the major feel when we hold in our hands. The sound quality and volume is also higher then the previous models.\\nI will recommend to buy iphone 11 instead of pro models , there is nothing much difference as this model contains everything which fulfill our needs.\\n\\nOnly one thing that I dislike abo...\\nREAD MORE',\n",
       " 'Upgraded from iphone 6 to 11 best phone for iphone users battery is much better than other iphones camera is awesome love to use it.camera is so clear in night.',\n",
       " 'Well you all know the specifications . One of a kind. Best iPhone till date. Many enhancements to the camera app with many options. Love the glass body with matte finish in the lens area on the back. Lovely colours to choose from. Best battery in an iPhone till date, enough to last more than a day in normal usage. I tested my iPhone 11 battery and lasted for than 24 hours after full charge still with 30% battery charge left. Watched movies for some time. Normal usage on calls, browsing, musi...\\nREAD MORE',\n",
       " \"It's very high performances devise i am like the service of flipkart delevary very fast and packing very nice perfect phone\",\n",
       " 'This will help you more. See if you are planning to buy iPhone 11. I will say. Yes. But there are some plans I just want to disclose before you buy. 1) If you are an existing iPhone X/XS/XS Max/ XR user, better you guys do not think it to buy. You guys have more or less better gadget. 2) If you are an android user and planning to buy premium phone. I will suggest them to please buy iPhone instead of buying an Android. I bet you will never go back to android after using IOS. Now I want to shar...\\nREAD MORE',\n",
       " 'The built quality is not very premium.\\nThe battery back is great .\\nThe LCD panel is not so sharp but the brightness level is very High .\\nCamera is super duper awesome.\\nThe red colour which people think is bright is actually very soothing and excellent colour to choose from .\\nThe A13 Bionic chip is really a flagship processor and can beat any phone which even has 12 gb ram .\\nCamera module is very great and looks very stylish.',\n",
       " 'Amazing camera and feel super machine I am not describe my feeling but this is amazing Phone I am so lucky I have this',\n",
       " 'Really good actually this is my first apple product am using its really awesome performance wise excellent. Am really happy with this iphone11',\n",
       " 'it is very good at performance. Camera is best like before and very smooth response even in water. Don’t buy 12 mini buy iPhone 11 , it is far better than 12 mini believe me ! Have a nice day \\uf8ff ☺️',\n",
       " 'Reviewing again after 5 months. At the beginning the battery and performance was good but it degraded soon. Also I was facing heating issues. The mobile will heat up like a stove sometimes. You cannot even play Pubg even in low settings properly, performance is not a problem but heating is. Also if you play that game for 10 mins the brightness will be automatically down due to over heating even when the auto brightness is set to off. This will not be solved even if u manually increase the bri...\\nREAD MORE',\n",
       " 'It is just awesome mobile for this price from Apple,\\n\\nAfter 10 days review\\n\\nBattery enough for 1 day even 24*7 Internet will be on and mostly internet usage\\n\\nCamera is just awesome cool , android 64 MP is equal to this just 12 MP\\n\\nA13 Bionic chip will give more high performance without hanging\\n\\nAudio stereo speakers will give Dolby atoms sound with crystal clear\\n\\nVideo recording is like cinematic shots of every sec can be a 4K 60fps. Just awesome this phone\\niPhone 11 loved one',\n",
       " 'Best Apple iPhone that i have bought at a very reasonable price, camera quality is next level just awesome n of superior quality android phones not even close(RIP) to that and also battery is really good but packaging by Flipkart of iPhone was very poor of such a expensive product, firstly im bit worried about the quality of product if i purchased it through online how was the product but i think now this was mine best decision to bought it through Flipkart online because i got genuine Apple...\\nREAD MORE',\n",
       " \"I can say I'm damn impressed with iPhone 11. As they says iPhone 11 have the toughest glass ever in the smartphone which you'll find on the front and back and it's totally smooth. The fit and finish is full apple quality - there's no sense that any cheaping out has happened in the construction. Without saying it's camera features this review won't complete. The iPhone 11 has a dual camera system, consisting of a wide angle len's that's pretty much same as found on the iPhone XR last year, but...\\nREAD MORE\"]"
      ]
     },
     "execution_count": 46,
     "metadata": {},
     "output_type": "execute_result"
    }
   ],
   "source": [
    "for i in review4:\n",
    "    review_flip.append(i.text)\n",
    "review_flip"
   ]
  },
  {
   "cell_type": "code",
   "execution_count": 47,
   "metadata": {
    "scrolled": true
   },
   "outputs": [
    {
     "name": "stdout",
     "output_type": "stream",
     "text": [
      "40 40 40\n"
     ]
    }
   ],
   "source": [
    "print(len(rating_file),len(summary_scrap1),len(review_flip))"
   ]
  },
  {
   "cell_type": "code",
   "execution_count": 48,
   "metadata": {},
   "outputs": [],
   "source": [
    "url5 = 'https://www.flipkart.com/apple-iphone-11-black-64-gb-includes-earpods-power-adapter/product-reviews/itm0f37c2240b217?pid=MOBFKCTSVZAXUHGR&lid=LSTMOBFKCTSVZAXUHGREPBFGI&marketplace=FLIPKART&page=5'\n",
    "driver.get(url5)"
   ]
  },
  {
   "cell_type": "code",
   "execution_count": 49,
   "metadata": {
    "scrolled": true
   },
   "outputs": [
    {
     "data": {
      "text/plain": [
       "[<selenium.webdriver.remote.webelement.WebElement (session=\"ec87b271ce103b9c0eb72458b9b3bc32\", element=\"06474223-7005-475d-bb46-fa4f1cf37161\")>,\n",
       " <selenium.webdriver.remote.webelement.WebElement (session=\"ec87b271ce103b9c0eb72458b9b3bc32\", element=\"dadf72b4-3eae-4f78-94ad-ca6c312553cc\")>,\n",
       " <selenium.webdriver.remote.webelement.WebElement (session=\"ec87b271ce103b9c0eb72458b9b3bc32\", element=\"60697abb-57f2-4112-9a1c-c56cbc92a5b1\")>,\n",
       " <selenium.webdriver.remote.webelement.WebElement (session=\"ec87b271ce103b9c0eb72458b9b3bc32\", element=\"34dab5b4-9ec3-4aff-9fb5-96cddea131ef\")>,\n",
       " <selenium.webdriver.remote.webelement.WebElement (session=\"ec87b271ce103b9c0eb72458b9b3bc32\", element=\"d4daeab4-450f-486f-99e6-2b7eb19abc95\")>,\n",
       " <selenium.webdriver.remote.webelement.WebElement (session=\"ec87b271ce103b9c0eb72458b9b3bc32\", element=\"c31a2c39-2d88-409d-b343-950bd5886905\")>,\n",
       " <selenium.webdriver.remote.webelement.WebElement (session=\"ec87b271ce103b9c0eb72458b9b3bc32\", element=\"8119bf3b-10e4-4d94-ad10-58770aef4d0d\")>,\n",
       " <selenium.webdriver.remote.webelement.WebElement (session=\"ec87b271ce103b9c0eb72458b9b3bc32\", element=\"5c571fcc-dcc1-4973-8c0d-1a1294cd72c4\")>,\n",
       " <selenium.webdriver.remote.webelement.WebElement (session=\"ec87b271ce103b9c0eb72458b9b3bc32\", element=\"569332f9-b2bf-457f-bc87-fc2e55cafc69\")>,\n",
       " <selenium.webdriver.remote.webelement.WebElement (session=\"ec87b271ce103b9c0eb72458b9b3bc32\", element=\"5b5021e1-30c6-48e9-af15-5bdba562e8b6\")>]"
      ]
     },
     "execution_count": 49,
     "metadata": {},
     "output_type": "execute_result"
    }
   ],
   "source": [
    "rating5 = driver.find_elements_by_xpath(\"//div[@class='_3LWZlK _1BLPMq']\")\n",
    "rating5"
   ]
  },
  {
   "cell_type": "code",
   "execution_count": 50,
   "metadata": {
    "scrolled": true
   },
   "outputs": [
    {
     "data": {
      "text/plain": [
       "['5',\n",
       " '5',\n",
       " '5',\n",
       " '5',\n",
       " '5',\n",
       " '5',\n",
       " '4',\n",
       " '5',\n",
       " '5',\n",
       " '5',\n",
       " '5',\n",
       " '5',\n",
       " '5',\n",
       " '5',\n",
       " '5',\n",
       " '5',\n",
       " '5',\n",
       " '5',\n",
       " '5',\n",
       " '5',\n",
       " '4',\n",
       " '5',\n",
       " '5',\n",
       " '5',\n",
       " '5',\n",
       " '4',\n",
       " '5',\n",
       " '5',\n",
       " '5',\n",
       " '5',\n",
       " '5',\n",
       " '5',\n",
       " '5',\n",
       " '5',\n",
       " '5',\n",
       " '4',\n",
       " 1,\n",
       " '5',\n",
       " '5',\n",
       " '5',\n",
       " '5',\n",
       " '5',\n",
       " '5',\n",
       " '5',\n",
       " '5',\n",
       " '4',\n",
       " '5',\n",
       " '5',\n",
       " '5',\n",
       " '5']"
      ]
     },
     "execution_count": 50,
     "metadata": {},
     "output_type": "execute_result"
    }
   ],
   "source": [
    "for i in rating5:\n",
    "    rating_file.append(i.text)\n",
    "rating_file"
   ]
  },
  {
   "cell_type": "code",
   "execution_count": 51,
   "metadata": {
    "scrolled": true
   },
   "outputs": [
    {
     "data": {
      "text/plain": [
       "[<selenium.webdriver.remote.webelement.WebElement (session=\"ec87b271ce103b9c0eb72458b9b3bc32\", element=\"03c55507-927e-4308-be47-ba5da4461291\")>,\n",
       " <selenium.webdriver.remote.webelement.WebElement (session=\"ec87b271ce103b9c0eb72458b9b3bc32\", element=\"d19f873d-ac9c-4270-8193-32442edd766c\")>,\n",
       " <selenium.webdriver.remote.webelement.WebElement (session=\"ec87b271ce103b9c0eb72458b9b3bc32\", element=\"3b75f3ae-9eb3-4556-b670-9c768e5a2be7\")>,\n",
       " <selenium.webdriver.remote.webelement.WebElement (session=\"ec87b271ce103b9c0eb72458b9b3bc32\", element=\"f394efca-dd3d-4fde-8df6-7fae14d17371\")>,\n",
       " <selenium.webdriver.remote.webelement.WebElement (session=\"ec87b271ce103b9c0eb72458b9b3bc32\", element=\"ff4a6f05-8328-4977-ad34-c9627a5dcd4a\")>,\n",
       " <selenium.webdriver.remote.webelement.WebElement (session=\"ec87b271ce103b9c0eb72458b9b3bc32\", element=\"4582e0b0-975b-4b2a-a811-49e4ee27a807\")>,\n",
       " <selenium.webdriver.remote.webelement.WebElement (session=\"ec87b271ce103b9c0eb72458b9b3bc32\", element=\"182f52d3-1d7f-46a7-ae4a-b08490fa8c8f\")>,\n",
       " <selenium.webdriver.remote.webelement.WebElement (session=\"ec87b271ce103b9c0eb72458b9b3bc32\", element=\"6b3af181-3a3c-4019-9449-4dec88f7ff68\")>,\n",
       " <selenium.webdriver.remote.webelement.WebElement (session=\"ec87b271ce103b9c0eb72458b9b3bc32\", element=\"79365d9a-17c1-4ed4-987c-f38ecf7b3f25\")>,\n",
       " <selenium.webdriver.remote.webelement.WebElement (session=\"ec87b271ce103b9c0eb72458b9b3bc32\", element=\"052fade6-4e67-4ba3-854f-066e78dee52b\")>]"
      ]
     },
     "execution_count": 51,
     "metadata": {},
     "output_type": "execute_result"
    }
   ],
   "source": [
    "summary5 = driver.find_elements_by_class_name(\"_2-N8zT\")\n",
    "summary5"
   ]
  },
  {
   "cell_type": "code",
   "execution_count": 52,
   "metadata": {
    "scrolled": true
   },
   "outputs": [
    {
     "data": {
      "text/plain": [
       "['Brilliant',\n",
       " 'Simply awesome',\n",
       " 'Perfect product!',\n",
       " 'Fabulous!',\n",
       " 'Worth every penny',\n",
       " 'Great product',\n",
       " 'Good choice',\n",
       " 'Worth every penny',\n",
       " 'Highly recommended',\n",
       " 'Best in the market!',\n",
       " 'Perfect product!',\n",
       " 'Highly recommended',\n",
       " 'Perfect product!',\n",
       " 'Classy product',\n",
       " 'Worth every penny',\n",
       " 'Perfect product!',\n",
       " 'Simply awesome',\n",
       " 'Highly recommended',\n",
       " 'Worth every penny',\n",
       " 'Terrific',\n",
       " 'Nice product',\n",
       " 'Wonderful',\n",
       " 'Classy product',\n",
       " 'Brilliant',\n",
       " 'Must buy!',\n",
       " 'Good choice',\n",
       " 'Perfect product!',\n",
       " 'Wonderful',\n",
       " 'Terrific purchase',\n",
       " 'Great product',\n",
       " 'Simply awesome',\n",
       " 'Mind-blowing purchase',\n",
       " 'Terrific purchase',\n",
       " 'Excellent',\n",
       " 'Simply awesome',\n",
       " 'Good quality product',\n",
       " 'Very poor',\n",
       " 'Perfect product!',\n",
       " 'Must buy!',\n",
       " 'Fabulous!',\n",
       " 'Mind-blowing purchase',\n",
       " 'Mind-blowing purchase',\n",
       " 'Wonderful',\n",
       " 'Worth every penny',\n",
       " 'Great product',\n",
       " 'Very Good',\n",
       " 'Perfect product!',\n",
       " 'Classy product',\n",
       " 'Perfect product!',\n",
       " 'Just wow!']"
      ]
     },
     "execution_count": 52,
     "metadata": {},
     "output_type": "execute_result"
    }
   ],
   "source": [
    "for i in summary5:\n",
    "    summary_scrap1.append(i.text)\n",
    "summary_scrap1"
   ]
  },
  {
   "cell_type": "code",
   "execution_count": 53,
   "metadata": {
    "scrolled": true
   },
   "outputs": [
    {
     "data": {
      "text/plain": [
       "[<selenium.webdriver.remote.webelement.WebElement (session=\"ec87b271ce103b9c0eb72458b9b3bc32\", element=\"1de7c70e-1f05-4940-a14f-04e8d80b54b8\")>,\n",
       " <selenium.webdriver.remote.webelement.WebElement (session=\"ec87b271ce103b9c0eb72458b9b3bc32\", element=\"96eae7bc-841d-459a-b146-d0d74f674a6f\")>,\n",
       " <selenium.webdriver.remote.webelement.WebElement (session=\"ec87b271ce103b9c0eb72458b9b3bc32\", element=\"29f36cdf-fce2-4614-957e-753bd8858bbc\")>,\n",
       " <selenium.webdriver.remote.webelement.WebElement (session=\"ec87b271ce103b9c0eb72458b9b3bc32\", element=\"67ead9b3-362c-429c-acd2-bd17605034ed\")>,\n",
       " <selenium.webdriver.remote.webelement.WebElement (session=\"ec87b271ce103b9c0eb72458b9b3bc32\", element=\"f8cdfd2c-4a4d-44b4-aa71-33d0c21e8c3e\")>,\n",
       " <selenium.webdriver.remote.webelement.WebElement (session=\"ec87b271ce103b9c0eb72458b9b3bc32\", element=\"3f0f9976-8a88-42a0-bf6a-20733d8810d3\")>,\n",
       " <selenium.webdriver.remote.webelement.WebElement (session=\"ec87b271ce103b9c0eb72458b9b3bc32\", element=\"53cd57c5-84fc-4c0a-b352-49e0c5518d17\")>,\n",
       " <selenium.webdriver.remote.webelement.WebElement (session=\"ec87b271ce103b9c0eb72458b9b3bc32\", element=\"bf42f1d2-af09-4867-91a7-39bc09ff9a00\")>,\n",
       " <selenium.webdriver.remote.webelement.WebElement (session=\"ec87b271ce103b9c0eb72458b9b3bc32\", element=\"c179a1b4-800f-4dd1-9fd3-e0eea1956fdc\")>,\n",
       " <selenium.webdriver.remote.webelement.WebElement (session=\"ec87b271ce103b9c0eb72458b9b3bc32\", element=\"fb2e0013-2c67-4a8a-8779-d5c0fb05f3c3\")>]"
      ]
     },
     "execution_count": 53,
     "metadata": {},
     "output_type": "execute_result"
    }
   ],
   "source": [
    "review5=driver.find_elements_by_class_name('t-ZTKy')\n",
    "review5"
   ]
  },
  {
   "cell_type": "code",
   "execution_count": 54,
   "metadata": {
    "scrolled": true
   },
   "outputs": [
    {
     "data": {
      "text/plain": [
       "['The Best Phone for the Money\\n\\nThe iPhone 11 offers superb cameras, a more durable design and excellent battery life for an affordable price.\\n\\nCompelling ultra-wide camera\\nNew Night mode is excellent\\nLong battery life',\n",
       " 'Really satisfied with the Product I received... It’s totally genuine and the packaging was also really good so if ur planning to buy just go for it.',\n",
       " 'Amazing phone with great cameras and better battery which gives you the best performance. I just love the camera .',\n",
       " 'This is my first iOS phone. I am very happy with this product. Very much satisfied with this. I love this phone.',\n",
       " 'Previously I was using one plus 3t it was a great phone\\nAnd then I decided to upgrade I am stuck between Samsung s10 plus or iPhone 11\\nI have seen the specs and everything were good except the display it’s somewhere between 720-1080 and it’s not even an amoled it’s an LCD display\\nBut I decided to go with iPhone because I have never used an IOS device I have Been an android user from the past 9 years I ordered IPhone 11 (128gb) product red\\nMy experience after using 3 weeks\\n1. The delivery ...\\nREAD MORE',\n",
       " 'Amazing Powerful and Durable Gadget.\\n\\nI’m am very happy with the camera picture quality, Amazing face id unlocked in dark room, Strong battery with perfect screen size as you can carry easily in pocket. This is my third iPhone.\\n\\nI shifted from android Samsung Note series to iPhone because of the strong build quality and peace of mind for next 3-4 years.\\n\\nDon’t think to much just go for it and I suggest you to go for minimum 128gb variant or more 256gb.\\n\\nI’ve attached my puppy pics and no fi...\\nREAD MORE',\n",
       " 'So far it’s been an AMAZING experience coming back to iOS after nearly a decade but it’s not as versatile as android though phone is sturdy dropped it accidentally a couple of times and nothing happened fortunately camera is awesome',\n",
       " 'i11 is worthy to buy, too much happy with the product. Thank u flipkart I received the item on time..loved it..',\n",
       " 'iphone 11 is a very good phone to buy only if you can compromise for the display. The display on this is device is pretty good but you can get other options with better displays in this price segment.\\nIf you can survive with an HD+ LCD panel with thicker bezels and a notch up top then this is a very good phone for you.\\nCameras are awesome, battery backup excellent, great performance and a decent premium look. Good job Apple !',\n",
       " 'Great iPhone very snappy experience as apple kind. Upgraded from iPhone 7.\\nPros\\n-Camera top class\\n- Battery top performed\\n-Chipset no need to say as apple kind\\n-Security as you expect from apple\\n- Display super bright industry leading colour\\naccuracy and super responsive\\n-Build quality as expect from apple sturdy\\npremium durable beautiful stylish.\\n-Os most stable os in smartphone industry\\n\\nCons\\n-No 5G\\n-Display is not based on OLED technology\\n-Charger headphones and 1 apple stic...\\nREAD MORE',\n",
       " 'It’s a must buy who is looking for an upgrade from previous generation of iPhones. If you are using XR then still you can hold on for sometime and upgrade to 2020 model else this phone is a must buy . Camera quality is amazing and wide angle is something to count upon. Performance wise it’s amazing and feels premium while holding in hand. So a big YES for this device. Go for 128 GB variant as the 4K videos will occupy lots of space and the storage can get over very quickly. Try to buy it with...\\nREAD MORE',\n",
       " 'What a camera .....just awesome ..you can feel this iPhone just awesome . Good for gaming also ...try pubg in hd it’s just wow',\n",
       " 'Value for money❤️❤️\\nIts awesome mobile phone in the world ...\\nDisplay was very good and bright ..\\nTrust me freinds you r never regret after Buying..\\nJust go for it....\\nI love this phone and i switch to iphone x to 11',\n",
       " 'Totally in love with this ❤ the camera quality is amazing just love it 😘😘😘 itsss dammnnnnnn amazing... Must buy iPhone 11 this is my best experience ever ☀👌👌🧡🧡🧡🧡🧡 thanku apple ❤',\n",
       " 'Best budget Iphone till date ❤️ go for it guys without second thought. Let me explain you guys about Camera, Display, battery, and performance.\\n\\nCamera: at this price range there is no comparison of camera, you’ll love the picture quality as well as video quality. I am a Vlogger I wanted an iPhone with 4k video by front camera and I got this phone and I am more than happy 😃\\n\\nBattery: I use this phone roughly as I am active social media person and I have a youtube channel. so the battery ba...\\nREAD MORE',\n",
       " \"Iphone is just awesome.. battery backup is very very nice.. continuously for 10 hours we can use it.camera is just awesome.. display is just fab.i love it alot..i had to wait 15 days for it as i pre ordered it..overalll it's worth the price..these all images are clicked by my iPhone..and i love it.\",\n",
       " 'Excellent camera, good performance, no lag. The lcd display is also good.. but difference come when we watch movie in prime and Netflix, the colours are not vibrant.. as we see in amoled display.. and the charger in box is of 5 watts.. takes more than 3 hours to charge from 0 to 100.. so guys be prepare to buy 18 watts charger . Finally I am an android user, it was my first Iapple phone, I promise u guys the iOS is so smooth.. overall the phone is damn good.... close eyes to buy it.. thanks t...\\nREAD MORE',\n",
       " \"It's my first time to use iOS phone and I am loving my upgradation 😍😍 I love the color, I love the assebility of the phone....I need to learn more about its functionality, but as far as I have seen, it's quite easy and it has a lot of functions to work on, specially if you are a content writer or a blogger you get a lot of content creation platforms and they are really amazing.\\n\\nThis phone not only for good quality photography but a lot of other task too.😍💯\",\n",
       " 'It’s been almost a month since I have been using this phone. I upgraded from an iPhone 8. The main issue with my 8 was battery and this phone is just awesome when it comes to battery. It lasts a day and a half for me with my regular use , internet connected always with 4g\\nCan’t move forward without saying this. Battery of this phone is a life saver when I am traveling or at work when I don’t get the option to charge\\nCamera is superb. Front cam selfies and back cam photos are just awesome.\\n...\\nREAD MORE',\n",
       " 'Really worth of money. i just love it. It is the best phone ever.',\n",
       " 'Awesome Phone. Slightly high price but worth. Better than iPhone XR.\\nCamera is superb and wide angle camera is very clear.\\n12MP selfie camera is also very good.\\nA13 Chip gives a very good and smooth performance.',\n",
       " 'This is my first ever I phone. Before this I was using my google nexus 5. But moving from android to iOS is a great experience. It’s worth at this price. I will highly recommend it if you want to move to iOS. The best part of this phone is it’s camera and it’s battery life. This two things have won my heart. I loved it. Happy to have it in my hand. Still exploring its features. And can’t forget to mention Flipkart service. Very prompt service and fast delivery.',\n",
       " 'Superb Product !!!\\nA big and worthy upgrade from mi 3S to iphone 11 .\\nTotally loved it !',\n",
       " 'I have migrated from OP 7pro... and trust me, iPhone 11 is totally worth it.. following are the reasons:-\\n1)there is ABSOLUTELY NO ISSUE WITH THE DISPLAY... its crisp, sharp and I found it to be much much better than OP7 pro. Netflix, Prime video all run crisply... you won’t miss a thing. True Tone works flawlessly...the display brightness is perfect. OP have not calibrated their screens properly.\\n2) iPhone 11 series have really good cameras... others have spoken in depth about them.\\n3) bat...\\nREAD MORE',\n",
       " 'It’s an amazing product from apple and the camera is simply superb. Phone is faster.Night shot is simply superb and detailing and colour differentiation from camera is an added advantage\\n\\nThis review I have written from iPhone 11 only and I am glad to say outside.\\n\\nCons wise if we see HD+ display only, no battery percentage indicator as in older iPhone 8.\\nNo assistive touch control button in it\\nNo oleophobic coating on back panel glass and finger prints are visible but since I bought mint gr...\\nREAD MORE',\n",
       " 'Looking so good 👍 😍 super 👌 stylish 😎 phone\\nClean box 📦 good 👍 delivery 👌 fast delivery\\nOriginal box Original iphone 📱 👌 😍😍😍',\n",
       " 'After 1 month use I found camera quality best compared to my previous Samsung note 10+.Display not good as note 10 also charging too slow.Apple should add fast charger like 11 plus and pro.Best phone for daily use',\n",
       " 'I just directly switch from iphone 6s to iphone 11 .The best premium smartphone I recommend to everyone. Excellent quality and colors the iphone have in 11 series.\\nCamera quality is just awesome and the major feel when we hold in our hands. The sound quality and volume is also higher then the previous models.\\nI will recommend to buy iphone 11 instead of pro models , there is nothing much difference as this model contains everything which fulfill our needs.\\n\\nOnly one thing that I dislike abo...\\nREAD MORE',\n",
       " 'Upgraded from iphone 6 to 11 best phone for iphone users battery is much better than other iphones camera is awesome love to use it.camera is so clear in night.',\n",
       " 'Well you all know the specifications . One of a kind. Best iPhone till date. Many enhancements to the camera app with many options. Love the glass body with matte finish in the lens area on the back. Lovely colours to choose from. Best battery in an iPhone till date, enough to last more than a day in normal usage. I tested my iPhone 11 battery and lasted for than 24 hours after full charge still with 30% battery charge left. Watched movies for some time. Normal usage on calls, browsing, musi...\\nREAD MORE',\n",
       " \"It's very high performances devise i am like the service of flipkart delevary very fast and packing very nice perfect phone\",\n",
       " 'This will help you more. See if you are planning to buy iPhone 11. I will say. Yes. But there are some plans I just want to disclose before you buy. 1) If you are an existing iPhone X/XS/XS Max/ XR user, better you guys do not think it to buy. You guys have more or less better gadget. 2) If you are an android user and planning to buy premium phone. I will suggest them to please buy iPhone instead of buying an Android. I bet you will never go back to android after using IOS. Now I want to shar...\\nREAD MORE',\n",
       " 'The built quality is not very premium.\\nThe battery back is great .\\nThe LCD panel is not so sharp but the brightness level is very High .\\nCamera is super duper awesome.\\nThe red colour which people think is bright is actually very soothing and excellent colour to choose from .\\nThe A13 Bionic chip is really a flagship processor and can beat any phone which even has 12 gb ram .\\nCamera module is very great and looks very stylish.',\n",
       " 'Amazing camera and feel super machine I am not describe my feeling but this is amazing Phone I am so lucky I have this',\n",
       " 'Really good actually this is my first apple product am using its really awesome performance wise excellent. Am really happy with this iphone11',\n",
       " 'it is very good at performance. Camera is best like before and very smooth response even in water. Don’t buy 12 mini buy iPhone 11 , it is far better than 12 mini believe me ! Have a nice day \\uf8ff ☺️',\n",
       " 'Reviewing again after 5 months. At the beginning the battery and performance was good but it degraded soon. Also I was facing heating issues. The mobile will heat up like a stove sometimes. You cannot even play Pubg even in low settings properly, performance is not a problem but heating is. Also if you play that game for 10 mins the brightness will be automatically down due to over heating even when the auto brightness is set to off. This will not be solved even if u manually increase the bri...\\nREAD MORE',\n",
       " 'It is just awesome mobile for this price from Apple,\\n\\nAfter 10 days review\\n\\nBattery enough for 1 day even 24*7 Internet will be on and mostly internet usage\\n\\nCamera is just awesome cool , android 64 MP is equal to this just 12 MP\\n\\nA13 Bionic chip will give more high performance without hanging\\n\\nAudio stereo speakers will give Dolby atoms sound with crystal clear\\n\\nVideo recording is like cinematic shots of every sec can be a 4K 60fps. Just awesome this phone\\niPhone 11 loved one',\n",
       " 'Best Apple iPhone that i have bought at a very reasonable price, camera quality is next level just awesome n of superior quality android phones not even close(RIP) to that and also battery is really good but packaging by Flipkart of iPhone was very poor of such a expensive product, firstly im bit worried about the quality of product if i purchased it through online how was the product but i think now this was mine best decision to bought it through Flipkart online because i got genuine Apple...\\nREAD MORE',\n",
       " \"I can say I'm damn impressed with iPhone 11. As they says iPhone 11 have the toughest glass ever in the smartphone which you'll find on the front and back and it's totally smooth. The fit and finish is full apple quality - there's no sense that any cheaping out has happened in the construction. Without saying it's camera features this review won't complete. The iPhone 11 has a dual camera system, consisting of a wide angle len's that's pretty much same as found on the iPhone XR last year, but...\\nREAD MORE\",\n",
       " 'Best Quality Product OF iPhone Series , Sound Quality & Camera quality is very awesome, Battery Life is very Sufficient for 24 hr Backup With Full Internet Access , I love this this Product too much , It is very fast & making me Very fast in all my daily Routine\\nHighlights;\\n1.Camera: 5 STAR\\n2.Video Recording: 5 star\\n3.Night mODE sHOOTING & Camera:4 star\\n4. Audio Quality: Awesome\\n5. Battery : 5 Star\\n6. Touch:5 Star\\n7. Processor: Very Fast\\nThe M...\\nREAD MORE',\n",
       " 'First thanks to Flipkart for this amazing deal and phone is outstanding. I upgraded from iPhone 7 and this is like very big upgrade. But the packaging was very basic I expected a good packaging as they only wrapped one layer of bubble wrap which I don’t think is enough to protect this expensive phone. And I recommend this phone and seller as well.\\n\\nAnd I’m posting this review after using it for 4 days.',\n",
       " 'Superfast delivery by Flipkart. Thanks.\\n\\n1. iPhone 11 is a pretty solid phone for the money you are paying.\\n2. All the bad reviews about the display is confusing. It’s not that bad.\\n3. I switched from a Oneplus 7t. I have no complaints about the display quality of iPhone. Yes, it’s not OLED, so, we are missing on the deep blacks. But that’s it. It is a very colour accurate display. Gets adequately bright and I could not find any pixelation.\\n4. Performance is one of the best, if not best, in ...\\nREAD MORE',\n",
       " 'Smooth like butter, camera like fantabulous, sound is crystal clear & its red color is damn attractive, i am just loving it. Must buy if you love photography.\\n\\nLucky to get it in sale, thank you Flipkart.',\n",
       " \"Again back to apple iphone after a gap of 2-3 years. It's pleasure to use iOS and the quality product by Apple. Iphone 11 still works like a beast in 2021 also. It really capable of doing day to day usage as well as hard core gaming. Battery is awesome. I'm really too much satisfied with it. Apart fto the very gorgious IPS LCD (AMOLED will be better) everything is mind boggling. Iphone💕.\",\n",
       " 'impressive super phone and best in class camera ,sound and face unlock is super fast just see and phone is unlock and fast in daily apps use',\n",
       " 'Battery backup is extraordinary, camera is decent & performance offered by A13 bionic is awsome. The display is good in practical usage like the visibility of display is very good in direct sun light compare to pro models. Iam extremely satisfied for the money I spent.',\n",
       " 'Well while switching from android to iOS the first thing you need to be careful about is that you will loose all your whatsapp chat backups as both are different operating systems. Camera clarity is awesome and though being an lcd screen clarity and resolution is good. Battery backup is also good unlike previous gen iPhone. So far the experience is good will Padre after a few months of usage.\\n\\nP.S the black is more of a dark grey shade and not jet black',\n",
       " 'In love with this iphone great performance,camera ,battery everything. Go for it have a uncompareble battery backup, no doubts in iPhone camera here You can see the picture which is shot on my iPhone In love with this iphone great performance,camera ,battery everything. Go for it have a uncompareble battery backup, no doubts in iPhone camera here You can see the picture which is shot on my iPhone In love with this iphone great performance,camera ,battery everything. Go for it have a uncompare...\\nREAD MORE',\n",
       " 'Best in class. Battery backup is good especially when you play games like Pubg COD. But it is sort of heavy when you hold in hands. Portrait mode is best to click pictures. Stage light effect is awesome. Try to click photos outside in nature because photos inside home or room will not give you the quality in any phone even in DSLR.']"
      ]
     },
     "execution_count": 54,
     "metadata": {},
     "output_type": "execute_result"
    }
   ],
   "source": [
    "for i in review5:\n",
    "    review_flip.append(i.text)\n",
    "review_flip"
   ]
  },
  {
   "cell_type": "code",
   "execution_count": 55,
   "metadata": {},
   "outputs": [
    {
     "name": "stdout",
     "output_type": "stream",
     "text": [
      "50 50 50\n"
     ]
    }
   ],
   "source": [
    "print(len(rating_file),len(summary_scrap1),len(review_flip))"
   ]
  },
  {
   "cell_type": "code",
   "execution_count": 56,
   "metadata": {},
   "outputs": [],
   "source": [
    "url6 ='https://www.flipkart.com/apple-iphone-11-black-64-gb-includes-earpods-power-adapter/product-reviews/itm0f37c2240b217?pid=MOBFKCTSVZAXUHGR&lid=LSTMOBFKCTSVZAXUHGREPBFGI&marketplace=FLIPKART&page=6'\n",
    "driver.get(url6)"
   ]
  },
  {
   "cell_type": "code",
   "execution_count": 57,
   "metadata": {
    "scrolled": true
   },
   "outputs": [
    {
     "data": {
      "text/plain": [
       "[<selenium.webdriver.remote.webelement.WebElement (session=\"ec87b271ce103b9c0eb72458b9b3bc32\", element=\"3260a82d-819a-421f-af93-ad86cc6eab71\")>,\n",
       " <selenium.webdriver.remote.webelement.WebElement (session=\"ec87b271ce103b9c0eb72458b9b3bc32\", element=\"7437d6d3-f7f8-44fa-a982-ee8071bc72af\")>,\n",
       " <selenium.webdriver.remote.webelement.WebElement (session=\"ec87b271ce103b9c0eb72458b9b3bc32\", element=\"8325dc1f-87ba-42ff-91cd-0fd0f2d1a4e9\")>,\n",
       " <selenium.webdriver.remote.webelement.WebElement (session=\"ec87b271ce103b9c0eb72458b9b3bc32\", element=\"0ba09732-728f-4a1c-8fc2-8149ccb8e186\")>,\n",
       " <selenium.webdriver.remote.webelement.WebElement (session=\"ec87b271ce103b9c0eb72458b9b3bc32\", element=\"c2f56162-e62e-4d38-a036-b685bd7dba17\")>,\n",
       " <selenium.webdriver.remote.webelement.WebElement (session=\"ec87b271ce103b9c0eb72458b9b3bc32\", element=\"42abc401-3f44-4114-9b9f-30d08d6d2f3a\")>,\n",
       " <selenium.webdriver.remote.webelement.WebElement (session=\"ec87b271ce103b9c0eb72458b9b3bc32\", element=\"a960a051-1e2a-45b1-82cb-1d1d4d9d1bfc\")>,\n",
       " <selenium.webdriver.remote.webelement.WebElement (session=\"ec87b271ce103b9c0eb72458b9b3bc32\", element=\"c53bdc05-4f5c-4ba5-9192-21bf50f2da3e\")>,\n",
       " <selenium.webdriver.remote.webelement.WebElement (session=\"ec87b271ce103b9c0eb72458b9b3bc32\", element=\"93d830f9-59de-41f6-b15e-8573f8e0aecb\")>,\n",
       " <selenium.webdriver.remote.webelement.WebElement (session=\"ec87b271ce103b9c0eb72458b9b3bc32\", element=\"568edc10-c05b-4583-92f9-f214423edcc6\")>]"
      ]
     },
     "execution_count": 57,
     "metadata": {},
     "output_type": "execute_result"
    }
   ],
   "source": [
    "rating6 = driver.find_elements_by_xpath(\"//div[@class='_3LWZlK _1BLPMq']\")\n",
    "rating6"
   ]
  },
  {
   "cell_type": "code",
   "execution_count": 58,
   "metadata": {
    "scrolled": true
   },
   "outputs": [
    {
     "data": {
      "text/plain": [
       "['5',\n",
       " '5',\n",
       " '5',\n",
       " '5',\n",
       " '5',\n",
       " '5',\n",
       " '4',\n",
       " '5',\n",
       " '5',\n",
       " '5',\n",
       " '5',\n",
       " '5',\n",
       " '5',\n",
       " '5',\n",
       " '5',\n",
       " '5',\n",
       " '5',\n",
       " '5',\n",
       " '5',\n",
       " '5',\n",
       " '4',\n",
       " '5',\n",
       " '5',\n",
       " '5',\n",
       " '5',\n",
       " '4',\n",
       " '5',\n",
       " '5',\n",
       " '5',\n",
       " '5',\n",
       " '5',\n",
       " '5',\n",
       " '5',\n",
       " '5',\n",
       " '5',\n",
       " '4',\n",
       " 1,\n",
       " '5',\n",
       " '5',\n",
       " '5',\n",
       " '5',\n",
       " '5',\n",
       " '5',\n",
       " '5',\n",
       " '5',\n",
       " '4',\n",
       " '5',\n",
       " '5',\n",
       " '5',\n",
       " '5',\n",
       " '5',\n",
       " '5',\n",
       " '5',\n",
       " '5',\n",
       " '5',\n",
       " '5',\n",
       " '5',\n",
       " '5',\n",
       " '5',\n",
       " '5']"
      ]
     },
     "execution_count": 58,
     "metadata": {},
     "output_type": "execute_result"
    }
   ],
   "source": [
    "for i in rating6:\n",
    "    rating_file.append(i.text)\n",
    "rating_file"
   ]
  },
  {
   "cell_type": "code",
   "execution_count": 59,
   "metadata": {},
   "outputs": [
    {
     "data": {
      "text/plain": [
       "[<selenium.webdriver.remote.webelement.WebElement (session=\"ec87b271ce103b9c0eb72458b9b3bc32\", element=\"8eff203a-1281-4bd3-a5de-fbc876238fb2\")>,\n",
       " <selenium.webdriver.remote.webelement.WebElement (session=\"ec87b271ce103b9c0eb72458b9b3bc32\", element=\"1ff772a6-c415-4f63-a58c-95f0b06280bd\")>,\n",
       " <selenium.webdriver.remote.webelement.WebElement (session=\"ec87b271ce103b9c0eb72458b9b3bc32\", element=\"1e73b8ad-229b-4f58-8fb4-9e21ea6f1be3\")>,\n",
       " <selenium.webdriver.remote.webelement.WebElement (session=\"ec87b271ce103b9c0eb72458b9b3bc32\", element=\"a261097a-e9c4-45c1-8a9c-63adf052660d\")>,\n",
       " <selenium.webdriver.remote.webelement.WebElement (session=\"ec87b271ce103b9c0eb72458b9b3bc32\", element=\"e3dd13a8-8312-4119-b92a-ea367c8351be\")>,\n",
       " <selenium.webdriver.remote.webelement.WebElement (session=\"ec87b271ce103b9c0eb72458b9b3bc32\", element=\"523aa812-32a7-454d-9c6c-fd200922824b\")>,\n",
       " <selenium.webdriver.remote.webelement.WebElement (session=\"ec87b271ce103b9c0eb72458b9b3bc32\", element=\"02bb62ea-2b5e-4981-b4f7-cfe1adb73fd6\")>,\n",
       " <selenium.webdriver.remote.webelement.WebElement (session=\"ec87b271ce103b9c0eb72458b9b3bc32\", element=\"a4e4fbb8-1009-428b-a1ec-a05e9869f8b4\")>,\n",
       " <selenium.webdriver.remote.webelement.WebElement (session=\"ec87b271ce103b9c0eb72458b9b3bc32\", element=\"71f37f98-518b-48fc-bcf3-8fcb7de88650\")>,\n",
       " <selenium.webdriver.remote.webelement.WebElement (session=\"ec87b271ce103b9c0eb72458b9b3bc32\", element=\"3402dbe9-d2fc-471c-8031-a941cfee48ac\")>]"
      ]
     },
     "execution_count": 59,
     "metadata": {},
     "output_type": "execute_result"
    }
   ],
   "source": [
    "summary6 = driver.find_elements_by_class_name(\"_2-N8zT\")\n",
    "summary6"
   ]
  },
  {
   "cell_type": "code",
   "execution_count": 60,
   "metadata": {
    "scrolled": true
   },
   "outputs": [
    {
     "data": {
      "text/plain": [
       "['Brilliant',\n",
       " 'Simply awesome',\n",
       " 'Perfect product!',\n",
       " 'Fabulous!',\n",
       " 'Worth every penny',\n",
       " 'Great product',\n",
       " 'Good choice',\n",
       " 'Worth every penny',\n",
       " 'Highly recommended',\n",
       " 'Best in the market!',\n",
       " 'Perfect product!',\n",
       " 'Highly recommended',\n",
       " 'Perfect product!',\n",
       " 'Classy product',\n",
       " 'Worth every penny',\n",
       " 'Perfect product!',\n",
       " 'Simply awesome',\n",
       " 'Highly recommended',\n",
       " 'Worth every penny',\n",
       " 'Terrific',\n",
       " 'Nice product',\n",
       " 'Wonderful',\n",
       " 'Classy product',\n",
       " 'Brilliant',\n",
       " 'Must buy!',\n",
       " 'Good choice',\n",
       " 'Perfect product!',\n",
       " 'Wonderful',\n",
       " 'Terrific purchase',\n",
       " 'Great product',\n",
       " 'Simply awesome',\n",
       " 'Mind-blowing purchase',\n",
       " 'Terrific purchase',\n",
       " 'Excellent',\n",
       " 'Simply awesome',\n",
       " 'Good quality product',\n",
       " 'Very poor',\n",
       " 'Perfect product!',\n",
       " 'Must buy!',\n",
       " 'Fabulous!',\n",
       " 'Mind-blowing purchase',\n",
       " 'Mind-blowing purchase',\n",
       " 'Wonderful',\n",
       " 'Worth every penny',\n",
       " 'Great product',\n",
       " 'Very Good',\n",
       " 'Perfect product!',\n",
       " 'Classy product',\n",
       " 'Perfect product!',\n",
       " 'Just wow!',\n",
       " 'Awesome',\n",
       " 'Terrific',\n",
       " 'Terrific purchase',\n",
       " 'Awesome',\n",
       " 'Classy product',\n",
       " 'Brilliant',\n",
       " 'Terrific',\n",
       " 'Perfect product!',\n",
       " 'Awesome',\n",
       " 'Perfect product!']"
      ]
     },
     "execution_count": 60,
     "metadata": {},
     "output_type": "execute_result"
    }
   ],
   "source": [
    "for i in summary6:\n",
    "    summary_scrap1.append(i.text)\n",
    "summary_scrap1"
   ]
  },
  {
   "cell_type": "code",
   "execution_count": 61,
   "metadata": {
    "scrolled": true
   },
   "outputs": [
    {
     "data": {
      "text/plain": [
       "[<selenium.webdriver.remote.webelement.WebElement (session=\"ec87b271ce103b9c0eb72458b9b3bc32\", element=\"58911bc1-bfe6-4588-938b-78554242e950\")>,\n",
       " <selenium.webdriver.remote.webelement.WebElement (session=\"ec87b271ce103b9c0eb72458b9b3bc32\", element=\"8e73df6d-31c7-4f2a-ac06-69546e8a74ca\")>,\n",
       " <selenium.webdriver.remote.webelement.WebElement (session=\"ec87b271ce103b9c0eb72458b9b3bc32\", element=\"6e83cfeb-dde2-4397-a9af-d694289a7e13\")>,\n",
       " <selenium.webdriver.remote.webelement.WebElement (session=\"ec87b271ce103b9c0eb72458b9b3bc32\", element=\"4d2ed8b1-c6e6-4e80-8920-941f4c321e72\")>,\n",
       " <selenium.webdriver.remote.webelement.WebElement (session=\"ec87b271ce103b9c0eb72458b9b3bc32\", element=\"52625988-c2f2-46f9-9700-60958144cac2\")>,\n",
       " <selenium.webdriver.remote.webelement.WebElement (session=\"ec87b271ce103b9c0eb72458b9b3bc32\", element=\"81400396-3608-49a8-9f92-836da1ff3937\")>,\n",
       " <selenium.webdriver.remote.webelement.WebElement (session=\"ec87b271ce103b9c0eb72458b9b3bc32\", element=\"00612bfb-f728-44cd-a1cd-1bd67071701d\")>,\n",
       " <selenium.webdriver.remote.webelement.WebElement (session=\"ec87b271ce103b9c0eb72458b9b3bc32\", element=\"df7f4708-3c8d-4481-8053-f49da7e05b3d\")>,\n",
       " <selenium.webdriver.remote.webelement.WebElement (session=\"ec87b271ce103b9c0eb72458b9b3bc32\", element=\"9c80ade8-a329-449b-8551-6c99a2bbcf4d\")>,\n",
       " <selenium.webdriver.remote.webelement.WebElement (session=\"ec87b271ce103b9c0eb72458b9b3bc32\", element=\"e4cb38e0-29f8-438e-9215-25923358f2e8\")>]"
      ]
     },
     "execution_count": 61,
     "metadata": {},
     "output_type": "execute_result"
    }
   ],
   "source": [
    "review6=driver.find_elements_by_class_name('t-ZTKy')\n",
    "review6"
   ]
  },
  {
   "cell_type": "code",
   "execution_count": 62,
   "metadata": {
    "scrolled": true
   },
   "outputs": [
    {
     "data": {
      "text/plain": [
       "['The Best Phone for the Money\\n\\nThe iPhone 11 offers superb cameras, a more durable design and excellent battery life for an affordable price.\\n\\nCompelling ultra-wide camera\\nNew Night mode is excellent\\nLong battery life',\n",
       " 'Really satisfied with the Product I received... It’s totally genuine and the packaging was also really good so if ur planning to buy just go for it.',\n",
       " 'Amazing phone with great cameras and better battery which gives you the best performance. I just love the camera .',\n",
       " 'This is my first iOS phone. I am very happy with this product. Very much satisfied with this. I love this phone.',\n",
       " 'Previously I was using one plus 3t it was a great phone\\nAnd then I decided to upgrade I am stuck between Samsung s10 plus or iPhone 11\\nI have seen the specs and everything were good except the display it’s somewhere between 720-1080 and it’s not even an amoled it’s an LCD display\\nBut I decided to go with iPhone because I have never used an IOS device I have Been an android user from the past 9 years I ordered IPhone 11 (128gb) product red\\nMy experience after using 3 weeks\\n1. The delivery ...\\nREAD MORE',\n",
       " 'Amazing Powerful and Durable Gadget.\\n\\nI’m am very happy with the camera picture quality, Amazing face id unlocked in dark room, Strong battery with perfect screen size as you can carry easily in pocket. This is my third iPhone.\\n\\nI shifted from android Samsung Note series to iPhone because of the strong build quality and peace of mind for next 3-4 years.\\n\\nDon’t think to much just go for it and I suggest you to go for minimum 128gb variant or more 256gb.\\n\\nI’ve attached my puppy pics and no fi...\\nREAD MORE',\n",
       " 'So far it’s been an AMAZING experience coming back to iOS after nearly a decade but it’s not as versatile as android though phone is sturdy dropped it accidentally a couple of times and nothing happened fortunately camera is awesome',\n",
       " 'i11 is worthy to buy, too much happy with the product. Thank u flipkart I received the item on time..loved it..',\n",
       " 'iphone 11 is a very good phone to buy only if you can compromise for the display. The display on this is device is pretty good but you can get other options with better displays in this price segment.\\nIf you can survive with an HD+ LCD panel with thicker bezels and a notch up top then this is a very good phone for you.\\nCameras are awesome, battery backup excellent, great performance and a decent premium look. Good job Apple !',\n",
       " 'Great iPhone very snappy experience as apple kind. Upgraded from iPhone 7.\\nPros\\n-Camera top class\\n- Battery top performed\\n-Chipset no need to say as apple kind\\n-Security as you expect from apple\\n- Display super bright industry leading colour\\naccuracy and super responsive\\n-Build quality as expect from apple sturdy\\npremium durable beautiful stylish.\\n-Os most stable os in smartphone industry\\n\\nCons\\n-No 5G\\n-Display is not based on OLED technology\\n-Charger headphones and 1 apple stic...\\nREAD MORE',\n",
       " 'It’s a must buy who is looking for an upgrade from previous generation of iPhones. If you are using XR then still you can hold on for sometime and upgrade to 2020 model else this phone is a must buy . Camera quality is amazing and wide angle is something to count upon. Performance wise it’s amazing and feels premium while holding in hand. So a big YES for this device. Go for 128 GB variant as the 4K videos will occupy lots of space and the storage can get over very quickly. Try to buy it with...\\nREAD MORE',\n",
       " 'What a camera .....just awesome ..you can feel this iPhone just awesome . Good for gaming also ...try pubg in hd it’s just wow',\n",
       " 'Value for money❤️❤️\\nIts awesome mobile phone in the world ...\\nDisplay was very good and bright ..\\nTrust me freinds you r never regret after Buying..\\nJust go for it....\\nI love this phone and i switch to iphone x to 11',\n",
       " 'Totally in love with this ❤ the camera quality is amazing just love it 😘😘😘 itsss dammnnnnnn amazing... Must buy iPhone 11 this is my best experience ever ☀👌👌🧡🧡🧡🧡🧡 thanku apple ❤',\n",
       " 'Best budget Iphone till date ❤️ go for it guys without second thought. Let me explain you guys about Camera, Display, battery, and performance.\\n\\nCamera: at this price range there is no comparison of camera, you’ll love the picture quality as well as video quality. I am a Vlogger I wanted an iPhone with 4k video by front camera and I got this phone and I am more than happy 😃\\n\\nBattery: I use this phone roughly as I am active social media person and I have a youtube channel. so the battery ba...\\nREAD MORE',\n",
       " \"Iphone is just awesome.. battery backup is very very nice.. continuously for 10 hours we can use it.camera is just awesome.. display is just fab.i love it alot..i had to wait 15 days for it as i pre ordered it..overalll it's worth the price..these all images are clicked by my iPhone..and i love it.\",\n",
       " 'Excellent camera, good performance, no lag. The lcd display is also good.. but difference come when we watch movie in prime and Netflix, the colours are not vibrant.. as we see in amoled display.. and the charger in box is of 5 watts.. takes more than 3 hours to charge from 0 to 100.. so guys be prepare to buy 18 watts charger . Finally I am an android user, it was my first Iapple phone, I promise u guys the iOS is so smooth.. overall the phone is damn good.... close eyes to buy it.. thanks t...\\nREAD MORE',\n",
       " \"It's my first time to use iOS phone and I am loving my upgradation 😍😍 I love the color, I love the assebility of the phone....I need to learn more about its functionality, but as far as I have seen, it's quite easy and it has a lot of functions to work on, specially if you are a content writer or a blogger you get a lot of content creation platforms and they are really amazing.\\n\\nThis phone not only for good quality photography but a lot of other task too.😍💯\",\n",
       " 'It’s been almost a month since I have been using this phone. I upgraded from an iPhone 8. The main issue with my 8 was battery and this phone is just awesome when it comes to battery. It lasts a day and a half for me with my regular use , internet connected always with 4g\\nCan’t move forward without saying this. Battery of this phone is a life saver when I am traveling or at work when I don’t get the option to charge\\nCamera is superb. Front cam selfies and back cam photos are just awesome.\\n...\\nREAD MORE',\n",
       " 'Really worth of money. i just love it. It is the best phone ever.',\n",
       " 'Awesome Phone. Slightly high price but worth. Better than iPhone XR.\\nCamera is superb and wide angle camera is very clear.\\n12MP selfie camera is also very good.\\nA13 Chip gives a very good and smooth performance.',\n",
       " 'This is my first ever I phone. Before this I was using my google nexus 5. But moving from android to iOS is a great experience. It’s worth at this price. I will highly recommend it if you want to move to iOS. The best part of this phone is it’s camera and it’s battery life. This two things have won my heart. I loved it. Happy to have it in my hand. Still exploring its features. And can’t forget to mention Flipkart service. Very prompt service and fast delivery.',\n",
       " 'Superb Product !!!\\nA big and worthy upgrade from mi 3S to iphone 11 .\\nTotally loved it !',\n",
       " 'I have migrated from OP 7pro... and trust me, iPhone 11 is totally worth it.. following are the reasons:-\\n1)there is ABSOLUTELY NO ISSUE WITH THE DISPLAY... its crisp, sharp and I found it to be much much better than OP7 pro. Netflix, Prime video all run crisply... you won’t miss a thing. True Tone works flawlessly...the display brightness is perfect. OP have not calibrated their screens properly.\\n2) iPhone 11 series have really good cameras... others have spoken in depth about them.\\n3) bat...\\nREAD MORE',\n",
       " 'It’s an amazing product from apple and the camera is simply superb. Phone is faster.Night shot is simply superb and detailing and colour differentiation from camera is an added advantage\\n\\nThis review I have written from iPhone 11 only and I am glad to say outside.\\n\\nCons wise if we see HD+ display only, no battery percentage indicator as in older iPhone 8.\\nNo assistive touch control button in it\\nNo oleophobic coating on back panel glass and finger prints are visible but since I bought mint gr...\\nREAD MORE',\n",
       " 'Looking so good 👍 😍 super 👌 stylish 😎 phone\\nClean box 📦 good 👍 delivery 👌 fast delivery\\nOriginal box Original iphone 📱 👌 😍😍😍',\n",
       " 'After 1 month use I found camera quality best compared to my previous Samsung note 10+.Display not good as note 10 also charging too slow.Apple should add fast charger like 11 plus and pro.Best phone for daily use',\n",
       " 'I just directly switch from iphone 6s to iphone 11 .The best premium smartphone I recommend to everyone. Excellent quality and colors the iphone have in 11 series.\\nCamera quality is just awesome and the major feel when we hold in our hands. The sound quality and volume is also higher then the previous models.\\nI will recommend to buy iphone 11 instead of pro models , there is nothing much difference as this model contains everything which fulfill our needs.\\n\\nOnly one thing that I dislike abo...\\nREAD MORE',\n",
       " 'Upgraded from iphone 6 to 11 best phone for iphone users battery is much better than other iphones camera is awesome love to use it.camera is so clear in night.',\n",
       " 'Well you all know the specifications . One of a kind. Best iPhone till date. Many enhancements to the camera app with many options. Love the glass body with matte finish in the lens area on the back. Lovely colours to choose from. Best battery in an iPhone till date, enough to last more than a day in normal usage. I tested my iPhone 11 battery and lasted for than 24 hours after full charge still with 30% battery charge left. Watched movies for some time. Normal usage on calls, browsing, musi...\\nREAD MORE',\n",
       " \"It's very high performances devise i am like the service of flipkart delevary very fast and packing very nice perfect phone\",\n",
       " 'This will help you more. See if you are planning to buy iPhone 11. I will say. Yes. But there are some plans I just want to disclose before you buy. 1) If you are an existing iPhone X/XS/XS Max/ XR user, better you guys do not think it to buy. You guys have more or less better gadget. 2) If you are an android user and planning to buy premium phone. I will suggest them to please buy iPhone instead of buying an Android. I bet you will never go back to android after using IOS. Now I want to shar...\\nREAD MORE',\n",
       " 'The built quality is not very premium.\\nThe battery back is great .\\nThe LCD panel is not so sharp but the brightness level is very High .\\nCamera is super duper awesome.\\nThe red colour which people think is bright is actually very soothing and excellent colour to choose from .\\nThe A13 Bionic chip is really a flagship processor and can beat any phone which even has 12 gb ram .\\nCamera module is very great and looks very stylish.',\n",
       " 'Amazing camera and feel super machine I am not describe my feeling but this is amazing Phone I am so lucky I have this',\n",
       " 'Really good actually this is my first apple product am using its really awesome performance wise excellent. Am really happy with this iphone11',\n",
       " 'it is very good at performance. Camera is best like before and very smooth response even in water. Don’t buy 12 mini buy iPhone 11 , it is far better than 12 mini believe me ! Have a nice day \\uf8ff ☺️',\n",
       " 'Reviewing again after 5 months. At the beginning the battery and performance was good but it degraded soon. Also I was facing heating issues. The mobile will heat up like a stove sometimes. You cannot even play Pubg even in low settings properly, performance is not a problem but heating is. Also if you play that game for 10 mins the brightness will be automatically down due to over heating even when the auto brightness is set to off. This will not be solved even if u manually increase the bri...\\nREAD MORE',\n",
       " 'It is just awesome mobile for this price from Apple,\\n\\nAfter 10 days review\\n\\nBattery enough for 1 day even 24*7 Internet will be on and mostly internet usage\\n\\nCamera is just awesome cool , android 64 MP is equal to this just 12 MP\\n\\nA13 Bionic chip will give more high performance without hanging\\n\\nAudio stereo speakers will give Dolby atoms sound with crystal clear\\n\\nVideo recording is like cinematic shots of every sec can be a 4K 60fps. Just awesome this phone\\niPhone 11 loved one',\n",
       " 'Best Apple iPhone that i have bought at a very reasonable price, camera quality is next level just awesome n of superior quality android phones not even close(RIP) to that and also battery is really good but packaging by Flipkart of iPhone was very poor of such a expensive product, firstly im bit worried about the quality of product if i purchased it through online how was the product but i think now this was mine best decision to bought it through Flipkart online because i got genuine Apple...\\nREAD MORE',\n",
       " \"I can say I'm damn impressed with iPhone 11. As they says iPhone 11 have the toughest glass ever in the smartphone which you'll find on the front and back and it's totally smooth. The fit and finish is full apple quality - there's no sense that any cheaping out has happened in the construction. Without saying it's camera features this review won't complete. The iPhone 11 has a dual camera system, consisting of a wide angle len's that's pretty much same as found on the iPhone XR last year, but...\\nREAD MORE\",\n",
       " 'Best Quality Product OF iPhone Series , Sound Quality & Camera quality is very awesome, Battery Life is very Sufficient for 24 hr Backup With Full Internet Access , I love this this Product too much , It is very fast & making me Very fast in all my daily Routine\\nHighlights;\\n1.Camera: 5 STAR\\n2.Video Recording: 5 star\\n3.Night mODE sHOOTING & Camera:4 star\\n4. Audio Quality: Awesome\\n5. Battery : 5 Star\\n6. Touch:5 Star\\n7. Processor: Very Fast\\nThe M...\\nREAD MORE',\n",
       " 'First thanks to Flipkart for this amazing deal and phone is outstanding. I upgraded from iPhone 7 and this is like very big upgrade. But the packaging was very basic I expected a good packaging as they only wrapped one layer of bubble wrap which I don’t think is enough to protect this expensive phone. And I recommend this phone and seller as well.\\n\\nAnd I’m posting this review after using it for 4 days.',\n",
       " 'Superfast delivery by Flipkart. Thanks.\\n\\n1. iPhone 11 is a pretty solid phone for the money you are paying.\\n2. All the bad reviews about the display is confusing. It’s not that bad.\\n3. I switched from a Oneplus 7t. I have no complaints about the display quality of iPhone. Yes, it’s not OLED, so, we are missing on the deep blacks. But that’s it. It is a very colour accurate display. Gets adequately bright and I could not find any pixelation.\\n4. Performance is one of the best, if not best, in ...\\nREAD MORE',\n",
       " 'Smooth like butter, camera like fantabulous, sound is crystal clear & its red color is damn attractive, i am just loving it. Must buy if you love photography.\\n\\nLucky to get it in sale, thank you Flipkart.',\n",
       " \"Again back to apple iphone after a gap of 2-3 years. It's pleasure to use iOS and the quality product by Apple. Iphone 11 still works like a beast in 2021 also. It really capable of doing day to day usage as well as hard core gaming. Battery is awesome. I'm really too much satisfied with it. Apart fto the very gorgious IPS LCD (AMOLED will be better) everything is mind boggling. Iphone💕.\",\n",
       " 'impressive super phone and best in class camera ,sound and face unlock is super fast just see and phone is unlock and fast in daily apps use',\n",
       " 'Battery backup is extraordinary, camera is decent & performance offered by A13 bionic is awsome. The display is good in practical usage like the visibility of display is very good in direct sun light compare to pro models. Iam extremely satisfied for the money I spent.',\n",
       " 'Well while switching from android to iOS the first thing you need to be careful about is that you will loose all your whatsapp chat backups as both are different operating systems. Camera clarity is awesome and though being an lcd screen clarity and resolution is good. Battery backup is also good unlike previous gen iPhone. So far the experience is good will Padre after a few months of usage.\\n\\nP.S the black is more of a dark grey shade and not jet black',\n",
       " 'In love with this iphone great performance,camera ,battery everything. Go for it have a uncompareble battery backup, no doubts in iPhone camera here You can see the picture which is shot on my iPhone In love with this iphone great performance,camera ,battery everything. Go for it have a uncompareble battery backup, no doubts in iPhone camera here You can see the picture which is shot on my iPhone In love with this iphone great performance,camera ,battery everything. Go for it have a uncompare...\\nREAD MORE',\n",
       " 'Best in class. Battery backup is good especially when you play games like Pubg COD. But it is sort of heavy when you hold in hands. Portrait mode is best to click pictures. Stage light effect is awesome. Try to click photos outside in nature because photos inside home or room will not give you the quality in any phone even in DSLR.',\n",
       " 'Very excited to have this phone. This phone has the real power unlike the android phones having SD 855 . The battery life is very good and the camera quality is excellent as comapred to redmi and other phones except google pixel. I M enjoying every single bit of it. Would recommed only if you have the budget.',\n",
       " \"I upgraded (downgraded?) from my iPhone X since the phone fell down and I didn't want to repair the screen. The box that the phone came in was super slim and I was worried that there'd be no 5W charger with it and my fears were confirmed. However, thankfully I had the 18W USB-C PD charger from Apple which I bought for my iPhone X and it worked perfectly. The charging time is as lethargic as ever though and it takes about 1:30 mins or even 2 hours depending on charge remaining. I'll list some ...\\nREAD MORE\",\n",
       " 'Its Very awesome product working and good camera quality and all about best product and also flipkart is very great deal and offer nice price',\n",
       " 'I am using this phone for 5 days and its one of the best camera out there ❤️ the screen is not oled and i am coming from iphone xs so its little bit not up to the mark i would say\\nBut overall value for money💕😍the battery back up is far better than my iphone xs and its worth in my apple ecosystem💫❤️if u are an apple User and have the eco system then go for it❤️though i will be getting the new iphone but its pretty good💫',\n",
       " 'Best and amazing product.....phone looks so premium.... battary is also good as expected .... Wide angle camera is so addictive ...if you are a IOS lover....then this phone will be the best choice for you all!!💯🔥',\n",
       " 'Excellent camera and display touching very nice and smooth very improvement against iPhone XR and new processor is very fast',\n",
       " \"I got this beast today. And I must say the picture quality of its camera is awesome. Both the cameras works fine.\\n\\nAs for as the processing is concerned, it runs without any lag. You can play and do whatever you want without a glitch.\\n\\nThe battery runs for a day with medium and high workload.\\n\\nThe display is good and the speakers are working fine.\\n\\nThe earphones doesn't have any base and you can use it for calling mostly.\\n\\nThe charging time is approximately for 90 minutes for full charging...\\nREAD MORE\",\n",
       " 'Awesome purchase. Amazing phone with good battery backup. It’s a top notch device. White colour looks amazing. Phone has a few extra feature than iPhone XR. Overall, this is value for money',\n",
       " 'Always love the apple products, upgraded from old iPhone 6S plus to this after having my first baby. I just love to click baby’s photos with it. Overall I just love this phone. Battery back up is okay, sound quality is good. Haven’t tested yet waterproof yet. Only one thing I hate is apple could have given charger & headphones in box.',\n",
       " 'Value for money\\n5 star rating\\nExcellent camera\\nBattery backup full day in single charge.\\n\\nTougher and water resistant design, glossy back.\\nThe screen has excellent brightness and contrast.\\nApple A13 Bionic is the fastest smartphone chip on the planet.\\nExcellent battery life, fast charging support.\\nStereo speakers with great quality.']"
      ]
     },
     "execution_count": 62,
     "metadata": {},
     "output_type": "execute_result"
    }
   ],
   "source": [
    "for i in review6:\n",
    "    review_flip.append(i.text)\n",
    "review_flip"
   ]
  },
  {
   "cell_type": "code",
   "execution_count": 63,
   "metadata": {
    "scrolled": true
   },
   "outputs": [
    {
     "name": "stdout",
     "output_type": "stream",
     "text": [
      "60 60 60\n"
     ]
    }
   ],
   "source": [
    "print(len(rating_file),len(summary_scrap1),len(review_flip))"
   ]
  },
  {
   "cell_type": "code",
   "execution_count": 64,
   "metadata": {},
   "outputs": [],
   "source": [
    "url7 = 'https://www.flipkart.com/apple-iphone-11-black-64-gb-includes-earpods-power-adapter/product-reviews/itm0f37c2240b217?pid=MOBFKCTSVZAXUHGR&lid=LSTMOBFKCTSVZAXUHGREPBFGI&marketplace=FLIPKART&page=7'\n",
    "driver.get(url7)"
   ]
  },
  {
   "cell_type": "code",
   "execution_count": 65,
   "metadata": {
    "scrolled": true
   },
   "outputs": [
    {
     "data": {
      "text/plain": [
       "[<selenium.webdriver.remote.webelement.WebElement (session=\"ec87b271ce103b9c0eb72458b9b3bc32\", element=\"f738416f-aa10-4a74-956d-ef0571e2cbb6\")>,\n",
       " <selenium.webdriver.remote.webelement.WebElement (session=\"ec87b271ce103b9c0eb72458b9b3bc32\", element=\"1e8317af-c664-42c9-8a97-2137027c8d04\")>,\n",
       " <selenium.webdriver.remote.webelement.WebElement (session=\"ec87b271ce103b9c0eb72458b9b3bc32\", element=\"ac04a2f0-bce1-4cbc-8956-fafc32694668\")>,\n",
       " <selenium.webdriver.remote.webelement.WebElement (session=\"ec87b271ce103b9c0eb72458b9b3bc32\", element=\"186c8381-47bf-4081-81c0-3c4089327bee\")>,\n",
       " <selenium.webdriver.remote.webelement.WebElement (session=\"ec87b271ce103b9c0eb72458b9b3bc32\", element=\"37f32a29-59e8-4aed-bb0c-38bfcb3a2a9d\")>,\n",
       " <selenium.webdriver.remote.webelement.WebElement (session=\"ec87b271ce103b9c0eb72458b9b3bc32\", element=\"053cf288-b20c-4711-b0d0-f6fbef889305\")>,\n",
       " <selenium.webdriver.remote.webelement.WebElement (session=\"ec87b271ce103b9c0eb72458b9b3bc32\", element=\"c6c637ce-8f8d-4b90-8e2e-f0895c341913\")>,\n",
       " <selenium.webdriver.remote.webelement.WebElement (session=\"ec87b271ce103b9c0eb72458b9b3bc32\", element=\"89de934e-6fc2-4394-895d-f94180f7c572\")>,\n",
       " <selenium.webdriver.remote.webelement.WebElement (session=\"ec87b271ce103b9c0eb72458b9b3bc32\", element=\"a252fd50-71fb-47db-b70f-40dde4c17a68\")>]"
      ]
     },
     "execution_count": 65,
     "metadata": {},
     "output_type": "execute_result"
    }
   ],
   "source": [
    "rating7 = driver.find_elements_by_xpath(\"//div[@class='_3LWZlK _1BLPMq']\")\n",
    "rating7"
   ]
  },
  {
   "cell_type": "code",
   "execution_count": 66,
   "metadata": {
    "scrolled": true
   },
   "outputs": [
    {
     "data": {
      "text/plain": [
       "['5',\n",
       " '5',\n",
       " '5',\n",
       " '5',\n",
       " '5',\n",
       " '5',\n",
       " '4',\n",
       " '5',\n",
       " '5',\n",
       " '5',\n",
       " '5',\n",
       " '5',\n",
       " '5',\n",
       " '5',\n",
       " '5',\n",
       " '5',\n",
       " '5',\n",
       " '5',\n",
       " '5',\n",
       " '5',\n",
       " '4',\n",
       " '5',\n",
       " '5',\n",
       " '5',\n",
       " '5',\n",
       " '4',\n",
       " '5',\n",
       " '5',\n",
       " '5',\n",
       " '5',\n",
       " '5',\n",
       " '5',\n",
       " '5',\n",
       " '5',\n",
       " '5',\n",
       " '4',\n",
       " 1,\n",
       " '5',\n",
       " '5',\n",
       " '5',\n",
       " '5',\n",
       " '5',\n",
       " '5',\n",
       " '5',\n",
       " '5',\n",
       " '4',\n",
       " '5',\n",
       " '5',\n",
       " '5',\n",
       " '5',\n",
       " '5',\n",
       " '5',\n",
       " '5',\n",
       " '5',\n",
       " '5',\n",
       " '5',\n",
       " '5',\n",
       " '5',\n",
       " '5',\n",
       " '5',\n",
       " '5',\n",
       " '5',\n",
       " '5',\n",
       " '4',\n",
       " '5',\n",
       " '5',\n",
       " '4',\n",
       " '5',\n",
       " '5']"
      ]
     },
     "execution_count": 66,
     "metadata": {},
     "output_type": "execute_result"
    }
   ],
   "source": [
    "for i in rating7:\n",
    "    rating_file.append(i.text)\n",
    "rating_file"
   ]
  },
  {
   "cell_type": "code",
   "execution_count": 67,
   "metadata": {},
   "outputs": [],
   "source": [
    "rating_file.insert(60,1)"
   ]
  },
  {
   "cell_type": "code",
   "execution_count": 68,
   "metadata": {
    "scrolled": true
   },
   "outputs": [
    {
     "data": {
      "text/plain": [
       "['5',\n",
       " '5',\n",
       " '5',\n",
       " '5',\n",
       " '5',\n",
       " '5',\n",
       " '4',\n",
       " '5',\n",
       " '5',\n",
       " '5',\n",
       " '5',\n",
       " '5',\n",
       " '5',\n",
       " '5',\n",
       " '5',\n",
       " '5',\n",
       " '5',\n",
       " '5',\n",
       " '5',\n",
       " '5',\n",
       " '4',\n",
       " '5',\n",
       " '5',\n",
       " '5',\n",
       " '5',\n",
       " '4',\n",
       " '5',\n",
       " '5',\n",
       " '5',\n",
       " '5',\n",
       " '5',\n",
       " '5',\n",
       " '5',\n",
       " '5',\n",
       " '5',\n",
       " '4',\n",
       " 1,\n",
       " '5',\n",
       " '5',\n",
       " '5',\n",
       " '5',\n",
       " '5',\n",
       " '5',\n",
       " '5',\n",
       " '5',\n",
       " '4',\n",
       " '5',\n",
       " '5',\n",
       " '5',\n",
       " '5',\n",
       " '5',\n",
       " '5',\n",
       " '5',\n",
       " '5',\n",
       " '5',\n",
       " '5',\n",
       " '5',\n",
       " '5',\n",
       " '5',\n",
       " '5',\n",
       " 1,\n",
       " '5',\n",
       " '5',\n",
       " '5',\n",
       " '4',\n",
       " '5',\n",
       " '5',\n",
       " '4',\n",
       " '5',\n",
       " '5']"
      ]
     },
     "execution_count": 68,
     "metadata": {},
     "output_type": "execute_result"
    }
   ],
   "source": [
    "rating_file"
   ]
  },
  {
   "cell_type": "code",
   "execution_count": 69,
   "metadata": {
    "scrolled": true
   },
   "outputs": [
    {
     "data": {
      "text/plain": [
       "[<selenium.webdriver.remote.webelement.WebElement (session=\"ec87b271ce103b9c0eb72458b9b3bc32\", element=\"050c62d5-6f67-4e16-afb1-71f435e40cb1\")>,\n",
       " <selenium.webdriver.remote.webelement.WebElement (session=\"ec87b271ce103b9c0eb72458b9b3bc32\", element=\"3bdb1b08-3d49-47f2-a30c-0a4b6714d2dc\")>,\n",
       " <selenium.webdriver.remote.webelement.WebElement (session=\"ec87b271ce103b9c0eb72458b9b3bc32\", element=\"1e83a1ed-8378-4a2d-9b4f-11448c76cf6c\")>,\n",
       " <selenium.webdriver.remote.webelement.WebElement (session=\"ec87b271ce103b9c0eb72458b9b3bc32\", element=\"12630b88-f9c6-444d-95fd-98d11f714cc5\")>,\n",
       " <selenium.webdriver.remote.webelement.WebElement (session=\"ec87b271ce103b9c0eb72458b9b3bc32\", element=\"de194bfe-861b-4fb3-adb3-d7e2758a810f\")>,\n",
       " <selenium.webdriver.remote.webelement.WebElement (session=\"ec87b271ce103b9c0eb72458b9b3bc32\", element=\"bf6820ed-bdd5-4538-b2c6-ae963de2a94a\")>,\n",
       " <selenium.webdriver.remote.webelement.WebElement (session=\"ec87b271ce103b9c0eb72458b9b3bc32\", element=\"0319900f-2c2f-4e44-b25f-a16cfb7f331f\")>,\n",
       " <selenium.webdriver.remote.webelement.WebElement (session=\"ec87b271ce103b9c0eb72458b9b3bc32\", element=\"87beb11a-786d-496a-95c7-eefc8c8a51fd\")>,\n",
       " <selenium.webdriver.remote.webelement.WebElement (session=\"ec87b271ce103b9c0eb72458b9b3bc32\", element=\"43908964-1697-40bb-90af-3d86344c653a\")>,\n",
       " <selenium.webdriver.remote.webelement.WebElement (session=\"ec87b271ce103b9c0eb72458b9b3bc32\", element=\"cbd7bb46-69ef-4f12-aebe-b587dbc41dbb\")>]"
      ]
     },
     "execution_count": 69,
     "metadata": {},
     "output_type": "execute_result"
    }
   ],
   "source": [
    "summary7 = driver.find_elements_by_class_name(\"_2-N8zT\")\n",
    "summary7"
   ]
  },
  {
   "cell_type": "code",
   "execution_count": 70,
   "metadata": {},
   "outputs": [
    {
     "data": {
      "text/plain": [
       "['Brilliant',\n",
       " 'Simply awesome',\n",
       " 'Perfect product!',\n",
       " 'Fabulous!',\n",
       " 'Worth every penny',\n",
       " 'Great product',\n",
       " 'Good choice',\n",
       " 'Worth every penny',\n",
       " 'Highly recommended',\n",
       " 'Best in the market!',\n",
       " 'Perfect product!',\n",
       " 'Highly recommended',\n",
       " 'Perfect product!',\n",
       " 'Classy product',\n",
       " 'Worth every penny',\n",
       " 'Perfect product!',\n",
       " 'Simply awesome',\n",
       " 'Highly recommended',\n",
       " 'Worth every penny',\n",
       " 'Terrific',\n",
       " 'Nice product',\n",
       " 'Wonderful',\n",
       " 'Classy product',\n",
       " 'Brilliant',\n",
       " 'Must buy!',\n",
       " 'Good choice',\n",
       " 'Perfect product!',\n",
       " 'Wonderful',\n",
       " 'Terrific purchase',\n",
       " 'Great product',\n",
       " 'Simply awesome',\n",
       " 'Mind-blowing purchase',\n",
       " 'Terrific purchase',\n",
       " 'Excellent',\n",
       " 'Simply awesome',\n",
       " 'Good quality product',\n",
       " 'Very poor',\n",
       " 'Perfect product!',\n",
       " 'Must buy!',\n",
       " 'Fabulous!',\n",
       " 'Mind-blowing purchase',\n",
       " 'Mind-blowing purchase',\n",
       " 'Wonderful',\n",
       " 'Worth every penny',\n",
       " 'Great product',\n",
       " 'Very Good',\n",
       " 'Perfect product!',\n",
       " 'Classy product',\n",
       " 'Perfect product!',\n",
       " 'Just wow!',\n",
       " 'Awesome',\n",
       " 'Terrific',\n",
       " 'Terrific purchase',\n",
       " 'Awesome',\n",
       " 'Classy product',\n",
       " 'Brilliant',\n",
       " 'Terrific',\n",
       " 'Perfect product!',\n",
       " 'Awesome',\n",
       " 'Perfect product!',\n",
       " 'Very poor',\n",
       " 'Fabulous!',\n",
       " 'Excellent',\n",
       " 'Must buy!',\n",
       " 'Value-for-money',\n",
       " 'Brilliant',\n",
       " 'Terrific purchase',\n",
       " 'Good quality product',\n",
       " 'Perfect product!',\n",
       " 'Awesome']"
      ]
     },
     "execution_count": 70,
     "metadata": {},
     "output_type": "execute_result"
    }
   ],
   "source": [
    "for i in summary7:\n",
    "    summary_scrap1.append(i.text)\n",
    "summary_scrap1"
   ]
  },
  {
   "cell_type": "code",
   "execution_count": 71,
   "metadata": {
    "scrolled": false
   },
   "outputs": [
    {
     "data": {
      "text/plain": [
       "[<selenium.webdriver.remote.webelement.WebElement (session=\"ec87b271ce103b9c0eb72458b9b3bc32\", element=\"d530814f-898f-4718-a73a-36a8efbc832c\")>,\n",
       " <selenium.webdriver.remote.webelement.WebElement (session=\"ec87b271ce103b9c0eb72458b9b3bc32\", element=\"14f7d73d-3668-4fd6-918d-89dac2a81ce1\")>,\n",
       " <selenium.webdriver.remote.webelement.WebElement (session=\"ec87b271ce103b9c0eb72458b9b3bc32\", element=\"c2258931-1400-4aa2-859e-40cdcfef3a2c\")>,\n",
       " <selenium.webdriver.remote.webelement.WebElement (session=\"ec87b271ce103b9c0eb72458b9b3bc32\", element=\"a6dfd9ac-a86e-44d6-8e21-a05dfa5d6c6f\")>,\n",
       " <selenium.webdriver.remote.webelement.WebElement (session=\"ec87b271ce103b9c0eb72458b9b3bc32\", element=\"8c296203-30ef-437e-a4f9-de3accb9f5c9\")>,\n",
       " <selenium.webdriver.remote.webelement.WebElement (session=\"ec87b271ce103b9c0eb72458b9b3bc32\", element=\"89aa528c-d8a1-4a8f-a6c9-278b22e53f1e\")>,\n",
       " <selenium.webdriver.remote.webelement.WebElement (session=\"ec87b271ce103b9c0eb72458b9b3bc32\", element=\"c32a7fee-5437-4384-9096-fcaf988b9147\")>,\n",
       " <selenium.webdriver.remote.webelement.WebElement (session=\"ec87b271ce103b9c0eb72458b9b3bc32\", element=\"db80679f-eed5-4766-88a3-c960f9353785\")>,\n",
       " <selenium.webdriver.remote.webelement.WebElement (session=\"ec87b271ce103b9c0eb72458b9b3bc32\", element=\"873e131e-1fc5-49a0-a2e9-e8716a90b0cf\")>,\n",
       " <selenium.webdriver.remote.webelement.WebElement (session=\"ec87b271ce103b9c0eb72458b9b3bc32\", element=\"898a969a-5ffc-4a2a-841e-e5d80783dea8\")>]"
      ]
     },
     "execution_count": 71,
     "metadata": {},
     "output_type": "execute_result"
    }
   ],
   "source": [
    "review7=driver.find_elements_by_class_name('t-ZTKy')\n",
    "review7"
   ]
  },
  {
   "cell_type": "code",
   "execution_count": 72,
   "metadata": {
    "scrolled": false
   },
   "outputs": [
    {
     "data": {
      "text/plain": [
       "['The Best Phone for the Money\\n\\nThe iPhone 11 offers superb cameras, a more durable design and excellent battery life for an affordable price.\\n\\nCompelling ultra-wide camera\\nNew Night mode is excellent\\nLong battery life',\n",
       " 'Really satisfied with the Product I received... It’s totally genuine and the packaging was also really good so if ur planning to buy just go for it.',\n",
       " 'Amazing phone with great cameras and better battery which gives you the best performance. I just love the camera .',\n",
       " 'This is my first iOS phone. I am very happy with this product. Very much satisfied with this. I love this phone.',\n",
       " 'Previously I was using one plus 3t it was a great phone\\nAnd then I decided to upgrade I am stuck between Samsung s10 plus or iPhone 11\\nI have seen the specs and everything were good except the display it’s somewhere between 720-1080 and it’s not even an amoled it’s an LCD display\\nBut I decided to go with iPhone because I have never used an IOS device I have Been an android user from the past 9 years I ordered IPhone 11 (128gb) product red\\nMy experience after using 3 weeks\\n1. The delivery ...\\nREAD MORE',\n",
       " 'Amazing Powerful and Durable Gadget.\\n\\nI’m am very happy with the camera picture quality, Amazing face id unlocked in dark room, Strong battery with perfect screen size as you can carry easily in pocket. This is my third iPhone.\\n\\nI shifted from android Samsung Note series to iPhone because of the strong build quality and peace of mind for next 3-4 years.\\n\\nDon’t think to much just go for it and I suggest you to go for minimum 128gb variant or more 256gb.\\n\\nI’ve attached my puppy pics and no fi...\\nREAD MORE',\n",
       " 'So far it’s been an AMAZING experience coming back to iOS after nearly a decade but it’s not as versatile as android though phone is sturdy dropped it accidentally a couple of times and nothing happened fortunately camera is awesome',\n",
       " 'i11 is worthy to buy, too much happy with the product. Thank u flipkart I received the item on time..loved it..',\n",
       " 'iphone 11 is a very good phone to buy only if you can compromise for the display. The display on this is device is pretty good but you can get other options with better displays in this price segment.\\nIf you can survive with an HD+ LCD panel with thicker bezels and a notch up top then this is a very good phone for you.\\nCameras are awesome, battery backup excellent, great performance and a decent premium look. Good job Apple !',\n",
       " 'Great iPhone very snappy experience as apple kind. Upgraded from iPhone 7.\\nPros\\n-Camera top class\\n- Battery top performed\\n-Chipset no need to say as apple kind\\n-Security as you expect from apple\\n- Display super bright industry leading colour\\naccuracy and super responsive\\n-Build quality as expect from apple sturdy\\npremium durable beautiful stylish.\\n-Os most stable os in smartphone industry\\n\\nCons\\n-No 5G\\n-Display is not based on OLED technology\\n-Charger headphones and 1 apple stic...\\nREAD MORE',\n",
       " 'It’s a must buy who is looking for an upgrade from previous generation of iPhones. If you are using XR then still you can hold on for sometime and upgrade to 2020 model else this phone is a must buy . Camera quality is amazing and wide angle is something to count upon. Performance wise it’s amazing and feels premium while holding in hand. So a big YES for this device. Go for 128 GB variant as the 4K videos will occupy lots of space and the storage can get over very quickly. Try to buy it with...\\nREAD MORE',\n",
       " 'What a camera .....just awesome ..you can feel this iPhone just awesome . Good for gaming also ...try pubg in hd it’s just wow',\n",
       " 'Value for money❤️❤️\\nIts awesome mobile phone in the world ...\\nDisplay was very good and bright ..\\nTrust me freinds you r never regret after Buying..\\nJust go for it....\\nI love this phone and i switch to iphone x to 11',\n",
       " 'Totally in love with this ❤ the camera quality is amazing just love it 😘😘😘 itsss dammnnnnnn amazing... Must buy iPhone 11 this is my best experience ever ☀👌👌🧡🧡🧡🧡🧡 thanku apple ❤',\n",
       " 'Best budget Iphone till date ❤️ go for it guys without second thought. Let me explain you guys about Camera, Display, battery, and performance.\\n\\nCamera: at this price range there is no comparison of camera, you’ll love the picture quality as well as video quality. I am a Vlogger I wanted an iPhone with 4k video by front camera and I got this phone and I am more than happy 😃\\n\\nBattery: I use this phone roughly as I am active social media person and I have a youtube channel. so the battery ba...\\nREAD MORE',\n",
       " \"Iphone is just awesome.. battery backup is very very nice.. continuously for 10 hours we can use it.camera is just awesome.. display is just fab.i love it alot..i had to wait 15 days for it as i pre ordered it..overalll it's worth the price..these all images are clicked by my iPhone..and i love it.\",\n",
       " 'Excellent camera, good performance, no lag. The lcd display is also good.. but difference come when we watch movie in prime and Netflix, the colours are not vibrant.. as we see in amoled display.. and the charger in box is of 5 watts.. takes more than 3 hours to charge from 0 to 100.. so guys be prepare to buy 18 watts charger . Finally I am an android user, it was my first Iapple phone, I promise u guys the iOS is so smooth.. overall the phone is damn good.... close eyes to buy it.. thanks t...\\nREAD MORE',\n",
       " \"It's my first time to use iOS phone and I am loving my upgradation 😍😍 I love the color, I love the assebility of the phone....I need to learn more about its functionality, but as far as I have seen, it's quite easy and it has a lot of functions to work on, specially if you are a content writer or a blogger you get a lot of content creation platforms and they are really amazing.\\n\\nThis phone not only for good quality photography but a lot of other task too.😍💯\",\n",
       " 'It’s been almost a month since I have been using this phone. I upgraded from an iPhone 8. The main issue with my 8 was battery and this phone is just awesome when it comes to battery. It lasts a day and a half for me with my regular use , internet connected always with 4g\\nCan’t move forward without saying this. Battery of this phone is a life saver when I am traveling or at work when I don’t get the option to charge\\nCamera is superb. Front cam selfies and back cam photos are just awesome.\\n...\\nREAD MORE',\n",
       " 'Really worth of money. i just love it. It is the best phone ever.',\n",
       " 'Awesome Phone. Slightly high price but worth. Better than iPhone XR.\\nCamera is superb and wide angle camera is very clear.\\n12MP selfie camera is also very good.\\nA13 Chip gives a very good and smooth performance.',\n",
       " 'This is my first ever I phone. Before this I was using my google nexus 5. But moving from android to iOS is a great experience. It’s worth at this price. I will highly recommend it if you want to move to iOS. The best part of this phone is it’s camera and it’s battery life. This two things have won my heart. I loved it. Happy to have it in my hand. Still exploring its features. And can’t forget to mention Flipkart service. Very prompt service and fast delivery.',\n",
       " 'Superb Product !!!\\nA big and worthy upgrade from mi 3S to iphone 11 .\\nTotally loved it !',\n",
       " 'I have migrated from OP 7pro... and trust me, iPhone 11 is totally worth it.. following are the reasons:-\\n1)there is ABSOLUTELY NO ISSUE WITH THE DISPLAY... its crisp, sharp and I found it to be much much better than OP7 pro. Netflix, Prime video all run crisply... you won’t miss a thing. True Tone works flawlessly...the display brightness is perfect. OP have not calibrated their screens properly.\\n2) iPhone 11 series have really good cameras... others have spoken in depth about them.\\n3) bat...\\nREAD MORE',\n",
       " 'It’s an amazing product from apple and the camera is simply superb. Phone is faster.Night shot is simply superb and detailing and colour differentiation from camera is an added advantage\\n\\nThis review I have written from iPhone 11 only and I am glad to say outside.\\n\\nCons wise if we see HD+ display only, no battery percentage indicator as in older iPhone 8.\\nNo assistive touch control button in it\\nNo oleophobic coating on back panel glass and finger prints are visible but since I bought mint gr...\\nREAD MORE',\n",
       " 'Looking so good 👍 😍 super 👌 stylish 😎 phone\\nClean box 📦 good 👍 delivery 👌 fast delivery\\nOriginal box Original iphone 📱 👌 😍😍😍',\n",
       " 'After 1 month use I found camera quality best compared to my previous Samsung note 10+.Display not good as note 10 also charging too slow.Apple should add fast charger like 11 plus and pro.Best phone for daily use',\n",
       " 'I just directly switch from iphone 6s to iphone 11 .The best premium smartphone I recommend to everyone. Excellent quality and colors the iphone have in 11 series.\\nCamera quality is just awesome and the major feel when we hold in our hands. The sound quality and volume is also higher then the previous models.\\nI will recommend to buy iphone 11 instead of pro models , there is nothing much difference as this model contains everything which fulfill our needs.\\n\\nOnly one thing that I dislike abo...\\nREAD MORE',\n",
       " 'Upgraded from iphone 6 to 11 best phone for iphone users battery is much better than other iphones camera is awesome love to use it.camera is so clear in night.',\n",
       " 'Well you all know the specifications . One of a kind. Best iPhone till date. Many enhancements to the camera app with many options. Love the glass body with matte finish in the lens area on the back. Lovely colours to choose from. Best battery in an iPhone till date, enough to last more than a day in normal usage. I tested my iPhone 11 battery and lasted for than 24 hours after full charge still with 30% battery charge left. Watched movies for some time. Normal usage on calls, browsing, musi...\\nREAD MORE',\n",
       " \"It's very high performances devise i am like the service of flipkart delevary very fast and packing very nice perfect phone\",\n",
       " 'This will help you more. See if you are planning to buy iPhone 11. I will say. Yes. But there are some plans I just want to disclose before you buy. 1) If you are an existing iPhone X/XS/XS Max/ XR user, better you guys do not think it to buy. You guys have more or less better gadget. 2) If you are an android user and planning to buy premium phone. I will suggest them to please buy iPhone instead of buying an Android. I bet you will never go back to android after using IOS. Now I want to shar...\\nREAD MORE',\n",
       " 'The built quality is not very premium.\\nThe battery back is great .\\nThe LCD panel is not so sharp but the brightness level is very High .\\nCamera is super duper awesome.\\nThe red colour which people think is bright is actually very soothing and excellent colour to choose from .\\nThe A13 Bionic chip is really a flagship processor and can beat any phone which even has 12 gb ram .\\nCamera module is very great and looks very stylish.',\n",
       " 'Amazing camera and feel super machine I am not describe my feeling but this is amazing Phone I am so lucky I have this',\n",
       " 'Really good actually this is my first apple product am using its really awesome performance wise excellent. Am really happy with this iphone11',\n",
       " 'it is very good at performance. Camera is best like before and very smooth response even in water. Don’t buy 12 mini buy iPhone 11 , it is far better than 12 mini believe me ! Have a nice day \\uf8ff ☺️',\n",
       " 'Reviewing again after 5 months. At the beginning the battery and performance was good but it degraded soon. Also I was facing heating issues. The mobile will heat up like a stove sometimes. You cannot even play Pubg even in low settings properly, performance is not a problem but heating is. Also if you play that game for 10 mins the brightness will be automatically down due to over heating even when the auto brightness is set to off. This will not be solved even if u manually increase the bri...\\nREAD MORE',\n",
       " 'It is just awesome mobile for this price from Apple,\\n\\nAfter 10 days review\\n\\nBattery enough for 1 day even 24*7 Internet will be on and mostly internet usage\\n\\nCamera is just awesome cool , android 64 MP is equal to this just 12 MP\\n\\nA13 Bionic chip will give more high performance without hanging\\n\\nAudio stereo speakers will give Dolby atoms sound with crystal clear\\n\\nVideo recording is like cinematic shots of every sec can be a 4K 60fps. Just awesome this phone\\niPhone 11 loved one',\n",
       " 'Best Apple iPhone that i have bought at a very reasonable price, camera quality is next level just awesome n of superior quality android phones not even close(RIP) to that and also battery is really good but packaging by Flipkart of iPhone was very poor of such a expensive product, firstly im bit worried about the quality of product if i purchased it through online how was the product but i think now this was mine best decision to bought it through Flipkart online because i got genuine Apple...\\nREAD MORE',\n",
       " \"I can say I'm damn impressed with iPhone 11. As they says iPhone 11 have the toughest glass ever in the smartphone which you'll find on the front and back and it's totally smooth. The fit and finish is full apple quality - there's no sense that any cheaping out has happened in the construction. Without saying it's camera features this review won't complete. The iPhone 11 has a dual camera system, consisting of a wide angle len's that's pretty much same as found on the iPhone XR last year, but...\\nREAD MORE\",\n",
       " 'Best Quality Product OF iPhone Series , Sound Quality & Camera quality is very awesome, Battery Life is very Sufficient for 24 hr Backup With Full Internet Access , I love this this Product too much , It is very fast & making me Very fast in all my daily Routine\\nHighlights;\\n1.Camera: 5 STAR\\n2.Video Recording: 5 star\\n3.Night mODE sHOOTING & Camera:4 star\\n4. Audio Quality: Awesome\\n5. Battery : 5 Star\\n6. Touch:5 Star\\n7. Processor: Very Fast\\nThe M...\\nREAD MORE',\n",
       " 'First thanks to Flipkart for this amazing deal and phone is outstanding. I upgraded from iPhone 7 and this is like very big upgrade. But the packaging was very basic I expected a good packaging as they only wrapped one layer of bubble wrap which I don’t think is enough to protect this expensive phone. And I recommend this phone and seller as well.\\n\\nAnd I’m posting this review after using it for 4 days.',\n",
       " 'Superfast delivery by Flipkart. Thanks.\\n\\n1. iPhone 11 is a pretty solid phone for the money you are paying.\\n2. All the bad reviews about the display is confusing. It’s not that bad.\\n3. I switched from a Oneplus 7t. I have no complaints about the display quality of iPhone. Yes, it’s not OLED, so, we are missing on the deep blacks. But that’s it. It is a very colour accurate display. Gets adequately bright and I could not find any pixelation.\\n4. Performance is one of the best, if not best, in ...\\nREAD MORE',\n",
       " 'Smooth like butter, camera like fantabulous, sound is crystal clear & its red color is damn attractive, i am just loving it. Must buy if you love photography.\\n\\nLucky to get it in sale, thank you Flipkart.',\n",
       " \"Again back to apple iphone after a gap of 2-3 years. It's pleasure to use iOS and the quality product by Apple. Iphone 11 still works like a beast in 2021 also. It really capable of doing day to day usage as well as hard core gaming. Battery is awesome. I'm really too much satisfied with it. Apart fto the very gorgious IPS LCD (AMOLED will be better) everything is mind boggling. Iphone💕.\",\n",
       " 'impressive super phone and best in class camera ,sound and face unlock is super fast just see and phone is unlock and fast in daily apps use',\n",
       " 'Battery backup is extraordinary, camera is decent & performance offered by A13 bionic is awsome. The display is good in practical usage like the visibility of display is very good in direct sun light compare to pro models. Iam extremely satisfied for the money I spent.',\n",
       " 'Well while switching from android to iOS the first thing you need to be careful about is that you will loose all your whatsapp chat backups as both are different operating systems. Camera clarity is awesome and though being an lcd screen clarity and resolution is good. Battery backup is also good unlike previous gen iPhone. So far the experience is good will Padre after a few months of usage.\\n\\nP.S the black is more of a dark grey shade and not jet black',\n",
       " 'In love with this iphone great performance,camera ,battery everything. Go for it have a uncompareble battery backup, no doubts in iPhone camera here You can see the picture which is shot on my iPhone In love with this iphone great performance,camera ,battery everything. Go for it have a uncompareble battery backup, no doubts in iPhone camera here You can see the picture which is shot on my iPhone In love with this iphone great performance,camera ,battery everything. Go for it have a uncompare...\\nREAD MORE',\n",
       " 'Best in class. Battery backup is good especially when you play games like Pubg COD. But it is sort of heavy when you hold in hands. Portrait mode is best to click pictures. Stage light effect is awesome. Try to click photos outside in nature because photos inside home or room will not give you the quality in any phone even in DSLR.',\n",
       " 'Very excited to have this phone. This phone has the real power unlike the android phones having SD 855 . The battery life is very good and the camera quality is excellent as comapred to redmi and other phones except google pixel. I M enjoying every single bit of it. Would recommed only if you have the budget.',\n",
       " \"I upgraded (downgraded?) from my iPhone X since the phone fell down and I didn't want to repair the screen. The box that the phone came in was super slim and I was worried that there'd be no 5W charger with it and my fears were confirmed. However, thankfully I had the 18W USB-C PD charger from Apple which I bought for my iPhone X and it worked perfectly. The charging time is as lethargic as ever though and it takes about 1:30 mins or even 2 hours depending on charge remaining. I'll list some ...\\nREAD MORE\",\n",
       " 'Its Very awesome product working and good camera quality and all about best product and also flipkart is very great deal and offer nice price',\n",
       " 'I am using this phone for 5 days and its one of the best camera out there ❤️ the screen is not oled and i am coming from iphone xs so its little bit not up to the mark i would say\\nBut overall value for money💕😍the battery back up is far better than my iphone xs and its worth in my apple ecosystem💫❤️if u are an apple User and have the eco system then go for it❤️though i will be getting the new iphone but its pretty good💫',\n",
       " 'Best and amazing product.....phone looks so premium.... battary is also good as expected .... Wide angle camera is so addictive ...if you are a IOS lover....then this phone will be the best choice for you all!!💯🔥',\n",
       " 'Excellent camera and display touching very nice and smooth very improvement against iPhone XR and new processor is very fast',\n",
       " \"I got this beast today. And I must say the picture quality of its camera is awesome. Both the cameras works fine.\\n\\nAs for as the processing is concerned, it runs without any lag. You can play and do whatever you want without a glitch.\\n\\nThe battery runs for a day with medium and high workload.\\n\\nThe display is good and the speakers are working fine.\\n\\nThe earphones doesn't have any base and you can use it for calling mostly.\\n\\nThe charging time is approximately for 90 minutes for full charging...\\nREAD MORE\",\n",
       " 'Awesome purchase. Amazing phone with good battery backup. It’s a top notch device. White colour looks amazing. Phone has a few extra feature than iPhone XR. Overall, this is value for money',\n",
       " 'Always love the apple products, upgraded from old iPhone 6S plus to this after having my first baby. I just love to click baby’s photos with it. Overall I just love this phone. Battery back up is okay, sound quality is good. Haven’t tested yet waterproof yet. Only one thing I hate is apple could have given charger & headphones in box.',\n",
       " 'Value for money\\n5 star rating\\nExcellent camera\\nBattery backup full day in single charge.\\n\\nTougher and water resistant design, glossy back.\\nThe screen has excellent brightness and contrast.\\nApple A13 Bionic is the fastest smartphone chip on the planet.\\nExcellent battery life, fast charging support.\\nStereo speakers with great quality.',\n",
       " 'Please DONT buy from here,\\n\\nI purchased Apple iPhone 11. with an exchange of IPhone 7, the exchange did not go well, iPhone 7 had a small scratch out side screen which i could never identify till date, but the FLIPKART person could, so he reduced 50% from exchange rate. I decided not to trade in, but paid money.\\n\\niPhone 11 Detail Below\\n---------------------------------------------\\nIt came with no charging, then i have put for charging, it took lot of time for charging, the phone also showe...\\nREAD MORE',\n",
       " 'awesome phone to have. it has got many smart features apart from mind blowing looks, camera, display, battery and sound. have fallen in love with this phone. must buy phone if you have got enough money. thanks to flipkart and apple of course..',\n",
       " 'Its a fabulous mobile look awesome performance unbeaten camera like dslr battery good i think this is a beast of mobile',\n",
       " 'Dear friends... I want to share my experience with you about this amazing I phone 11....this is my first iPhone and special things about this mobile is it has great camera, battery backup and awesome display.... I mean everything is perfect.loved it 👍👍👍',\n",
       " \"Just got this iphone 11\\nAnd it is most powerful mobile phone I have used ever\\n\\nSo,go for it if you want a phone with best specification like camera,battery backup,display, A13 bionic chip\\n\\nThat's my review about this phone but yours can be differ from me....\",\n",
       " 'Amazing phone and on great deal I received with super fast delivery by Flipkart...',\n",
       " 'finally an iPhone with very nice battery backup. update from iPhone 7 and happy to have it. camera is not up to the mark in low light but overall a recommended phone if your budget allows 😀',\n",
       " \"I'm switching this phone to oppo reno 10x zoom\\nIt's really impressive\\nRarely I'm missing smooth display touch response like oppo reno but\\nI really loved it.\\nCamera really impressive\",\n",
       " 'Worth the money’ starting first from its performance it beats out all phones , second the smoothness of camera is awesome, contrast ratio is much than expected. Price will not matter if u r a quality person, if not other phones are available with better discount',\n",
       " 'I dreamt about this day from a long time.... Getting an iPhone with my own money.... Super happy and worth spending every penny']"
      ]
     },
     "execution_count": 72,
     "metadata": {},
     "output_type": "execute_result"
    }
   ],
   "source": [
    "for i in review7:\n",
    "    review_flip.append(i.text)\n",
    "review_flip"
   ]
  },
  {
   "cell_type": "code",
   "execution_count": 73,
   "metadata": {
    "scrolled": true
   },
   "outputs": [
    {
     "name": "stdout",
     "output_type": "stream",
     "text": [
      "70 70 70\n"
     ]
    }
   ],
   "source": [
    "print(len(rating_file),len(summary_scrap1),len(review_flip))"
   ]
  },
  {
   "cell_type": "code",
   "execution_count": 74,
   "metadata": {},
   "outputs": [],
   "source": [
    "url8 ='https://www.flipkart.com/apple-iphone-11-black-64-gb-includes-earpods-power-adapter/product-reviews/itm0f37c2240b217?pid=MOBFKCTSVZAXUHGR&lid=LSTMOBFKCTSVZAXUHGREPBFGI&marketplace=FLIPKART&page=8'\n",
    "driver.get(url8)"
   ]
  },
  {
   "cell_type": "code",
   "execution_count": 75,
   "metadata": {},
   "outputs": [
    {
     "data": {
      "text/plain": [
       "[<selenium.webdriver.remote.webelement.WebElement (session=\"ec87b271ce103b9c0eb72458b9b3bc32\", element=\"01be1205-7ad6-498c-bb20-dd5993e277b7\")>,\n",
       " <selenium.webdriver.remote.webelement.WebElement (session=\"ec87b271ce103b9c0eb72458b9b3bc32\", element=\"a6593478-5c2d-4574-8b9a-a28e84a4e891\")>,\n",
       " <selenium.webdriver.remote.webelement.WebElement (session=\"ec87b271ce103b9c0eb72458b9b3bc32\", element=\"430447c8-0315-49d2-a727-4fed154addb3\")>,\n",
       " <selenium.webdriver.remote.webelement.WebElement (session=\"ec87b271ce103b9c0eb72458b9b3bc32\", element=\"70d24d5a-69d2-4b20-b97d-9f0413f87c04\")>,\n",
       " <selenium.webdriver.remote.webelement.WebElement (session=\"ec87b271ce103b9c0eb72458b9b3bc32\", element=\"5f776b16-0aac-45f0-93a8-f9dbb5b45ca6\")>,\n",
       " <selenium.webdriver.remote.webelement.WebElement (session=\"ec87b271ce103b9c0eb72458b9b3bc32\", element=\"d86a447d-3f71-46d4-887a-50ffb25fed52\")>,\n",
       " <selenium.webdriver.remote.webelement.WebElement (session=\"ec87b271ce103b9c0eb72458b9b3bc32\", element=\"b6f58398-9737-4792-b623-5b0c04691f06\")>,\n",
       " <selenium.webdriver.remote.webelement.WebElement (session=\"ec87b271ce103b9c0eb72458b9b3bc32\", element=\"38cf34ce-7415-470e-9162-41744a2c5e0d\")>,\n",
       " <selenium.webdriver.remote.webelement.WebElement (session=\"ec87b271ce103b9c0eb72458b9b3bc32\", element=\"ead08dfc-777f-4eb2-bd94-1296eb5f2afc\")>,\n",
       " <selenium.webdriver.remote.webelement.WebElement (session=\"ec87b271ce103b9c0eb72458b9b3bc32\", element=\"220c1772-69c9-415e-a1db-15f4bc46dc30\")>]"
      ]
     },
     "execution_count": 75,
     "metadata": {},
     "output_type": "execute_result"
    }
   ],
   "source": [
    "rating8 = driver.find_elements_by_xpath(\"//div[@class='_3LWZlK _1BLPMq']\")\n",
    "rating8"
   ]
  },
  {
   "cell_type": "code",
   "execution_count": 76,
   "metadata": {
    "scrolled": true
   },
   "outputs": [
    {
     "data": {
      "text/plain": [
       "['5',\n",
       " '5',\n",
       " '5',\n",
       " '5',\n",
       " '5',\n",
       " '5',\n",
       " '4',\n",
       " '5',\n",
       " '5',\n",
       " '5',\n",
       " '5',\n",
       " '5',\n",
       " '5',\n",
       " '5',\n",
       " '5',\n",
       " '5',\n",
       " '5',\n",
       " '5',\n",
       " '5',\n",
       " '5',\n",
       " '4',\n",
       " '5',\n",
       " '5',\n",
       " '5',\n",
       " '5',\n",
       " '4',\n",
       " '5',\n",
       " '5',\n",
       " '5',\n",
       " '5',\n",
       " '5',\n",
       " '5',\n",
       " '5',\n",
       " '5',\n",
       " '5',\n",
       " '4',\n",
       " 1,\n",
       " '5',\n",
       " '5',\n",
       " '5',\n",
       " '5',\n",
       " '5',\n",
       " '5',\n",
       " '5',\n",
       " '5',\n",
       " '4',\n",
       " '5',\n",
       " '5',\n",
       " '5',\n",
       " '5',\n",
       " '5',\n",
       " '5',\n",
       " '5',\n",
       " '5',\n",
       " '5',\n",
       " '5',\n",
       " '5',\n",
       " '5',\n",
       " '5',\n",
       " '5',\n",
       " 1,\n",
       " '5',\n",
       " '5',\n",
       " '5',\n",
       " '4',\n",
       " '5',\n",
       " '5',\n",
       " '4',\n",
       " '5',\n",
       " '5',\n",
       " '4',\n",
       " '5',\n",
       " '5',\n",
       " '5',\n",
       " '5',\n",
       " '5',\n",
       " '5',\n",
       " '5',\n",
       " '5',\n",
       " '5']"
      ]
     },
     "execution_count": 76,
     "metadata": {},
     "output_type": "execute_result"
    }
   ],
   "source": [
    "for i in rating8:\n",
    "    rating_file.append(i.text)\n",
    "rating_file"
   ]
  },
  {
   "cell_type": "code",
   "execution_count": 77,
   "metadata": {
    "scrolled": true
   },
   "outputs": [
    {
     "data": {
      "text/plain": [
       "[<selenium.webdriver.remote.webelement.WebElement (session=\"ec87b271ce103b9c0eb72458b9b3bc32\", element=\"15236853-7ef0-4f07-a38c-c53da39fb69d\")>,\n",
       " <selenium.webdriver.remote.webelement.WebElement (session=\"ec87b271ce103b9c0eb72458b9b3bc32\", element=\"f7b7b9dd-ac20-48aa-b0c4-f96b7ef54484\")>,\n",
       " <selenium.webdriver.remote.webelement.WebElement (session=\"ec87b271ce103b9c0eb72458b9b3bc32\", element=\"32875481-c970-4142-8e6e-bdf865ec5728\")>,\n",
       " <selenium.webdriver.remote.webelement.WebElement (session=\"ec87b271ce103b9c0eb72458b9b3bc32\", element=\"e02b2151-b61d-4197-8a37-a87c9966de06\")>,\n",
       " <selenium.webdriver.remote.webelement.WebElement (session=\"ec87b271ce103b9c0eb72458b9b3bc32\", element=\"0726b3ce-b0af-49c7-bd56-cf32d166718f\")>,\n",
       " <selenium.webdriver.remote.webelement.WebElement (session=\"ec87b271ce103b9c0eb72458b9b3bc32\", element=\"e51a36d6-f9fa-4552-9075-7b79634951e7\")>,\n",
       " <selenium.webdriver.remote.webelement.WebElement (session=\"ec87b271ce103b9c0eb72458b9b3bc32\", element=\"f8c18540-436d-4285-9bd9-85a4455ebd10\")>,\n",
       " <selenium.webdriver.remote.webelement.WebElement (session=\"ec87b271ce103b9c0eb72458b9b3bc32\", element=\"14c1c04b-0068-44f3-b124-34887f8c00cf\")>,\n",
       " <selenium.webdriver.remote.webelement.WebElement (session=\"ec87b271ce103b9c0eb72458b9b3bc32\", element=\"b9f3e8c8-7d31-49e0-90e0-e90fb7063767\")>,\n",
       " <selenium.webdriver.remote.webelement.WebElement (session=\"ec87b271ce103b9c0eb72458b9b3bc32\", element=\"172cc406-c026-4998-8850-18712371b9c3\")>]"
      ]
     },
     "execution_count": 77,
     "metadata": {},
     "output_type": "execute_result"
    }
   ],
   "source": [
    "summary8 = driver.find_elements_by_class_name(\"_2-N8zT\")\n",
    "summary8"
   ]
  },
  {
   "cell_type": "code",
   "execution_count": 78,
   "metadata": {
    "scrolled": false
   },
   "outputs": [
    {
     "data": {
      "text/plain": [
       "['Brilliant',\n",
       " 'Simply awesome',\n",
       " 'Perfect product!',\n",
       " 'Fabulous!',\n",
       " 'Worth every penny',\n",
       " 'Great product',\n",
       " 'Good choice',\n",
       " 'Worth every penny',\n",
       " 'Highly recommended',\n",
       " 'Best in the market!',\n",
       " 'Perfect product!',\n",
       " 'Highly recommended',\n",
       " 'Perfect product!',\n",
       " 'Classy product',\n",
       " 'Worth every penny',\n",
       " 'Perfect product!',\n",
       " 'Simply awesome',\n",
       " 'Highly recommended',\n",
       " 'Worth every penny',\n",
       " 'Terrific',\n",
       " 'Nice product',\n",
       " 'Wonderful',\n",
       " 'Classy product',\n",
       " 'Brilliant',\n",
       " 'Must buy!',\n",
       " 'Good choice',\n",
       " 'Perfect product!',\n",
       " 'Wonderful',\n",
       " 'Terrific purchase',\n",
       " 'Great product',\n",
       " 'Simply awesome',\n",
       " 'Mind-blowing purchase',\n",
       " 'Terrific purchase',\n",
       " 'Excellent',\n",
       " 'Simply awesome',\n",
       " 'Good quality product',\n",
       " 'Very poor',\n",
       " 'Perfect product!',\n",
       " 'Must buy!',\n",
       " 'Fabulous!',\n",
       " 'Mind-blowing purchase',\n",
       " 'Mind-blowing purchase',\n",
       " 'Wonderful',\n",
       " 'Worth every penny',\n",
       " 'Great product',\n",
       " 'Very Good',\n",
       " 'Perfect product!',\n",
       " 'Classy product',\n",
       " 'Perfect product!',\n",
       " 'Just wow!',\n",
       " 'Awesome',\n",
       " 'Terrific',\n",
       " 'Terrific purchase',\n",
       " 'Awesome',\n",
       " 'Classy product',\n",
       " 'Brilliant',\n",
       " 'Terrific',\n",
       " 'Perfect product!',\n",
       " 'Awesome',\n",
       " 'Perfect product!',\n",
       " 'Very poor',\n",
       " 'Fabulous!',\n",
       " 'Excellent',\n",
       " 'Must buy!',\n",
       " 'Value-for-money',\n",
       " 'Brilliant',\n",
       " 'Terrific purchase',\n",
       " 'Good quality product',\n",
       " 'Perfect product!',\n",
       " 'Awesome',\n",
       " 'Value-for-money',\n",
       " 'Just wow!',\n",
       " 'Super!',\n",
       " 'Best in the market!',\n",
       " 'Classy product',\n",
       " 'Highly recommended',\n",
       " 'Mind-blowing purchase',\n",
       " 'Must buy!',\n",
       " 'Excellent',\n",
       " 'Excellent']"
      ]
     },
     "execution_count": 78,
     "metadata": {},
     "output_type": "execute_result"
    }
   ],
   "source": [
    "for i in summary8:\n",
    "    summary_scrap1.append(i.text)\n",
    "summary_scrap1"
   ]
  },
  {
   "cell_type": "code",
   "execution_count": 79,
   "metadata": {
    "scrolled": true
   },
   "outputs": [
    {
     "data": {
      "text/plain": [
       "[<selenium.webdriver.remote.webelement.WebElement (session=\"ec87b271ce103b9c0eb72458b9b3bc32\", element=\"7f75478d-817c-4cd1-bb35-fa3787274a1c\")>,\n",
       " <selenium.webdriver.remote.webelement.WebElement (session=\"ec87b271ce103b9c0eb72458b9b3bc32\", element=\"797480c2-3ddb-4a97-880b-c641a208af6b\")>,\n",
       " <selenium.webdriver.remote.webelement.WebElement (session=\"ec87b271ce103b9c0eb72458b9b3bc32\", element=\"8c81c073-1de4-4066-b34e-1f8f43c74cc8\")>,\n",
       " <selenium.webdriver.remote.webelement.WebElement (session=\"ec87b271ce103b9c0eb72458b9b3bc32\", element=\"cede504d-b6ca-4a5b-9007-b370bec71349\")>,\n",
       " <selenium.webdriver.remote.webelement.WebElement (session=\"ec87b271ce103b9c0eb72458b9b3bc32\", element=\"7dca6ce9-fe63-4c28-8906-da0f15e0404e\")>,\n",
       " <selenium.webdriver.remote.webelement.WebElement (session=\"ec87b271ce103b9c0eb72458b9b3bc32\", element=\"0f8e714f-0ed6-47ed-b0e9-36e618f38912\")>,\n",
       " <selenium.webdriver.remote.webelement.WebElement (session=\"ec87b271ce103b9c0eb72458b9b3bc32\", element=\"b2c2982b-07e1-4011-bb9b-55d803e26247\")>,\n",
       " <selenium.webdriver.remote.webelement.WebElement (session=\"ec87b271ce103b9c0eb72458b9b3bc32\", element=\"571edee9-6778-4225-be5b-075e2033e078\")>,\n",
       " <selenium.webdriver.remote.webelement.WebElement (session=\"ec87b271ce103b9c0eb72458b9b3bc32\", element=\"af05d03f-3d49-4ad0-9541-40feaecb4622\")>,\n",
       " <selenium.webdriver.remote.webelement.WebElement (session=\"ec87b271ce103b9c0eb72458b9b3bc32\", element=\"e9d2ce31-df7e-4103-a0cc-3a24c3d501d4\")>]"
      ]
     },
     "execution_count": 79,
     "metadata": {},
     "output_type": "execute_result"
    }
   ],
   "source": [
    "review8=driver.find_elements_by_class_name('t-ZTKy')\n",
    "review8"
   ]
  },
  {
   "cell_type": "code",
   "execution_count": 80,
   "metadata": {
    "scrolled": true
   },
   "outputs": [
    {
     "data": {
      "text/plain": [
       "['The Best Phone for the Money\\n\\nThe iPhone 11 offers superb cameras, a more durable design and excellent battery life for an affordable price.\\n\\nCompelling ultra-wide camera\\nNew Night mode is excellent\\nLong battery life',\n",
       " 'Really satisfied with the Product I received... It’s totally genuine and the packaging was also really good so if ur planning to buy just go for it.',\n",
       " 'Amazing phone with great cameras and better battery which gives you the best performance. I just love the camera .',\n",
       " 'This is my first iOS phone. I am very happy with this product. Very much satisfied with this. I love this phone.',\n",
       " 'Previously I was using one plus 3t it was a great phone\\nAnd then I decided to upgrade I am stuck between Samsung s10 plus or iPhone 11\\nI have seen the specs and everything were good except the display it’s somewhere between 720-1080 and it’s not even an amoled it’s an LCD display\\nBut I decided to go with iPhone because I have never used an IOS device I have Been an android user from the past 9 years I ordered IPhone 11 (128gb) product red\\nMy experience after using 3 weeks\\n1. The delivery ...\\nREAD MORE',\n",
       " 'Amazing Powerful and Durable Gadget.\\n\\nI’m am very happy with the camera picture quality, Amazing face id unlocked in dark room, Strong battery with perfect screen size as you can carry easily in pocket. This is my third iPhone.\\n\\nI shifted from android Samsung Note series to iPhone because of the strong build quality and peace of mind for next 3-4 years.\\n\\nDon’t think to much just go for it and I suggest you to go for minimum 128gb variant or more 256gb.\\n\\nI’ve attached my puppy pics and no fi...\\nREAD MORE',\n",
       " 'So far it’s been an AMAZING experience coming back to iOS after nearly a decade but it’s not as versatile as android though phone is sturdy dropped it accidentally a couple of times and nothing happened fortunately camera is awesome',\n",
       " 'i11 is worthy to buy, too much happy with the product. Thank u flipkart I received the item on time..loved it..',\n",
       " 'iphone 11 is a very good phone to buy only if you can compromise for the display. The display on this is device is pretty good but you can get other options with better displays in this price segment.\\nIf you can survive with an HD+ LCD panel with thicker bezels and a notch up top then this is a very good phone for you.\\nCameras are awesome, battery backup excellent, great performance and a decent premium look. Good job Apple !',\n",
       " 'Great iPhone very snappy experience as apple kind. Upgraded from iPhone 7.\\nPros\\n-Camera top class\\n- Battery top performed\\n-Chipset no need to say as apple kind\\n-Security as you expect from apple\\n- Display super bright industry leading colour\\naccuracy and super responsive\\n-Build quality as expect from apple sturdy\\npremium durable beautiful stylish.\\n-Os most stable os in smartphone industry\\n\\nCons\\n-No 5G\\n-Display is not based on OLED technology\\n-Charger headphones and 1 apple stic...\\nREAD MORE',\n",
       " 'It’s a must buy who is looking for an upgrade from previous generation of iPhones. If you are using XR then still you can hold on for sometime and upgrade to 2020 model else this phone is a must buy . Camera quality is amazing and wide angle is something to count upon. Performance wise it’s amazing and feels premium while holding in hand. So a big YES for this device. Go for 128 GB variant as the 4K videos will occupy lots of space and the storage can get over very quickly. Try to buy it with...\\nREAD MORE',\n",
       " 'What a camera .....just awesome ..you can feel this iPhone just awesome . Good for gaming also ...try pubg in hd it’s just wow',\n",
       " 'Value for money❤️❤️\\nIts awesome mobile phone in the world ...\\nDisplay was very good and bright ..\\nTrust me freinds you r never regret after Buying..\\nJust go for it....\\nI love this phone and i switch to iphone x to 11',\n",
       " 'Totally in love with this ❤ the camera quality is amazing just love it 😘😘😘 itsss dammnnnnnn amazing... Must buy iPhone 11 this is my best experience ever ☀👌👌🧡🧡🧡🧡🧡 thanku apple ❤',\n",
       " 'Best budget Iphone till date ❤️ go for it guys without second thought. Let me explain you guys about Camera, Display, battery, and performance.\\n\\nCamera: at this price range there is no comparison of camera, you’ll love the picture quality as well as video quality. I am a Vlogger I wanted an iPhone with 4k video by front camera and I got this phone and I am more than happy 😃\\n\\nBattery: I use this phone roughly as I am active social media person and I have a youtube channel. so the battery ba...\\nREAD MORE',\n",
       " \"Iphone is just awesome.. battery backup is very very nice.. continuously for 10 hours we can use it.camera is just awesome.. display is just fab.i love it alot..i had to wait 15 days for it as i pre ordered it..overalll it's worth the price..these all images are clicked by my iPhone..and i love it.\",\n",
       " 'Excellent camera, good performance, no lag. The lcd display is also good.. but difference come when we watch movie in prime and Netflix, the colours are not vibrant.. as we see in amoled display.. and the charger in box is of 5 watts.. takes more than 3 hours to charge from 0 to 100.. so guys be prepare to buy 18 watts charger . Finally I am an android user, it was my first Iapple phone, I promise u guys the iOS is so smooth.. overall the phone is damn good.... close eyes to buy it.. thanks t...\\nREAD MORE',\n",
       " \"It's my first time to use iOS phone and I am loving my upgradation 😍😍 I love the color, I love the assebility of the phone....I need to learn more about its functionality, but as far as I have seen, it's quite easy and it has a lot of functions to work on, specially if you are a content writer or a blogger you get a lot of content creation platforms and they are really amazing.\\n\\nThis phone not only for good quality photography but a lot of other task too.😍💯\",\n",
       " 'It’s been almost a month since I have been using this phone. I upgraded from an iPhone 8. The main issue with my 8 was battery and this phone is just awesome when it comes to battery. It lasts a day and a half for me with my regular use , internet connected always with 4g\\nCan’t move forward without saying this. Battery of this phone is a life saver when I am traveling or at work when I don’t get the option to charge\\nCamera is superb. Front cam selfies and back cam photos are just awesome.\\n...\\nREAD MORE',\n",
       " 'Really worth of money. i just love it. It is the best phone ever.',\n",
       " 'Awesome Phone. Slightly high price but worth. Better than iPhone XR.\\nCamera is superb and wide angle camera is very clear.\\n12MP selfie camera is also very good.\\nA13 Chip gives a very good and smooth performance.',\n",
       " 'This is my first ever I phone. Before this I was using my google nexus 5. But moving from android to iOS is a great experience. It’s worth at this price. I will highly recommend it if you want to move to iOS. The best part of this phone is it’s camera and it’s battery life. This two things have won my heart. I loved it. Happy to have it in my hand. Still exploring its features. And can’t forget to mention Flipkart service. Very prompt service and fast delivery.',\n",
       " 'Superb Product !!!\\nA big and worthy upgrade from mi 3S to iphone 11 .\\nTotally loved it !',\n",
       " 'I have migrated from OP 7pro... and trust me, iPhone 11 is totally worth it.. following are the reasons:-\\n1)there is ABSOLUTELY NO ISSUE WITH THE DISPLAY... its crisp, sharp and I found it to be much much better than OP7 pro. Netflix, Prime video all run crisply... you won’t miss a thing. True Tone works flawlessly...the display brightness is perfect. OP have not calibrated their screens properly.\\n2) iPhone 11 series have really good cameras... others have spoken in depth about them.\\n3) bat...\\nREAD MORE',\n",
       " 'It’s an amazing product from apple and the camera is simply superb. Phone is faster.Night shot is simply superb and detailing and colour differentiation from camera is an added advantage\\n\\nThis review I have written from iPhone 11 only and I am glad to say outside.\\n\\nCons wise if we see HD+ display only, no battery percentage indicator as in older iPhone 8.\\nNo assistive touch control button in it\\nNo oleophobic coating on back panel glass and finger prints are visible but since I bought mint gr...\\nREAD MORE',\n",
       " 'Looking so good 👍 😍 super 👌 stylish 😎 phone\\nClean box 📦 good 👍 delivery 👌 fast delivery\\nOriginal box Original iphone 📱 👌 😍😍😍',\n",
       " 'After 1 month use I found camera quality best compared to my previous Samsung note 10+.Display not good as note 10 also charging too slow.Apple should add fast charger like 11 plus and pro.Best phone for daily use',\n",
       " 'I just directly switch from iphone 6s to iphone 11 .The best premium smartphone I recommend to everyone. Excellent quality and colors the iphone have in 11 series.\\nCamera quality is just awesome and the major feel when we hold in our hands. The sound quality and volume is also higher then the previous models.\\nI will recommend to buy iphone 11 instead of pro models , there is nothing much difference as this model contains everything which fulfill our needs.\\n\\nOnly one thing that I dislike abo...\\nREAD MORE',\n",
       " 'Upgraded from iphone 6 to 11 best phone for iphone users battery is much better than other iphones camera is awesome love to use it.camera is so clear in night.',\n",
       " 'Well you all know the specifications . One of a kind. Best iPhone till date. Many enhancements to the camera app with many options. Love the glass body with matte finish in the lens area on the back. Lovely colours to choose from. Best battery in an iPhone till date, enough to last more than a day in normal usage. I tested my iPhone 11 battery and lasted for than 24 hours after full charge still with 30% battery charge left. Watched movies for some time. Normal usage on calls, browsing, musi...\\nREAD MORE',\n",
       " \"It's very high performances devise i am like the service of flipkart delevary very fast and packing very nice perfect phone\",\n",
       " 'This will help you more. See if you are planning to buy iPhone 11. I will say. Yes. But there are some plans I just want to disclose before you buy. 1) If you are an existing iPhone X/XS/XS Max/ XR user, better you guys do not think it to buy. You guys have more or less better gadget. 2) If you are an android user and planning to buy premium phone. I will suggest them to please buy iPhone instead of buying an Android. I bet you will never go back to android after using IOS. Now I want to shar...\\nREAD MORE',\n",
       " 'The built quality is not very premium.\\nThe battery back is great .\\nThe LCD panel is not so sharp but the brightness level is very High .\\nCamera is super duper awesome.\\nThe red colour which people think is bright is actually very soothing and excellent colour to choose from .\\nThe A13 Bionic chip is really a flagship processor and can beat any phone which even has 12 gb ram .\\nCamera module is very great and looks very stylish.',\n",
       " 'Amazing camera and feel super machine I am not describe my feeling but this is amazing Phone I am so lucky I have this',\n",
       " 'Really good actually this is my first apple product am using its really awesome performance wise excellent. Am really happy with this iphone11',\n",
       " 'it is very good at performance. Camera is best like before and very smooth response even in water. Don’t buy 12 mini buy iPhone 11 , it is far better than 12 mini believe me ! Have a nice day \\uf8ff ☺️',\n",
       " 'Reviewing again after 5 months. At the beginning the battery and performance was good but it degraded soon. Also I was facing heating issues. The mobile will heat up like a stove sometimes. You cannot even play Pubg even in low settings properly, performance is not a problem but heating is. Also if you play that game for 10 mins the brightness will be automatically down due to over heating even when the auto brightness is set to off. This will not be solved even if u manually increase the bri...\\nREAD MORE',\n",
       " 'It is just awesome mobile for this price from Apple,\\n\\nAfter 10 days review\\n\\nBattery enough for 1 day even 24*7 Internet will be on and mostly internet usage\\n\\nCamera is just awesome cool , android 64 MP is equal to this just 12 MP\\n\\nA13 Bionic chip will give more high performance without hanging\\n\\nAudio stereo speakers will give Dolby atoms sound with crystal clear\\n\\nVideo recording is like cinematic shots of every sec can be a 4K 60fps. Just awesome this phone\\niPhone 11 loved one',\n",
       " 'Best Apple iPhone that i have bought at a very reasonable price, camera quality is next level just awesome n of superior quality android phones not even close(RIP) to that and also battery is really good but packaging by Flipkart of iPhone was very poor of such a expensive product, firstly im bit worried about the quality of product if i purchased it through online how was the product but i think now this was mine best decision to bought it through Flipkart online because i got genuine Apple...\\nREAD MORE',\n",
       " \"I can say I'm damn impressed with iPhone 11. As they says iPhone 11 have the toughest glass ever in the smartphone which you'll find on the front and back and it's totally smooth. The fit and finish is full apple quality - there's no sense that any cheaping out has happened in the construction. Without saying it's camera features this review won't complete. The iPhone 11 has a dual camera system, consisting of a wide angle len's that's pretty much same as found on the iPhone XR last year, but...\\nREAD MORE\",\n",
       " 'Best Quality Product OF iPhone Series , Sound Quality & Camera quality is very awesome, Battery Life is very Sufficient for 24 hr Backup With Full Internet Access , I love this this Product too much , It is very fast & making me Very fast in all my daily Routine\\nHighlights;\\n1.Camera: 5 STAR\\n2.Video Recording: 5 star\\n3.Night mODE sHOOTING & Camera:4 star\\n4. Audio Quality: Awesome\\n5. Battery : 5 Star\\n6. Touch:5 Star\\n7. Processor: Very Fast\\nThe M...\\nREAD MORE',\n",
       " 'First thanks to Flipkart for this amazing deal and phone is outstanding. I upgraded from iPhone 7 and this is like very big upgrade. But the packaging was very basic I expected a good packaging as they only wrapped one layer of bubble wrap which I don’t think is enough to protect this expensive phone. And I recommend this phone and seller as well.\\n\\nAnd I’m posting this review after using it for 4 days.',\n",
       " 'Superfast delivery by Flipkart. Thanks.\\n\\n1. iPhone 11 is a pretty solid phone for the money you are paying.\\n2. All the bad reviews about the display is confusing. It’s not that bad.\\n3. I switched from a Oneplus 7t. I have no complaints about the display quality of iPhone. Yes, it’s not OLED, so, we are missing on the deep blacks. But that’s it. It is a very colour accurate display. Gets adequately bright and I could not find any pixelation.\\n4. Performance is one of the best, if not best, in ...\\nREAD MORE',\n",
       " 'Smooth like butter, camera like fantabulous, sound is crystal clear & its red color is damn attractive, i am just loving it. Must buy if you love photography.\\n\\nLucky to get it in sale, thank you Flipkart.',\n",
       " \"Again back to apple iphone after a gap of 2-3 years. It's pleasure to use iOS and the quality product by Apple. Iphone 11 still works like a beast in 2021 also. It really capable of doing day to day usage as well as hard core gaming. Battery is awesome. I'm really too much satisfied with it. Apart fto the very gorgious IPS LCD (AMOLED will be better) everything is mind boggling. Iphone💕.\",\n",
       " 'impressive super phone and best in class camera ,sound and face unlock is super fast just see and phone is unlock and fast in daily apps use',\n",
       " 'Battery backup is extraordinary, camera is decent & performance offered by A13 bionic is awsome. The display is good in practical usage like the visibility of display is very good in direct sun light compare to pro models. Iam extremely satisfied for the money I spent.',\n",
       " 'Well while switching from android to iOS the first thing you need to be careful about is that you will loose all your whatsapp chat backups as both are different operating systems. Camera clarity is awesome and though being an lcd screen clarity and resolution is good. Battery backup is also good unlike previous gen iPhone. So far the experience is good will Padre after a few months of usage.\\n\\nP.S the black is more of a dark grey shade and not jet black',\n",
       " 'In love with this iphone great performance,camera ,battery everything. Go for it have a uncompareble battery backup, no doubts in iPhone camera here You can see the picture which is shot on my iPhone In love with this iphone great performance,camera ,battery everything. Go for it have a uncompareble battery backup, no doubts in iPhone camera here You can see the picture which is shot on my iPhone In love with this iphone great performance,camera ,battery everything. Go for it have a uncompare...\\nREAD MORE',\n",
       " 'Best in class. Battery backup is good especially when you play games like Pubg COD. But it is sort of heavy when you hold in hands. Portrait mode is best to click pictures. Stage light effect is awesome. Try to click photos outside in nature because photos inside home or room will not give you the quality in any phone even in DSLR.',\n",
       " 'Very excited to have this phone. This phone has the real power unlike the android phones having SD 855 . The battery life is very good and the camera quality is excellent as comapred to redmi and other phones except google pixel. I M enjoying every single bit of it. Would recommed only if you have the budget.',\n",
       " \"I upgraded (downgraded?) from my iPhone X since the phone fell down and I didn't want to repair the screen. The box that the phone came in was super slim and I was worried that there'd be no 5W charger with it and my fears were confirmed. However, thankfully I had the 18W USB-C PD charger from Apple which I bought for my iPhone X and it worked perfectly. The charging time is as lethargic as ever though and it takes about 1:30 mins or even 2 hours depending on charge remaining. I'll list some ...\\nREAD MORE\",\n",
       " 'Its Very awesome product working and good camera quality and all about best product and also flipkart is very great deal and offer nice price',\n",
       " 'I am using this phone for 5 days and its one of the best camera out there ❤️ the screen is not oled and i am coming from iphone xs so its little bit not up to the mark i would say\\nBut overall value for money💕😍the battery back up is far better than my iphone xs and its worth in my apple ecosystem💫❤️if u are an apple User and have the eco system then go for it❤️though i will be getting the new iphone but its pretty good💫',\n",
       " 'Best and amazing product.....phone looks so premium.... battary is also good as expected .... Wide angle camera is so addictive ...if you are a IOS lover....then this phone will be the best choice for you all!!💯🔥',\n",
       " 'Excellent camera and display touching very nice and smooth very improvement against iPhone XR and new processor is very fast',\n",
       " \"I got this beast today. And I must say the picture quality of its camera is awesome. Both the cameras works fine.\\n\\nAs for as the processing is concerned, it runs without any lag. You can play and do whatever you want without a glitch.\\n\\nThe battery runs for a day with medium and high workload.\\n\\nThe display is good and the speakers are working fine.\\n\\nThe earphones doesn't have any base and you can use it for calling mostly.\\n\\nThe charging time is approximately for 90 minutes for full charging...\\nREAD MORE\",\n",
       " 'Awesome purchase. Amazing phone with good battery backup. It’s a top notch device. White colour looks amazing. Phone has a few extra feature than iPhone XR. Overall, this is value for money',\n",
       " 'Always love the apple products, upgraded from old iPhone 6S plus to this after having my first baby. I just love to click baby’s photos with it. Overall I just love this phone. Battery back up is okay, sound quality is good. Haven’t tested yet waterproof yet. Only one thing I hate is apple could have given charger & headphones in box.',\n",
       " 'Value for money\\n5 star rating\\nExcellent camera\\nBattery backup full day in single charge.\\n\\nTougher and water resistant design, glossy back.\\nThe screen has excellent brightness and contrast.\\nApple A13 Bionic is the fastest smartphone chip on the planet.\\nExcellent battery life, fast charging support.\\nStereo speakers with great quality.',\n",
       " 'Please DONT buy from here,\\n\\nI purchased Apple iPhone 11. with an exchange of IPhone 7, the exchange did not go well, iPhone 7 had a small scratch out side screen which i could never identify till date, but the FLIPKART person could, so he reduced 50% from exchange rate. I decided not to trade in, but paid money.\\n\\niPhone 11 Detail Below\\n---------------------------------------------\\nIt came with no charging, then i have put for charging, it took lot of time for charging, the phone also showe...\\nREAD MORE',\n",
       " 'awesome phone to have. it has got many smart features apart from mind blowing looks, camera, display, battery and sound. have fallen in love with this phone. must buy phone if you have got enough money. thanks to flipkart and apple of course..',\n",
       " 'Its a fabulous mobile look awesome performance unbeaten camera like dslr battery good i think this is a beast of mobile',\n",
       " 'Dear friends... I want to share my experience with you about this amazing I phone 11....this is my first iPhone and special things about this mobile is it has great camera, battery backup and awesome display.... I mean everything is perfect.loved it 👍👍👍',\n",
       " \"Just got this iphone 11\\nAnd it is most powerful mobile phone I have used ever\\n\\nSo,go for it if you want a phone with best specification like camera,battery backup,display, A13 bionic chip\\n\\nThat's my review about this phone but yours can be differ from me....\",\n",
       " 'Amazing phone and on great deal I received with super fast delivery by Flipkart...',\n",
       " 'finally an iPhone with very nice battery backup. update from iPhone 7 and happy to have it. camera is not up to the mark in low light but overall a recommended phone if your budget allows 😀',\n",
       " \"I'm switching this phone to oppo reno 10x zoom\\nIt's really impressive\\nRarely I'm missing smooth display touch response like oppo reno but\\nI really loved it.\\nCamera really impressive\",\n",
       " 'Worth the money’ starting first from its performance it beats out all phones , second the smoothness of camera is awesome, contrast ratio is much than expected. Price will not matter if u r a quality person, if not other phones are available with better discount',\n",
       " 'I dreamt about this day from a long time.... Getting an iPhone with my own money.... Super happy and worth spending every penny',\n",
       " \"I'm Really happy with the product\\nDelivery was fast as well\\n..it was a gift for my sister and she loved it so much.\",\n",
       " 'Great iphone.\\nI am writing this review after 2 months of usage.\\nCamera is excellent, especially the nightmode\\nDisplay perfect\\nBattery backup awesome\\nSound quality very good\\nOverall Apple gives you a perfect iphone in this range.\\nReally in love with iPhone 11',\n",
       " 'Did an upgrade from 6s plus to iphone 11.\\nAo far the experience is well and good. Felt smoother than 6s plus. The camera quality is superb. Battery backup is descent. Not a heavy user, and gets power more than a day. Go for it if you need an alrounder iphone in a competitve price.',\n",
       " 'Damn this phone is a blast . Upgraded from android to ios and is a duperb experience. Battery backup is top notch and display also pretty good',\n",
       " 'Gifted my man on his 30th birthday 🎂 He loves it.. Him happy so i am more than happy 😍😘❤️🥰',\n",
       " 'Thanks Flipkart For this amazing deal! I had a dream of owning a iphone since i had known about.\\nIm very happy with my purchase & it is totally worth it.\\nAmazing experience all over !!\\n\\nAnyone who’s thinking of buying it in 2021, i would simply say go for it without any second thoughts ❤️',\n",
       " 'awesome Phone Smooth Touch Too good Sexyy looks one word Awesome',\n",
       " 'I rate this product 5* as it has got amazing user experience with the best performing A13 bionic processor. The screen responds and graphics rendering is top notch. With casual gaming and internet browsing, the battery lasts for approx. 1 day. Camera is very good. You will fall in love with the portrait mode. You can call me a loyal Apple customer or whatever but I won’t stop praising the products and overall experience. That user experience matters and is worth every penny you pay.\\n\\nBelow ar...\\nREAD MORE',\n",
       " \"It was amazing experience for me. Honestly i am using iPhone first time so I don't have that much past experience about that. But after using 7 days this mobile i want to give some honest feedback.\\n1- Display 9 out of 10\\n2- Camera 9.5 out of 10\\n3- Battery 7 out of 10\\n4- Performance 9.5 out of 10\\n5- Features & Functions 10 out of 10\\n6- Outer looks and colour 10 out of 10\\nRest i think i will understand after using this for few months.\\nI will highly recommend you guys if you have budget then you...\\nREAD MORE\",\n",
       " \"Just go for it.\\nThis phone is really amazing. I ordered it for my wife and we click photos on this thing which are better than dslr. I own OnePlus 6t but it's camera sucks. iPhone is really amazing when it comes to camera. It's worth spending 50k on this. Cons- only display is lcd. While using u don't feel it but if u compare with other phone then u can see difference quite easily.\\nChanging from Android to iphone is bit difficult coz most of things u don't know but I liked it. Some of the a...\\nREAD MORE\"]"
      ]
     },
     "execution_count": 80,
     "metadata": {},
     "output_type": "execute_result"
    }
   ],
   "source": [
    "for i in review8:\n",
    "    review_flip.append(i.text)\n",
    "review_flip"
   ]
  },
  {
   "cell_type": "code",
   "execution_count": 81,
   "metadata": {},
   "outputs": [
    {
     "name": "stdout",
     "output_type": "stream",
     "text": [
      "80 80 80\n"
     ]
    }
   ],
   "source": [
    "print(len(rating_file),len(summary_scrap1),len(review_flip))"
   ]
  },
  {
   "cell_type": "code",
   "execution_count": 82,
   "metadata": {},
   "outputs": [],
   "source": [
    "url9 ='https://www.flipkart.com/apple-iphone-11-black-64-gb-includes-earpods-power-adapter/product-reviews/itm0f37c2240b217?pid=MOBFKCTSVZAXUHGR&lid=LSTMOBFKCTSVZAXUHGREPBFGI&marketplace=FLIPKART&page=9'\n",
    "driver.get(url9)"
   ]
  },
  {
   "cell_type": "code",
   "execution_count": 83,
   "metadata": {
    "scrolled": true
   },
   "outputs": [
    {
     "data": {
      "text/plain": [
       "[<selenium.webdriver.remote.webelement.WebElement (session=\"ec87b271ce103b9c0eb72458b9b3bc32\", element=\"2046d404-5453-4d3b-b040-29528b57e434\")>,\n",
       " <selenium.webdriver.remote.webelement.WebElement (session=\"ec87b271ce103b9c0eb72458b9b3bc32\", element=\"7de68955-7d7c-4a1b-ac7a-c3c6f9ac8125\")>,\n",
       " <selenium.webdriver.remote.webelement.WebElement (session=\"ec87b271ce103b9c0eb72458b9b3bc32\", element=\"b561c96a-ddc6-4a7c-ba4c-5472f84d48f9\")>,\n",
       " <selenium.webdriver.remote.webelement.WebElement (session=\"ec87b271ce103b9c0eb72458b9b3bc32\", element=\"a8f0a523-5c78-4019-aed4-3d088c3c3454\")>,\n",
       " <selenium.webdriver.remote.webelement.WebElement (session=\"ec87b271ce103b9c0eb72458b9b3bc32\", element=\"f1ea6f59-2488-4e46-b700-33eabd645105\")>,\n",
       " <selenium.webdriver.remote.webelement.WebElement (session=\"ec87b271ce103b9c0eb72458b9b3bc32\", element=\"74091398-826e-4508-96ff-4ad7b5e6fa29\")>,\n",
       " <selenium.webdriver.remote.webelement.WebElement (session=\"ec87b271ce103b9c0eb72458b9b3bc32\", element=\"35cfbb1e-4a44-429e-ac01-c4e16afd00ae\")>,\n",
       " <selenium.webdriver.remote.webelement.WebElement (session=\"ec87b271ce103b9c0eb72458b9b3bc32\", element=\"3f0b3b8a-17b6-4022-85e5-b2a69c6df083\")>,\n",
       " <selenium.webdriver.remote.webelement.WebElement (session=\"ec87b271ce103b9c0eb72458b9b3bc32\", element=\"59ad161f-8ad9-48fe-9def-350781742fcb\")>,\n",
       " <selenium.webdriver.remote.webelement.WebElement (session=\"ec87b271ce103b9c0eb72458b9b3bc32\", element=\"c87b67a8-da98-4f57-b29c-617a211ac166\")>]"
      ]
     },
     "execution_count": 83,
     "metadata": {},
     "output_type": "execute_result"
    }
   ],
   "source": [
    "rating9 = driver.find_elements_by_xpath(\"//div[@class='_3LWZlK _1BLPMq']\")\n",
    "rating9"
   ]
  },
  {
   "cell_type": "code",
   "execution_count": 84,
   "metadata": {
    "scrolled": true
   },
   "outputs": [
    {
     "data": {
      "text/plain": [
       "['5',\n",
       " '5',\n",
       " '5',\n",
       " '5',\n",
       " '5',\n",
       " '5',\n",
       " '4',\n",
       " '5',\n",
       " '5',\n",
       " '5',\n",
       " '5',\n",
       " '5',\n",
       " '5',\n",
       " '5',\n",
       " '5',\n",
       " '5',\n",
       " '5',\n",
       " '5',\n",
       " '5',\n",
       " '5',\n",
       " '4',\n",
       " '5',\n",
       " '5',\n",
       " '5',\n",
       " '5',\n",
       " '4',\n",
       " '5',\n",
       " '5',\n",
       " '5',\n",
       " '5',\n",
       " '5',\n",
       " '5',\n",
       " '5',\n",
       " '5',\n",
       " '5',\n",
       " '4',\n",
       " 1,\n",
       " '5',\n",
       " '5',\n",
       " '5',\n",
       " '5',\n",
       " '5',\n",
       " '5',\n",
       " '5',\n",
       " '5',\n",
       " '4',\n",
       " '5',\n",
       " '5',\n",
       " '5',\n",
       " '5',\n",
       " '5',\n",
       " '5',\n",
       " '5',\n",
       " '5',\n",
       " '5',\n",
       " '5',\n",
       " '5',\n",
       " '5',\n",
       " '5',\n",
       " '5',\n",
       " 1,\n",
       " '5',\n",
       " '5',\n",
       " '5',\n",
       " '4',\n",
       " '5',\n",
       " '5',\n",
       " '4',\n",
       " '5',\n",
       " '5',\n",
       " '4',\n",
       " '5',\n",
       " '5',\n",
       " '5',\n",
       " '5',\n",
       " '5',\n",
       " '5',\n",
       " '5',\n",
       " '5',\n",
       " '5',\n",
       " '5',\n",
       " '4',\n",
       " '4',\n",
       " '5',\n",
       " '3',\n",
       " '5',\n",
       " '5',\n",
       " '5',\n",
       " '5',\n",
       " '5']"
      ]
     },
     "execution_count": 84,
     "metadata": {},
     "output_type": "execute_result"
    }
   ],
   "source": [
    "for i in rating9:\n",
    "    rating_file.append(i.text)\n",
    "rating_file"
   ]
  },
  {
   "cell_type": "code",
   "execution_count": 85,
   "metadata": {
    "scrolled": true
   },
   "outputs": [
    {
     "data": {
      "text/plain": [
       "[<selenium.webdriver.remote.webelement.WebElement (session=\"ec87b271ce103b9c0eb72458b9b3bc32\", element=\"60a4c88b-ffd1-47e3-b570-67db6995aae0\")>,\n",
       " <selenium.webdriver.remote.webelement.WebElement (session=\"ec87b271ce103b9c0eb72458b9b3bc32\", element=\"847edf7e-7588-412f-9b00-67596669de95\")>,\n",
       " <selenium.webdriver.remote.webelement.WebElement (session=\"ec87b271ce103b9c0eb72458b9b3bc32\", element=\"c0210e3c-1b8f-405f-bf1c-4c421a6171a7\")>,\n",
       " <selenium.webdriver.remote.webelement.WebElement (session=\"ec87b271ce103b9c0eb72458b9b3bc32\", element=\"262c00b4-8df6-450d-9e38-bd24048431e7\")>,\n",
       " <selenium.webdriver.remote.webelement.WebElement (session=\"ec87b271ce103b9c0eb72458b9b3bc32\", element=\"830338e3-93f8-4ee2-89e4-502469703566\")>,\n",
       " <selenium.webdriver.remote.webelement.WebElement (session=\"ec87b271ce103b9c0eb72458b9b3bc32\", element=\"9f96476b-40c7-40d4-9378-80c61696d6ea\")>,\n",
       " <selenium.webdriver.remote.webelement.WebElement (session=\"ec87b271ce103b9c0eb72458b9b3bc32\", element=\"6de922cd-79ba-440c-9246-6c83ac31936d\")>,\n",
       " <selenium.webdriver.remote.webelement.WebElement (session=\"ec87b271ce103b9c0eb72458b9b3bc32\", element=\"83274a91-0211-4757-869e-f2f7e82fe597\")>,\n",
       " <selenium.webdriver.remote.webelement.WebElement (session=\"ec87b271ce103b9c0eb72458b9b3bc32\", element=\"57752ae2-888e-4f58-9962-04fbde5b3975\")>,\n",
       " <selenium.webdriver.remote.webelement.WebElement (session=\"ec87b271ce103b9c0eb72458b9b3bc32\", element=\"a02e5b17-a1dd-49c4-a4cc-452514557264\")>]"
      ]
     },
     "execution_count": 85,
     "metadata": {},
     "output_type": "execute_result"
    }
   ],
   "source": [
    "summary9 = driver.find_elements_by_class_name(\"_2-N8zT\")\n",
    "summary9"
   ]
  },
  {
   "cell_type": "code",
   "execution_count": 86,
   "metadata": {
    "scrolled": true
   },
   "outputs": [
    {
     "data": {
      "text/plain": [
       "['Brilliant',\n",
       " 'Simply awesome',\n",
       " 'Perfect product!',\n",
       " 'Fabulous!',\n",
       " 'Worth every penny',\n",
       " 'Great product',\n",
       " 'Good choice',\n",
       " 'Worth every penny',\n",
       " 'Highly recommended',\n",
       " 'Best in the market!',\n",
       " 'Perfect product!',\n",
       " 'Highly recommended',\n",
       " 'Perfect product!',\n",
       " 'Classy product',\n",
       " 'Worth every penny',\n",
       " 'Perfect product!',\n",
       " 'Simply awesome',\n",
       " 'Highly recommended',\n",
       " 'Worth every penny',\n",
       " 'Terrific',\n",
       " 'Nice product',\n",
       " 'Wonderful',\n",
       " 'Classy product',\n",
       " 'Brilliant',\n",
       " 'Must buy!',\n",
       " 'Good choice',\n",
       " 'Perfect product!',\n",
       " 'Wonderful',\n",
       " 'Terrific purchase',\n",
       " 'Great product',\n",
       " 'Simply awesome',\n",
       " 'Mind-blowing purchase',\n",
       " 'Terrific purchase',\n",
       " 'Excellent',\n",
       " 'Simply awesome',\n",
       " 'Good quality product',\n",
       " 'Very poor',\n",
       " 'Perfect product!',\n",
       " 'Must buy!',\n",
       " 'Fabulous!',\n",
       " 'Mind-blowing purchase',\n",
       " 'Mind-blowing purchase',\n",
       " 'Wonderful',\n",
       " 'Worth every penny',\n",
       " 'Great product',\n",
       " 'Very Good',\n",
       " 'Perfect product!',\n",
       " 'Classy product',\n",
       " 'Perfect product!',\n",
       " 'Just wow!',\n",
       " 'Awesome',\n",
       " 'Terrific',\n",
       " 'Terrific purchase',\n",
       " 'Awesome',\n",
       " 'Classy product',\n",
       " 'Brilliant',\n",
       " 'Terrific',\n",
       " 'Perfect product!',\n",
       " 'Awesome',\n",
       " 'Perfect product!',\n",
       " 'Very poor',\n",
       " 'Fabulous!',\n",
       " 'Excellent',\n",
       " 'Must buy!',\n",
       " 'Value-for-money',\n",
       " 'Brilliant',\n",
       " 'Terrific purchase',\n",
       " 'Good quality product',\n",
       " 'Perfect product!',\n",
       " 'Awesome',\n",
       " 'Value-for-money',\n",
       " 'Just wow!',\n",
       " 'Super!',\n",
       " 'Best in the market!',\n",
       " 'Classy product',\n",
       " 'Highly recommended',\n",
       " 'Mind-blowing purchase',\n",
       " 'Must buy!',\n",
       " 'Excellent',\n",
       " 'Excellent',\n",
       " 'Terrific',\n",
       " 'Pretty good',\n",
       " 'Nice product',\n",
       " 'Mind-blowing purchase',\n",
       " 'Does the job',\n",
       " 'Wonderful',\n",
       " 'Worth every penny',\n",
       " 'Worth every penny',\n",
       " 'Fabulous!',\n",
       " 'Classy product']"
      ]
     },
     "execution_count": 86,
     "metadata": {},
     "output_type": "execute_result"
    }
   ],
   "source": [
    "for i in summary9:\n",
    "    summary_scrap1.append(i.text)\n",
    "summary_scrap1"
   ]
  },
  {
   "cell_type": "code",
   "execution_count": 87,
   "metadata": {},
   "outputs": [
    {
     "data": {
      "text/plain": [
       "[<selenium.webdriver.remote.webelement.WebElement (session=\"ec87b271ce103b9c0eb72458b9b3bc32\", element=\"b0532d30-50ce-4095-9f91-405dd55e5126\")>,\n",
       " <selenium.webdriver.remote.webelement.WebElement (session=\"ec87b271ce103b9c0eb72458b9b3bc32\", element=\"bef02483-6136-4b71-9aaa-eaa51ca0b129\")>,\n",
       " <selenium.webdriver.remote.webelement.WebElement (session=\"ec87b271ce103b9c0eb72458b9b3bc32\", element=\"bb1935d6-fa8b-4da8-9ead-95853f1ac46c\")>,\n",
       " <selenium.webdriver.remote.webelement.WebElement (session=\"ec87b271ce103b9c0eb72458b9b3bc32\", element=\"40de444f-d353-4b08-acc9-aa421b49894d\")>,\n",
       " <selenium.webdriver.remote.webelement.WebElement (session=\"ec87b271ce103b9c0eb72458b9b3bc32\", element=\"f375cded-33f3-4fa1-b416-5832d586cb05\")>,\n",
       " <selenium.webdriver.remote.webelement.WebElement (session=\"ec87b271ce103b9c0eb72458b9b3bc32\", element=\"6e88c6b1-7306-4b2a-9196-fe098ddc8ca8\")>,\n",
       " <selenium.webdriver.remote.webelement.WebElement (session=\"ec87b271ce103b9c0eb72458b9b3bc32\", element=\"725c0b4e-8f1c-4244-b2a8-866033443562\")>,\n",
       " <selenium.webdriver.remote.webelement.WebElement (session=\"ec87b271ce103b9c0eb72458b9b3bc32\", element=\"0a43b043-655f-4f9b-8094-60c8936e4ac8\")>,\n",
       " <selenium.webdriver.remote.webelement.WebElement (session=\"ec87b271ce103b9c0eb72458b9b3bc32\", element=\"dedebbd2-9e7a-44af-abc0-2f1d7e4d7f0b\")>,\n",
       " <selenium.webdriver.remote.webelement.WebElement (session=\"ec87b271ce103b9c0eb72458b9b3bc32\", element=\"28d5b05b-64b4-4f11-a888-683785eb49b6\")>]"
      ]
     },
     "execution_count": 87,
     "metadata": {},
     "output_type": "execute_result"
    }
   ],
   "source": [
    "review9=driver.find_elements_by_class_name('t-ZTKy')\n",
    "review9"
   ]
  },
  {
   "cell_type": "code",
   "execution_count": 88,
   "metadata": {
    "scrolled": true
   },
   "outputs": [
    {
     "data": {
      "text/plain": [
       "['The Best Phone for the Money\\n\\nThe iPhone 11 offers superb cameras, a more durable design and excellent battery life for an affordable price.\\n\\nCompelling ultra-wide camera\\nNew Night mode is excellent\\nLong battery life',\n",
       " 'Really satisfied with the Product I received... It’s totally genuine and the packaging was also really good so if ur planning to buy just go for it.',\n",
       " 'Amazing phone with great cameras and better battery which gives you the best performance. I just love the camera .',\n",
       " 'This is my first iOS phone. I am very happy with this product. Very much satisfied with this. I love this phone.',\n",
       " 'Previously I was using one plus 3t it was a great phone\\nAnd then I decided to upgrade I am stuck between Samsung s10 plus or iPhone 11\\nI have seen the specs and everything were good except the display it’s somewhere between 720-1080 and it’s not even an amoled it’s an LCD display\\nBut I decided to go with iPhone because I have never used an IOS device I have Been an android user from the past 9 years I ordered IPhone 11 (128gb) product red\\nMy experience after using 3 weeks\\n1. The delivery ...\\nREAD MORE',\n",
       " 'Amazing Powerful and Durable Gadget.\\n\\nI’m am very happy with the camera picture quality, Amazing face id unlocked in dark room, Strong battery with perfect screen size as you can carry easily in pocket. This is my third iPhone.\\n\\nI shifted from android Samsung Note series to iPhone because of the strong build quality and peace of mind for next 3-4 years.\\n\\nDon’t think to much just go for it and I suggest you to go for minimum 128gb variant or more 256gb.\\n\\nI’ve attached my puppy pics and no fi...\\nREAD MORE',\n",
       " 'So far it’s been an AMAZING experience coming back to iOS after nearly a decade but it’s not as versatile as android though phone is sturdy dropped it accidentally a couple of times and nothing happened fortunately camera is awesome',\n",
       " 'i11 is worthy to buy, too much happy with the product. Thank u flipkart I received the item on time..loved it..',\n",
       " 'iphone 11 is a very good phone to buy only if you can compromise for the display. The display on this is device is pretty good but you can get other options with better displays in this price segment.\\nIf you can survive with an HD+ LCD panel with thicker bezels and a notch up top then this is a very good phone for you.\\nCameras are awesome, battery backup excellent, great performance and a decent premium look. Good job Apple !',\n",
       " 'Great iPhone very snappy experience as apple kind. Upgraded from iPhone 7.\\nPros\\n-Camera top class\\n- Battery top performed\\n-Chipset no need to say as apple kind\\n-Security as you expect from apple\\n- Display super bright industry leading colour\\naccuracy and super responsive\\n-Build quality as expect from apple sturdy\\npremium durable beautiful stylish.\\n-Os most stable os in smartphone industry\\n\\nCons\\n-No 5G\\n-Display is not based on OLED technology\\n-Charger headphones and 1 apple stic...\\nREAD MORE',\n",
       " 'It’s a must buy who is looking for an upgrade from previous generation of iPhones. If you are using XR then still you can hold on for sometime and upgrade to 2020 model else this phone is a must buy . Camera quality is amazing and wide angle is something to count upon. Performance wise it’s amazing and feels premium while holding in hand. So a big YES for this device. Go for 128 GB variant as the 4K videos will occupy lots of space and the storage can get over very quickly. Try to buy it with...\\nREAD MORE',\n",
       " 'What a camera .....just awesome ..you can feel this iPhone just awesome . Good for gaming also ...try pubg in hd it’s just wow',\n",
       " 'Value for money❤️❤️\\nIts awesome mobile phone in the world ...\\nDisplay was very good and bright ..\\nTrust me freinds you r never regret after Buying..\\nJust go for it....\\nI love this phone and i switch to iphone x to 11',\n",
       " 'Totally in love with this ❤ the camera quality is amazing just love it 😘😘😘 itsss dammnnnnnn amazing... Must buy iPhone 11 this is my best experience ever ☀👌👌🧡🧡🧡🧡🧡 thanku apple ❤',\n",
       " 'Best budget Iphone till date ❤️ go for it guys without second thought. Let me explain you guys about Camera, Display, battery, and performance.\\n\\nCamera: at this price range there is no comparison of camera, you’ll love the picture quality as well as video quality. I am a Vlogger I wanted an iPhone with 4k video by front camera and I got this phone and I am more than happy 😃\\n\\nBattery: I use this phone roughly as I am active social media person and I have a youtube channel. so the battery ba...\\nREAD MORE',\n",
       " \"Iphone is just awesome.. battery backup is very very nice.. continuously for 10 hours we can use it.camera is just awesome.. display is just fab.i love it alot..i had to wait 15 days for it as i pre ordered it..overalll it's worth the price..these all images are clicked by my iPhone..and i love it.\",\n",
       " 'Excellent camera, good performance, no lag. The lcd display is also good.. but difference come when we watch movie in prime and Netflix, the colours are not vibrant.. as we see in amoled display.. and the charger in box is of 5 watts.. takes more than 3 hours to charge from 0 to 100.. so guys be prepare to buy 18 watts charger . Finally I am an android user, it was my first Iapple phone, I promise u guys the iOS is so smooth.. overall the phone is damn good.... close eyes to buy it.. thanks t...\\nREAD MORE',\n",
       " \"It's my first time to use iOS phone and I am loving my upgradation 😍😍 I love the color, I love the assebility of the phone....I need to learn more about its functionality, but as far as I have seen, it's quite easy and it has a lot of functions to work on, specially if you are a content writer or a blogger you get a lot of content creation platforms and they are really amazing.\\n\\nThis phone not only for good quality photography but a lot of other task too.😍💯\",\n",
       " 'It’s been almost a month since I have been using this phone. I upgraded from an iPhone 8. The main issue with my 8 was battery and this phone is just awesome when it comes to battery. It lasts a day and a half for me with my regular use , internet connected always with 4g\\nCan’t move forward without saying this. Battery of this phone is a life saver when I am traveling or at work when I don’t get the option to charge\\nCamera is superb. Front cam selfies and back cam photos are just awesome.\\n...\\nREAD MORE',\n",
       " 'Really worth of money. i just love it. It is the best phone ever.',\n",
       " 'Awesome Phone. Slightly high price but worth. Better than iPhone XR.\\nCamera is superb and wide angle camera is very clear.\\n12MP selfie camera is also very good.\\nA13 Chip gives a very good and smooth performance.',\n",
       " 'This is my first ever I phone. Before this I was using my google nexus 5. But moving from android to iOS is a great experience. It’s worth at this price. I will highly recommend it if you want to move to iOS. The best part of this phone is it’s camera and it’s battery life. This two things have won my heart. I loved it. Happy to have it in my hand. Still exploring its features. And can’t forget to mention Flipkart service. Very prompt service and fast delivery.',\n",
       " 'Superb Product !!!\\nA big and worthy upgrade from mi 3S to iphone 11 .\\nTotally loved it !',\n",
       " 'I have migrated from OP 7pro... and trust me, iPhone 11 is totally worth it.. following are the reasons:-\\n1)there is ABSOLUTELY NO ISSUE WITH THE DISPLAY... its crisp, sharp and I found it to be much much better than OP7 pro. Netflix, Prime video all run crisply... you won’t miss a thing. True Tone works flawlessly...the display brightness is perfect. OP have not calibrated their screens properly.\\n2) iPhone 11 series have really good cameras... others have spoken in depth about them.\\n3) bat...\\nREAD MORE',\n",
       " 'It’s an amazing product from apple and the camera is simply superb. Phone is faster.Night shot is simply superb and detailing and colour differentiation from camera is an added advantage\\n\\nThis review I have written from iPhone 11 only and I am glad to say outside.\\n\\nCons wise if we see HD+ display only, no battery percentage indicator as in older iPhone 8.\\nNo assistive touch control button in it\\nNo oleophobic coating on back panel glass and finger prints are visible but since I bought mint gr...\\nREAD MORE',\n",
       " 'Looking so good 👍 😍 super 👌 stylish 😎 phone\\nClean box 📦 good 👍 delivery 👌 fast delivery\\nOriginal box Original iphone 📱 👌 😍😍😍',\n",
       " 'After 1 month use I found camera quality best compared to my previous Samsung note 10+.Display not good as note 10 also charging too slow.Apple should add fast charger like 11 plus and pro.Best phone for daily use',\n",
       " 'I just directly switch from iphone 6s to iphone 11 .The best premium smartphone I recommend to everyone. Excellent quality and colors the iphone have in 11 series.\\nCamera quality is just awesome and the major feel when we hold in our hands. The sound quality and volume is also higher then the previous models.\\nI will recommend to buy iphone 11 instead of pro models , there is nothing much difference as this model contains everything which fulfill our needs.\\n\\nOnly one thing that I dislike abo...\\nREAD MORE',\n",
       " 'Upgraded from iphone 6 to 11 best phone for iphone users battery is much better than other iphones camera is awesome love to use it.camera is so clear in night.',\n",
       " 'Well you all know the specifications . One of a kind. Best iPhone till date. Many enhancements to the camera app with many options. Love the glass body with matte finish in the lens area on the back. Lovely colours to choose from. Best battery in an iPhone till date, enough to last more than a day in normal usage. I tested my iPhone 11 battery and lasted for than 24 hours after full charge still with 30% battery charge left. Watched movies for some time. Normal usage on calls, browsing, musi...\\nREAD MORE',\n",
       " \"It's very high performances devise i am like the service of flipkart delevary very fast and packing very nice perfect phone\",\n",
       " 'This will help you more. See if you are planning to buy iPhone 11. I will say. Yes. But there are some plans I just want to disclose before you buy. 1) If you are an existing iPhone X/XS/XS Max/ XR user, better you guys do not think it to buy. You guys have more or less better gadget. 2) If you are an android user and planning to buy premium phone. I will suggest them to please buy iPhone instead of buying an Android. I bet you will never go back to android after using IOS. Now I want to shar...\\nREAD MORE',\n",
       " 'The built quality is not very premium.\\nThe battery back is great .\\nThe LCD panel is not so sharp but the brightness level is very High .\\nCamera is super duper awesome.\\nThe red colour which people think is bright is actually very soothing and excellent colour to choose from .\\nThe A13 Bionic chip is really a flagship processor and can beat any phone which even has 12 gb ram .\\nCamera module is very great and looks very stylish.',\n",
       " 'Amazing camera and feel super machine I am not describe my feeling but this is amazing Phone I am so lucky I have this',\n",
       " 'Really good actually this is my first apple product am using its really awesome performance wise excellent. Am really happy with this iphone11',\n",
       " 'it is very good at performance. Camera is best like before and very smooth response even in water. Don’t buy 12 mini buy iPhone 11 , it is far better than 12 mini believe me ! Have a nice day \\uf8ff ☺️',\n",
       " 'Reviewing again after 5 months. At the beginning the battery and performance was good but it degraded soon. Also I was facing heating issues. The mobile will heat up like a stove sometimes. You cannot even play Pubg even in low settings properly, performance is not a problem but heating is. Also if you play that game for 10 mins the brightness will be automatically down due to over heating even when the auto brightness is set to off. This will not be solved even if u manually increase the bri...\\nREAD MORE',\n",
       " 'It is just awesome mobile for this price from Apple,\\n\\nAfter 10 days review\\n\\nBattery enough for 1 day even 24*7 Internet will be on and mostly internet usage\\n\\nCamera is just awesome cool , android 64 MP is equal to this just 12 MP\\n\\nA13 Bionic chip will give more high performance without hanging\\n\\nAudio stereo speakers will give Dolby atoms sound with crystal clear\\n\\nVideo recording is like cinematic shots of every sec can be a 4K 60fps. Just awesome this phone\\niPhone 11 loved one',\n",
       " 'Best Apple iPhone that i have bought at a very reasonable price, camera quality is next level just awesome n of superior quality android phones not even close(RIP) to that and also battery is really good but packaging by Flipkart of iPhone was very poor of such a expensive product, firstly im bit worried about the quality of product if i purchased it through online how was the product but i think now this was mine best decision to bought it through Flipkart online because i got genuine Apple...\\nREAD MORE',\n",
       " \"I can say I'm damn impressed with iPhone 11. As they says iPhone 11 have the toughest glass ever in the smartphone which you'll find on the front and back and it's totally smooth. The fit and finish is full apple quality - there's no sense that any cheaping out has happened in the construction. Without saying it's camera features this review won't complete. The iPhone 11 has a dual camera system, consisting of a wide angle len's that's pretty much same as found on the iPhone XR last year, but...\\nREAD MORE\",\n",
       " 'Best Quality Product OF iPhone Series , Sound Quality & Camera quality is very awesome, Battery Life is very Sufficient for 24 hr Backup With Full Internet Access , I love this this Product too much , It is very fast & making me Very fast in all my daily Routine\\nHighlights;\\n1.Camera: 5 STAR\\n2.Video Recording: 5 star\\n3.Night mODE sHOOTING & Camera:4 star\\n4. Audio Quality: Awesome\\n5. Battery : 5 Star\\n6. Touch:5 Star\\n7. Processor: Very Fast\\nThe M...\\nREAD MORE',\n",
       " 'First thanks to Flipkart for this amazing deal and phone is outstanding. I upgraded from iPhone 7 and this is like very big upgrade. But the packaging was very basic I expected a good packaging as they only wrapped one layer of bubble wrap which I don’t think is enough to protect this expensive phone. And I recommend this phone and seller as well.\\n\\nAnd I’m posting this review after using it for 4 days.',\n",
       " 'Superfast delivery by Flipkart. Thanks.\\n\\n1. iPhone 11 is a pretty solid phone for the money you are paying.\\n2. All the bad reviews about the display is confusing. It’s not that bad.\\n3. I switched from a Oneplus 7t. I have no complaints about the display quality of iPhone. Yes, it’s not OLED, so, we are missing on the deep blacks. But that’s it. It is a very colour accurate display. Gets adequately bright and I could not find any pixelation.\\n4. Performance is one of the best, if not best, in ...\\nREAD MORE',\n",
       " 'Smooth like butter, camera like fantabulous, sound is crystal clear & its red color is damn attractive, i am just loving it. Must buy if you love photography.\\n\\nLucky to get it in sale, thank you Flipkart.',\n",
       " \"Again back to apple iphone after a gap of 2-3 years. It's pleasure to use iOS and the quality product by Apple. Iphone 11 still works like a beast in 2021 also. It really capable of doing day to day usage as well as hard core gaming. Battery is awesome. I'm really too much satisfied with it. Apart fto the very gorgious IPS LCD (AMOLED will be better) everything is mind boggling. Iphone💕.\",\n",
       " 'impressive super phone and best in class camera ,sound and face unlock is super fast just see and phone is unlock and fast in daily apps use',\n",
       " 'Battery backup is extraordinary, camera is decent & performance offered by A13 bionic is awsome. The display is good in practical usage like the visibility of display is very good in direct sun light compare to pro models. Iam extremely satisfied for the money I spent.',\n",
       " 'Well while switching from android to iOS the first thing you need to be careful about is that you will loose all your whatsapp chat backups as both are different operating systems. Camera clarity is awesome and though being an lcd screen clarity and resolution is good. Battery backup is also good unlike previous gen iPhone. So far the experience is good will Padre after a few months of usage.\\n\\nP.S the black is more of a dark grey shade and not jet black',\n",
       " 'In love with this iphone great performance,camera ,battery everything. Go for it have a uncompareble battery backup, no doubts in iPhone camera here You can see the picture which is shot on my iPhone In love with this iphone great performance,camera ,battery everything. Go for it have a uncompareble battery backup, no doubts in iPhone camera here You can see the picture which is shot on my iPhone In love with this iphone great performance,camera ,battery everything. Go for it have a uncompare...\\nREAD MORE',\n",
       " 'Best in class. Battery backup is good especially when you play games like Pubg COD. But it is sort of heavy when you hold in hands. Portrait mode is best to click pictures. Stage light effect is awesome. Try to click photos outside in nature because photos inside home or room will not give you the quality in any phone even in DSLR.',\n",
       " 'Very excited to have this phone. This phone has the real power unlike the android phones having SD 855 . The battery life is very good and the camera quality is excellent as comapred to redmi and other phones except google pixel. I M enjoying every single bit of it. Would recommed only if you have the budget.',\n",
       " \"I upgraded (downgraded?) from my iPhone X since the phone fell down and I didn't want to repair the screen. The box that the phone came in was super slim and I was worried that there'd be no 5W charger with it and my fears were confirmed. However, thankfully I had the 18W USB-C PD charger from Apple which I bought for my iPhone X and it worked perfectly. The charging time is as lethargic as ever though and it takes about 1:30 mins or even 2 hours depending on charge remaining. I'll list some ...\\nREAD MORE\",\n",
       " 'Its Very awesome product working and good camera quality and all about best product and also flipkart is very great deal and offer nice price',\n",
       " 'I am using this phone for 5 days and its one of the best camera out there ❤️ the screen is not oled and i am coming from iphone xs so its little bit not up to the mark i would say\\nBut overall value for money💕😍the battery back up is far better than my iphone xs and its worth in my apple ecosystem💫❤️if u are an apple User and have the eco system then go for it❤️though i will be getting the new iphone but its pretty good💫',\n",
       " 'Best and amazing product.....phone looks so premium.... battary is also good as expected .... Wide angle camera is so addictive ...if you are a IOS lover....then this phone will be the best choice for you all!!💯🔥',\n",
       " 'Excellent camera and display touching very nice and smooth very improvement against iPhone XR and new processor is very fast',\n",
       " \"I got this beast today. And I must say the picture quality of its camera is awesome. Both the cameras works fine.\\n\\nAs for as the processing is concerned, it runs without any lag. You can play and do whatever you want without a glitch.\\n\\nThe battery runs for a day with medium and high workload.\\n\\nThe display is good and the speakers are working fine.\\n\\nThe earphones doesn't have any base and you can use it for calling mostly.\\n\\nThe charging time is approximately for 90 minutes for full charging...\\nREAD MORE\",\n",
       " 'Awesome purchase. Amazing phone with good battery backup. It’s a top notch device. White colour looks amazing. Phone has a few extra feature than iPhone XR. Overall, this is value for money',\n",
       " 'Always love the apple products, upgraded from old iPhone 6S plus to this after having my first baby. I just love to click baby’s photos with it. Overall I just love this phone. Battery back up is okay, sound quality is good. Haven’t tested yet waterproof yet. Only one thing I hate is apple could have given charger & headphones in box.',\n",
       " 'Value for money\\n5 star rating\\nExcellent camera\\nBattery backup full day in single charge.\\n\\nTougher and water resistant design, glossy back.\\nThe screen has excellent brightness and contrast.\\nApple A13 Bionic is the fastest smartphone chip on the planet.\\nExcellent battery life, fast charging support.\\nStereo speakers with great quality.',\n",
       " 'Please DONT buy from here,\\n\\nI purchased Apple iPhone 11. with an exchange of IPhone 7, the exchange did not go well, iPhone 7 had a small scratch out side screen which i could never identify till date, but the FLIPKART person could, so he reduced 50% from exchange rate. I decided not to trade in, but paid money.\\n\\niPhone 11 Detail Below\\n---------------------------------------------\\nIt came with no charging, then i have put for charging, it took lot of time for charging, the phone also showe...\\nREAD MORE',\n",
       " 'awesome phone to have. it has got many smart features apart from mind blowing looks, camera, display, battery and sound. have fallen in love with this phone. must buy phone if you have got enough money. thanks to flipkart and apple of course..',\n",
       " 'Its a fabulous mobile look awesome performance unbeaten camera like dslr battery good i think this is a beast of mobile',\n",
       " 'Dear friends... I want to share my experience with you about this amazing I phone 11....this is my first iPhone and special things about this mobile is it has great camera, battery backup and awesome display.... I mean everything is perfect.loved it 👍👍👍',\n",
       " \"Just got this iphone 11\\nAnd it is most powerful mobile phone I have used ever\\n\\nSo,go for it if you want a phone with best specification like camera,battery backup,display, A13 bionic chip\\n\\nThat's my review about this phone but yours can be differ from me....\",\n",
       " 'Amazing phone and on great deal I received with super fast delivery by Flipkart...',\n",
       " 'finally an iPhone with very nice battery backup. update from iPhone 7 and happy to have it. camera is not up to the mark in low light but overall a recommended phone if your budget allows 😀',\n",
       " \"I'm switching this phone to oppo reno 10x zoom\\nIt's really impressive\\nRarely I'm missing smooth display touch response like oppo reno but\\nI really loved it.\\nCamera really impressive\",\n",
       " 'Worth the money’ starting first from its performance it beats out all phones , second the smoothness of camera is awesome, contrast ratio is much than expected. Price will not matter if u r a quality person, if not other phones are available with better discount',\n",
       " 'I dreamt about this day from a long time.... Getting an iPhone with my own money.... Super happy and worth spending every penny',\n",
       " \"I'm Really happy with the product\\nDelivery was fast as well\\n..it was a gift for my sister and she loved it so much.\",\n",
       " 'Great iphone.\\nI am writing this review after 2 months of usage.\\nCamera is excellent, especially the nightmode\\nDisplay perfect\\nBattery backup awesome\\nSound quality very good\\nOverall Apple gives you a perfect iphone in this range.\\nReally in love with iPhone 11',\n",
       " 'Did an upgrade from 6s plus to iphone 11.\\nAo far the experience is well and good. Felt smoother than 6s plus. The camera quality is superb. Battery backup is descent. Not a heavy user, and gets power more than a day. Go for it if you need an alrounder iphone in a competitve price.',\n",
       " 'Damn this phone is a blast . Upgraded from android to ios and is a duperb experience. Battery backup is top notch and display also pretty good',\n",
       " 'Gifted my man on his 30th birthday 🎂 He loves it.. Him happy so i am more than happy 😍😘❤️🥰',\n",
       " 'Thanks Flipkart For this amazing deal! I had a dream of owning a iphone since i had known about.\\nIm very happy with my purchase & it is totally worth it.\\nAmazing experience all over !!\\n\\nAnyone who’s thinking of buying it in 2021, i would simply say go for it without any second thoughts ❤️',\n",
       " 'awesome Phone Smooth Touch Too good Sexyy looks one word Awesome',\n",
       " 'I rate this product 5* as it has got amazing user experience with the best performing A13 bionic processor. The screen responds and graphics rendering is top notch. With casual gaming and internet browsing, the battery lasts for approx. 1 day. Camera is very good. You will fall in love with the portrait mode. You can call me a loyal Apple customer or whatever but I won’t stop praising the products and overall experience. That user experience matters and is worth every penny you pay.\\n\\nBelow ar...\\nREAD MORE',\n",
       " \"It was amazing experience for me. Honestly i am using iPhone first time so I don't have that much past experience about that. But after using 7 days this mobile i want to give some honest feedback.\\n1- Display 9 out of 10\\n2- Camera 9.5 out of 10\\n3- Battery 7 out of 10\\n4- Performance 9.5 out of 10\\n5- Features & Functions 10 out of 10\\n6- Outer looks and colour 10 out of 10\\nRest i think i will understand after using this for few months.\\nI will highly recommend you guys if you have budget then you...\\nREAD MORE\",\n",
       " \"Just go for it.\\nThis phone is really amazing. I ordered it for my wife and we click photos on this thing which are better than dslr. I own OnePlus 6t but it's camera sucks. iPhone is really amazing when it comes to camera. It's worth spending 50k on this. Cons- only display is lcd. While using u don't feel it but if u compare with other phone then u can see difference quite easily.\\nChanging from Android to iphone is bit difficult coz most of things u don't know but I liked it. Some of the a...\\nREAD MORE\",\n",
       " 'I bought iPhone 11 On March 2021, And I am Writing this review after using the phone for 4 Months. I would Say Everything is fine, Top Performance, Nice Camera as Anyone would Expect from any series of iPhone but when the Question comes to Battery it is complicated. The Battery is fully optimised and it comes 3110 mAh capacity but the problem is with the charger. Honestly Apple Removed charger from in Box items in the name of Environment and they are also forcing us to buy any 20W PD 3rd part...\\nREAD MORE',\n",
       " \"I've used this phone for over a month now and here are my takeaways.\\nI would like to first talk about the best things about this phone and then the cons of it.\\n\\nPros:\\nThis phone is a performance beast. It handles large games and applications effortlessly and you won't find any stutters or lags while playing graphic intensive games like pubg, cod , mortal kombat and asphalt.\\n\\nThis phone has only 4gb ram and yet the ram management is amazing, it can keep 3 heavy games in memory without reload...\\nREAD MORE\",\n",
       " \"If you are looking for a premium phone under 55k, this is the one for you.Got the iPhone 11 during the Republic day sale. Performance is top notch in this price range. Camera's do a perfect job in taking good quality photos and videos. Battery backup too is satisfactory. Writing this review after using for a week. Any further observations would be updated.\",\n",
       " 'Absolutely powerful gadget. Loved it’s look! Soo glassy and classy. I would definitely recommend this model of Apple. Only disappointed with the 5W charger, one should purchase an 18W adapter for fast charging. Though battery backup is great. Bought it in September 2020, reviewing after so long so I’m gonna put the genuine review here.✅',\n",
       " \"phone is good but in display is 720p lcd in this price range we can get full hd OLED displays with higher refresh rate processor is very good camera is nice but looks kind of oldish in front of todays phone also there's no charging in box had to buy it seperately\",\n",
       " 'Nice value for money good and best price I phone mind blowing camera processor very fast other android mobile I am happy India top selling phone 2020',\n",
       " 'Here is the thing\\n\\nThe only reason why you should buy this phone is for the camera, iOS, and if you have headaches looking at AMOLED display.\\n\\nI’m not an avid gamer but watch a lot of movies on smartphone. However, my migraine attacks increased considerably after using AMOLED Smartphone. That’s why I made a calculated decision to buy iPhone 11. It has the best LCD display and the blacks, though not as natural as an AMOLED, is better than some of the other smartphones.\\n\\nAdding to this the ste...\\nREAD MORE',\n",
       " 'Undoubtedly Iphone 11 is the most successful model till now and its performance is extraordinary and the security features are very impressive, display is more vibrant sound quality Camera Quality 5*****, but Iphone should add accessories too and act like scrooge.',\n",
       " 'I purchased the iPhone 11 a month back. I must say Apple has impressed me yet again . I have been an Apple user for past 5 years . The phone is power packed with amazing features . What impressed me the most was the battery backup the phone offers . Battery can easily run upto 1.5 days in single charge with moderate to\\nHeavy usage . If you’re looking for a value for money device , I don’t see any other phone in the price range which can match the iPhone 11 .\\nOne thing I didn’t like was that ...\\nREAD MORE',\n",
       " 'We are on apple ecosystem for almost eight years now with couple of iPads and iPhones, including Xr.\\n\\nBought iPhone 11 as a gift to my daughter who loves it. We chose for a purple coloured one. Believe me it is gorgeous and towards the lighter shade. Dazzling and brilliant!\\n\\nThe phone is great and does excellent RAM management like any other Apple device.\\n\\nThe screen, though a LCD and lesser ppi as compared to other flagship phones of competitor brands, is a delight to watch with perfect re...\\nREAD MORE']"
      ]
     },
     "execution_count": 88,
     "metadata": {},
     "output_type": "execute_result"
    }
   ],
   "source": [
    "for i in review9:\n",
    "    review_flip.append(i.text)\n",
    "review_flip"
   ]
  },
  {
   "cell_type": "code",
   "execution_count": 89,
   "metadata": {
    "scrolled": true
   },
   "outputs": [
    {
     "name": "stdout",
     "output_type": "stream",
     "text": [
      "90 90 90\n"
     ]
    }
   ],
   "source": [
    "print(len(rating_file),len(summary_scrap1),len(review_flip))"
   ]
  },
  {
   "cell_type": "code",
   "execution_count": 90,
   "metadata": {},
   "outputs": [],
   "source": [
    "url10 ='https://www.flipkart.com/apple-iphone-11-black-64-gb-includes-earpods-power-adapter/product-reviews/itm0f37c2240b217?pid=MOBFKCTSVZAXUHGR&lid=LSTMOBFKCTSVZAXUHGREPBFGI&marketplace=FLIPKART&page=10'\n",
    "driver.get(url10)"
   ]
  },
  {
   "cell_type": "code",
   "execution_count": 91,
   "metadata": {
    "scrolled": false
   },
   "outputs": [
    {
     "data": {
      "text/plain": [
       "[<selenium.webdriver.remote.webelement.WebElement (session=\"ec87b271ce103b9c0eb72458b9b3bc32\", element=\"a998fca7-5cb3-4448-8474-9198559bb8d2\")>,\n",
       " <selenium.webdriver.remote.webelement.WebElement (session=\"ec87b271ce103b9c0eb72458b9b3bc32\", element=\"cfda6a4d-88ad-43c4-a0e9-f026e847ecc9\")>,\n",
       " <selenium.webdriver.remote.webelement.WebElement (session=\"ec87b271ce103b9c0eb72458b9b3bc32\", element=\"210e02b4-46e2-4109-93e7-3b4a325858d5\")>,\n",
       " <selenium.webdriver.remote.webelement.WebElement (session=\"ec87b271ce103b9c0eb72458b9b3bc32\", element=\"ea44dc48-a3f4-4226-9cd0-dfb176bac7ee\")>,\n",
       " <selenium.webdriver.remote.webelement.WebElement (session=\"ec87b271ce103b9c0eb72458b9b3bc32\", element=\"91dc8fd0-c1be-4dec-9ebb-f742daeae26a\")>,\n",
       " <selenium.webdriver.remote.webelement.WebElement (session=\"ec87b271ce103b9c0eb72458b9b3bc32\", element=\"a02efd3c-5ce6-46f0-ad38-96758be1eee2\")>,\n",
       " <selenium.webdriver.remote.webelement.WebElement (session=\"ec87b271ce103b9c0eb72458b9b3bc32\", element=\"3d3b2cde-8d5d-4108-b49c-730552b625ae\")>,\n",
       " <selenium.webdriver.remote.webelement.WebElement (session=\"ec87b271ce103b9c0eb72458b9b3bc32\", element=\"10d640e9-7c81-4a29-b8b6-8fbf565f9240\")>,\n",
       " <selenium.webdriver.remote.webelement.WebElement (session=\"ec87b271ce103b9c0eb72458b9b3bc32\", element=\"7b3fab41-b58e-4bdc-b0fc-5353cfa9a709\")>,\n",
       " <selenium.webdriver.remote.webelement.WebElement (session=\"ec87b271ce103b9c0eb72458b9b3bc32\", element=\"3ade4d5b-e76b-49b8-a519-846e05bdd293\")>]"
      ]
     },
     "execution_count": 91,
     "metadata": {},
     "output_type": "execute_result"
    }
   ],
   "source": [
    "rating10 = driver.find_elements_by_xpath(\"//div[@class='_3LWZlK _1BLPMq']\")\n",
    "rating10"
   ]
  },
  {
   "cell_type": "code",
   "execution_count": 92,
   "metadata": {
    "scrolled": true
   },
   "outputs": [
    {
     "data": {
      "text/plain": [
       "['5',\n",
       " '5',\n",
       " '5',\n",
       " '5',\n",
       " '5',\n",
       " '5',\n",
       " '4',\n",
       " '5',\n",
       " '5',\n",
       " '5',\n",
       " '5',\n",
       " '5',\n",
       " '5',\n",
       " '5',\n",
       " '5',\n",
       " '5',\n",
       " '5',\n",
       " '5',\n",
       " '5',\n",
       " '5',\n",
       " '4',\n",
       " '5',\n",
       " '5',\n",
       " '5',\n",
       " '5',\n",
       " '4',\n",
       " '5',\n",
       " '5',\n",
       " '5',\n",
       " '5',\n",
       " '5',\n",
       " '5',\n",
       " '5',\n",
       " '5',\n",
       " '5',\n",
       " '4',\n",
       " 1,\n",
       " '5',\n",
       " '5',\n",
       " '5',\n",
       " '5',\n",
       " '5',\n",
       " '5',\n",
       " '5',\n",
       " '5',\n",
       " '4',\n",
       " '5',\n",
       " '5',\n",
       " '5',\n",
       " '5',\n",
       " '5',\n",
       " '5',\n",
       " '5',\n",
       " '5',\n",
       " '5',\n",
       " '5',\n",
       " '5',\n",
       " '5',\n",
       " '5',\n",
       " '5',\n",
       " 1,\n",
       " '5',\n",
       " '5',\n",
       " '5',\n",
       " '4',\n",
       " '5',\n",
       " '5',\n",
       " '4',\n",
       " '5',\n",
       " '5',\n",
       " '4',\n",
       " '5',\n",
       " '5',\n",
       " '5',\n",
       " '5',\n",
       " '5',\n",
       " '5',\n",
       " '5',\n",
       " '5',\n",
       " '5',\n",
       " '5',\n",
       " '4',\n",
       " '4',\n",
       " '5',\n",
       " '3',\n",
       " '5',\n",
       " '5',\n",
       " '5',\n",
       " '5',\n",
       " '5',\n",
       " '5',\n",
       " '5',\n",
       " '5',\n",
       " '5',\n",
       " '3',\n",
       " '5',\n",
       " '5',\n",
       " '5',\n",
       " '5',\n",
       " '5']"
      ]
     },
     "execution_count": 92,
     "metadata": {},
     "output_type": "execute_result"
    }
   ],
   "source": [
    "for i in rating10:\n",
    "    rating_file.append(i.text)\n",
    "rating_file"
   ]
  },
  {
   "cell_type": "code",
   "execution_count": 94,
   "metadata": {},
   "outputs": [
    {
     "data": {
      "text/plain": [
       "110"
      ]
     },
     "execution_count": 94,
     "metadata": {},
     "output_type": "execute_result"
    }
   ],
   "source": [
    "len(rating_file)"
   ]
  },
  {
   "cell_type": "code",
   "execution_count": 97,
   "metadata": {
    "scrolled": true
   },
   "outputs": [],
   "source": [
    "del rating_file[91:101]"
   ]
  },
  {
   "cell_type": "code",
   "execution_count": 99,
   "metadata": {},
   "outputs": [
    {
     "data": {
      "text/plain": [
       "[<selenium.webdriver.remote.webelement.WebElement (session=\"ec87b271ce103b9c0eb72458b9b3bc32\", element=\"f2a39a6c-3ee9-4c83-9e80-10dab2c446bf\")>,\n",
       " <selenium.webdriver.remote.webelement.WebElement (session=\"ec87b271ce103b9c0eb72458b9b3bc32\", element=\"559eaee8-4359-41c2-97a6-e8e655cd7683\")>,\n",
       " <selenium.webdriver.remote.webelement.WebElement (session=\"ec87b271ce103b9c0eb72458b9b3bc32\", element=\"64c76658-eca6-4a33-8da8-7ad5b5b02791\")>,\n",
       " <selenium.webdriver.remote.webelement.WebElement (session=\"ec87b271ce103b9c0eb72458b9b3bc32\", element=\"58d008c8-e1b4-46c8-aa47-f2cab88509ce\")>,\n",
       " <selenium.webdriver.remote.webelement.WebElement (session=\"ec87b271ce103b9c0eb72458b9b3bc32\", element=\"24aa8524-668f-4a0f-acde-b20fe6bfe36d\")>,\n",
       " <selenium.webdriver.remote.webelement.WebElement (session=\"ec87b271ce103b9c0eb72458b9b3bc32\", element=\"1dada53a-8db9-444b-b97a-a0d86381963e\")>,\n",
       " <selenium.webdriver.remote.webelement.WebElement (session=\"ec87b271ce103b9c0eb72458b9b3bc32\", element=\"3b9c87ac-b58b-4fce-988b-c59e89501292\")>,\n",
       " <selenium.webdriver.remote.webelement.WebElement (session=\"ec87b271ce103b9c0eb72458b9b3bc32\", element=\"dbd24f3a-5284-493e-9150-e84276d4fa0d\")>,\n",
       " <selenium.webdriver.remote.webelement.WebElement (session=\"ec87b271ce103b9c0eb72458b9b3bc32\", element=\"6d1e1598-6fff-4d1e-bee1-55a96a38655a\")>,\n",
       " <selenium.webdriver.remote.webelement.WebElement (session=\"ec87b271ce103b9c0eb72458b9b3bc32\", element=\"b9c57c77-0897-4e0b-965e-7b9d8f8853ac\")>]"
      ]
     },
     "execution_count": 99,
     "metadata": {},
     "output_type": "execute_result"
    }
   ],
   "source": [
    "summary10 = driver.find_elements_by_class_name(\"_2-N8zT\")\n",
    "summary10"
   ]
  },
  {
   "cell_type": "code",
   "execution_count": 100,
   "metadata": {
    "scrolled": true
   },
   "outputs": [
    {
     "data": {
      "text/plain": [
       "['Brilliant',\n",
       " 'Simply awesome',\n",
       " 'Perfect product!',\n",
       " 'Fabulous!',\n",
       " 'Worth every penny',\n",
       " 'Great product',\n",
       " 'Good choice',\n",
       " 'Worth every penny',\n",
       " 'Highly recommended',\n",
       " 'Best in the market!',\n",
       " 'Perfect product!',\n",
       " 'Highly recommended',\n",
       " 'Perfect product!',\n",
       " 'Classy product',\n",
       " 'Worth every penny',\n",
       " 'Perfect product!',\n",
       " 'Simply awesome',\n",
       " 'Highly recommended',\n",
       " 'Worth every penny',\n",
       " 'Terrific',\n",
       " 'Nice product',\n",
       " 'Wonderful',\n",
       " 'Classy product',\n",
       " 'Brilliant',\n",
       " 'Must buy!',\n",
       " 'Good choice',\n",
       " 'Perfect product!',\n",
       " 'Wonderful',\n",
       " 'Terrific purchase',\n",
       " 'Great product',\n",
       " 'Simply awesome',\n",
       " 'Mind-blowing purchase',\n",
       " 'Terrific purchase',\n",
       " 'Excellent',\n",
       " 'Simply awesome',\n",
       " 'Good quality product',\n",
       " 'Very poor',\n",
       " 'Perfect product!',\n",
       " 'Must buy!',\n",
       " 'Fabulous!',\n",
       " 'Mind-blowing purchase',\n",
       " 'Mind-blowing purchase',\n",
       " 'Wonderful',\n",
       " 'Worth every penny',\n",
       " 'Great product',\n",
       " 'Very Good',\n",
       " 'Perfect product!',\n",
       " 'Classy product',\n",
       " 'Perfect product!',\n",
       " 'Just wow!',\n",
       " 'Awesome',\n",
       " 'Terrific',\n",
       " 'Terrific purchase',\n",
       " 'Awesome',\n",
       " 'Classy product',\n",
       " 'Brilliant',\n",
       " 'Terrific',\n",
       " 'Perfect product!',\n",
       " 'Awesome',\n",
       " 'Perfect product!',\n",
       " 'Very poor',\n",
       " 'Fabulous!',\n",
       " 'Excellent',\n",
       " 'Must buy!',\n",
       " 'Value-for-money',\n",
       " 'Brilliant',\n",
       " 'Terrific purchase',\n",
       " 'Good quality product',\n",
       " 'Perfect product!',\n",
       " 'Awesome',\n",
       " 'Value-for-money',\n",
       " 'Just wow!',\n",
       " 'Super!',\n",
       " 'Best in the market!',\n",
       " 'Classy product',\n",
       " 'Highly recommended',\n",
       " 'Mind-blowing purchase',\n",
       " 'Must buy!',\n",
       " 'Excellent',\n",
       " 'Excellent',\n",
       " 'Terrific',\n",
       " 'Pretty good',\n",
       " 'Nice product',\n",
       " 'Mind-blowing purchase',\n",
       " 'Does the job',\n",
       " 'Wonderful',\n",
       " 'Worth every penny',\n",
       " 'Worth every penny',\n",
       " 'Fabulous!',\n",
       " 'Classy product',\n",
       " 'Awesome',\n",
       " 'Wonderful',\n",
       " 'Terrific purchase',\n",
       " 'Awesome',\n",
       " 'Decent product',\n",
       " 'Super!',\n",
       " 'Fabulous!',\n",
       " 'Just wow!',\n",
       " 'Mind-blowing purchase',\n",
       " 'Excellent']"
      ]
     },
     "execution_count": 100,
     "metadata": {},
     "output_type": "execute_result"
    }
   ],
   "source": [
    "for i in summary10:\n",
    "    summary_scrap1.append(i.text)\n",
    "summary_scrap1"
   ]
  },
  {
   "cell_type": "code",
   "execution_count": 101,
   "metadata": {},
   "outputs": [
    {
     "data": {
      "text/plain": [
       "[<selenium.webdriver.remote.webelement.WebElement (session=\"ec87b271ce103b9c0eb72458b9b3bc32\", element=\"7ea1d1a3-37b6-4a4c-bd59-775cda8cb8a6\")>,\n",
       " <selenium.webdriver.remote.webelement.WebElement (session=\"ec87b271ce103b9c0eb72458b9b3bc32\", element=\"eb505cb3-1569-4e03-bbba-631fb1a9e5d2\")>,\n",
       " <selenium.webdriver.remote.webelement.WebElement (session=\"ec87b271ce103b9c0eb72458b9b3bc32\", element=\"11160f9b-e669-47a6-af09-253bda8093af\")>,\n",
       " <selenium.webdriver.remote.webelement.WebElement (session=\"ec87b271ce103b9c0eb72458b9b3bc32\", element=\"4e8924e4-972e-47e6-ba62-194b92c76b98\")>,\n",
       " <selenium.webdriver.remote.webelement.WebElement (session=\"ec87b271ce103b9c0eb72458b9b3bc32\", element=\"8fbc6116-2c4d-44e6-bf80-632feb40971c\")>,\n",
       " <selenium.webdriver.remote.webelement.WebElement (session=\"ec87b271ce103b9c0eb72458b9b3bc32\", element=\"fab07c7c-2e62-4132-a33e-65c002517ff4\")>,\n",
       " <selenium.webdriver.remote.webelement.WebElement (session=\"ec87b271ce103b9c0eb72458b9b3bc32\", element=\"25604072-8765-4029-9263-3895e08f24a0\")>,\n",
       " <selenium.webdriver.remote.webelement.WebElement (session=\"ec87b271ce103b9c0eb72458b9b3bc32\", element=\"2681dd8a-c85e-4f71-84ba-de512d5786aa\")>,\n",
       " <selenium.webdriver.remote.webelement.WebElement (session=\"ec87b271ce103b9c0eb72458b9b3bc32\", element=\"70303195-874b-4178-9f4b-c5946c613fcf\")>,\n",
       " <selenium.webdriver.remote.webelement.WebElement (session=\"ec87b271ce103b9c0eb72458b9b3bc32\", element=\"792db598-3c9c-42ba-a4f3-0822608d55a8\")>]"
      ]
     },
     "execution_count": 101,
     "metadata": {},
     "output_type": "execute_result"
    }
   ],
   "source": [
    "review10=driver.find_elements_by_class_name('t-ZTKy')\n",
    "review10"
   ]
  },
  {
   "cell_type": "code",
   "execution_count": 102,
   "metadata": {
    "scrolled": true
   },
   "outputs": [
    {
     "data": {
      "text/plain": [
       "['The Best Phone for the Money\\n\\nThe iPhone 11 offers superb cameras, a more durable design and excellent battery life for an affordable price.\\n\\nCompelling ultra-wide camera\\nNew Night mode is excellent\\nLong battery life',\n",
       " 'Really satisfied with the Product I received... It’s totally genuine and the packaging was also really good so if ur planning to buy just go for it.',\n",
       " 'Amazing phone with great cameras and better battery which gives you the best performance. I just love the camera .',\n",
       " 'This is my first iOS phone. I am very happy with this product. Very much satisfied with this. I love this phone.',\n",
       " 'Previously I was using one plus 3t it was a great phone\\nAnd then I decided to upgrade I am stuck between Samsung s10 plus or iPhone 11\\nI have seen the specs and everything were good except the display it’s somewhere between 720-1080 and it’s not even an amoled it’s an LCD display\\nBut I decided to go with iPhone because I have never used an IOS device I have Been an android user from the past 9 years I ordered IPhone 11 (128gb) product red\\nMy experience after using 3 weeks\\n1. The delivery ...\\nREAD MORE',\n",
       " 'Amazing Powerful and Durable Gadget.\\n\\nI’m am very happy with the camera picture quality, Amazing face id unlocked in dark room, Strong battery with perfect screen size as you can carry easily in pocket. This is my third iPhone.\\n\\nI shifted from android Samsung Note series to iPhone because of the strong build quality and peace of mind for next 3-4 years.\\n\\nDon’t think to much just go for it and I suggest you to go for minimum 128gb variant or more 256gb.\\n\\nI’ve attached my puppy pics and no fi...\\nREAD MORE',\n",
       " 'So far it’s been an AMAZING experience coming back to iOS after nearly a decade but it’s not as versatile as android though phone is sturdy dropped it accidentally a couple of times and nothing happened fortunately camera is awesome',\n",
       " 'i11 is worthy to buy, too much happy with the product. Thank u flipkart I received the item on time..loved it..',\n",
       " 'iphone 11 is a very good phone to buy only if you can compromise for the display. The display on this is device is pretty good but you can get other options with better displays in this price segment.\\nIf you can survive with an HD+ LCD panel with thicker bezels and a notch up top then this is a very good phone for you.\\nCameras are awesome, battery backup excellent, great performance and a decent premium look. Good job Apple !',\n",
       " 'Great iPhone very snappy experience as apple kind. Upgraded from iPhone 7.\\nPros\\n-Camera top class\\n- Battery top performed\\n-Chipset no need to say as apple kind\\n-Security as you expect from apple\\n- Display super bright industry leading colour\\naccuracy and super responsive\\n-Build quality as expect from apple sturdy\\npremium durable beautiful stylish.\\n-Os most stable os in smartphone industry\\n\\nCons\\n-No 5G\\n-Display is not based on OLED technology\\n-Charger headphones and 1 apple stic...\\nREAD MORE',\n",
       " 'It’s a must buy who is looking for an upgrade from previous generation of iPhones. If you are using XR then still you can hold on for sometime and upgrade to 2020 model else this phone is a must buy . Camera quality is amazing and wide angle is something to count upon. Performance wise it’s amazing and feels premium while holding in hand. So a big YES for this device. Go for 128 GB variant as the 4K videos will occupy lots of space and the storage can get over very quickly. Try to buy it with...\\nREAD MORE',\n",
       " 'What a camera .....just awesome ..you can feel this iPhone just awesome . Good for gaming also ...try pubg in hd it’s just wow',\n",
       " 'Value for money❤️❤️\\nIts awesome mobile phone in the world ...\\nDisplay was very good and bright ..\\nTrust me freinds you r never regret after Buying..\\nJust go for it....\\nI love this phone and i switch to iphone x to 11',\n",
       " 'Totally in love with this ❤ the camera quality is amazing just love it 😘😘😘 itsss dammnnnnnn amazing... Must buy iPhone 11 this is my best experience ever ☀👌👌🧡🧡🧡🧡🧡 thanku apple ❤',\n",
       " 'Best budget Iphone till date ❤️ go for it guys without second thought. Let me explain you guys about Camera, Display, battery, and performance.\\n\\nCamera: at this price range there is no comparison of camera, you’ll love the picture quality as well as video quality. I am a Vlogger I wanted an iPhone with 4k video by front camera and I got this phone and I am more than happy 😃\\n\\nBattery: I use this phone roughly as I am active social media person and I have a youtube channel. so the battery ba...\\nREAD MORE',\n",
       " \"Iphone is just awesome.. battery backup is very very nice.. continuously for 10 hours we can use it.camera is just awesome.. display is just fab.i love it alot..i had to wait 15 days for it as i pre ordered it..overalll it's worth the price..these all images are clicked by my iPhone..and i love it.\",\n",
       " 'Excellent camera, good performance, no lag. The lcd display is also good.. but difference come when we watch movie in prime and Netflix, the colours are not vibrant.. as we see in amoled display.. and the charger in box is of 5 watts.. takes more than 3 hours to charge from 0 to 100.. so guys be prepare to buy 18 watts charger . Finally I am an android user, it was my first Iapple phone, I promise u guys the iOS is so smooth.. overall the phone is damn good.... close eyes to buy it.. thanks t...\\nREAD MORE',\n",
       " \"It's my first time to use iOS phone and I am loving my upgradation 😍😍 I love the color, I love the assebility of the phone....I need to learn more about its functionality, but as far as I have seen, it's quite easy and it has a lot of functions to work on, specially if you are a content writer or a blogger you get a lot of content creation platforms and they are really amazing.\\n\\nThis phone not only for good quality photography but a lot of other task too.😍💯\",\n",
       " 'It’s been almost a month since I have been using this phone. I upgraded from an iPhone 8. The main issue with my 8 was battery and this phone is just awesome when it comes to battery. It lasts a day and a half for me with my regular use , internet connected always with 4g\\nCan’t move forward without saying this. Battery of this phone is a life saver when I am traveling or at work when I don’t get the option to charge\\nCamera is superb. Front cam selfies and back cam photos are just awesome.\\n...\\nREAD MORE',\n",
       " 'Really worth of money. i just love it. It is the best phone ever.',\n",
       " 'Awesome Phone. Slightly high price but worth. Better than iPhone XR.\\nCamera is superb and wide angle camera is very clear.\\n12MP selfie camera is also very good.\\nA13 Chip gives a very good and smooth performance.',\n",
       " 'This is my first ever I phone. Before this I was using my google nexus 5. But moving from android to iOS is a great experience. It’s worth at this price. I will highly recommend it if you want to move to iOS. The best part of this phone is it’s camera and it’s battery life. This two things have won my heart. I loved it. Happy to have it in my hand. Still exploring its features. And can’t forget to mention Flipkart service. Very prompt service and fast delivery.',\n",
       " 'Superb Product !!!\\nA big and worthy upgrade from mi 3S to iphone 11 .\\nTotally loved it !',\n",
       " 'I have migrated from OP 7pro... and trust me, iPhone 11 is totally worth it.. following are the reasons:-\\n1)there is ABSOLUTELY NO ISSUE WITH THE DISPLAY... its crisp, sharp and I found it to be much much better than OP7 pro. Netflix, Prime video all run crisply... you won’t miss a thing. True Tone works flawlessly...the display brightness is perfect. OP have not calibrated their screens properly.\\n2) iPhone 11 series have really good cameras... others have spoken in depth about them.\\n3) bat...\\nREAD MORE',\n",
       " 'It’s an amazing product from apple and the camera is simply superb. Phone is faster.Night shot is simply superb and detailing and colour differentiation from camera is an added advantage\\n\\nThis review I have written from iPhone 11 only and I am glad to say outside.\\n\\nCons wise if we see HD+ display only, no battery percentage indicator as in older iPhone 8.\\nNo assistive touch control button in it\\nNo oleophobic coating on back panel glass and finger prints are visible but since I bought mint gr...\\nREAD MORE',\n",
       " 'Looking so good 👍 😍 super 👌 stylish 😎 phone\\nClean box 📦 good 👍 delivery 👌 fast delivery\\nOriginal box Original iphone 📱 👌 😍😍😍',\n",
       " 'After 1 month use I found camera quality best compared to my previous Samsung note 10+.Display not good as note 10 also charging too slow.Apple should add fast charger like 11 plus and pro.Best phone for daily use',\n",
       " 'I just directly switch from iphone 6s to iphone 11 .The best premium smartphone I recommend to everyone. Excellent quality and colors the iphone have in 11 series.\\nCamera quality is just awesome and the major feel when we hold in our hands. The sound quality and volume is also higher then the previous models.\\nI will recommend to buy iphone 11 instead of pro models , there is nothing much difference as this model contains everything which fulfill our needs.\\n\\nOnly one thing that I dislike abo...\\nREAD MORE',\n",
       " 'Upgraded from iphone 6 to 11 best phone for iphone users battery is much better than other iphones camera is awesome love to use it.camera is so clear in night.',\n",
       " 'Well you all know the specifications . One of a kind. Best iPhone till date. Many enhancements to the camera app with many options. Love the glass body with matte finish in the lens area on the back. Lovely colours to choose from. Best battery in an iPhone till date, enough to last more than a day in normal usage. I tested my iPhone 11 battery and lasted for than 24 hours after full charge still with 30% battery charge left. Watched movies for some time. Normal usage on calls, browsing, musi...\\nREAD MORE',\n",
       " \"It's very high performances devise i am like the service of flipkart delevary very fast and packing very nice perfect phone\",\n",
       " 'This will help you more. See if you are planning to buy iPhone 11. I will say. Yes. But there are some plans I just want to disclose before you buy. 1) If you are an existing iPhone X/XS/XS Max/ XR user, better you guys do not think it to buy. You guys have more or less better gadget. 2) If you are an android user and planning to buy premium phone. I will suggest them to please buy iPhone instead of buying an Android. I bet you will never go back to android after using IOS. Now I want to shar...\\nREAD MORE',\n",
       " 'The built quality is not very premium.\\nThe battery back is great .\\nThe LCD panel is not so sharp but the brightness level is very High .\\nCamera is super duper awesome.\\nThe red colour which people think is bright is actually very soothing and excellent colour to choose from .\\nThe A13 Bionic chip is really a flagship processor and can beat any phone which even has 12 gb ram .\\nCamera module is very great and looks very stylish.',\n",
       " 'Amazing camera and feel super machine I am not describe my feeling but this is amazing Phone I am so lucky I have this',\n",
       " 'Really good actually this is my first apple product am using its really awesome performance wise excellent. Am really happy with this iphone11',\n",
       " 'it is very good at performance. Camera is best like before and very smooth response even in water. Don’t buy 12 mini buy iPhone 11 , it is far better than 12 mini believe me ! Have a nice day \\uf8ff ☺️',\n",
       " 'Reviewing again after 5 months. At the beginning the battery and performance was good but it degraded soon. Also I was facing heating issues. The mobile will heat up like a stove sometimes. You cannot even play Pubg even in low settings properly, performance is not a problem but heating is. Also if you play that game for 10 mins the brightness will be automatically down due to over heating even when the auto brightness is set to off. This will not be solved even if u manually increase the bri...\\nREAD MORE',\n",
       " 'It is just awesome mobile for this price from Apple,\\n\\nAfter 10 days review\\n\\nBattery enough for 1 day even 24*7 Internet will be on and mostly internet usage\\n\\nCamera is just awesome cool , android 64 MP is equal to this just 12 MP\\n\\nA13 Bionic chip will give more high performance without hanging\\n\\nAudio stereo speakers will give Dolby atoms sound with crystal clear\\n\\nVideo recording is like cinematic shots of every sec can be a 4K 60fps. Just awesome this phone\\niPhone 11 loved one',\n",
       " 'Best Apple iPhone that i have bought at a very reasonable price, camera quality is next level just awesome n of superior quality android phones not even close(RIP) to that and also battery is really good but packaging by Flipkart of iPhone was very poor of such a expensive product, firstly im bit worried about the quality of product if i purchased it through online how was the product but i think now this was mine best decision to bought it through Flipkart online because i got genuine Apple...\\nREAD MORE',\n",
       " \"I can say I'm damn impressed with iPhone 11. As they says iPhone 11 have the toughest glass ever in the smartphone which you'll find on the front and back and it's totally smooth. The fit and finish is full apple quality - there's no sense that any cheaping out has happened in the construction. Without saying it's camera features this review won't complete. The iPhone 11 has a dual camera system, consisting of a wide angle len's that's pretty much same as found on the iPhone XR last year, but...\\nREAD MORE\",\n",
       " 'Best Quality Product OF iPhone Series , Sound Quality & Camera quality is very awesome, Battery Life is very Sufficient for 24 hr Backup With Full Internet Access , I love this this Product too much , It is very fast & making me Very fast in all my daily Routine\\nHighlights;\\n1.Camera: 5 STAR\\n2.Video Recording: 5 star\\n3.Night mODE sHOOTING & Camera:4 star\\n4. Audio Quality: Awesome\\n5. Battery : 5 Star\\n6. Touch:5 Star\\n7. Processor: Very Fast\\nThe M...\\nREAD MORE',\n",
       " 'First thanks to Flipkart for this amazing deal and phone is outstanding. I upgraded from iPhone 7 and this is like very big upgrade. But the packaging was very basic I expected a good packaging as they only wrapped one layer of bubble wrap which I don’t think is enough to protect this expensive phone. And I recommend this phone and seller as well.\\n\\nAnd I’m posting this review after using it for 4 days.',\n",
       " 'Superfast delivery by Flipkart. Thanks.\\n\\n1. iPhone 11 is a pretty solid phone for the money you are paying.\\n2. All the bad reviews about the display is confusing. It’s not that bad.\\n3. I switched from a Oneplus 7t. I have no complaints about the display quality of iPhone. Yes, it’s not OLED, so, we are missing on the deep blacks. But that’s it. It is a very colour accurate display. Gets adequately bright and I could not find any pixelation.\\n4. Performance is one of the best, if not best, in ...\\nREAD MORE',\n",
       " 'Smooth like butter, camera like fantabulous, sound is crystal clear & its red color is damn attractive, i am just loving it. Must buy if you love photography.\\n\\nLucky to get it in sale, thank you Flipkart.',\n",
       " \"Again back to apple iphone after a gap of 2-3 years. It's pleasure to use iOS and the quality product by Apple. Iphone 11 still works like a beast in 2021 also. It really capable of doing day to day usage as well as hard core gaming. Battery is awesome. I'm really too much satisfied with it. Apart fto the very gorgious IPS LCD (AMOLED will be better) everything is mind boggling. Iphone💕.\",\n",
       " 'impressive super phone and best in class camera ,sound and face unlock is super fast just see and phone is unlock and fast in daily apps use',\n",
       " 'Battery backup is extraordinary, camera is decent & performance offered by A13 bionic is awsome. The display is good in practical usage like the visibility of display is very good in direct sun light compare to pro models. Iam extremely satisfied for the money I spent.',\n",
       " 'Well while switching from android to iOS the first thing you need to be careful about is that you will loose all your whatsapp chat backups as both are different operating systems. Camera clarity is awesome and though being an lcd screen clarity and resolution is good. Battery backup is also good unlike previous gen iPhone. So far the experience is good will Padre after a few months of usage.\\n\\nP.S the black is more of a dark grey shade and not jet black',\n",
       " 'In love with this iphone great performance,camera ,battery everything. Go for it have a uncompareble battery backup, no doubts in iPhone camera here You can see the picture which is shot on my iPhone In love with this iphone great performance,camera ,battery everything. Go for it have a uncompareble battery backup, no doubts in iPhone camera here You can see the picture which is shot on my iPhone In love with this iphone great performance,camera ,battery everything. Go for it have a uncompare...\\nREAD MORE',\n",
       " 'Best in class. Battery backup is good especially when you play games like Pubg COD. But it is sort of heavy when you hold in hands. Portrait mode is best to click pictures. Stage light effect is awesome. Try to click photos outside in nature because photos inside home or room will not give you the quality in any phone even in DSLR.',\n",
       " 'Very excited to have this phone. This phone has the real power unlike the android phones having SD 855 . The battery life is very good and the camera quality is excellent as comapred to redmi and other phones except google pixel. I M enjoying every single bit of it. Would recommed only if you have the budget.',\n",
       " \"I upgraded (downgraded?) from my iPhone X since the phone fell down and I didn't want to repair the screen. The box that the phone came in was super slim and I was worried that there'd be no 5W charger with it and my fears were confirmed. However, thankfully I had the 18W USB-C PD charger from Apple which I bought for my iPhone X and it worked perfectly. The charging time is as lethargic as ever though and it takes about 1:30 mins or even 2 hours depending on charge remaining. I'll list some ...\\nREAD MORE\",\n",
       " 'Its Very awesome product working and good camera quality and all about best product and also flipkart is very great deal and offer nice price',\n",
       " 'I am using this phone for 5 days and its one of the best camera out there ❤️ the screen is not oled and i am coming from iphone xs so its little bit not up to the mark i would say\\nBut overall value for money💕😍the battery back up is far better than my iphone xs and its worth in my apple ecosystem💫❤️if u are an apple User and have the eco system then go for it❤️though i will be getting the new iphone but its pretty good💫',\n",
       " 'Best and amazing product.....phone looks so premium.... battary is also good as expected .... Wide angle camera is so addictive ...if you are a IOS lover....then this phone will be the best choice for you all!!💯🔥',\n",
       " 'Excellent camera and display touching very nice and smooth very improvement against iPhone XR and new processor is very fast',\n",
       " \"I got this beast today. And I must say the picture quality of its camera is awesome. Both the cameras works fine.\\n\\nAs for as the processing is concerned, it runs without any lag. You can play and do whatever you want without a glitch.\\n\\nThe battery runs for a day with medium and high workload.\\n\\nThe display is good and the speakers are working fine.\\n\\nThe earphones doesn't have any base and you can use it for calling mostly.\\n\\nThe charging time is approximately for 90 minutes for full charging...\\nREAD MORE\",\n",
       " 'Awesome purchase. Amazing phone with good battery backup. It’s a top notch device. White colour looks amazing. Phone has a few extra feature than iPhone XR. Overall, this is value for money',\n",
       " 'Always love the apple products, upgraded from old iPhone 6S plus to this after having my first baby. I just love to click baby’s photos with it. Overall I just love this phone. Battery back up is okay, sound quality is good. Haven’t tested yet waterproof yet. Only one thing I hate is apple could have given charger & headphones in box.',\n",
       " 'Value for money\\n5 star rating\\nExcellent camera\\nBattery backup full day in single charge.\\n\\nTougher and water resistant design, glossy back.\\nThe screen has excellent brightness and contrast.\\nApple A13 Bionic is the fastest smartphone chip on the planet.\\nExcellent battery life, fast charging support.\\nStereo speakers with great quality.',\n",
       " 'Please DONT buy from here,\\n\\nI purchased Apple iPhone 11. with an exchange of IPhone 7, the exchange did not go well, iPhone 7 had a small scratch out side screen which i could never identify till date, but the FLIPKART person could, so he reduced 50% from exchange rate. I decided not to trade in, but paid money.\\n\\niPhone 11 Detail Below\\n---------------------------------------------\\nIt came with no charging, then i have put for charging, it took lot of time for charging, the phone also showe...\\nREAD MORE',\n",
       " 'awesome phone to have. it has got many smart features apart from mind blowing looks, camera, display, battery and sound. have fallen in love with this phone. must buy phone if you have got enough money. thanks to flipkart and apple of course..',\n",
       " 'Its a fabulous mobile look awesome performance unbeaten camera like dslr battery good i think this is a beast of mobile',\n",
       " 'Dear friends... I want to share my experience with you about this amazing I phone 11....this is my first iPhone and special things about this mobile is it has great camera, battery backup and awesome display.... I mean everything is perfect.loved it 👍👍👍',\n",
       " \"Just got this iphone 11\\nAnd it is most powerful mobile phone I have used ever\\n\\nSo,go for it if you want a phone with best specification like camera,battery backup,display, A13 bionic chip\\n\\nThat's my review about this phone but yours can be differ from me....\",\n",
       " 'Amazing phone and on great deal I received with super fast delivery by Flipkart...',\n",
       " 'finally an iPhone with very nice battery backup. update from iPhone 7 and happy to have it. camera is not up to the mark in low light but overall a recommended phone if your budget allows 😀',\n",
       " \"I'm switching this phone to oppo reno 10x zoom\\nIt's really impressive\\nRarely I'm missing smooth display touch response like oppo reno but\\nI really loved it.\\nCamera really impressive\",\n",
       " 'Worth the money’ starting first from its performance it beats out all phones , second the smoothness of camera is awesome, contrast ratio is much than expected. Price will not matter if u r a quality person, if not other phones are available with better discount',\n",
       " 'I dreamt about this day from a long time.... Getting an iPhone with my own money.... Super happy and worth spending every penny',\n",
       " \"I'm Really happy with the product\\nDelivery was fast as well\\n..it was a gift for my sister and she loved it so much.\",\n",
       " 'Great iphone.\\nI am writing this review after 2 months of usage.\\nCamera is excellent, especially the nightmode\\nDisplay perfect\\nBattery backup awesome\\nSound quality very good\\nOverall Apple gives you a perfect iphone in this range.\\nReally in love with iPhone 11',\n",
       " 'Did an upgrade from 6s plus to iphone 11.\\nAo far the experience is well and good. Felt smoother than 6s plus. The camera quality is superb. Battery backup is descent. Not a heavy user, and gets power more than a day. Go for it if you need an alrounder iphone in a competitve price.',\n",
       " 'Damn this phone is a blast . Upgraded from android to ios and is a duperb experience. Battery backup is top notch and display also pretty good',\n",
       " 'Gifted my man on his 30th birthday 🎂 He loves it.. Him happy so i am more than happy 😍😘❤️🥰',\n",
       " 'Thanks Flipkart For this amazing deal! I had a dream of owning a iphone since i had known about.\\nIm very happy with my purchase & it is totally worth it.\\nAmazing experience all over !!\\n\\nAnyone who’s thinking of buying it in 2021, i would simply say go for it without any second thoughts ❤️',\n",
       " 'awesome Phone Smooth Touch Too good Sexyy looks one word Awesome',\n",
       " 'I rate this product 5* as it has got amazing user experience with the best performing A13 bionic processor. The screen responds and graphics rendering is top notch. With casual gaming and internet browsing, the battery lasts for approx. 1 day. Camera is very good. You will fall in love with the portrait mode. You can call me a loyal Apple customer or whatever but I won’t stop praising the products and overall experience. That user experience matters and is worth every penny you pay.\\n\\nBelow ar...\\nREAD MORE',\n",
       " \"It was amazing experience for me. Honestly i am using iPhone first time so I don't have that much past experience about that. But after using 7 days this mobile i want to give some honest feedback.\\n1- Display 9 out of 10\\n2- Camera 9.5 out of 10\\n3- Battery 7 out of 10\\n4- Performance 9.5 out of 10\\n5- Features & Functions 10 out of 10\\n6- Outer looks and colour 10 out of 10\\nRest i think i will understand after using this for few months.\\nI will highly recommend you guys if you have budget then you...\\nREAD MORE\",\n",
       " \"Just go for it.\\nThis phone is really amazing. I ordered it for my wife and we click photos on this thing which are better than dslr. I own OnePlus 6t but it's camera sucks. iPhone is really amazing when it comes to camera. It's worth spending 50k on this. Cons- only display is lcd. While using u don't feel it but if u compare with other phone then u can see difference quite easily.\\nChanging from Android to iphone is bit difficult coz most of things u don't know but I liked it. Some of the a...\\nREAD MORE\",\n",
       " 'I bought iPhone 11 On March 2021, And I am Writing this review after using the phone for 4 Months. I would Say Everything is fine, Top Performance, Nice Camera as Anyone would Expect from any series of iPhone but when the Question comes to Battery it is complicated. The Battery is fully optimised and it comes 3110 mAh capacity but the problem is with the charger. Honestly Apple Removed charger from in Box items in the name of Environment and they are also forcing us to buy any 20W PD 3rd part...\\nREAD MORE',\n",
       " \"I've used this phone for over a month now and here are my takeaways.\\nI would like to first talk about the best things about this phone and then the cons of it.\\n\\nPros:\\nThis phone is a performance beast. It handles large games and applications effortlessly and you won't find any stutters or lags while playing graphic intensive games like pubg, cod , mortal kombat and asphalt.\\n\\nThis phone has only 4gb ram and yet the ram management is amazing, it can keep 3 heavy games in memory without reload...\\nREAD MORE\",\n",
       " \"If you are looking for a premium phone under 55k, this is the one for you.Got the iPhone 11 during the Republic day sale. Performance is top notch in this price range. Camera's do a perfect job in taking good quality photos and videos. Battery backup too is satisfactory. Writing this review after using for a week. Any further observations would be updated.\",\n",
       " 'Absolutely powerful gadget. Loved it’s look! Soo glassy and classy. I would definitely recommend this model of Apple. Only disappointed with the 5W charger, one should purchase an 18W adapter for fast charging. Though battery backup is great. Bought it in September 2020, reviewing after so long so I’m gonna put the genuine review here.✅',\n",
       " \"phone is good but in display is 720p lcd in this price range we can get full hd OLED displays with higher refresh rate processor is very good camera is nice but looks kind of oldish in front of todays phone also there's no charging in box had to buy it seperately\",\n",
       " 'Nice value for money good and best price I phone mind blowing camera processor very fast other android mobile I am happy India top selling phone 2020',\n",
       " 'Here is the thing\\n\\nThe only reason why you should buy this phone is for the camera, iOS, and if you have headaches looking at AMOLED display.\\n\\nI’m not an avid gamer but watch a lot of movies on smartphone. However, my migraine attacks increased considerably after using AMOLED Smartphone. That’s why I made a calculated decision to buy iPhone 11. It has the best LCD display and the blacks, though not as natural as an AMOLED, is better than some of the other smartphones.\\n\\nAdding to this the ste...\\nREAD MORE',\n",
       " 'Undoubtedly Iphone 11 is the most successful model till now and its performance is extraordinary and the security features are very impressive, display is more vibrant sound quality Camera Quality 5*****, but Iphone should add accessories too and act like scrooge.',\n",
       " 'I purchased the iPhone 11 a month back. I must say Apple has impressed me yet again . I have been an Apple user for past 5 years . The phone is power packed with amazing features . What impressed me the most was the battery backup the phone offers . Battery can easily run upto 1.5 days in single charge with moderate to\\nHeavy usage . If you’re looking for a value for money device , I don’t see any other phone in the price range which can match the iPhone 11 .\\nOne thing I didn’t like was that ...\\nREAD MORE',\n",
       " 'We are on apple ecosystem for almost eight years now with couple of iPads and iPhones, including Xr.\\n\\nBought iPhone 11 as a gift to my daughter who loves it. We chose for a purple coloured one. Believe me it is gorgeous and towards the lighter shade. Dazzling and brilliant!\\n\\nThe phone is great and does excellent RAM management like any other Apple device.\\n\\nThe screen, though a LCD and lesser ppi as compared to other flagship phones of competitor brands, is a delight to watch with perfect re...\\nREAD MORE',\n",
       " 'Can’t beat the software and hardware integration of apple.\\nPerforms like a beast. Great quality camera\\n6-7 hours screen on time which is good. Nothing much to complaint about the screen. Good connectivity speeds.\\nGreat buy and Flipkart’s delivery top notch as usual',\n",
       " 'Super and marvellous phone look very cute and nice sound. I love this phone i think white is good colur.Excellent camer 5*😍😘♥️♥️',\n",
       " 'I use a Note10+ and have been using both iOS and Android devices.\\n\\nCamera has really good features and portraits are super good, better than Samsung flagship. Overall camera setup can still be enhanced and hopeful for better upgrades on software in next release\\n\\nOperating system is quite a breeze and user experience of daily usage is very high as compared to Android. I moved to iOS very swiftly in 2 days for all my office work from Note10+\\n\\nBattery holds up quite well with 4 hrs of call and ...\\nREAD MORE',\n",
       " 'The phone is completely good\\nAs far as camera Apple is king of it\\nAnd its a beast in performance\\nAnd the battery is pretty good too',\n",
       " 'Everything u ll like it when u use this iPhone. Simple changes only not many to lower models but it’s nice to use. Little heavy compared to previous models like 7,8',\n",
       " 'This is my first ever iPhone.\\nAnd I truly don’t regret switching to IOS from my Android.\\n\\nIt is easily an alternative to a DSLR camera.\\nIf you’re obsessed with photos and videos, just don’t think twice or don’t compare to other androids(Samsung S10 lite or OnePlus 8/8T), as it’s far better from them in every field.\\nComparing will only make you confused.\\n\\nI am getting an average Screen on Time of around 10 hours with 30 percent left. I haven’t let my device discharged below 30 % as it aff...\\nREAD MORE',\n",
       " 'Everything is perfect pictures come out so clearly and at first I wasn’t sure when I got it then when I started to use it and get the hang of it it was amazing!! I can’t wait to see what the next future phones will be like. The screen display on this bad boy are unbelievable they are so clear and never fail me. The performance is super cool there is a lot of cool features as well I like this phone because I feel that it is easy to use and one of my favorite things about this phone is the Face...\\nREAD MORE',\n",
       " 'The ultimate performance\\nCamera is superb\\nThe battery backup also very good i never saw iphone gives this much of battery backup\\nIf any one wana buy iphone 11 definitely i will recommend this mobile\\nIt has the better battery and powerfull processer peak performance glorious camera and the display also 100% high quality lcd display if u had money for for 12 if u dont wana invest much money on that then go for iphone 11 it has maximum same specs only main difference between the 12 and 11 is...\\nREAD MORE',\n",
       " 'Excellent camera 📸 And Display touching very Nice And Smooth and very improvement against\\nI phone 11 and new processor is very fast',\n",
       " 'A perfect phone and a good battery super camera and the sound is dynamic overall the phone is perfect for upgrading from lower iPhone model to iPhone 11']"
      ]
     },
     "execution_count": 102,
     "metadata": {},
     "output_type": "execute_result"
    }
   ],
   "source": [
    "for i in review10:\n",
    "    review_flip.append(i.text)\n",
    "review_flip"
   ]
  },
  {
   "cell_type": "code",
   "execution_count": 103,
   "metadata": {},
   "outputs": [
    {
     "name": "stdout",
     "output_type": "stream",
     "text": [
      "100 100 100\n"
     ]
    }
   ],
   "source": [
    "print(len(rating_file),len(summary_scrap1),len(review_flip))"
   ]
  },
  {
   "cell_type": "code",
   "execution_count": 104,
   "metadata": {},
   "outputs": [
    {
     "data": {
      "text/html": [
       "<div>\n",
       "<style scoped>\n",
       "    .dataframe tbody tr th:only-of-type {\n",
       "        vertical-align: middle;\n",
       "    }\n",
       "\n",
       "    .dataframe tbody tr th {\n",
       "        vertical-align: top;\n",
       "    }\n",
       "\n",
       "    .dataframe thead th {\n",
       "        text-align: right;\n",
       "    }\n",
       "</style>\n",
       "<table border=\"1\" class=\"dataframe\">\n",
       "  <thead>\n",
       "    <tr style=\"text-align: right;\">\n",
       "      <th></th>\n",
       "      <th>Rating</th>\n",
       "      <th>Summary</th>\n",
       "      <th>Review</th>\n",
       "    </tr>\n",
       "  </thead>\n",
       "  <tbody>\n",
       "    <tr>\n",
       "      <th>0</th>\n",
       "      <td>5</td>\n",
       "      <td>Brilliant</td>\n",
       "      <td>The Best Phone for the Money\\n\\nThe iPhone 11 ...</td>\n",
       "    </tr>\n",
       "    <tr>\n",
       "      <th>1</th>\n",
       "      <td>5</td>\n",
       "      <td>Simply awesome</td>\n",
       "      <td>Really satisfied with the Product I received.....</td>\n",
       "    </tr>\n",
       "    <tr>\n",
       "      <th>2</th>\n",
       "      <td>5</td>\n",
       "      <td>Perfect product!</td>\n",
       "      <td>Amazing phone with great cameras and better ba...</td>\n",
       "    </tr>\n",
       "    <tr>\n",
       "      <th>3</th>\n",
       "      <td>5</td>\n",
       "      <td>Fabulous!</td>\n",
       "      <td>This is my first iOS phone. I am very happy wi...</td>\n",
       "    </tr>\n",
       "    <tr>\n",
       "      <th>4</th>\n",
       "      <td>5</td>\n",
       "      <td>Worth every penny</td>\n",
       "      <td>Previously I was using one plus 3t it was a gr...</td>\n",
       "    </tr>\n",
       "    <tr>\n",
       "      <th>...</th>\n",
       "      <td>...</td>\n",
       "      <td>...</td>\n",
       "      <td>...</td>\n",
       "    </tr>\n",
       "    <tr>\n",
       "      <th>95</th>\n",
       "      <td>5</td>\n",
       "      <td>Super!</td>\n",
       "      <td>This is my first ever iPhone.\\nAnd I truly don...</td>\n",
       "    </tr>\n",
       "    <tr>\n",
       "      <th>96</th>\n",
       "      <td>5</td>\n",
       "      <td>Fabulous!</td>\n",
       "      <td>Everything is perfect pictures come out so cle...</td>\n",
       "    </tr>\n",
       "    <tr>\n",
       "      <th>97</th>\n",
       "      <td>5</td>\n",
       "      <td>Just wow!</td>\n",
       "      <td>The ultimate performance\\nCamera is superb\\nTh...</td>\n",
       "    </tr>\n",
       "    <tr>\n",
       "      <th>98</th>\n",
       "      <td>5</td>\n",
       "      <td>Mind-blowing purchase</td>\n",
       "      <td>Excellent camera 📸 And Display touching very N...</td>\n",
       "    </tr>\n",
       "    <tr>\n",
       "      <th>99</th>\n",
       "      <td>5</td>\n",
       "      <td>Excellent</td>\n",
       "      <td>A perfect phone and a good battery super camer...</td>\n",
       "    </tr>\n",
       "  </tbody>\n",
       "</table>\n",
       "<p>100 rows × 3 columns</p>\n",
       "</div>"
      ],
      "text/plain": [
       "   Rating                Summary  \\\n",
       "0       5              Brilliant   \n",
       "1       5         Simply awesome   \n",
       "2       5       Perfect product!   \n",
       "3       5              Fabulous!   \n",
       "4       5      Worth every penny   \n",
       "..    ...                    ...   \n",
       "95      5                 Super!   \n",
       "96      5              Fabulous!   \n",
       "97      5              Just wow!   \n",
       "98      5  Mind-blowing purchase   \n",
       "99      5              Excellent   \n",
       "\n",
       "                                               Review  \n",
       "0   The Best Phone for the Money\\n\\nThe iPhone 11 ...  \n",
       "1   Really satisfied with the Product I received.....  \n",
       "2   Amazing phone with great cameras and better ba...  \n",
       "3   This is my first iOS phone. I am very happy wi...  \n",
       "4   Previously I was using one plus 3t it was a gr...  \n",
       "..                                                ...  \n",
       "95  This is my first ever iPhone.\\nAnd I truly don...  \n",
       "96  Everything is perfect pictures come out so cle...  \n",
       "97  The ultimate performance\\nCamera is superb\\nTh...  \n",
       "98  Excellent camera 📸 And Display touching very N...  \n",
       "99  A perfect phone and a good battery super camer...  \n",
       "\n",
       "[100 rows x 3 columns]"
      ]
     },
     "execution_count": 104,
     "metadata": {},
     "output_type": "execute_result"
    }
   ],
   "source": [
    "Iphone11 = pd.DataFrame({'Rating':rating_file,'Summary':summary_scrap1,'Review':review_flip})\n",
    "Iphone11"
   ]
  },
  {
   "cell_type": "markdown",
   "metadata": {},
   "source": [
    "# Q8"
   ]
  },
  {
   "cell_type": "code",
   "execution_count": 4,
   "metadata": {},
   "outputs": [],
   "source": [
    "url = 'https://www.flipkart.com/'\n",
    "driver.get(url)"
   ]
  },
  {
   "cell_type": "code",
   "execution_count": 5,
   "metadata": {},
   "outputs": [],
   "source": [
    "scrap_search = driver.find_element_by_xpath(\"//input[@class='_3704LK']\")\n"
   ]
  },
  {
   "cell_type": "code",
   "execution_count": 6,
   "metadata": {},
   "outputs": [],
   "source": [
    "scrap_search.send_keys('sneakers')"
   ]
  },
  {
   "cell_type": "code",
   "execution_count": 7,
   "metadata": {},
   "outputs": [],
   "source": [
    "scrap_btn = driver.find_element_by_class_name('L0Z3Pu')"
   ]
  },
  {
   "cell_type": "code",
   "execution_count": 8,
   "metadata": {},
   "outputs": [],
   "source": [
    "scrap_btn.click()"
   ]
  },
  {
   "cell_type": "code",
   "execution_count": 15,
   "metadata": {
    "scrolled": true
   },
   "outputs": [
    {
     "data": {
      "text/plain": [
       "['https://www.flipkart.com/search?q=sneakers&otracker=search&otracker1=search&marketplace=FLIPKART&as-show=on&as=off&page=1',\n",
       " 'https://www.flipkart.com/search?q=sneakers&otracker=search&otracker1=search&marketplace=FLIPKART&as-show=on&as=off&page=2',\n",
       " 'https://www.flipkart.com/search?q=sneakers&otracker=search&otracker1=search&marketplace=FLIPKART&as-show=on&as=off&page=3',\n",
       " 'https://www.flipkart.com/search?q=sneakers&otracker=search&otracker1=search&marketplace=FLIPKART&as-show=on&as=off&page=4',\n",
       " 'https://www.flipkart.com/search?q=sneakers&otracker=search&otracker1=search&marketplace=FLIPKART&as-show=on&as=off&page=5',\n",
       " 'https://www.flipkart.com/search?q=sneakers&otracker=search&otracker1=search&marketplace=FLIPKART&as-show=on&as=off&page=6',\n",
       " 'https://www.flipkart.com/search?q=sneakers&otracker=search&otracker1=search&marketplace=FLIPKART&as-show=on&as=off&page=7',\n",
       " 'https://www.flipkart.com/search?q=sneakers&otracker=search&otracker1=search&marketplace=FLIPKART&as-show=on&as=off&page=8',\n",
       " 'https://www.flipkart.com/search?q=sneakers&otracker=search&otracker1=search&marketplace=FLIPKART&as-show=on&as=off&page=9',\n",
       " 'https://www.flipkart.com/search?q=sneakers&otracker=search&otracker1=search&marketplace=FLIPKART&as-show=on&as=off&page=10',\n",
       " 'https://www.flipkart.com/search?q=sneakers&otracker=search&otracker1=search&marketplace=FLIPKART&as-show=on&as=off&page=2']"
      ]
     },
     "execution_count": 15,
     "metadata": {},
     "output_type": "execute_result"
    }
   ],
   "source": [
    "page1_url = []\n",
    "url = driver.find_elements_by_xpath(\"//div[@class='_2MImiq']//a\")\n",
    "for i in url:\n",
    "    page1_url.append(i.get_attribute(\"href\"))\n",
    "page1_url  "
   ]
  },
  {
   "cell_type": "code",
   "execution_count": 19,
   "metadata": {},
   "outputs": [
    {
     "data": {
      "text/plain": [
       "['SPARX',\n",
       " 'DUCATI',\n",
       " 'PUMA',\n",
       " 'pollachief',\n",
       " 'BRUTON',\n",
       " 'Zsyto',\n",
       " 'RED TAPE',\n",
       " 'Numenzo',\n",
       " 'SPARX',\n",
       " \"LEVI'S\",\n",
       " 'believe',\n",
       " 'DUCATI',\n",
       " 'PUMA',\n",
       " 'PUMA',\n",
       " 'PUMA',\n",
       " 'luxury fashion',\n",
       " 'BRUTON',\n",
       " 'SCATCHITE',\n",
       " 'PUMA',\n",
       " 'bluemaker',\n",
       " 'ADIDAS',\n",
       " 'SPARX',\n",
       " 'RODDICK SHOES',\n",
       " 'PROVOGUE',\n",
       " 'World Wear Footwear',\n",
       " 'PUMA',\n",
       " 'PUMA',\n",
       " 'TR',\n",
       " \"LEVI'S\",\n",
       " 'Nilatin',\n",
       " 'D-SNEAKERZ',\n",
       " 'bluemaker',\n",
       " 'PUMA',\n",
       " 'PUMA',\n",
       " 'PUMA',\n",
       " 'Fzzirok',\n",
       " 'Chevit',\n",
       " 'Nilatin',\n",
       " 'DUCATI',\n",
       " 'Wrogn',\n",
       " 'SPARX',\n",
       " 'RED TAPE',\n",
       " 'Ktiz',\n",
       " 'pollachief',\n",
       " 'bluemaker',\n",
       " 'RED TAPE',\n",
       " \"LEVI'S\",\n",
       " 'DUCATI',\n",
       " 'ADIDAS',\n",
       " 'Chevit',\n",
       " 'Arohi',\n",
       " 'Numenzo',\n",
       " 'SPARX',\n",
       " 'SPARX',\n",
       " 'PUMA',\n",
       " 'luxury fashion',\n",
       " 'BIRDE',\n",
       " 'FILA',\n",
       " 'Bond Street By Red Tape',\n",
       " 'bluemaker',\n",
       " 'United Colors of Benetton',\n",
       " 'RED TAPE',\n",
       " 'Jokatoo',\n",
       " 'BRUTON',\n",
       " 'Absolute comfort',\n",
       " 'PROVOGUE',\n",
       " 'United Colors of Benetton',\n",
       " 'PROVOGUE',\n",
       " 'RED TAPE',\n",
       " 'PUMA',\n",
       " 'PUMA',\n",
       " 'TR',\n",
       " 'SPARX',\n",
       " 'PUMA',\n",
       " 'PUMA',\n",
       " 'bluemaker',\n",
       " 'India hub',\n",
       " 'PUMA',\n",
       " 'SPARX',\n",
       " 'Fzzirok',\n",
       " 'SPARX',\n",
       " 'D-SNEAKERZ',\n",
       " 'Zixer',\n",
       " 'pollachief',\n",
       " 'ESSENCE',\n",
       " 'CAMPUS',\n",
       " 'RED TAPE',\n",
       " 'DUCATI',\n",
       " 'Axter',\n",
       " 'ORICUM',\n",
       " 'sneaker hub',\n",
       " 'Numenzo',\n",
       " 'PUMA',\n",
       " 'PUMA',\n",
       " 'ADIDAS',\n",
       " 'luxury fashion',\n",
       " 'PUMA',\n",
       " 'bluemaker',\n",
       " 'PUMA',\n",
       " 'bluemaker',\n",
       " 'PUMA',\n",
       " 'Chevit',\n",
       " 'TR',\n",
       " 'BRUTON',\n",
       " 'BRUTON',\n",
       " 'PUMA',\n",
       " 'SPARX',\n",
       " 'PROVOGUE',\n",
       " 'World Wear Footwear',\n",
       " 'Chevit',\n",
       " 'PUMA',\n",
       " 'bluemaker',\n",
       " 'Absolute comfort',\n",
       " 'luxury fashion',\n",
       " 'BRUTON',\n",
       " 'Fzzirok',\n",
       " 'PUMA',\n",
       " 'PUMA',\n",
       " 'PUMA',\n",
       " 'Wrogn']"
      ]
     },
     "execution_count": 19,
     "metadata": {},
     "output_type": "execute_result"
    }
   ],
   "source": [
    "brand = []\n",
    "for i in page1_url[1:4]:\n",
    "    driver.get(i)\n",
    "    brand_tag = driver.find_elements_by_class_name(\"_2WkVRV\")\n",
    "    for i in brand_tag:\n",
    "        brand.append(i.text)\n",
    "brand      "
   ]
  },
  {
   "cell_type": "code",
   "execution_count": 34,
   "metadata": {
    "scrolled": true
   },
   "outputs": [
    {
     "data": {
      "text/plain": [
       "['SPARX',\n",
       " 'DUCATI',\n",
       " 'PUMA',\n",
       " 'pollachief',\n",
       " 'BRUTON',\n",
       " 'Zsyto',\n",
       " 'RED TAPE',\n",
       " 'Numenzo',\n",
       " 'SPARX',\n",
       " \"LEVI'S\",\n",
       " 'believe',\n",
       " 'DUCATI',\n",
       " 'PUMA',\n",
       " 'PUMA',\n",
       " 'PUMA',\n",
       " 'luxury fashion',\n",
       " 'BRUTON',\n",
       " 'SCATCHITE',\n",
       " 'PUMA',\n",
       " 'bluemaker',\n",
       " 'ADIDAS',\n",
       " 'SPARX',\n",
       " 'RODDICK SHOES',\n",
       " 'PROVOGUE',\n",
       " 'World Wear Footwear',\n",
       " 'PUMA',\n",
       " 'PUMA',\n",
       " 'TR',\n",
       " \"LEVI'S\",\n",
       " 'Nilatin',\n",
       " 'D-SNEAKERZ',\n",
       " 'bluemaker',\n",
       " 'PUMA',\n",
       " 'PUMA',\n",
       " 'PUMA',\n",
       " 'Fzzirok',\n",
       " 'Chevit',\n",
       " 'Nilatin',\n",
       " 'DUCATI',\n",
       " 'Wrogn',\n",
       " 'SPARX',\n",
       " 'RED TAPE',\n",
       " 'Ktiz',\n",
       " 'pollachief',\n",
       " 'bluemaker',\n",
       " 'RED TAPE',\n",
       " \"LEVI'S\",\n",
       " 'DUCATI',\n",
       " 'ADIDAS',\n",
       " 'Chevit',\n",
       " 'Arohi',\n",
       " 'Numenzo',\n",
       " 'SPARX',\n",
       " 'SPARX',\n",
       " 'PUMA',\n",
       " 'luxury fashion',\n",
       " 'BIRDE',\n",
       " 'FILA',\n",
       " 'Bond Street By Red Tape',\n",
       " 'bluemaker',\n",
       " 'United Colors of Benetton',\n",
       " 'RED TAPE',\n",
       " 'Jokatoo',\n",
       " 'BRUTON',\n",
       " 'Absolute comfort',\n",
       " 'PROVOGUE',\n",
       " 'United Colors of Benetton',\n",
       " 'PROVOGUE',\n",
       " 'RED TAPE',\n",
       " 'PUMA',\n",
       " 'PUMA',\n",
       " 'TR',\n",
       " 'SPARX',\n",
       " 'PUMA',\n",
       " 'PUMA',\n",
       " 'bluemaker',\n",
       " 'India hub',\n",
       " 'PUMA',\n",
       " 'SPARX',\n",
       " 'Fzzirok',\n",
       " 'SPARX',\n",
       " 'D-SNEAKERZ',\n",
       " 'Zixer',\n",
       " 'pollachief',\n",
       " 'ESSENCE',\n",
       " 'CAMPUS',\n",
       " 'RED TAPE',\n",
       " 'DUCATI',\n",
       " 'Axter',\n",
       " 'ORICUM',\n",
       " 'sneaker hub',\n",
       " 'Numenzo',\n",
       " 'PUMA',\n",
       " 'PUMA',\n",
       " 'ADIDAS',\n",
       " 'luxury fashion',\n",
       " 'PUMA',\n",
       " 'bluemaker',\n",
       " 'PUMA',\n",
       " 'bluemaker']"
      ]
     },
     "execution_count": 34,
     "metadata": {},
     "output_type": "execute_result"
    }
   ],
   "source": [
    "b1 = brand[:100]\n",
    "b1"
   ]
  },
  {
   "cell_type": "code",
   "execution_count": 21,
   "metadata": {
    "scrolled": true
   },
   "outputs": [
    {
     "data": {
      "text/plain": [
       "['SD-323 Sneakers For Men',\n",
       " 'Sneakers For Men',\n",
       " 'Dexster Slip On IDP Sneakers For Men',\n",
       " 'Casual Sneaker for Men Sneakers For Men',\n",
       " 'Combo Pack Of 4 Casual Shoes Loafer Shoes Sneakers For ...',\n",
       " 'Sneakers For Men',\n",
       " 'Sneakers For Men',\n",
       " 'Sneakers For Men',\n",
       " 'SM-482 Sneakers For Men',\n",
       " 'INDI WISH Sneaker For Men',\n",
       " 'Sneakers for men(black_6) Sneakers For Men',\n",
       " 'Sneakers For Men',\n",
       " 'Puma Rebound LayUp SL Sneakers For Men',\n",
       " 'Puma Smash v2 L Perf Sneakers For Men',\n",
       " 'Puma Smash v2 L Sneakers For Men',\n",
       " 'Sneakers For Men',\n",
       " 'Modern & Trendy Collection Combo Pack of 02 Shoes for M...',\n",
       " 'Sneakers Sneakers For Men',\n",
       " 'Deco IDP Sneakers For Men',\n",
       " 'Sneakers For Men',\n",
       " 'Easy Vulc 2.0 Sneakers For Men',\n",
       " 'SM-322 Sneakers For Men',\n",
       " 'Fashion Outdoor Canvas Casual Light Weight Lace-up Even...',\n",
       " 'Sneakers For Men',\n",
       " 'Men 5014 Latest Collection Stylish Casual Sports Loafer...',\n",
       " 'Trenzo II IDP Sneakers For Men',\n",
       " 'Cardif Slip on IDP Sneakers For Men',\n",
       " 'casual for men (blue 08) Sneakers For Men',\n",
       " \"Levi's Baylor Sneakers Sneakers For Men\",\n",
       " 'Black Sneaker For Men Sneakers For Men',\n",
       " \"Casual , Partywear Sneakers Shoes For Men's And Boys Wh...\",\n",
       " 'Premium quality Sneakers For Men',\n",
       " 'Puma Wired Cage Sneakers For Men',\n",
       " 'Sneakers For Men',\n",
       " 'Kent IDP Sneakers For Men',\n",
       " 'Sneakers For Men',\n",
       " 'Perfect & Affordable Combo Pack of 03 Pairs Casual Snea...',\n",
       " 'White Sneaker for Men Sneakers For Men',\n",
       " 'Sneakers For Men',\n",
       " 'Thunder Sneakers For Men',\n",
       " \"Men's Sneakers For Men\",\n",
       " 'Sneakers For Men',\n",
       " 'Rockstyle Trending Multicolor Ultralight canvas Sport/ ...',\n",
       " 'Sneakers For Men',\n",
       " 'casual for men (beige 06) Sneakers For Men',\n",
       " 'Sneakers For Men',\n",
       " 'Basic 2.0 Sneakers For Men',\n",
       " 'Sneakers For Men',\n",
       " 'Easy Vulc 2.0 Sneakers For Men',\n",
       " 'Perfect & Affordable Combo Pack of 02 Pairs Sneakers Ou...',\n",
       " 'Sneakers For Men',\n",
       " 'Sneakers For Men',\n",
       " 'SM-282 Sneakers For Men',\n",
       " 'Men 175 Sneakers For Men',\n",
       " 'Urban SL Sneakers For Men',\n",
       " 'Luxury Fashionable casual sneaker shoes Sneakers For Me...',\n",
       " 'Combo Pack of 4 Casual Shoes Sneakers For Men',\n",
       " 'MESTO Sneakers For Men',\n",
       " 'Sneakers For Men',\n",
       " 'Sneakers For Men',\n",
       " 'Sneakers For Men',\n",
       " 'Classic Sneakers For Men',\n",
       " 'Sneakers For Men',\n",
       " 'Modern & Trendy Collection Combo Pack of 02 Shoes for M...',\n",
       " 'SOFT Sneakers For Men',\n",
       " 'Sneakers For Men',\n",
       " 'Sneakers For Men',\n",
       " 'Sneakers For Men',\n",
       " 'Sneakers For Men',\n",
       " 'Simha IDP Sneakers For Men',\n",
       " 'Lazy Knit Slip On IDP Sneakers For Men',\n",
       " 'casual for men (blue 08) Sneakers For Men',\n",
       " 'SD-323 Sneakers For Men',\n",
       " 'Puma Flex Renew Sneakers For Men',\n",
       " 'Scuderia Ferrari Race IMEVA X-Ray 2 Sneakers For Men',\n",
       " 'Premium quality Sneakers For Men',\n",
       " 'Fashionable casual sneakers shoes Sneakers For Men',\n",
       " 'Puma Flex Renew Sneakers For Men',\n",
       " 'SM-162 Sneakers For Men',\n",
       " 'Sneakers For Men',\n",
       " 'SM-322 Sneakers For Men',\n",
       " \"Casual , Partywear Sneakers Shoes For Men's And Boys Wh...\",\n",
       " 'Shoes For Boys Dance shoes Sneakers For Men',\n",
       " 'Sneakers For Men',\n",
       " 'Trendy Sneakers For Men',\n",
       " 'EXPLORE Sneakers For Men',\n",
       " 'Sneakers For Men',\n",
       " 'Sneakers For Men',\n",
       " 'Combo Pack of 2 Casual Loafer Sneakers Shoes Sneakers F...',\n",
       " 'Combo pack of 2 casual sneaker shoes for men Sneakers F...',\n",
       " 'NEW STYLE Sneakers For Men',\n",
       " 'Sneakers For Men',\n",
       " '90s Runner Nu Wave Sneakers For Men',\n",
       " 'BMW MMS Future Kart Cat Sneakers For Men',\n",
       " 'Vs Pace Sneakers For Men',\n",
       " 'Modern & Trendy Collection Combo Pack of 02 Shoes for M...',\n",
       " 'one8 Prime Mid V3 Sneakers For Men',\n",
       " 'casual for men Sneakers For Men',\n",
       " 'bold IDP Sneakers For Men',\n",
       " 'Sneakers For Men',\n",
       " 'Respin Sneakers For Men',\n",
       " 'Smart Casuals Canvas Shoes Combo pack of 2 Sneakers For...',\n",
       " 'Sneakers For Men',\n",
       " 'casual for men (blue 08) Sneakers For Men',\n",
       " 'Sneakers For Men',\n",
       " 'Lazy Knit Slip On IDP Sneakers For Men',\n",
       " 'SM-322 Sneakers For Men',\n",
       " 'Premium quality Sneakers For Men',\n",
       " 'Latest Collection-349 Stylish Casual Sports Sneakers Fo...',\n",
       " 'Affordable Combo Pack of 03 Pairs Sneakers Outdoor Loaf...',\n",
       " 'Flex Renew SlipOn Sneakers For Men',\n",
       " 'Sneakers For Men',\n",
       " 'EVAW2 Sneakers For Men',\n",
       " 'Fashionable casual sneaker shoes Sneakers For Men',\n",
       " 'Modern Trendy Sneakers Shoes Sneakers For Men',\n",
       " 'Unique & Perfect Collection Combo Pack of 02 Shoes for ...',\n",
       " 'Slyde Knit IDP Sneakers For Men',\n",
       " 'Max IDP Sneakers For Men',\n",
       " 'Scuderia Ferrari Drift Cat 8 Sneakers For Men',\n",
       " 'Thunder Sneakers For Men']"
      ]
     },
     "execution_count": 21,
     "metadata": {},
     "output_type": "execute_result"
    }
   ],
   "source": [
    "description = []\n",
    "for i in page1_url[1:4]:\n",
    "    driver.get(i)\n",
    "    description_tag = driver.find_elements_by_class_name(\"IRpwTa\")\n",
    "    for i in description_tag:\n",
    "        description.append(i.text)\n",
    "description    "
   ]
  },
  {
   "cell_type": "code",
   "execution_count": 35,
   "metadata": {
    "scrolled": true
   },
   "outputs": [
    {
     "data": {
      "text/plain": [
       "['SD-323 Sneakers For Men',\n",
       " 'Sneakers For Men',\n",
       " 'Dexster Slip On IDP Sneakers For Men',\n",
       " 'Casual Sneaker for Men Sneakers For Men',\n",
       " 'Combo Pack Of 4 Casual Shoes Loafer Shoes Sneakers For ...',\n",
       " 'Sneakers For Men',\n",
       " 'Sneakers For Men',\n",
       " 'Sneakers For Men',\n",
       " 'SM-482 Sneakers For Men',\n",
       " 'INDI WISH Sneaker For Men',\n",
       " 'Sneakers for men(black_6) Sneakers For Men',\n",
       " 'Sneakers For Men',\n",
       " 'Puma Rebound LayUp SL Sneakers For Men',\n",
       " 'Puma Smash v2 L Perf Sneakers For Men',\n",
       " 'Puma Smash v2 L Sneakers For Men',\n",
       " 'Sneakers For Men',\n",
       " 'Modern & Trendy Collection Combo Pack of 02 Shoes for M...',\n",
       " 'Sneakers Sneakers For Men',\n",
       " 'Deco IDP Sneakers For Men',\n",
       " 'Sneakers For Men',\n",
       " 'Easy Vulc 2.0 Sneakers For Men',\n",
       " 'SM-322 Sneakers For Men',\n",
       " 'Fashion Outdoor Canvas Casual Light Weight Lace-up Even...',\n",
       " 'Sneakers For Men',\n",
       " 'Men 5014 Latest Collection Stylish Casual Sports Loafer...',\n",
       " 'Trenzo II IDP Sneakers For Men',\n",
       " 'Cardif Slip on IDP Sneakers For Men',\n",
       " 'casual for men (blue 08) Sneakers For Men',\n",
       " \"Levi's Baylor Sneakers Sneakers For Men\",\n",
       " 'Black Sneaker For Men Sneakers For Men',\n",
       " \"Casual , Partywear Sneakers Shoes For Men's And Boys Wh...\",\n",
       " 'Premium quality Sneakers For Men',\n",
       " 'Puma Wired Cage Sneakers For Men',\n",
       " 'Sneakers For Men',\n",
       " 'Kent IDP Sneakers For Men',\n",
       " 'Sneakers For Men',\n",
       " 'Perfect & Affordable Combo Pack of 03 Pairs Casual Snea...',\n",
       " 'White Sneaker for Men Sneakers For Men',\n",
       " 'Sneakers For Men',\n",
       " 'Thunder Sneakers For Men',\n",
       " \"Men's Sneakers For Men\",\n",
       " 'Sneakers For Men',\n",
       " 'Rockstyle Trending Multicolor Ultralight canvas Sport/ ...',\n",
       " 'Sneakers For Men',\n",
       " 'casual for men (beige 06) Sneakers For Men',\n",
       " 'Sneakers For Men',\n",
       " 'Basic 2.0 Sneakers For Men',\n",
       " 'Sneakers For Men',\n",
       " 'Easy Vulc 2.0 Sneakers For Men',\n",
       " 'Perfect & Affordable Combo Pack of 02 Pairs Sneakers Ou...',\n",
       " 'Sneakers For Men',\n",
       " 'Sneakers For Men',\n",
       " 'SM-282 Sneakers For Men',\n",
       " 'Men 175 Sneakers For Men',\n",
       " 'Urban SL Sneakers For Men',\n",
       " 'Luxury Fashionable casual sneaker shoes Sneakers For Me...',\n",
       " 'Combo Pack of 4 Casual Shoes Sneakers For Men',\n",
       " 'MESTO Sneakers For Men',\n",
       " 'Sneakers For Men',\n",
       " 'Sneakers For Men',\n",
       " 'Sneakers For Men',\n",
       " 'Classic Sneakers For Men',\n",
       " 'Sneakers For Men',\n",
       " 'Modern & Trendy Collection Combo Pack of 02 Shoes for M...',\n",
       " 'SOFT Sneakers For Men',\n",
       " 'Sneakers For Men',\n",
       " 'Sneakers For Men',\n",
       " 'Sneakers For Men',\n",
       " 'Sneakers For Men',\n",
       " 'Simha IDP Sneakers For Men',\n",
       " 'Lazy Knit Slip On IDP Sneakers For Men',\n",
       " 'casual for men (blue 08) Sneakers For Men',\n",
       " 'SD-323 Sneakers For Men',\n",
       " 'Puma Flex Renew Sneakers For Men',\n",
       " 'Scuderia Ferrari Race IMEVA X-Ray 2 Sneakers For Men',\n",
       " 'Premium quality Sneakers For Men',\n",
       " 'Fashionable casual sneakers shoes Sneakers For Men',\n",
       " 'Puma Flex Renew Sneakers For Men',\n",
       " 'SM-162 Sneakers For Men',\n",
       " 'Sneakers For Men',\n",
       " 'SM-322 Sneakers For Men',\n",
       " \"Casual , Partywear Sneakers Shoes For Men's And Boys Wh...\",\n",
       " 'Shoes For Boys Dance shoes Sneakers For Men',\n",
       " 'Sneakers For Men',\n",
       " 'Trendy Sneakers For Men',\n",
       " 'EXPLORE Sneakers For Men',\n",
       " 'Sneakers For Men',\n",
       " 'Sneakers For Men',\n",
       " 'Combo Pack of 2 Casual Loafer Sneakers Shoes Sneakers F...',\n",
       " 'Combo pack of 2 casual sneaker shoes for men Sneakers F...',\n",
       " 'NEW STYLE Sneakers For Men',\n",
       " 'Sneakers For Men',\n",
       " '90s Runner Nu Wave Sneakers For Men',\n",
       " 'BMW MMS Future Kart Cat Sneakers For Men',\n",
       " 'Vs Pace Sneakers For Men',\n",
       " 'Modern & Trendy Collection Combo Pack of 02 Shoes for M...',\n",
       " 'one8 Prime Mid V3 Sneakers For Men',\n",
       " 'casual for men Sneakers For Men',\n",
       " 'bold IDP Sneakers For Men',\n",
       " 'Sneakers For Men']"
      ]
     },
     "execution_count": 35,
     "metadata": {},
     "output_type": "execute_result"
    }
   ],
   "source": [
    "d12 = description[:100]\n",
    "d12"
   ]
  },
  {
   "cell_type": "code",
   "execution_count": 22,
   "metadata": {},
   "outputs": [
    {
     "data": {
      "text/plain": [
       "['₹629',\n",
       " '₹1,781',\n",
       " '₹1,360',\n",
       " '₹426',\n",
       " '₹399',\n",
       " '₹295',\n",
       " '₹1,423',\n",
       " '₹1,289',\n",
       " '₹931',\n",
       " '₹1,599',\n",
       " '₹399',\n",
       " '₹399',\n",
       " '₹2,899',\n",
       " '₹1,520',\n",
       " '₹2,204',\n",
       " '₹543',\n",
       " '₹499',\n",
       " '₹398',\n",
       " '₹1,047',\n",
       " '₹499',\n",
       " '₹1,621',\n",
       " '₹753',\n",
       " '₹474',\n",
       " '₹399',\n",
       " '₹240',\n",
       " '₹1,500',\n",
       " '₹1,338',\n",
       " '₹378',\n",
       " '₹1,749',\n",
       " '₹426',\n",
       " '₹348',\n",
       " '₹607',\n",
       " '₹1,470',\n",
       " '₹1,520',\n",
       " '₹1,260',\n",
       " '₹419',\n",
       " '₹594',\n",
       " '₹407',\n",
       " '₹1,219',\n",
       " '₹420',\n",
       " '₹1,520',\n",
       " '₹1,621',\n",
       " '₹399',\n",
       " '₹399',\n",
       " '₹1,338',\n",
       " '₹498',\n",
       " '₹1,348',\n",
       " '₹429',\n",
       " '₹1,289',\n",
       " '₹399',\n",
       " '₹1,049',\n",
       " '₹1,048',\n",
       " '₹426',\n",
       " '₹1,360',\n",
       " '₹447',\n",
       " '₹464',\n",
       " '₹399',\n",
       " '₹795',\n",
       " '₹675',\n",
       " '₹1,614',\n",
       " '₹399',\n",
       " '₹624',\n",
       " '₹845',\n",
       " '₹798',\n",
       " '₹499',\n",
       " '₹1,849',\n",
       " '₹1,398',\n",
       " '₹506',\n",
       " '₹543',\n",
       " '₹198',\n",
       " '₹599',\n",
       " '₹1,252',\n",
       " '₹499',\n",
       " '₹1,023',\n",
       " '₹1,115',\n",
       " '₹1,047',\n",
       " '₹399',\n",
       " '₹623',\n",
       " '₹2,279',\n",
       " '₹2,719',\n",
       " '₹378',\n",
       " '₹449',\n",
       " '₹1,654',\n",
       " '₹730',\n",
       " '₹607',\n",
       " '₹1,849',\n",
       " '₹447',\n",
       " '₹798',\n",
       " '₹1,023',\n",
       " '₹198',\n",
       " '₹769',\n",
       " '₹384',\n",
       " '₹555',\n",
       " '₹1,289',\n",
       " '₹353',\n",
       " '₹1,671',\n",
       " '₹1,049',\n",
       " '₹426',\n",
       " '₹299',\n",
       " '₹398',\n",
       " '₹378',\n",
       " '₹399',\n",
       " '₹2,100',\n",
       " '₹3,500',\n",
       " '₹1,635',\n",
       " '₹399',\n",
       " '₹2,700',\n",
       " '₹399',\n",
       " '₹1,508',\n",
       " '₹499',\n",
       " '₹2,520',\n",
       " '₹322',\n",
       " '₹499',\n",
       " '₹543',\n",
       " '₹336',\n",
       " '₹1,047',\n",
       " '₹699',\n",
       " '₹399',\n",
       " '₹199',\n",
       " '₹594',\n",
       " '₹1,646',\n",
       " '₹378',\n",
       " '₹199',\n",
       " '₹379',\n",
       " '₹319',\n",
       " '₹607',\n",
       " '₹1,047',\n",
       " '₹1,330',\n",
       " '₹3,200',\n",
       " '₹420',\n",
       " '₹769',\n",
       " '₹1,671',\n",
       " '₹1,508',\n",
       " '₹199',\n",
       " '₹378']"
      ]
     },
     "execution_count": 22,
     "metadata": {},
     "output_type": "execute_result"
    }
   ],
   "source": [
    "price = []\n",
    "for i in page1_url[1:4]:\n",
    "    driver.get(i)\n",
    "    price_tag = driver.find_elements_by_class_name(\"_30jeq3\")\n",
    "    for i in price_tag:\n",
    "        price.append(i.text)\n",
    "price  "
   ]
  },
  {
   "cell_type": "code",
   "execution_count": 32,
   "metadata": {
    "scrolled": true
   },
   "outputs": [
    {
     "data": {
      "text/plain": [
       "['₹629',\n",
       " '₹1,781',\n",
       " '₹1,360',\n",
       " '₹426',\n",
       " '₹399',\n",
       " '₹295',\n",
       " '₹1,423',\n",
       " '₹1,289',\n",
       " '₹931',\n",
       " '₹1,599',\n",
       " '₹399',\n",
       " '₹399',\n",
       " '₹2,899',\n",
       " '₹1,520',\n",
       " '₹2,204',\n",
       " '₹543',\n",
       " '₹499',\n",
       " '₹398',\n",
       " '₹1,047',\n",
       " '₹499',\n",
       " '₹1,621',\n",
       " '₹753',\n",
       " '₹474',\n",
       " '₹399',\n",
       " '₹240',\n",
       " '₹1,500',\n",
       " '₹1,338',\n",
       " '₹378',\n",
       " '₹1,749',\n",
       " '₹426',\n",
       " '₹348',\n",
       " '₹607',\n",
       " '₹1,470',\n",
       " '₹1,520',\n",
       " '₹1,260',\n",
       " '₹419',\n",
       " '₹594',\n",
       " '₹407',\n",
       " '₹1,219',\n",
       " '₹420',\n",
       " '₹1,520',\n",
       " '₹1,621',\n",
       " '₹399',\n",
       " '₹399',\n",
       " '₹1,338',\n",
       " '₹498',\n",
       " '₹1,348',\n",
       " '₹429',\n",
       " '₹1,289',\n",
       " '₹399',\n",
       " '₹1,049',\n",
       " '₹1,048',\n",
       " '₹426',\n",
       " '₹1,360',\n",
       " '₹447',\n",
       " '₹464',\n",
       " '₹399',\n",
       " '₹795',\n",
       " '₹675',\n",
       " '₹1,614',\n",
       " '₹399',\n",
       " '₹624',\n",
       " '₹845',\n",
       " '₹798',\n",
       " '₹499',\n",
       " '₹1,849',\n",
       " '₹1,398',\n",
       " '₹506',\n",
       " '₹543',\n",
       " '₹198',\n",
       " '₹599',\n",
       " '₹1,252',\n",
       " '₹499',\n",
       " '₹1,023',\n",
       " '₹1,115',\n",
       " '₹1,047',\n",
       " '₹399',\n",
       " '₹623',\n",
       " '₹2,279',\n",
       " '₹2,719',\n",
       " '₹378',\n",
       " '₹449',\n",
       " '₹1,654',\n",
       " '₹730',\n",
       " '₹607',\n",
       " '₹1,849',\n",
       " '₹447',\n",
       " '₹798',\n",
       " '₹1,023',\n",
       " '₹198',\n",
       " '₹769',\n",
       " '₹384',\n",
       " '₹555',\n",
       " '₹1,289',\n",
       " '₹353',\n",
       " '₹1,671',\n",
       " '₹1,049',\n",
       " '₹426',\n",
       " '₹299',\n",
       " '₹398']"
      ]
     },
     "execution_count": 32,
     "metadata": {},
     "output_type": "execute_result"
    }
   ],
   "source": [
    "p1 = price[:100]\n",
    "p1"
   ]
  },
  {
   "cell_type": "code",
   "execution_count": 23,
   "metadata": {},
   "outputs": [
    {
     "data": {
      "text/plain": [
       "['16% off',\n",
       " '50% off',\n",
       " '65% off',\n",
       " '78% off',\n",
       " '88% off',\n",
       " '77% off',\n",
       " '75% off',\n",
       " '65% off',\n",
       " '30% off',\n",
       " '60% off',\n",
       " '60% off',\n",
       " '60% off',\n",
       " '42% off',\n",
       " '61% off',\n",
       " '37% off',\n",
       " '58% off',\n",
       " '80% off',\n",
       " '60% off',\n",
       " '65% off',\n",
       " '75% off',\n",
       " '59% off',\n",
       " '24% off',\n",
       " '52% off',\n",
       " '60% off',\n",
       " '51% off',\n",
       " '49% off',\n",
       " '66% off',\n",
       " '62% off',\n",
       " '50% off',\n",
       " '67% off',\n",
       " '47% off',\n",
       " '69% off',\n",
       " '57% off',\n",
       " '61% off',\n",
       " '57% off',\n",
       " '65% off',\n",
       " '77% off',\n",
       " '68% off',\n",
       " '66% off',\n",
       " '71% off',\n",
       " '61% off',\n",
       " '59% off',\n",
       " '88% off',\n",
       " '60% off',\n",
       " '66% off',\n",
       " '49% off',\n",
       " '61% off',\n",
       " '68% off',\n",
       " '65% off',\n",
       " '60% off',\n",
       " '61% off',\n",
       " '33% off',\n",
       " '78% off',\n",
       " '24% off',\n",
       " '66% off',\n",
       " '47% off',\n",
       " '60% off',\n",
       " '75% off',\n",
       " '57% off',\n",
       " '65% off',\n",
       " '80% off',\n",
       " '62% off',\n",
       " '40% off',\n",
       " '75% off',\n",
       " '58% off',\n",
       " '65% off',\n",
       " '75% off',\n",
       " '80% off',\n",
       " '75% off',\n",
       " '70% off',\n",
       " '50% off',\n",
       " '16% off',\n",
       " '60% off',\n",
       " '43% off',\n",
       " '62% off',\n",
       " '36% off',\n",
       " '62% off',\n",
       " '23% off',\n",
       " '57% off',\n",
       " '70% off',\n",
       " '69% off',\n",
       " '60% off',\n",
       " '74% off',\n",
       " '60% off',\n",
       " '65% off',\n",
       " '80% off',\n",
       " '50% off',\n",
       " '47% off',\n",
       " '75% off',\n",
       " '75% off',\n",
       " '23% off',\n",
       " '61% off',\n",
       " '44% off',\n",
       " '65% off',\n",
       " '64% off',\n",
       " '12% off',\n",
       " '77% off',\n",
       " '78% off',\n",
       " '78% off',\n",
       " '60% off',\n",
       " '24% off',\n",
       " '60% off',\n",
       " '57% off',\n",
       " '49% off',\n",
       " '59% off',\n",
       " '80% off',\n",
       " '54% off',\n",
       " '60% off',\n",
       " '60% off',\n",
       " '58% off',\n",
       " '57% off',\n",
       " '67% off',\n",
       " '75% off',\n",
       " '60% off',\n",
       " '83% off',\n",
       " '65% off',\n",
       " '30% off',\n",
       " '62% off',\n",
       " '60% off',\n",
       " '74% off',\n",
       " '52% off',\n",
       " '69% off',\n",
       " '60% off',\n",
       " '87% off',\n",
       " '75% off',\n",
       " '71% off',\n",
       " '65% off',\n",
       " '61% off',\n",
       " '59% off',\n",
       " '65% off',\n",
       " '23% off',\n",
       " '12% off',\n",
       " '60% off',\n",
       " '60% off',\n",
       " '24% off']"
      ]
     },
     "execution_count": 23,
     "metadata": {},
     "output_type": "execute_result"
    }
   ],
   "source": [
    "discount = []\n",
    "for i in page1_url[1:4]:\n",
    "    driver.get(i)\n",
    "    discount_tag = driver.find_elements_by_class_name(\"_3Ay6Sb\")\n",
    "    for i in discount_tag:\n",
    "        discount.append(i.text)\n",
    "discount  "
   ]
  },
  {
   "cell_type": "code",
   "execution_count": 31,
   "metadata": {
    "scrolled": true
   },
   "outputs": [
    {
     "data": {
      "text/plain": [
       "['16% off',\n",
       " '50% off',\n",
       " '65% off',\n",
       " '78% off',\n",
       " '88% off',\n",
       " '77% off',\n",
       " '75% off',\n",
       " '65% off',\n",
       " '30% off',\n",
       " '60% off',\n",
       " '60% off',\n",
       " '60% off',\n",
       " '42% off',\n",
       " '61% off',\n",
       " '37% off',\n",
       " '58% off',\n",
       " '80% off',\n",
       " '60% off',\n",
       " '65% off',\n",
       " '75% off',\n",
       " '59% off',\n",
       " '24% off',\n",
       " '52% off',\n",
       " '60% off',\n",
       " '51% off',\n",
       " '49% off',\n",
       " '66% off',\n",
       " '62% off',\n",
       " '50% off',\n",
       " '67% off',\n",
       " '47% off',\n",
       " '69% off',\n",
       " '57% off',\n",
       " '61% off',\n",
       " '57% off',\n",
       " '65% off',\n",
       " '77% off',\n",
       " '68% off',\n",
       " '66% off',\n",
       " '71% off',\n",
       " '61% off',\n",
       " '59% off',\n",
       " '88% off',\n",
       " '60% off',\n",
       " '66% off',\n",
       " '49% off',\n",
       " '61% off',\n",
       " '68% off',\n",
       " '65% off',\n",
       " '60% off',\n",
       " '61% off',\n",
       " '33% off',\n",
       " '78% off',\n",
       " '24% off',\n",
       " '66% off',\n",
       " '47% off',\n",
       " '60% off',\n",
       " '75% off',\n",
       " '57% off',\n",
       " '65% off',\n",
       " '80% off',\n",
       " '62% off',\n",
       " '40% off',\n",
       " '75% off',\n",
       " '58% off',\n",
       " '65% off',\n",
       " '75% off',\n",
       " '80% off',\n",
       " '75% off',\n",
       " '70% off',\n",
       " '50% off',\n",
       " '16% off',\n",
       " '60% off',\n",
       " '43% off',\n",
       " '62% off',\n",
       " '36% off',\n",
       " '62% off',\n",
       " '23% off',\n",
       " '57% off',\n",
       " '70% off',\n",
       " '69% off',\n",
       " '60% off',\n",
       " '74% off',\n",
       " '60% off',\n",
       " '65% off',\n",
       " '80% off',\n",
       " '50% off',\n",
       " '47% off',\n",
       " '75% off',\n",
       " '75% off',\n",
       " '23% off',\n",
       " '61% off',\n",
       " '44% off',\n",
       " '65% off',\n",
       " '64% off',\n",
       " '12% off',\n",
       " '77% off',\n",
       " '78% off',\n",
       " '78% off',\n",
       " '60% off']"
      ]
     },
     "execution_count": 31,
     "metadata": {},
     "output_type": "execute_result"
    }
   ],
   "source": [
    "d1 = discount[:100]\n",
    "d1"
   ]
  },
  {
   "cell_type": "code",
   "execution_count": 30,
   "metadata": {
    "scrolled": false
   },
   "outputs": [
    {
     "name": "stdout",
     "output_type": "stream",
     "text": [
      "120 120 135 135\n"
     ]
    }
   ],
   "source": [
    "print(len(brand),len(description),len(price),len(discount))"
   ]
  },
  {
   "cell_type": "code",
   "execution_count": 36,
   "metadata": {},
   "outputs": [
    {
     "name": "stdout",
     "output_type": "stream",
     "text": [
      "100 100 100 100\n"
     ]
    }
   ],
   "source": [
    "print(len(b1),len(d12),len(p1),len(d1))"
   ]
  },
  {
   "cell_type": "code",
   "execution_count": 38,
   "metadata": {
    "scrolled": true
   },
   "outputs": [
    {
     "data": {
      "text/html": [
       "<div>\n",
       "<style scoped>\n",
       "    .dataframe tbody tr th:only-of-type {\n",
       "        vertical-align: middle;\n",
       "    }\n",
       "\n",
       "    .dataframe tbody tr th {\n",
       "        vertical-align: top;\n",
       "    }\n",
       "\n",
       "    .dataframe thead th {\n",
       "        text-align: right;\n",
       "    }\n",
       "</style>\n",
       "<table border=\"1\" class=\"dataframe\">\n",
       "  <thead>\n",
       "    <tr style=\"text-align: right;\">\n",
       "      <th></th>\n",
       "      <th>Brand</th>\n",
       "      <th>Description</th>\n",
       "      <th>Price</th>\n",
       "      <th>Discount</th>\n",
       "    </tr>\n",
       "  </thead>\n",
       "  <tbody>\n",
       "    <tr>\n",
       "      <th>0</th>\n",
       "      <td>SPARX</td>\n",
       "      <td>SD-323 Sneakers For Men</td>\n",
       "      <td>₹629</td>\n",
       "      <td>SD-323 Sneakers For Men</td>\n",
       "    </tr>\n",
       "    <tr>\n",
       "      <th>1</th>\n",
       "      <td>DUCATI</td>\n",
       "      <td>Sneakers For Men</td>\n",
       "      <td>₹1,781</td>\n",
       "      <td>Sneakers For Men</td>\n",
       "    </tr>\n",
       "    <tr>\n",
       "      <th>2</th>\n",
       "      <td>PUMA</td>\n",
       "      <td>Dexster Slip On IDP Sneakers For Men</td>\n",
       "      <td>₹1,360</td>\n",
       "      <td>Dexster Slip On IDP Sneakers For Men</td>\n",
       "    </tr>\n",
       "    <tr>\n",
       "      <th>3</th>\n",
       "      <td>pollachief</td>\n",
       "      <td>Casual Sneaker for Men Sneakers For Men</td>\n",
       "      <td>₹426</td>\n",
       "      <td>Casual Sneaker for Men Sneakers For Men</td>\n",
       "    </tr>\n",
       "    <tr>\n",
       "      <th>4</th>\n",
       "      <td>BRUTON</td>\n",
       "      <td>Combo Pack Of 4 Casual Shoes Loafer Shoes Snea...</td>\n",
       "      <td>₹399</td>\n",
       "      <td>Combo Pack Of 4 Casual Shoes Loafer Shoes Snea...</td>\n",
       "    </tr>\n",
       "    <tr>\n",
       "      <th>...</th>\n",
       "      <td>...</td>\n",
       "      <td>...</td>\n",
       "      <td>...</td>\n",
       "      <td>...</td>\n",
       "    </tr>\n",
       "    <tr>\n",
       "      <th>95</th>\n",
       "      <td>luxury fashion</td>\n",
       "      <td>Modern &amp; Trendy Collection Combo Pack of 02 Sh...</td>\n",
       "      <td>₹1,671</td>\n",
       "      <td>Modern &amp; Trendy Collection Combo Pack of 02 Sh...</td>\n",
       "    </tr>\n",
       "    <tr>\n",
       "      <th>96</th>\n",
       "      <td>PUMA</td>\n",
       "      <td>one8 Prime Mid V3 Sneakers For Men</td>\n",
       "      <td>₹1,049</td>\n",
       "      <td>one8 Prime Mid V3 Sneakers For Men</td>\n",
       "    </tr>\n",
       "    <tr>\n",
       "      <th>97</th>\n",
       "      <td>bluemaker</td>\n",
       "      <td>casual for men Sneakers For Men</td>\n",
       "      <td>₹426</td>\n",
       "      <td>casual for men Sneakers For Men</td>\n",
       "    </tr>\n",
       "    <tr>\n",
       "      <th>98</th>\n",
       "      <td>PUMA</td>\n",
       "      <td>bold IDP Sneakers For Men</td>\n",
       "      <td>₹299</td>\n",
       "      <td>bold IDP Sneakers For Men</td>\n",
       "    </tr>\n",
       "    <tr>\n",
       "      <th>99</th>\n",
       "      <td>bluemaker</td>\n",
       "      <td>Sneakers For Men</td>\n",
       "      <td>₹398</td>\n",
       "      <td>Sneakers For Men</td>\n",
       "    </tr>\n",
       "  </tbody>\n",
       "</table>\n",
       "<p>100 rows × 4 columns</p>\n",
       "</div>"
      ],
      "text/plain": [
       "             Brand                                        Description   Price  \\\n",
       "0            SPARX                            SD-323 Sneakers For Men    ₹629   \n",
       "1           DUCATI                                   Sneakers For Men  ₹1,781   \n",
       "2             PUMA               Dexster Slip On IDP Sneakers For Men  ₹1,360   \n",
       "3       pollachief            Casual Sneaker for Men Sneakers For Men    ₹426   \n",
       "4           BRUTON  Combo Pack Of 4 Casual Shoes Loafer Shoes Snea...    ₹399   \n",
       "..             ...                                                ...     ...   \n",
       "95  luxury fashion  Modern & Trendy Collection Combo Pack of 02 Sh...  ₹1,671   \n",
       "96            PUMA                 one8 Prime Mid V3 Sneakers For Men  ₹1,049   \n",
       "97       bluemaker                    casual for men Sneakers For Men    ₹426   \n",
       "98            PUMA                          bold IDP Sneakers For Men    ₹299   \n",
       "99       bluemaker                                   Sneakers For Men    ₹398   \n",
       "\n",
       "                                             Discount  \n",
       "0                             SD-323 Sneakers For Men  \n",
       "1                                    Sneakers For Men  \n",
       "2                Dexster Slip On IDP Sneakers For Men  \n",
       "3             Casual Sneaker for Men Sneakers For Men  \n",
       "4   Combo Pack Of 4 Casual Shoes Loafer Shoes Snea...  \n",
       "..                                                ...  \n",
       "95  Modern & Trendy Collection Combo Pack of 02 Sh...  \n",
       "96                 one8 Prime Mid V3 Sneakers For Men  \n",
       "97                    casual for men Sneakers For Men  \n",
       "98                          bold IDP Sneakers For Men  \n",
       "99                                   Sneakers For Men  \n",
       "\n",
       "[100 rows x 4 columns]"
      ]
     },
     "execution_count": 38,
     "metadata": {},
     "output_type": "execute_result"
    }
   ],
   "source": [
    "Sneakers_shoes = pd.DataFrame({'Brand':b1,'Description':d12,'Price':p1,'Discount':d1})\n",
    "Sneakers_shoes"
   ]
  },
  {
   "cell_type": "markdown",
   "metadata": {},
   "source": [
    "# Q9"
   ]
  },
  {
   "cell_type": "code",
   "execution_count": 57,
   "metadata": {},
   "outputs": [],
   "source": [
    "url = ' https://www.myntra.com/shoes'\n",
    "driver.get(url)"
   ]
  },
  {
   "cell_type": "code",
   "execution_count": 14,
   "metadata": {
    "scrolled": true
   },
   "outputs": [],
   "source": [
    "search_price = driver.find_element_by_xpath(\"/html/body/div[2]/div/div[1]/main/div[3]/div[1]/section/div/div[5]/ul/li[2]/label/div\")\n",
    "search_price.click()"
   ]
  },
  {
   "cell_type": "code",
   "execution_count": 13,
   "metadata": {},
   "outputs": [],
   "source": [
    "colour_filter = driver.find_element_by_xpath(\"/html/body/div[2]/div/div[1]/main/div[3]/div[1]/section/div/div[6]/ul/li[1]/label/div\")\n",
    "colour_filter.click()"
   ]
  },
  {
   "cell_type": "code",
   "execution_count": 16,
   "metadata": {
    "scrolled": true
   },
   "outputs": [
    {
     "data": {
      "text/plain": [
       "['https://www.myntra.com/shoes?f=Color%3ABlack_36454f&plaEnabled=false&rf=Price%3A6392.0_12595.0_6392.0%20TO%2012595.0%2C5387.0_10525.0_5387.0%20TO%2010525.0&p=2',\n",
       " 'https://www.myntra.com/shoes?f=Color%3ABlack_36454f&plaEnabled=false&rf=Price%3A6392.0_12595.0_6392.0%20TO%2012595.0%2C5387.0_10525.0_5387.0%20TO%2010525.0&p=3',\n",
       " 'https://www.myntra.com/shoes?f=Color%3ABlack_36454f&plaEnabled=false&rf=Price%3A6392.0_12595.0_6392.0%20TO%2012595.0%2C5387.0_10525.0_5387.0%20TO%2010525.0&p=4',\n",
       " 'https://www.myntra.com/shoes?f=Color%3ABlack_36454f&plaEnabled=false&rf=Price%3A6392.0_12595.0_6392.0%20TO%2012595.0%2C5387.0_10525.0_5387.0%20TO%2010525.0&p=5',\n",
       " 'https://www.myntra.com/shoes?f=Color%3ABlack_36454f&plaEnabled=false&rf=Price%3A6392.0_12595.0_6392.0%20TO%2012595.0%2C5387.0_10525.0_5387.0%20TO%2010525.0&p=6',\n",
       " 'https://www.myntra.com/shoes?f=Color%3ABlack_36454f&plaEnabled=false&rf=Price%3A6392.0_12595.0_6392.0%20TO%2012595.0%2C5387.0_10525.0_5387.0%20TO%2010525.0&p=7',\n",
       " 'https://www.myntra.com/shoes?f=Color%3ABlack_36454f&plaEnabled=false&rf=Price%3A6392.0_12595.0_6392.0%20TO%2012595.0%2C5387.0_10525.0_5387.0%20TO%2010525.0&p=8',\n",
       " 'https://www.myntra.com/shoes?f=Color%3ABlack_36454f&plaEnabled=false&rf=Price%3A6392.0_12595.0_6392.0%20TO%2012595.0%2C5387.0_10525.0_5387.0%20TO%2010525.0&p=9',\n",
       " 'https://www.myntra.com/shoes?f=Color%3ABlack_36454f&plaEnabled=false&rf=Price%3A6392.0_12595.0_6392.0%20TO%2012595.0%2C5387.0_10525.0_5387.0%20TO%2010525.0&p=10']"
      ]
     },
     "execution_count": 16,
     "metadata": {},
     "output_type": "execute_result"
    }
   ],
   "source": [
    "page2_url = []\n",
    "url = driver.find_elements_by_xpath(\"//li[@class='pagination-number']/a\")\n",
    "for i in url:\n",
    "    page2_url.append(i.get_attribute(\"href\"))\n",
    "page2_url  "
   ]
  },
  {
   "cell_type": "code",
   "execution_count": 22,
   "metadata": {
    "scrolled": true
   },
   "outputs": [
    {
     "data": {
      "text/plain": [
       "['Cole Haan',\n",
       " 'Kalenji By Decathlon',\n",
       " 'UNDER ARMOUR',\n",
       " 'Ruosh',\n",
       " 'Geox',\n",
       " 'Metro',\n",
       " 'PUMA Hoops',\n",
       " 'Puma',\n",
       " 'Geox',\n",
       " 'Xtep',\n",
       " 'DAVINCHI',\n",
       " 'Lacoste',\n",
       " 'FORCLAZ By Decathlon',\n",
       " 'TARMAK By Decathlon',\n",
       " 'Kenneth Cole',\n",
       " 'UNDER ARMOUR',\n",
       " 'Ruosh',\n",
       " 'Geox',\n",
       " 'Geox',\n",
       " 'Ruosh',\n",
       " 'one8 Select BY VIRAT KOHLI',\n",
       " 'Kenneth Cole',\n",
       " 'Ruosh',\n",
       " 'Cole Haan',\n",
       " 'Clarks',\n",
       " 'Kenneth Cole',\n",
       " 'Heel & Buckle London',\n",
       " 'Nike',\n",
       " 'J.FONTINI',\n",
       " 'Geox',\n",
       " 'Bugatti',\n",
       " 'Geox',\n",
       " 'Ruosh',\n",
       " 'Geox',\n",
       " 'Hush Puppies',\n",
       " 'Hush Puppies',\n",
       " 'UNDER ARMOUR',\n",
       " 'Hush Puppies',\n",
       " 'DAVINCHI',\n",
       " 'Ruosh',\n",
       " 'Geox',\n",
       " 'Geox',\n",
       " 'Geox',\n",
       " 'Xtep',\n",
       " 'Cole Haan',\n",
       " 'Ruosh',\n",
       " 'Louis Philippe',\n",
       " 'Ruosh',\n",
       " 'J.FONTINI',\n",
       " 'J.FONTINI',\n",
       " 'Bugatti',\n",
       " 'Metro',\n",
       " 'DAVINCHI',\n",
       " 'Geox',\n",
       " 'Geox',\n",
       " 'DAVINCHI',\n",
       " 'KIPRUN By Decathlon',\n",
       " 'Ruosh',\n",
       " 'ALDO',\n",
       " 'Heel & Buckle London',\n",
       " 'Heel & Buckle London',\n",
       " 'Quechua By Decathlon',\n",
       " 'Geox',\n",
       " 'ASICS',\n",
       " 'Kenneth Cole',\n",
       " 'UNDER ARMOUR',\n",
       " 'Kalenji By Decathlon',\n",
       " 'Geox',\n",
       " 'Geox',\n",
       " 'UNDER ARMOUR',\n",
       " 'UNDER ARMOUR',\n",
       " 'Geox',\n",
       " 'Geox',\n",
       " 'UNDER ARMOUR',\n",
       " 'RARE RABBIT',\n",
       " 'FILA',\n",
       " 'Vanilla Moon',\n",
       " 'Ruosh',\n",
       " 'Geox',\n",
       " 'Geox',\n",
       " 'Geox',\n",
       " 'Ruosh',\n",
       " 'Geox',\n",
       " 'Geox',\n",
       " 'Geox',\n",
       " 'Cole Haan',\n",
       " 'Nike',\n",
       " 'Geox',\n",
       " 'Geox',\n",
       " 'Xtep',\n",
       " 'Xtep',\n",
       " 'VIONIC',\n",
       " 'Kenneth Cole',\n",
       " 'J.FONTINI',\n",
       " 'J.FONTINI',\n",
       " 'Geox',\n",
       " 'Reebok',\n",
       " 'UNDER ARMOUR',\n",
       " 'Geox',\n",
       " 'Kenneth Cole']"
      ]
     },
     "execution_count": 22,
     "metadata": {},
     "output_type": "execute_result"
    }
   ],
   "source": [
    "shoe_names = []\n",
    "for url in page2_url[:2]:\n",
    "\n",
    "    driver.get(url)\n",
    "\n",
    "    Names=driver.find_elements_by_xpath(\"//div[@class='product-productMetaInfo']/h3\")  #for scrapping shoe brand names\n",
    "    \n",
    "    for i in Names:\n",
    "\n",
    "        shoe_names.append(i.text)\n",
    "shoe_names"
   ]
  },
  {
   "cell_type": "code",
   "execution_count": 24,
   "metadata": {
    "scrolled": false
   },
   "outputs": [
    {
     "data": {
      "text/plain": [
       "['Men Leather Driving Shoes',\n",
       " '',\n",
       " 'Men Genuine Leather Monk Shoes',\n",
       " '',\n",
       " 'Women HOVR Sonic 4 FnRn',\n",
       " '',\n",
       " 'Men Leather Semiformal Driving',\n",
       " '',\n",
       " 'Women High-Top Heeled Boots',\n",
       " '',\n",
       " 'Unisex Clyde Basketball Shoes',\n",
       " '',\n",
       " 'Men Leather Formal Derbys',\n",
       " '',\n",
       " 'Unisex Future Rider Sneakers',\n",
       " '',\n",
       " 'Men Solid Leather Sneakers',\n",
       " '',\n",
       " 'Men Perforations Leather Brogues',\n",
       " '',\n",
       " 'Men Leather Formal Derbys',\n",
       " '',\n",
       " 'Men Driving Shoes Casual Shoes',\n",
       " '',\n",
       " 'Men Woven Design Slip-On Sneakers',\n",
       " '',\n",
       " 'Women Running Shoes',\n",
       " '',\n",
       " 'Men Hiking Shoes',\n",
       " '',\n",
       " 'Men Basketball Shoes',\n",
       " '',\n",
       " 'Men Solid Leather Formal Derbys',\n",
       " '',\n",
       " 'Men Phade Running Shoes',\n",
       " '',\n",
       " 'Men Textured Leather Monks',\n",
       " '',\n",
       " 'Men Driving Shoes',\n",
       " '',\n",
       " 'Men Solid Sneakers',\n",
       " '',\n",
       " 'Men Solid Leather Formal Slip-Ons',\n",
       " '',\n",
       " 'Men Textured Leather Handcrafted Sole Wingman Formal Slip-Ons',\n",
       " '',\n",
       " 'Men Solid Leather Formal Oxfords',\n",
       " '',\n",
       " 'Men Formal Slip-On Shoes',\n",
       " '',\n",
       " 'Men Solid Leather Formal Derbys',\n",
       " '',\n",
       " 'Women Leather Stilettos',\n",
       " '',\n",
       " 'Men Solid Leather Formal Brogues',\n",
       " '',\n",
       " 'Men Wingtip Oxford Sneakers',\n",
       " '',\n",
       " 'Men Textured Leather Loafers',\n",
       " '',\n",
       " 'Men Leather Formal Derbys',\n",
       " '',\n",
       " 'Men Semi-Formal Slip-Ons',\n",
       " '',\n",
       " \"Men BlazerLow '77 Sneakers\",\n",
       " '',\n",
       " 'Men Printed Slip-On Sneakers',\n",
       " '',\n",
       " 'Men Sneakers',\n",
       " '',\n",
       " 'Men Solid Leather Formal Monks',\n",
       " '',\n",
       " 'Men Leather Formal Slip Ons',\n",
       " '',\n",
       " 'Men Leather Derbys',\n",
       " '',\n",
       " 'Men Solid Leather Formal Derbys',\n",
       " '',\n",
       " 'HOVR Sonic 3 Running Shoes',\n",
       " '',\n",
       " 'Men Solid Leather Formal Slip-Ons',\n",
       " '',\n",
       " 'Men Textured Formal Leather Loafers',\n",
       " '',\n",
       " 'Men Solid Leather Oxfords',\n",
       " '',\n",
       " 'AIR MEGA Energy Ring Shoes',\n",
       " '',\n",
       " 'Women Solid Leather Ballerinas',\n",
       " '',\n",
       " 'Men Formal Leather Brogues',\n",
       " '',\n",
       " 'Men Solid Leather Formal Derbys',\n",
       " '',\n",
       " 'Men Leather Formal Brogues',\n",
       " '',\n",
       " 'Men Leather Formal Slip-Ons',\n",
       " '',\n",
       " 'Men Solid Formal Loafers',\n",
       " '',\n",
       " 'Men Leather Boots',\n",
       " '',\n",
       " 'Women Leather Pumps',\n",
       " '',\n",
       " 'Basketweave Block Heels',\n",
       " '',\n",
       " 'Men Leather Flat Boots',\n",
       " '',\n",
       " 'Men Solid Formal Leather Derbys',\n",
       " '',\n",
       " 'Men Textured Derbys',\n",
       " '',\n",
       " 'Women Running Shoes',\n",
       " '',\n",
       " 'Women Solid Sneakers',\n",
       " '',\n",
       " 'Women Peep Toe Heels',\n",
       " '',\n",
       " 'Women Leather Pumps',\n",
       " '',\n",
       " 'Men Leather Formal Derbys',\n",
       " '',\n",
       " 'Men Leather Sneakers',\n",
       " '',\n",
       " 'Men Leather Formal Brogues',\n",
       " '',\n",
       " 'Waterproof Walking Shoes',\n",
       " '',\n",
       " 'Riveted Leather Block Heels',\n",
       " '',\n",
       " 'Women Running Shoes',\n",
       " '',\n",
       " 'Men Solid Leather Formal Derbys',\n",
       " '',\n",
       " 'Women Charged Bandit 6 Running',\n",
       " '',\n",
       " 'Men Leather Formal Derbys',\n",
       " '',\n",
       " 'Men Leather Formal Slip-Ons',\n",
       " '',\n",
       " 'Women Charged Assert 8 Running',\n",
       " '',\n",
       " 'Women Charged Rogue 2.5ClrSft',\n",
       " '',\n",
       " 'Women Leather Solid Pumps',\n",
       " '',\n",
       " 'Women HOVR Sonic 4 Running',\n",
       " '',\n",
       " 'Men Running Shoes',\n",
       " '',\n",
       " 'Women Wedges',\n",
       " '',\n",
       " 'Leather Formal Slip-On Shoes',\n",
       " '',\n",
       " 'Men Perforated Slip On Sneaker',\n",
       " '',\n",
       " 'Men Solid Leather Aircube Formal Oxfords',\n",
       " '',\n",
       " 'Men Woven Design Sneakers',\n",
       " '',\n",
       " 'Men Colourblocked Leather Derbys',\n",
       " '',\n",
       " 'Men Leather Driving Shoes',\n",
       " '',\n",
       " 'Men Leather Driving Shoes',\n",
       " '',\n",
       " 'Men Solid Leather Sneakers',\n",
       " '',\n",
       " 'Men Perforations Leather Brogues',\n",
       " '',\n",
       " 'Women Flatform Sneakers',\n",
       " '',\n",
       " 'Men GENERATION ZEROGRAND STITCHLITE',\n",
       " '',\n",
       " 'Women AIR ZOOM Running',\n",
       " '',\n",
       " 'Men Leather Slip-On Sneakers',\n",
       " '',\n",
       " 'Men Leather Driving Shoes',\n",
       " '',\n",
       " 'Men Running Shoes',\n",
       " '',\n",
       " 'Men Running Shoes',\n",
       " '',\n",
       " 'Men Textured Sneakers',\n",
       " '',\n",
       " 'Men Solid Leather Formal Brogues',\n",
       " '',\n",
       " 'Men Textured Sneakers',\n",
       " '',\n",
       " 'Men Textured Leather Loafers',\n",
       " '',\n",
       " 'Men Textured Leather Loafers',\n",
       " '',\n",
       " 'Ever Road DMX 4 Walking',\n",
       " '',\n",
       " 'Women Charged Rogue 2 Running',\n",
       " '',\n",
       " 'Men Leather Formal Monks',\n",
       " '']"
      ]
     },
     "execution_count": 24,
     "metadata": {},
     "output_type": "execute_result"
    }
   ],
   "source": [
    "shoe_des = []\n",
    "\n",
    "for url in page2_url[:2]:\n",
    "\n",
    "    driver.get(url)\n",
    "\n",
    "    description=driver.find_elements_by_xpath(\"//div[@class='product-productMetaInfo']/h4\")  #for scrapping shoe description \n",
    "    \n",
    "    for i in description:\n",
    "\n",
    "        shoe_des.append(i.text)\n",
    "shoe_des"
   ]
  },
  {
   "cell_type": "code",
   "execution_count": 26,
   "metadata": {
    "scrolled": true
   },
   "outputs": [
    {
     "data": {
      "text/plain": [
       "['Men Leather Driving Shoes',\n",
       " 'Men Genuine Leather Monk Shoes',\n",
       " 'Women HOVR Sonic 4 FnRn',\n",
       " 'Men Leather Semiformal Driving',\n",
       " 'Women High-Top Heeled Boots',\n",
       " 'Unisex Clyde Basketball Shoes',\n",
       " 'Men Leather Formal Derbys',\n",
       " 'Unisex Future Rider Sneakers',\n",
       " 'Men Solid Leather Sneakers',\n",
       " 'Men Perforations Leather Brogues',\n",
       " 'Men Leather Formal Derbys',\n",
       " 'Men Driving Shoes Casual Shoes',\n",
       " 'Men Woven Design Slip-On Sneakers',\n",
       " 'Women Running Shoes',\n",
       " 'Men Hiking Shoes',\n",
       " 'Men Basketball Shoes',\n",
       " 'Men Solid Leather Formal Derbys',\n",
       " 'Men Phade Running Shoes',\n",
       " 'Men Textured Leather Monks',\n",
       " 'Men Driving Shoes',\n",
       " 'Men Solid Sneakers',\n",
       " 'Men Solid Leather Formal Slip-Ons',\n",
       " 'Men Textured Leather Handcrafted Sole Wingman Formal Slip-Ons',\n",
       " 'Men Solid Leather Formal Oxfords',\n",
       " 'Men Formal Slip-On Shoes',\n",
       " 'Men Solid Leather Formal Derbys',\n",
       " 'Women Leather Stilettos',\n",
       " 'Men Solid Leather Formal Brogues',\n",
       " 'Men Wingtip Oxford Sneakers',\n",
       " 'Men Textured Leather Loafers',\n",
       " 'Men Leather Formal Derbys',\n",
       " 'Men Semi-Formal Slip-Ons',\n",
       " \"Men BlazerLow '77 Sneakers\",\n",
       " 'Men Printed Slip-On Sneakers',\n",
       " 'Men Sneakers',\n",
       " 'Men Solid Leather Formal Monks',\n",
       " 'Men Leather Formal Slip Ons',\n",
       " 'Men Leather Derbys',\n",
       " 'Men Solid Leather Formal Derbys',\n",
       " 'HOVR Sonic 3 Running Shoes',\n",
       " 'Men Solid Leather Formal Slip-Ons',\n",
       " 'Men Textured Formal Leather Loafers',\n",
       " 'Men Solid Leather Oxfords',\n",
       " 'AIR MEGA Energy Ring Shoes',\n",
       " 'Women Solid Leather Ballerinas',\n",
       " 'Men Formal Leather Brogues',\n",
       " 'Men Solid Leather Formal Derbys',\n",
       " 'Men Leather Formal Brogues',\n",
       " 'Men Leather Formal Slip-Ons',\n",
       " 'Men Solid Formal Loafers',\n",
       " 'Men Leather Boots',\n",
       " 'Women Leather Pumps',\n",
       " 'Basketweave Block Heels',\n",
       " 'Men Leather Flat Boots',\n",
       " 'Men Solid Formal Leather Derbys',\n",
       " 'Men Textured Derbys',\n",
       " 'Women Running Shoes',\n",
       " 'Women Solid Sneakers',\n",
       " 'Women Peep Toe Heels',\n",
       " 'Women Leather Pumps',\n",
       " 'Men Leather Formal Derbys',\n",
       " 'Men Leather Sneakers',\n",
       " 'Men Leather Formal Brogues',\n",
       " 'Waterproof Walking Shoes',\n",
       " 'Riveted Leather Block Heels',\n",
       " 'Women Running Shoes',\n",
       " 'Men Solid Leather Formal Derbys',\n",
       " 'Women Charged Bandit 6 Running',\n",
       " 'Men Leather Formal Derbys',\n",
       " 'Men Leather Formal Slip-Ons',\n",
       " 'Women Charged Assert 8 Running',\n",
       " 'Women Charged Rogue 2.5ClrSft',\n",
       " 'Women Leather Solid Pumps',\n",
       " 'Women HOVR Sonic 4 Running',\n",
       " 'Men Running Shoes',\n",
       " 'Women Wedges',\n",
       " 'Leather Formal Slip-On Shoes',\n",
       " 'Men Perforated Slip On Sneaker',\n",
       " 'Men Solid Leather Aircube Formal Oxfords',\n",
       " 'Men Woven Design Sneakers',\n",
       " 'Men Colourblocked Leather Derbys',\n",
       " 'Men Leather Driving Shoes',\n",
       " 'Men Leather Driving Shoes',\n",
       " 'Men Solid Leather Sneakers',\n",
       " 'Men Perforations Leather Brogues',\n",
       " 'Women Flatform Sneakers',\n",
       " 'Men GENERATION ZEROGRAND STITCHLITE',\n",
       " 'Women AIR ZOOM Running',\n",
       " 'Men Leather Slip-On Sneakers',\n",
       " 'Men Leather Driving Shoes',\n",
       " 'Men Running Shoes',\n",
       " 'Men Running Shoes',\n",
       " 'Men Textured Sneakers',\n",
       " 'Men Solid Leather Formal Brogues',\n",
       " 'Men Textured Sneakers',\n",
       " 'Men Textured Leather Loafers',\n",
       " 'Men Textured Leather Loafers',\n",
       " 'Ever Road DMX 4 Walking',\n",
       " 'Women Charged Rogue 2 Running',\n",
       " 'Men Leather Formal Monks']"
      ]
     },
     "execution_count": 26,
     "metadata": {},
     "output_type": "execute_result"
    }
   ],
   "source": [
    "des_new = []\n",
    "for i in range(0,len(shoe_des),2):\n",
    "    des_new.append(shoe_des[i])\n",
    "des_new"
   ]
  },
  {
   "cell_type": "code",
   "execution_count": 30,
   "metadata": {
    "scrolled": true
   },
   "outputs": [
    {
     "data": {
      "text/plain": [
       "['Rs. 9999',\n",
       " 'Rs. 5999',\n",
       " 'Rs. 5399Rs. 5999(10% OFF)',\n",
       " 'Rs. 5490',\n",
       " 'Rs. 8799Rs. 10999(20% OFF)',\n",
       " 'Rs. 10999',\n",
       " 'Rs. 5490',\n",
       " 'Rs. 10490',\n",
       " 'Rs. 6599Rs. 10999( 40 % OFF)',\n",
       " 'Rs. 6999',\n",
       " 'Rs. 8799Rs. 10999(20% OFF)',\n",
       " 'Rs. 5990',\n",
       " 'Rs. 5525Rs. 8500(Rs. 2975 OFF)',\n",
       " 'Rs. 5699',\n",
       " 'Rs. 10999',\n",
       " 'Rs. 9999',\n",
       " 'Rs. 5579Rs. 5999(7% OFF)',\n",
       " 'Rs. 5499',\n",
       " 'Rs. 6293Rs. 8990(Rs. 2697 OFF)',\n",
       " 'Rs. 6499',\n",
       " 'Rs. 7999Rs. 9999(20% OFF)',\n",
       " 'Rs. 6990',\n",
       " 'Rs. 6990',\n",
       " 'Rs. 5399Rs. 5999(10% OFF)',\n",
       " 'Rs. 8999',\n",
       " 'Rs. 5803Rs. 8290(30% OFF)',\n",
       " 'Rs. 5490',\n",
       " 'Rs. 5599Rs. 7999(Rs. 2400 OFF)',\n",
       " 'Rs. 10399Rs. 12999(20% OFF)',\n",
       " 'Rs. 6293Rs. 8990(Rs. 2697 OFF)',\n",
       " 'Rs. 5592Rs. 6990(20% OFF)',\n",
       " 'Rs. 11999',\n",
       " 'Rs. 7195',\n",
       " 'Rs. 6399Rs. 7999(20% OFF)',\n",
       " 'Rs. 5990',\n",
       " 'Rs. 6990',\n",
       " 'Rs. 5599Rs. 7999(Rs. 2400 OFF)',\n",
       " 'Rs. 8999Rs. 9999(Rs. 1000 OFF)',\n",
       " 'Rs. 10999',\n",
       " 'Rs. 8999Rs. 9999(Rs. 1000 OFF)',\n",
       " 'Rs. 8990',\n",
       " 'Rs. 9999',\n",
       " 'Rs. 5990',\n",
       " 'Rs. 5599Rs. 6999(20% OFF)',\n",
       " 'Rs. 6999',\n",
       " 'Rs. 11199Rs. 13999(20% OFF)',\n",
       " 'Rs. 7490',\n",
       " 'Rs. 6990',\n",
       " 'Rs. 6990',\n",
       " 'Rs. 10999',\n",
       " 'Rs. 6990',\n",
       " 'Rs. 6490',\n",
       " 'Rs. 6399Rs. 7999(20% OFF)',\n",
       " 'Rs. 5990',\n",
       " 'Rs. 5990',\n",
       " 'Rs. 5990',\n",
       " 'Rs. 5599Rs. 6999(20% OFF)',\n",
       " 'Rs. 10999',\n",
       " 'Rs. 6499',\n",
       " 'Rs. 5490',\n",
       " 'Rs. 8990',\n",
       " 'Rs. 7999',\n",
       " 'Rs. 7006Rs. 7149(2% OFF)',\n",
       " 'Rs. 9999',\n",
       " 'Rs. 7192Rs. 8990(20% OFF)',\n",
       " 'Rs. 7192Rs. 8990(20% OFF)',\n",
       " 'Rs. 5669Rs. 6999(19% OFF)',\n",
       " 'Rs. 5999Rs. 7499(20% OFF)',\n",
       " 'Rs. 8999',\n",
       " 'Rs. 6299Rs. 8999(30% OFF)',\n",
       " 'Rs. 7199Rs. 8999(20% OFF)',\n",
       " 'Rs. 6293Rs. 8990(30% OFF)',\n",
       " 'Rs. 6999',\n",
       " 'Rs. 8999',\n",
       " 'Rs. 7199Rs. 8999(Rs. 1800 OFF)',\n",
       " 'Rs. 6999',\n",
       " 'Rs. 7999',\n",
       " 'Rs. 11990',\n",
       " 'Rs. 10999',\n",
       " 'Rs. 8499',\n",
       " 'Rs. 5391Rs. 5990(10% OFF)',\n",
       " 'Rs. 5990',\n",
       " 'Rs. 8799Rs. 10999(20% OFF)',\n",
       " 'Rs. 6229Rs. 6999(11% OFF)',\n",
       " 'Rs. 5490',\n",
       " 'Rs. 9999',\n",
       " 'Rs. 9599Rs. 11999(20% OFF)',\n",
       " 'Rs. 8097Rs. 13495( 40 % OFF)',\n",
       " 'Rs. 9490',\n",
       " 'Rs. 9990',\n",
       " 'Rs. 5990',\n",
       " 'Rs. 5399Rs. 5999(10% OFF)',\n",
       " 'Rs. 5399Rs. 5999(10% OFF)',\n",
       " 'Rs. 7039Rs. 10999(36% OFF)',\n",
       " 'Rs. 6399Rs. 7999(20% OFF)',\n",
       " 'Rs. 6399Rs. 7999(20% OFF)',\n",
       " 'Rs. 6013Rs. 8590(30% OFF)',\n",
       " 'Rs. 7990',\n",
       " 'Rs. 7990',\n",
       " 'Rs. 5599']"
      ]
     },
     "execution_count": 30,
     "metadata": {},
     "output_type": "execute_result"
    }
   ],
   "source": [
    "shoe_price = []\n",
    "\n",
    "for url in page2_url[:2]:\n",
    "\n",
    "    driver.get(url)\n",
    "\n",
    "    price=driver.find_elements_by_xpath(\"//div[@class='product-price']\")  #for scrapping shoe price \n",
    "    \n",
    "    for i in price:\n",
    "\n",
    "        shoe_price.append(i.text)\n",
    "shoe_price"
   ]
  },
  {
   "cell_type": "code",
   "execution_count": 31,
   "metadata": {},
   "outputs": [
    {
     "name": "stdout",
     "output_type": "stream",
     "text": [
      "100 100 100\n"
     ]
    }
   ],
   "source": [
    "print(len(shoe_names),len(des_new),len(shoe_price))"
   ]
  },
  {
   "cell_type": "code",
   "execution_count": 32,
   "metadata": {
    "scrolled": true
   },
   "outputs": [
    {
     "data": {
      "text/html": [
       "<div>\n",
       "<style scoped>\n",
       "    .dataframe tbody tr th:only-of-type {\n",
       "        vertical-align: middle;\n",
       "    }\n",
       "\n",
       "    .dataframe tbody tr th {\n",
       "        vertical-align: top;\n",
       "    }\n",
       "\n",
       "    .dataframe thead th {\n",
       "        text-align: right;\n",
       "    }\n",
       "</style>\n",
       "<table border=\"1\" class=\"dataframe\">\n",
       "  <thead>\n",
       "    <tr style=\"text-align: right;\">\n",
       "      <th></th>\n",
       "      <th>Brand</th>\n",
       "      <th>Description</th>\n",
       "      <th>Price</th>\n",
       "    </tr>\n",
       "  </thead>\n",
       "  <tbody>\n",
       "    <tr>\n",
       "      <th>0</th>\n",
       "      <td>Cole Haan</td>\n",
       "      <td>Men Leather Driving Shoes</td>\n",
       "      <td>Rs. 9999</td>\n",
       "    </tr>\n",
       "    <tr>\n",
       "      <th>1</th>\n",
       "      <td>Kalenji By Decathlon</td>\n",
       "      <td>Men Genuine Leather Monk Shoes</td>\n",
       "      <td>Rs. 5999</td>\n",
       "    </tr>\n",
       "    <tr>\n",
       "      <th>2</th>\n",
       "      <td>UNDER ARMOUR</td>\n",
       "      <td>Women HOVR Sonic 4 FnRn</td>\n",
       "      <td>Rs. 5399Rs. 5999(10% OFF)</td>\n",
       "    </tr>\n",
       "    <tr>\n",
       "      <th>3</th>\n",
       "      <td>Ruosh</td>\n",
       "      <td>Men Leather Semiformal Driving</td>\n",
       "      <td>Rs. 5490</td>\n",
       "    </tr>\n",
       "    <tr>\n",
       "      <th>4</th>\n",
       "      <td>Geox</td>\n",
       "      <td>Women High-Top Heeled Boots</td>\n",
       "      <td>Rs. 8799Rs. 10999(20% OFF)</td>\n",
       "    </tr>\n",
       "    <tr>\n",
       "      <th>...</th>\n",
       "      <td>...</td>\n",
       "      <td>...</td>\n",
       "      <td>...</td>\n",
       "    </tr>\n",
       "    <tr>\n",
       "      <th>95</th>\n",
       "      <td>Geox</td>\n",
       "      <td>Men Textured Leather Loafers</td>\n",
       "      <td>Rs. 6399Rs. 7999(20% OFF)</td>\n",
       "    </tr>\n",
       "    <tr>\n",
       "      <th>96</th>\n",
       "      <td>Reebok</td>\n",
       "      <td>Men Textured Leather Loafers</td>\n",
       "      <td>Rs. 6013Rs. 8590(30% OFF)</td>\n",
       "    </tr>\n",
       "    <tr>\n",
       "      <th>97</th>\n",
       "      <td>UNDER ARMOUR</td>\n",
       "      <td>Ever Road DMX 4 Walking</td>\n",
       "      <td>Rs. 7990</td>\n",
       "    </tr>\n",
       "    <tr>\n",
       "      <th>98</th>\n",
       "      <td>Geox</td>\n",
       "      <td>Women Charged Rogue 2 Running</td>\n",
       "      <td>Rs. 7990</td>\n",
       "    </tr>\n",
       "    <tr>\n",
       "      <th>99</th>\n",
       "      <td>Kenneth Cole</td>\n",
       "      <td>Men Leather Formal Monks</td>\n",
       "      <td>Rs. 5599</td>\n",
       "    </tr>\n",
       "  </tbody>\n",
       "</table>\n",
       "<p>100 rows × 3 columns</p>\n",
       "</div>"
      ],
      "text/plain": [
       "                   Brand                     Description  \\\n",
       "0              Cole Haan       Men Leather Driving Shoes   \n",
       "1   Kalenji By Decathlon  Men Genuine Leather Monk Shoes   \n",
       "2           UNDER ARMOUR         Women HOVR Sonic 4 FnRn   \n",
       "3                  Ruosh  Men Leather Semiformal Driving   \n",
       "4                   Geox     Women High-Top Heeled Boots   \n",
       "..                   ...                             ...   \n",
       "95                  Geox    Men Textured Leather Loafers   \n",
       "96                Reebok    Men Textured Leather Loafers   \n",
       "97          UNDER ARMOUR         Ever Road DMX 4 Walking   \n",
       "98                  Geox   Women Charged Rogue 2 Running   \n",
       "99          Kenneth Cole        Men Leather Formal Monks   \n",
       "\n",
       "                         Price  \n",
       "0                     Rs. 9999  \n",
       "1                     Rs. 5999  \n",
       "2    Rs. 5399Rs. 5999(10% OFF)  \n",
       "3                     Rs. 5490  \n",
       "4   Rs. 8799Rs. 10999(20% OFF)  \n",
       "..                         ...  \n",
       "95   Rs. 6399Rs. 7999(20% OFF)  \n",
       "96   Rs. 6013Rs. 8590(30% OFF)  \n",
       "97                    Rs. 7990  \n",
       "98                    Rs. 7990  \n",
       "99                    Rs. 5599  \n",
       "\n",
       "[100 rows x 3 columns]"
      ]
     },
     "execution_count": 32,
     "metadata": {},
     "output_type": "execute_result"
    }
   ],
   "source": [
    "shoe100 = pd.DataFrame({\"Brand\":shoe_names,\"Description\":des_new,\"Price\":shoe_price})\n",
    "shoe100"
   ]
  },
  {
   "cell_type": "markdown",
   "metadata": {},
   "source": [
    "# Q10"
   ]
  },
  {
   "cell_type": "code",
   "execution_count": 13,
   "metadata": {
    "scrolled": true
   },
   "outputs": [],
   "source": [
    "url = 'https://www.amazon.in/'\n",
    "driver.get(url)"
   ]
  },
  {
   "cell_type": "code",
   "execution_count": 14,
   "metadata": {
    "scrolled": false
   },
   "outputs": [],
   "source": [
    "search_laptop = driver.find_element_by_id(\"twotabsearchtextbox\")"
   ]
  },
  {
   "cell_type": "code",
   "execution_count": 15,
   "metadata": {},
   "outputs": [],
   "source": [
    "search_laptop.send_keys('laptop')"
   ]
  },
  {
   "cell_type": "code",
   "execution_count": 16,
   "metadata": {
    "scrolled": false
   },
   "outputs": [],
   "source": [
    "search_button = driver.find_element_by_xpath(\"//div[@class='nav-search-submit nav-sprite']\")\n",
    "search_button.click()"
   ]
  },
  {
   "cell_type": "code",
   "execution_count": 9,
   "metadata": {
    "scrolled": true
   },
   "outputs": [],
   "source": [
    "#Fetchng URLs:\n",
    "url = []\n",
    "for i in driver.find_elements_by_xpath(\"//a[@class='a-link-normal a-text-normal']\"):\n",
    "    url.append(i.get_attribute(\"href\"))\n"
   ]
  },
  {
   "cell_type": "code",
   "execution_count": 10,
   "metadata": {
    "scrolled": true
   },
   "outputs": [
    {
     "data": {
      "text/plain": [
       "['https://www.amazon.in/gp/slredirect/picassoRedirect.html/ref=pa_sp_atf_computers_sr_pg1_1?ie=UTF8&adId=A05737051OF0H1VKX0MNY&url=%2FASUS-TUF-F15-i7-11370H-FX516PE-HN088TS%2Fdp%2FB094RDLV5P%2Fref%3Dsr_1_1_sspa%3Fdchild%3D1%26keywords%3Dlaptop%26qid%3D1628865259%26refinements%3Dp_n_feature_thirteen_browse-bin%253A12598163031%257C16757432031%26rnid%3D12598141031%26s%3Dcomputers%26sr%3D1-1-spons%26psc%3D1&qualifier=1628865259&id=2183203480405278&widgetName=sp_atf',\n",
       " 'https://www.amazon.in/gp/slredirect/picassoRedirect.html/ref=pa_sp_atf_computers_sr_pg1_1?ie=UTF8&adId=A10081262K6KZOZ37JXYV&url=%2FHP-Processor-13-3-inch-Touchscreen-13-ba1018TX%2Fdp%2FB091FJ13Q5%2Fref%3Dsr_1_2_sspa%3Fdchild%3D1%26keywords%3Dlaptop%26qid%3D1628865259%26refinements%3Dp_n_feature_thirteen_browse-bin%253A12598163031%257C16757432031%26rnid%3D12598141031%26s%3Dcomputers%26sr%3D1-2-spons%26psc%3D1&qualifier=1628865259&id=2183203480405278&widgetName=sp_atf',\n",
       " 'https://www.amazon.in/MSI-i7-10750H-IPS-Level-Windows-10SDR-1280IN/dp/B093L8JCZV/ref=sr_1_3?dchild=1&keywords=laptop&qid=1628865259&refinements=p_n_feature_thirteen_browse-bin%3A12598163031%7C16757432031&rnid=12598141031&s=computers&sr=1-3',\n",
       " 'https://www.amazon.in/HP-Pavilion-Graphics-35-56cms-14-dv0058TU/dp/B08WB857GB/ref=sr_1_4?dchild=1&keywords=laptop&qid=1628865259&refinements=p_n_feature_thirteen_browse-bin%3A12598163031%7C16757432031&rnid=12598141031&s=computers&sr=1-4',\n",
       " 'https://www.amazon.in/Notebook-Horizon-i7-10510U-Graphics-XMA1904-AF/dp/B089F2W1KW/ref=sr_1_5?dchild=1&keywords=laptop&qid=1628865259&refinements=p_n_feature_thirteen_browse-bin%3A12598163031%7C16757432031&rnid=12598141031&s=computers&sr=1-5',\n",
       " 'https://www.amazon.in/ASUS-15-6-inch-i7-10870H-SSDWindows-FX566LH-HN255T/dp/B096VKVFCN/ref=sr_1_6?dchild=1&keywords=laptop&qid=1628865259&refinements=p_n_feature_thirteen_browse-bin%3A12598163031%7C16757432031&rnid=12598141031&s=computers&sr=1-6',\n",
       " 'https://www.amazon.in/ASUS-TUF-F15-i7-11370H-FX516PE-HN088TS/dp/B094RDLV5P/ref=sr_1_7?dchild=1&keywords=laptop&qid=1628865259&refinements=p_n_feature_thirteen_browse-bin%3A12598163031%7C16757432031&rnid=12598141031&s=computers&sr=1-7',\n",
       " 'https://www.amazon.in/HP-Processor-13-3-inch-Touchscreen-13-ba1018TX/dp/B091FJ13Q5/ref=sr_1_8?dchild=1&keywords=laptop&qid=1628865259&refinements=p_n_feature_thirteen_browse-bin%3A12598163031%7C16757432031&rnid=12598141031&s=computers&sr=1-8',\n",
       " 'https://www.amazon.in/Acer-Predator-Generation-Graphics-PH315-53/dp/B096K1KSHH/ref=sr_1_9?dchild=1&keywords=laptop&qid=1628865259&refinements=p_n_feature_thirteen_browse-bin%3A12598163031%7C16757432031&rnid=12598141031&s=computers&sr=1-9',\n",
       " 'https://www.amazon.in/Lenovo-i7-10750H-39-63cm-Windows-82AU00PNIN/dp/B097TY6PTN/ref=sr_1_10?dchild=1&keywords=laptop&qid=1628865259&refinements=p_n_feature_thirteen_browse-bin%3A12598163031%7C16757432031&rnid=12598141031&s=computers&sr=1-10',\n",
       " 'https://www.amazon.in/LifeDigital-Laptop-Intel%C2%AE-Storage-Windows/dp/B08HRMHZ8J/ref=sr_1_11?dchild=1&keywords=laptop&qid=1628865259&refinements=p_n_feature_thirteen_browse-bin%3A12598163031%7C16757432031&rnid=12598141031&s=computers&sr=1-11',\n",
       " 'https://www.amazon.in/MSI-i7-10750H-IPS-Level-Windows-10SCXR-654IN/dp/B093L8QGL7/ref=sr_1_12?dchild=1&keywords=laptop&qid=1628865259&refinements=p_n_feature_thirteen_browse-bin%3A12598163031%7C16757432031&rnid=12598141031&s=computers&sr=1-12',\n",
       " 'https://www.amazon.in/Lenovo-Touchscreen-Fingerprint-Graphite-82HS0092IN/dp/B08WRZQBQ6/ref=sr_1_13?dchild=1&keywords=laptop&qid=1628865259&refinements=p_n_feature_thirteen_browse-bin%3A12598163031%7C16757432031&rnid=12598141031&s=computers&sr=1-13',\n",
       " 'https://www.amazon.in/ASUS-ZenBook-i7-1165G7-Graphics-UX425EA-BM701TS/dp/B08M4SWRR5/ref=sr_1_14?dchild=1&keywords=laptop&qid=1628865259&refinements=p_n_feature_thirteen_browse-bin%3A12598163031%7C16757432031&rnid=12598141031&s=computers&sr=1-14',\n",
       " 'https://www.amazon.in/gp/slredirect/picassoRedirect.html/ref=pa_sp_mtf_computers_sr_pg1_1?ie=UTF8&adId=A0870125WC700WBB6DFH&url=%2FLenovo-Touchscreen-Fingerprint-Aluminium-82BH004HIN%2Fdp%2FB08P3M22QQ%2Fref%3Dsr_1_15_sspa%3Fdchild%3D1%26keywords%3Dlaptop%26qid%3D1628865259%26refinements%3Dp_n_feature_thirteen_browse-bin%253A12598163031%257C16757432031%26rnid%3D12598141031%26s%3Dcomputers%26sr%3D1-15-spons%26psc%3D1&qualifier=1628865259&id=2183203480405278&widgetName=sp_mtf',\n",
       " 'https://www.amazon.in/gp/slredirect/picassoRedirect.html/ref=pa_sp_mtf_computers_sr_pg1_1?ie=UTF8&adId=A00766773MSMG2AO2CGIQ&url=%2FAcer-Swift-Display-Touchscreen-Notebook%2Fdp%2FB08M41DHTV%2Fref%3Dsr_1_16_sspa%3Fdchild%3D1%26keywords%3Dlaptop%26qid%3D1628865259%26refinements%3Dp_n_feature_thirteen_browse-bin%253A12598163031%257C16757432031%26rnid%3D12598141031%26s%3Dcomputers%26sr%3D1-16-spons%26psc%3D1&qualifier=1628865259&id=2183203480405278&widgetName=sp_mtf',\n",
       " 'https://www.amazon.in/Renewed-Lenovo-Windows-graphics-ThinkPad/dp/B09B54LZ8M/ref=sr_1_17?dchild=1&keywords=laptop&qid=1628865259&refinements=p_n_feature_thirteen_browse-bin%3A12598163031%7C16757432031&rnid=12598141031&s=computers&sr=1-17',\n",
       " 'https://www.amazon.in/Dell-Latitude-E6440-Integrated-graphics/dp/B07VQJWDLR/ref=sr_1_18?dchild=1&keywords=laptop&qid=1628865259&refinements=p_n_feature_thirteen_browse-bin%3A12598163031%7C16757432031&rnid=12598141031&s=computers&sr=1-18',\n",
       " 'https://www.amazon.in/Dell-Latitude-E6420-Dedicated-Professional/dp/B07WVC8HW3/ref=sr_1_19?dchild=1&keywords=laptop&qid=1628865259&refinements=p_n_feature_thirteen_browse-bin%3A12598163031%7C16757432031&rnid=12598141031&s=computers&sr=1-19',\n",
       " 'https://www.amazon.in/CERTIFIED-REFURBISHED-Microsoft-Integrated-Graphics/dp/B07J2LNSXC/ref=sr_1_20?dchild=1&keywords=laptop&qid=1628865259&refinements=p_n_feature_thirteen_browse-bin%3A12598163031%7C16757432031&rnid=12598141031&s=computers&sr=1-20',\n",
       " 'https://www.amazon.in/ASUS-VivoBook-i7-1165G7-Graphics-S433EA-AM701TS/dp/B08PQTZB3Z/ref=sr_1_21?dchild=1&keywords=laptop&qid=1628865259&refinements=p_n_feature_thirteen_browse-bin%3A12598163031%7C16757432031&rnid=12598141031&s=computers&sr=1-21',\n",
       " 'https://www.amazon.in/Renewed-Lenovo-Windows-graphics-ThinkPad/dp/B09B546HS2/ref=sr_1_22?dchild=1&keywords=laptop&qid=1628865259&refinements=p_n_feature_thirteen_browse-bin%3A12598163031%7C16757432031&rnid=12598141031&s=computers&sr=1-22',\n",
       " 'https://www.amazon.in/HP-35-56cms-i7-1165G7-Windows-14s-dr2007TU/dp/B08N57LR4X/ref=sr_1_23?dchild=1&keywords=laptop&qid=1628865259&refinements=p_n_feature_thirteen_browse-bin%3A12598163031%7C16757432031&rnid=12598141031&s=computers&sr=1-23',\n",
       " 'https://www.amazon.in/Renewed-Lenovo-Integrated-Graphics-WARRANTY/dp/B092Z9RC4Z/ref=sr_1_24?dchild=1&keywords=laptop&qid=1628865259&refinements=p_n_feature_thirteen_browse-bin%3A12598163031%7C16757432031&rnid=12598141031&s=computers&sr=1-24',\n",
       " 'https://www.amazon.in/Renewed-Lenovo-Windows-graphics-ThinkPad/dp/B09B54JSCS/ref=sr_1_25?dchild=1&keywords=laptop&qid=1628865259&refinements=p_n_feature_thirteen_browse-bin%3A12598163031%7C16757432031&rnid=12598141031&s=computers&sr=1-25',\n",
       " 'https://www.amazon.in/Renewed-Lenovo-Windows-graphics-ThinkPad/dp/B09B53ZSDB/ref=sr_1_26?dchild=1&keywords=laptop&qid=1628865259&refinements=p_n_feature_thirteen_browse-bin%3A12598163031%7C16757432031&rnid=12598141031&s=computers&sr=1-26',\n",
       " 'https://www.amazon.in/Renewed-Lenovo-Windows-graphics-ThinkPad/dp/B09B548B11/ref=sr_1_27?dchild=1&keywords=laptop&qid=1628865259&refinements=p_n_feature_thirteen_browse-bin%3A12598163031%7C16757432031&rnid=12598141031&s=computers&sr=1-27',\n",
       " 'https://www.amazon.in/Lenovo-Upgradable-Integrated-Graphics-WARRANTY/dp/B092Z88D2F/ref=sr_1_28?dchild=1&keywords=laptop&qid=1628865259&refinements=p_n_feature_thirteen_browse-bin%3A12598163031%7C16757432031&rnid=12598141031&s=computers&sr=1-28',\n",
       " 'https://www.amazon.in/gp/slredirect/picassoRedirect.html/ref=pa_sp_btf_computers_sr_pg1_1?ie=UTF8&adId=A0872671147908G7LKB8X&url=%2FMSI-i7-10750H-IPS-Level-Windows-10SDR-1280IN%2Fdp%2FB093L8JCZV%2Fref%3Dsr_1_29_sspa%3Fdchild%3D1%26keywords%3Dlaptop%26qid%3D1628865259%26refinements%3Dp_n_feature_thirteen_browse-bin%253A12598163031%257C16757432031%26rnid%3D12598141031%26s%3Dcomputers%26sr%3D1-29-spons%26psc%3D1&qualifier=1628865259&id=2183203480405278&widgetName=sp_btf']"
      ]
     },
     "execution_count": 10,
     "metadata": {},
     "output_type": "execute_result"
    }
   ],
   "source": [
    "url"
   ]
  },
  {
   "cell_type": "code",
   "execution_count": 19,
   "metadata": {
    "scrolled": true
   },
   "outputs": [],
   "source": [
    "# Filtering intel core i7 \n",
    "filter_button = driver.find_elements_by_xpath(\"//a[@class='a-link-normal s-navigation-item']/span\")\n",
    "for i in filter_button:\n",
    "    if i.text=='Intel Core i7':\n",
    "        i.click()\n",
    "        break"
   ]
  },
  {
   "cell_type": "code",
   "execution_count": 18,
   "metadata": {},
   "outputs": [],
   "source": [
    "# Filtering intel core i9\n",
    "filter_button = driver.find_elements_by_xpath(\"//a[@class='a-link-normal s-navigation-item']/span\")\n",
    "for i in filter_button:\n",
    "    if i.text=='Intel Core i9':\n",
    "        i.click()\n",
    "        break"
   ]
  },
  {
   "cell_type": "code",
   "execution_count": 11,
   "metadata": {},
   "outputs": [],
   "source": [
    "# Defining variables \n",
    "title = []\n",
    "rating = []\n",
    "price = []"
   ]
  },
  {
   "cell_type": "code",
   "execution_count": 12,
   "metadata": {
    "scrolled": true
   },
   "outputs": [
    {
     "ename": "AttributeError",
     "evalue": "'str' object has no attribute 'text'",
     "output_type": "error",
     "traceback": [
      "\u001b[0;31m---------------------------------------------------------------------------\u001b[0m",
      "\u001b[0;31mAttributeError\u001b[0m                            Traceback (most recent call last)",
      "\u001b[0;32m<ipython-input-12-cf6a8c7e4b21>\u001b[0m in \u001b[0;36m<module>\u001b[0;34m\u001b[0m\n\u001b[1;32m      6\u001b[0m     \u001b[0;32mtry\u001b[0m\u001b[0;34m:\u001b[0m\u001b[0;34m\u001b[0m\u001b[0;34m\u001b[0m\u001b[0m\n\u001b[1;32m      7\u001b[0m         \u001b[0mtitles\u001b[0m\u001b[0;34m=\u001b[0m\u001b[0mdriver\u001b[0m\u001b[0;34m.\u001b[0m\u001b[0mfind_elements_by_xpath\u001b[0m\u001b[0;34m(\u001b[0m\u001b[0;34m\"//span[@class='a-size-medium a-color-base a-text-normal']\"\u001b[0m\u001b[0;34m)\u001b[0m\u001b[0;34m\u001b[0m\u001b[0;34m\u001b[0m\u001b[0m\n\u001b[0;32m----> 8\u001b[0;31m         \u001b[0mtitle\u001b[0m\u001b[0;34m.\u001b[0m\u001b[0mappend\u001b[0m\u001b[0;34m(\u001b[0m\u001b[0mi\u001b[0m\u001b[0;34m.\u001b[0m\u001b[0mtext\u001b[0m\u001b[0;34m)\u001b[0m\u001b[0;34m\u001b[0m\u001b[0;34m\u001b[0m\u001b[0m\n\u001b[0m\u001b[1;32m      9\u001b[0m     \u001b[0;32mexcept\u001b[0m \u001b[0mNoSuchElementException\u001b[0m\u001b[0;34m:\u001b[0m\u001b[0;34m\u001b[0m\u001b[0;34m\u001b[0m\u001b[0m\n\u001b[1;32m     10\u001b[0m         \u001b[0mtitle\u001b[0m\u001b[0;34m.\u001b[0m\u001b[0mappend\u001b[0m\u001b[0;34m(\u001b[0m\u001b[0;34m\"-\"\u001b[0m\u001b[0;34m)\u001b[0m\u001b[0;34m\u001b[0m\u001b[0;34m\u001b[0m\u001b[0m\n",
      "\u001b[0;31mAttributeError\u001b[0m: 'str' object has no attribute 'text'"
     ]
    }
   ],
   "source": [
    "for i in url[:10]:\n",
    "    driver.get(i)\n",
    "    time.sleep(1)\n",
    "    \n",
    "    # fetching title\n",
    "    try:\n",
    "        titles=driver.find_elements_by_xpath(\"//span[@class='a-size-medium a-color-base a-text-normal']\")\n",
    "        title.append(i.text)\n",
    "    except NoSuchElementException:\n",
    "        title.append(\"-\")\n",
    "        \n",
    "        \n",
    "   # fetching rating\n",
    "    try:\n",
    "        rating_lap=driver.find_element_by_xpath(\"//span[@class='a-size-base a-nowrap']//span\")#locating the rating\n",
    "        Ratings.append(rating_lap.text)#appending the ratings in Ratings list\n",
    "    except NoSuchElementException:\n",
    "        rating_lap.append(\"-\")\n",
    "        \n",
    "        # fetching price\n",
    "        \n",
    "    try:\n",
    "        lap_price = driver.find_element_by_xpath(\"//span[@class='a-price']\")\n",
    "        price.append(lap_price.text)\n",
    "    except NoSuchElementException:\n",
    "        price.append(\"-\")\n",
    "        "
   ]
  },
  {
   "cell_type": "code",
   "execution_count": 20,
   "metadata": {},
   "outputs": [],
   "source": [
    "url = 'https://www.amazon.in/s?k=laptop&i=computers&rh=n%3A1375424031%2Cp_n_feature_thirteen_browse-bin%3A12598163031%7C16757432031&dc&qid=1628866365&rnid=12598141031&ref=sr_nr_p_n_feature_thirteen_browse-bin_26'\n",
    "driver.get(url)"
   ]
  },
  {
   "cell_type": "code",
   "execution_count": 22,
   "metadata": {
    "scrolled": true
   },
   "outputs": [
    {
     "data": {
      "text/plain": [
       "[<selenium.webdriver.remote.webelement.WebElement (session=\"ab83da43bf970370084a736f4dbf257c\", element=\"2768744a-0e15-4bd5-a8ac-e13f5a887d7f\")>,\n",
       " <selenium.webdriver.remote.webelement.WebElement (session=\"ab83da43bf970370084a736f4dbf257c\", element=\"d9b1917d-fa34-41a9-bfa2-54de82343d88\")>,\n",
       " <selenium.webdriver.remote.webelement.WebElement (session=\"ab83da43bf970370084a736f4dbf257c\", element=\"051b36c7-52a8-4086-bee8-a6890e16fc6a\")>,\n",
       " <selenium.webdriver.remote.webelement.WebElement (session=\"ab83da43bf970370084a736f4dbf257c\", element=\"3d3e2976-6c75-4d21-b478-673d49cb2e6d\")>,\n",
       " <selenium.webdriver.remote.webelement.WebElement (session=\"ab83da43bf970370084a736f4dbf257c\", element=\"e3cd0392-21b5-454b-b76e-5f2d44326402\")>,\n",
       " <selenium.webdriver.remote.webelement.WebElement (session=\"ab83da43bf970370084a736f4dbf257c\", element=\"c754463c-d946-45cc-8a7d-69cd29dddf04\")>,\n",
       " <selenium.webdriver.remote.webelement.WebElement (session=\"ab83da43bf970370084a736f4dbf257c\", element=\"44e9c738-aa67-4db4-b08c-757c6bf249ab\")>,\n",
       " <selenium.webdriver.remote.webelement.WebElement (session=\"ab83da43bf970370084a736f4dbf257c\", element=\"b90d3a7d-5816-4da3-b723-dcd4ba3dacab\")>,\n",
       " <selenium.webdriver.remote.webelement.WebElement (session=\"ab83da43bf970370084a736f4dbf257c\", element=\"2e3e9ac9-b197-4024-ac13-8a21618a5761\")>,\n",
       " <selenium.webdriver.remote.webelement.WebElement (session=\"ab83da43bf970370084a736f4dbf257c\", element=\"3ad08784-93be-4510-89f8-0bc2d228d945\")>,\n",
       " <selenium.webdriver.remote.webelement.WebElement (session=\"ab83da43bf970370084a736f4dbf257c\", element=\"b535524e-8e65-4675-8844-84063a460f43\")>,\n",
       " <selenium.webdriver.remote.webelement.WebElement (session=\"ab83da43bf970370084a736f4dbf257c\", element=\"763eff67-f662-47f9-82ef-1769bcb90e60\")>,\n",
       " <selenium.webdriver.remote.webelement.WebElement (session=\"ab83da43bf970370084a736f4dbf257c\", element=\"9a71cd82-0524-4cf4-95de-de7dbac0f86b\")>,\n",
       " <selenium.webdriver.remote.webelement.WebElement (session=\"ab83da43bf970370084a736f4dbf257c\", element=\"05e6cc8f-44c4-4916-953e-1233578beb06\")>,\n",
       " <selenium.webdriver.remote.webelement.WebElement (session=\"ab83da43bf970370084a736f4dbf257c\", element=\"ecfe7782-c612-4e46-a82a-c29ed0803883\")>,\n",
       " <selenium.webdriver.remote.webelement.WebElement (session=\"ab83da43bf970370084a736f4dbf257c\", element=\"b2582dda-c596-41fd-9450-9101b52ec86a\")>,\n",
       " <selenium.webdriver.remote.webelement.WebElement (session=\"ab83da43bf970370084a736f4dbf257c\", element=\"93450311-c599-4f2b-8b36-0482412849d4\")>,\n",
       " <selenium.webdriver.remote.webelement.WebElement (session=\"ab83da43bf970370084a736f4dbf257c\", element=\"85f324d9-4fbd-4850-ae5b-a59d7b608346\")>,\n",
       " <selenium.webdriver.remote.webelement.WebElement (session=\"ab83da43bf970370084a736f4dbf257c\", element=\"caac8bf4-60aa-4ba8-97d7-a61042379722\")>,\n",
       " <selenium.webdriver.remote.webelement.WebElement (session=\"ab83da43bf970370084a736f4dbf257c\", element=\"5a23b80c-7250-4d1d-82ba-43de92c55796\")>,\n",
       " <selenium.webdriver.remote.webelement.WebElement (session=\"ab83da43bf970370084a736f4dbf257c\", element=\"a8866bac-516c-487e-82cd-7e9508bc874e\")>,\n",
       " <selenium.webdriver.remote.webelement.WebElement (session=\"ab83da43bf970370084a736f4dbf257c\", element=\"6376272d-4b31-4219-9ab7-81533d77ac0a\")>,\n",
       " <selenium.webdriver.remote.webelement.WebElement (session=\"ab83da43bf970370084a736f4dbf257c\", element=\"ae81b611-9ae7-4549-9bf8-4b5394d861c6\")>,\n",
       " <selenium.webdriver.remote.webelement.WebElement (session=\"ab83da43bf970370084a736f4dbf257c\", element=\"a7510ec2-1648-40ab-a788-2fd194ae52cd\")>,\n",
       " <selenium.webdriver.remote.webelement.WebElement (session=\"ab83da43bf970370084a736f4dbf257c\", element=\"c6860fbb-697b-4f3b-80a7-4b70d0429b5b\")>,\n",
       " <selenium.webdriver.remote.webelement.WebElement (session=\"ab83da43bf970370084a736f4dbf257c\", element=\"1e953b33-dfd7-43b7-b305-b4c977fd99e7\")>,\n",
       " <selenium.webdriver.remote.webelement.WebElement (session=\"ab83da43bf970370084a736f4dbf257c\", element=\"3a94c82b-258e-447d-8cf4-585ce865731c\")>,\n",
       " <selenium.webdriver.remote.webelement.WebElement (session=\"ab83da43bf970370084a736f4dbf257c\", element=\"8b5cefa5-7584-4a01-a55b-808d0b5dc2cd\")>,\n",
       " <selenium.webdriver.remote.webelement.WebElement (session=\"ab83da43bf970370084a736f4dbf257c\", element=\"43fa27a4-c826-4f2f-894f-0d1ac4d682f2\")>]"
      ]
     },
     "execution_count": 22,
     "metadata": {},
     "output_type": "execute_result"
    }
   ],
   "source": [
    "scrap_title = driver.find_elements_by_xpath(\"//h2[@class='a-size-mini a-spacing-none a-color-base s-line-clamp-2']\")\n",
    "scrap_title"
   ]
  },
  {
   "cell_type": "code",
   "execution_count": 23,
   "metadata": {
    "scrolled": true
   },
   "outputs": [
    {
     "data": {
      "text/plain": [
       "['ASUS TUF Dash F15 (2021), 15.6\" (39.62 cms) FHD 144Hz, Intel Core i7-11370H 11th Gen, RTX 3050 Ti 4GB Graphics, Gaming Laptop (16GB/1TB SSD/Office 2019/Windows 10/Eclipse Gray/2 kg), FX516PE-HN088TS',\n",
       " 'HP Envy 11th Gen Core i7 Processor 13.3-inch (33.78 cms) FHD Touchscreen Laptop (16GB/1TB SSD/Win 10/NVIDIA MX450 2GB/Natural Silver/1.3 kg), 13-ba1018TX',\n",
       " 'MSI GF65 Thin, Intel i7-10750H, 15.6\" FHD (39.6 cm) IPS-Level 144Hz Panel Laptop (16GB/512GB NVMe SSD/Windows 10 Home/Nvidia GTX1660 Ti 6GB GDDR6/Black/1.86Kg), 10SDR-1280IN',\n",
       " 'HP Pavilion (2021) Thin & Light 11th Gen Core i7 Laptop, 16 GB RAM, 1TB SSD, Iris Xe Graphics, 14\" (35.56cms) FHD Screen, Windows 10, MS Office, Backlit Keyboard (14-dv0058TU)',\n",
       " 'Mi Notebook Horizon Edition 14 Intel Core i7-10510U 10th Gen 14-inch (35.56 cms) Thin and Light Laptop(8GB/512GB SSD/Windows 10/Nvidia MX350 2GB Graphics/Grey/1.35Kg), XMA1904-AF+Webcam',\n",
       " 'ASUS TUF Gaming F15 (2020), 15.6-inch (39.62 cms) FHD 144Hz, Intel Core i7-10870H 10th Gen, NVIDIA GeForce GTX 1650 4GB Graphics, Gaming Laptop(8GB/512GB SSDWindows 10/Gray/2.3 Kg), FX566LH-HN255T',\n",
       " 'ASUS TUF Dash F15 (2021), 15.6\" (39.62 cms) FHD 144Hz, Intel Core i7-11370H 11th Gen, RTX 3050 Ti 4GB Graphics, Gaming Laptop (16GB/1TB SSD/Office 2019/Windows 10/Eclipse Gray/2 kg), FX516PE-HN088TS',\n",
       " 'HP Envy 11th Gen Core i7 Processor 13.3-inch (33.78 cms) FHD Touchscreen Laptop (16GB/1TB SSD/Win 10/NVIDIA MX450 2GB/Natural Silver/1.3 kg), 13-ba1018TX',\n",
       " 'Acer Predator Helios 300 Core i7 10th Generation (16 GB/1 TB SSD/Windows 10 Home/6 GB Graphics/NVIDIA GeForce RTX 3060/144 Hz) PH315-53 Gaming Laptop (15.6\" (39.62cms), Abyssal Black, 2.5 kg)',\n",
       " 'Lenovo Legion 5 10th Gen Intel Core i7-10750H 15.6\" (39.63cm) FHD IPS Gaming Laptop (16GB/512GB SSD/Windows 10/NVIDIA GTX 1650 4GB/120Hz Refresh Display/Phantom Black/2.3Kg), 82AU00PNIN']"
      ]
     },
     "execution_count": 23,
     "metadata": {},
     "output_type": "execute_result"
    }
   ],
   "source": [
    "title_lap = []\n",
    "for i in scrap_title[:10]:\n",
    "    title_lap.append(i.text)\n",
    "title_lap\n",
    "        "
   ]
  },
  {
   "cell_type": "code",
   "execution_count": 24,
   "metadata": {},
   "outputs": [
    {
     "data": {
      "text/plain": [
       "10"
      ]
     },
     "execution_count": 24,
     "metadata": {},
     "output_type": "execute_result"
    }
   ],
   "source": [
    "len(title_lap)"
   ]
  },
  {
   "cell_type": "code",
   "execution_count": 27,
   "metadata": {
    "scrolled": true
   },
   "outputs": [
    {
     "data": {
      "text/plain": [
       "[]"
      ]
     },
     "execution_count": 27,
     "metadata": {},
     "output_type": "execute_result"
    }
   ],
   "source": [
    "scrap_rating =driver.find_elements_by_xpath(\"//span[@class='a-size-base a-nowrap']//span\")\n",
    "scrap_rating"
   ]
  },
  {
   "cell_type": "code",
   "execution_count": 26,
   "metadata": {
    "scrolled": true
   },
   "outputs": [
    {
     "data": {
      "text/plain": [
       "['',\n",
       " '',\n",
       " '',\n",
       " '',\n",
       " '',\n",
       " '',\n",
       " '',\n",
       " '',\n",
       " '',\n",
       " '',\n",
       " '',\n",
       " '',\n",
       " '',\n",
       " '',\n",
       " '',\n",
       " '',\n",
       " '',\n",
       " '',\n",
       " '',\n",
       " '',\n",
       " '',\n",
       " '',\n",
       " '',\n",
       " '']"
      ]
     },
     "execution_count": 26,
     "metadata": {},
     "output_type": "execute_result"
    }
   ],
   "source": [
    "rating_lap =[]\n",
    "for i in scrap_rating:\n",
    "    rating_lap.append(i.text)\n",
    "rating_lap"
   ]
  },
  {
   "cell_type": "code",
   "execution_count": null,
   "metadata": {},
   "outputs": [],
   "source": []
  }
 ],
 "metadata": {
  "kernelspec": {
   "display_name": "Python 3",
   "language": "python",
   "name": "python3"
  },
  "language_info": {
   "codemirror_mode": {
    "name": "ipython",
    "version": 3
   },
   "file_extension": ".py",
   "mimetype": "text/x-python",
   "name": "python",
   "nbconvert_exporter": "python",
   "pygments_lexer": "ipython3",
   "version": "3.8.5"
  }
 },
 "nbformat": 4,
 "nbformat_minor": 4
}
